{
 "cells": [
  {
   "cell_type": "code",
   "execution_count": 1,
   "id": "2dae6608",
   "metadata": {
    "ExecuteTime": {
     "end_time": "2023-04-18T11:08:35.302063Z",
     "start_time": "2023-04-18T11:08:34.307214Z"
    }
   },
   "outputs": [],
   "source": [
    "import pandas as pd\n",
    "import plotly.express as px"
   ]
  },
  {
   "cell_type": "code",
   "execution_count": 4,
   "id": "4cc16a13",
   "metadata": {
    "ExecuteTime": {
     "end_time": "2023-04-18T11:08:49.310148Z",
     "start_time": "2023-04-18T11:08:49.298600Z"
    }
   },
   "outputs": [],
   "source": [
    "df = pd.read_csv(\"data/ploting_ws.csv\", index_col=0)"
   ]
  },
  {
   "cell_type": "code",
   "execution_count": 89,
   "id": "eeb1f600",
   "metadata": {
    "ExecuteTime": {
     "end_time": "2023-04-18T11:48:24.098707Z",
     "start_time": "2023-04-18T11:48:24.070535Z"
    }
   },
   "outputs": [
    {
     "data": {
      "text/html": [
       "<div>\n",
       "<style scoped>\n",
       "    .dataframe tbody tr th:only-of-type {\n",
       "        vertical-align: middle;\n",
       "    }\n",
       "\n",
       "    .dataframe tbody tr th {\n",
       "        vertical-align: top;\n",
       "    }\n",
       "\n",
       "    .dataframe thead th {\n",
       "        text-align: right;\n",
       "    }\n",
       "</style>\n",
       "<table border=\"1\" class=\"dataframe\">\n",
       "  <thead>\n",
       "    <tr style=\"text-align: right;\">\n",
       "      <th></th>\n",
       "      <th>subject_id</th>\n",
       "      <th>country</th>\n",
       "      <th>gender</th>\n",
       "      <th>age_category</th>\n",
       "      <th>BMI</th>\n",
       "      <th>PFS12</th>\n",
       "      <th>Anaerostipes_hadrus</th>\n",
       "      <th>Asaccharobacter_celatus</th>\n",
       "      <th>Coprococcus_comes</th>\n",
       "      <th>Fusicatenibacter_saccharivorans</th>\n",
       "      <th>...</th>\n",
       "      <th>Prevotella_copri</th>\n",
       "      <th>Bacteroides_uniformis</th>\n",
       "      <th>Alistipes_putredinis</th>\n",
       "      <th>Akkermansia_muciniphila</th>\n",
       "      <th>Faecalibacterium_prausnitzii</th>\n",
       "      <th>Ruminococcus_bromii</th>\n",
       "      <th>Escherichia_coli</th>\n",
       "      <th>Bifidobacterium_longum</th>\n",
       "      <th>Bifidobacterium_adolescentis</th>\n",
       "      <th>Collinsella_aerofaciens</th>\n",
       "    </tr>\n",
       "  </thead>\n",
       "  <tbody>\n",
       "    <tr>\n",
       "      <th>BCN-01_1</th>\n",
       "      <td>BCN-01_1</td>\n",
       "      <td>ESP</td>\n",
       "      <td>male</td>\n",
       "      <td>adult</td>\n",
       "      <td>28.713211</td>\n",
       "      <td>yes</td>\n",
       "      <td>1.10764</td>\n",
       "      <td>0.00000</td>\n",
       "      <td>0.39131</td>\n",
       "      <td>0.80794</td>\n",
       "      <td>...</td>\n",
       "      <td>0.00000</td>\n",
       "      <td>21.67335</td>\n",
       "      <td>0.01142</td>\n",
       "      <td>0.00000</td>\n",
       "      <td>4.47034</td>\n",
       "      <td>0.87113</td>\n",
       "      <td>0.03334</td>\n",
       "      <td>0.00000</td>\n",
       "      <td>0.00000</td>\n",
       "      <td>0.05024</td>\n",
       "    </tr>\n",
       "    <tr>\n",
       "      <th>BCN-02_1</th>\n",
       "      <td>BCN-02_1</td>\n",
       "      <td>ESP</td>\n",
       "      <td>female</td>\n",
       "      <td>adult</td>\n",
       "      <td>27.354571</td>\n",
       "      <td>no</td>\n",
       "      <td>0.07957</td>\n",
       "      <td>0.02697</td>\n",
       "      <td>0.15881</td>\n",
       "      <td>0.42029</td>\n",
       "      <td>...</td>\n",
       "      <td>0.00000</td>\n",
       "      <td>16.93711</td>\n",
       "      <td>7.04382</td>\n",
       "      <td>0.13485</td>\n",
       "      <td>1.66004</td>\n",
       "      <td>0.07198</td>\n",
       "      <td>0.00000</td>\n",
       "      <td>0.01587</td>\n",
       "      <td>0.16376</td>\n",
       "      <td>0.19042</td>\n",
       "    </tr>\n",
       "    <tr>\n",
       "      <th>BCN-03_1</th>\n",
       "      <td>BCN-03_1</td>\n",
       "      <td>ESP</td>\n",
       "      <td>female</td>\n",
       "      <td>senior</td>\n",
       "      <td>22.060354</td>\n",
       "      <td>yes</td>\n",
       "      <td>0.06803</td>\n",
       "      <td>0.00000</td>\n",
       "      <td>0.05290</td>\n",
       "      <td>0.04999</td>\n",
       "      <td>...</td>\n",
       "      <td>67.77848</td>\n",
       "      <td>1.81256</td>\n",
       "      <td>6.10781</td>\n",
       "      <td>0.16416</td>\n",
       "      <td>1.97072</td>\n",
       "      <td>0.00000</td>\n",
       "      <td>0.02288</td>\n",
       "      <td>0.00340</td>\n",
       "      <td>0.00095</td>\n",
       "      <td>0.08099</td>\n",
       "    </tr>\n",
       "    <tr>\n",
       "      <th>BCN-04_1</th>\n",
       "      <td>BCN-04_1</td>\n",
       "      <td>ESP</td>\n",
       "      <td>male</td>\n",
       "      <td>adult</td>\n",
       "      <td>30.350330</td>\n",
       "      <td>no</td>\n",
       "      <td>0.17733</td>\n",
       "      <td>0.00000</td>\n",
       "      <td>0.39534</td>\n",
       "      <td>0.40406</td>\n",
       "      <td>...</td>\n",
       "      <td>0.00000</td>\n",
       "      <td>6.37426</td>\n",
       "      <td>12.07799</td>\n",
       "      <td>0.00000</td>\n",
       "      <td>1.38323</td>\n",
       "      <td>1.71353</td>\n",
       "      <td>0.00000</td>\n",
       "      <td>0.01074</td>\n",
       "      <td>0.09001</td>\n",
       "      <td>1.10278</td>\n",
       "    </tr>\n",
       "    <tr>\n",
       "      <th>BCN-05_1</th>\n",
       "      <td>BCN-05_1</td>\n",
       "      <td>ESP</td>\n",
       "      <td>male</td>\n",
       "      <td>senior</td>\n",
       "      <td>36.079477</td>\n",
       "      <td>yes</td>\n",
       "      <td>0.00000</td>\n",
       "      <td>0.38326</td>\n",
       "      <td>0.00000</td>\n",
       "      <td>0.05267</td>\n",
       "      <td>...</td>\n",
       "      <td>0.00000</td>\n",
       "      <td>30.92338</td>\n",
       "      <td>10.58879</td>\n",
       "      <td>0.00000</td>\n",
       "      <td>0.04580</td>\n",
       "      <td>15.63297</td>\n",
       "      <td>5.05773</td>\n",
       "      <td>1.79973</td>\n",
       "      <td>0.00000</td>\n",
       "      <td>0.00000</td>\n",
       "    </tr>\n",
       "  </tbody>\n",
       "</table>\n",
       "<p>5 rows × 26 columns</p>\n",
       "</div>"
      ],
      "text/plain": [
       "         subject_id country  gender age_category        BMI PFS12  \\\n",
       "BCN-01_1   BCN-01_1     ESP    male        adult  28.713211   yes   \n",
       "BCN-02_1   BCN-02_1     ESP  female        adult  27.354571    no   \n",
       "BCN-03_1   BCN-03_1     ESP  female       senior  22.060354   yes   \n",
       "BCN-04_1   BCN-04_1     ESP    male        adult  30.350330    no   \n",
       "BCN-05_1   BCN-05_1     ESP    male       senior  36.079477   yes   \n",
       "\n",
       "          Anaerostipes_hadrus  Asaccharobacter_celatus  Coprococcus_comes  \\\n",
       "BCN-01_1              1.10764                  0.00000            0.39131   \n",
       "BCN-02_1              0.07957                  0.02697            0.15881   \n",
       "BCN-03_1              0.06803                  0.00000            0.05290   \n",
       "BCN-04_1              0.17733                  0.00000            0.39534   \n",
       "BCN-05_1              0.00000                  0.38326            0.00000   \n",
       "\n",
       "          Fusicatenibacter_saccharivorans  ...  Prevotella_copri  \\\n",
       "BCN-01_1                          0.80794  ...           0.00000   \n",
       "BCN-02_1                          0.42029  ...           0.00000   \n",
       "BCN-03_1                          0.04999  ...          67.77848   \n",
       "BCN-04_1                          0.40406  ...           0.00000   \n",
       "BCN-05_1                          0.05267  ...           0.00000   \n",
       "\n",
       "          Bacteroides_uniformis  Alistipes_putredinis  \\\n",
       "BCN-01_1               21.67335               0.01142   \n",
       "BCN-02_1               16.93711               7.04382   \n",
       "BCN-03_1                1.81256               6.10781   \n",
       "BCN-04_1                6.37426              12.07799   \n",
       "BCN-05_1               30.92338              10.58879   \n",
       "\n",
       "          Akkermansia_muciniphila  Faecalibacterium_prausnitzii  \\\n",
       "BCN-01_1                  0.00000                       4.47034   \n",
       "BCN-02_1                  0.13485                       1.66004   \n",
       "BCN-03_1                  0.16416                       1.97072   \n",
       "BCN-04_1                  0.00000                       1.38323   \n",
       "BCN-05_1                  0.00000                       0.04580   \n",
       "\n",
       "          Ruminococcus_bromii  Escherichia_coli  Bifidobacterium_longum  \\\n",
       "BCN-01_1              0.87113           0.03334                 0.00000   \n",
       "BCN-02_1              0.07198           0.00000                 0.01587   \n",
       "BCN-03_1              0.00000           0.02288                 0.00340   \n",
       "BCN-04_1              1.71353           0.00000                 0.01074   \n",
       "BCN-05_1             15.63297           5.05773                 1.79973   \n",
       "\n",
       "          Bifidobacterium_adolescentis  Collinsella_aerofaciens  \n",
       "BCN-01_1                       0.00000                  0.05024  \n",
       "BCN-02_1                       0.16376                  0.19042  \n",
       "BCN-03_1                       0.00095                  0.08099  \n",
       "BCN-04_1                       0.09001                  1.10278  \n",
       "BCN-05_1                       0.00000                  0.00000  \n",
       "\n",
       "[5 rows x 26 columns]"
      ]
     },
     "execution_count": 89,
     "metadata": {},
     "output_type": "execute_result"
    }
   ],
   "source": [
    "df.head()"
   ]
  },
  {
   "cell_type": "markdown",
   "id": "e7d5f072",
   "metadata": {},
   "source": [
    "## Plotly express \n",
    "\n",
    "https://plotly.com/python/plotly-express/"
   ]
  },
  {
   "cell_type": "code",
   "execution_count": 92,
   "id": "0ad85014",
   "metadata": {
    "ExecuteTime": {
     "end_time": "2023-04-18T11:48:57.206328Z",
     "start_time": "2023-04-18T11:48:57.138291Z"
    }
   },
   "outputs": [
    {
     "data": {
      "application/vnd.plotly.v1+json": {
       "config": {
        "plotlyServerURL": "https://plotly.com"
       },
       "data": [
        {
         "alignmentgroup": "True",
         "bingroup": "x",
         "hovertemplate": "gender=male<br>BMI=%{x}<br>count=%{y}<extra></extra>",
         "legendgroup": "male",
         "marker": {
          "color": "#636efa",
          "pattern": {
           "shape": ""
          }
         },
         "name": "male",
         "nbinsx": 100,
         "offsetgroup": "male",
         "orientation": "v",
         "showlegend": true,
         "type": "histogram",
         "x": [
          28.7132112,
          30.35032952,
          36.07947745,
          31.37798917,
          26.171875,
          null,
          27.77777778,
          29.52111838,
          31.83495338,
          27.86594941,
          47.65812397,
          36.16967555,
          26.27471384,
          34.0410284,
          21.79106405,
          28.15530042,
          28.76420455,
          32.34477974,
          32.60475788,
          24.29943171,
          23.63969196,
          31.28092183,
          27.55789225,
          32.66520851,
          29.05328798,
          29.11894136,
          28.9007795,
          33.79017735,
          34.08660523,
          24.70554438,
          28.31024931,
          24.22857143,
          28.44137397,
          23.97053496,
          28.72737719,
          24.65590962,
          28.18457265,
          null,
          28.37821519,
          35.81314879,
          22.47658689,
          26.14927686,
          18.99198825,
          28.62879239,
          29.96161169,
          27,
          33.80205516,
          24.22145329,
          29.3877551,
          33.21799308,
          25.05736022,
          25.66115203,
          null,
          null,
          null,
          null,
          19.52311537,
          37.34721593,
          21.84700852,
          22.8206756,
          22.40878677,
          21.6066482,
          32.14024836,
          24.17897757,
          24.96800974,
          24.30248706,
          25.45111384,
          25.46938776,
          24.76756592,
          27.13141179,
          25.43646664,
          26.52851035,
          28.06891815,
          29.3523545,
          28.90507573,
          29.04657027,
          29.06122449,
          null,
          null,
          27.45982194,
          27.17063157,
          26.88172043,
          40.74074074,
          23.56663223,
          25,
          32,
          32.03857841,
          24.53512397,
          34.06360931,
          28.40111108,
          23.05456246,
          33.89721074,
          26.5,
          28.08641975,
          33.85577144,
          30.81648831,
          27.76465028,
          29.11542185,
          24.89117868,
          34.68627699
         ],
         "xaxis": "x",
         "yaxis": "y"
        },
        {
         "alignmentgroup": "True",
         "bingroup": "x",
         "hovertemplate": "gender=female<br>BMI=%{x}<br>count=%{y}<extra></extra>",
         "legendgroup": "female",
         "marker": {
          "color": "#EF553B",
          "pattern": {
           "shape": ""
          }
         },
         "name": "female",
         "nbinsx": 100,
         "offsetgroup": "female",
         "orientation": "v",
         "showlegend": true,
         "type": "histogram",
         "x": [
          27.35457064,
          22.0603538,
          22.8515625,
          20.9566075,
          28.46036374,
          24.16171225,
          25.92419951,
          20.72432543,
          22.95432524,
          25.74394464,
          31.40522352,
          39.40621751,
          23.8697204,
          37.02479339,
          29.9597275,
          18.83437364,
          36.19875019,
          20.82093992,
          33.95061728,
          23.19620659,
          29.2358582,
          25.84648258,
          27.76342975,
          22.03856749,
          29.13631634,
          24.62222222,
          29.07495538,
          21.23057202,
          24.30461788,
          21.56454491,
          26.44628099,
          29.6875,
          31.25,
          29.41176471,
          19.91836735,
          30.86419753,
          null,
          24.67702134,
          33.94930751,
          31.83391003,
          21.4532872,
          24.96494648,
          25.99090318,
          38.19632234,
          18.77834467,
          37.57762747,
          27.76979795,
          24.65590962,
          26.61934339,
          29.40759637,
          33.15043439,
          null,
          32.07591299,
          27.39817568,
          26.42356982,
          31.97501487,
          26.76977989,
          38.57875854,
          26.0261749,
          29.24210864,
          38.0078167,
          21.60410478,
          20.90419501,
          19.1953028,
          27.16140697
         ],
         "xaxis": "x",
         "yaxis": "y"
        }
       ],
       "layout": {
        "barmode": "relative",
        "legend": {
         "title": {
          "text": "gender"
         },
         "tracegroupgap": 0
        },
        "margin": {
         "t": 60
        },
        "template": {
         "data": {
          "bar": [
           {
            "error_x": {
             "color": "#2a3f5f"
            },
            "error_y": {
             "color": "#2a3f5f"
            },
            "marker": {
             "line": {
              "color": "#E5ECF6",
              "width": 0.5
             },
             "pattern": {
              "fillmode": "overlay",
              "size": 10,
              "solidity": 0.2
             }
            },
            "type": "bar"
           }
          ],
          "barpolar": [
           {
            "marker": {
             "line": {
              "color": "#E5ECF6",
              "width": 0.5
             },
             "pattern": {
              "fillmode": "overlay",
              "size": 10,
              "solidity": 0.2
             }
            },
            "type": "barpolar"
           }
          ],
          "carpet": [
           {
            "aaxis": {
             "endlinecolor": "#2a3f5f",
             "gridcolor": "white",
             "linecolor": "white",
             "minorgridcolor": "white",
             "startlinecolor": "#2a3f5f"
            },
            "baxis": {
             "endlinecolor": "#2a3f5f",
             "gridcolor": "white",
             "linecolor": "white",
             "minorgridcolor": "white",
             "startlinecolor": "#2a3f5f"
            },
            "type": "carpet"
           }
          ],
          "choropleth": [
           {
            "colorbar": {
             "outlinewidth": 0,
             "ticks": ""
            },
            "type": "choropleth"
           }
          ],
          "contour": [
           {
            "colorbar": {
             "outlinewidth": 0,
             "ticks": ""
            },
            "colorscale": [
             [
              0,
              "#0d0887"
             ],
             [
              0.1111111111111111,
              "#46039f"
             ],
             [
              0.2222222222222222,
              "#7201a8"
             ],
             [
              0.3333333333333333,
              "#9c179e"
             ],
             [
              0.4444444444444444,
              "#bd3786"
             ],
             [
              0.5555555555555556,
              "#d8576b"
             ],
             [
              0.6666666666666666,
              "#ed7953"
             ],
             [
              0.7777777777777778,
              "#fb9f3a"
             ],
             [
              0.8888888888888888,
              "#fdca26"
             ],
             [
              1,
              "#f0f921"
             ]
            ],
            "type": "contour"
           }
          ],
          "contourcarpet": [
           {
            "colorbar": {
             "outlinewidth": 0,
             "ticks": ""
            },
            "type": "contourcarpet"
           }
          ],
          "heatmap": [
           {
            "colorbar": {
             "outlinewidth": 0,
             "ticks": ""
            },
            "colorscale": [
             [
              0,
              "#0d0887"
             ],
             [
              0.1111111111111111,
              "#46039f"
             ],
             [
              0.2222222222222222,
              "#7201a8"
             ],
             [
              0.3333333333333333,
              "#9c179e"
             ],
             [
              0.4444444444444444,
              "#bd3786"
             ],
             [
              0.5555555555555556,
              "#d8576b"
             ],
             [
              0.6666666666666666,
              "#ed7953"
             ],
             [
              0.7777777777777778,
              "#fb9f3a"
             ],
             [
              0.8888888888888888,
              "#fdca26"
             ],
             [
              1,
              "#f0f921"
             ]
            ],
            "type": "heatmap"
           }
          ],
          "heatmapgl": [
           {
            "colorbar": {
             "outlinewidth": 0,
             "ticks": ""
            },
            "colorscale": [
             [
              0,
              "#0d0887"
             ],
             [
              0.1111111111111111,
              "#46039f"
             ],
             [
              0.2222222222222222,
              "#7201a8"
             ],
             [
              0.3333333333333333,
              "#9c179e"
             ],
             [
              0.4444444444444444,
              "#bd3786"
             ],
             [
              0.5555555555555556,
              "#d8576b"
             ],
             [
              0.6666666666666666,
              "#ed7953"
             ],
             [
              0.7777777777777778,
              "#fb9f3a"
             ],
             [
              0.8888888888888888,
              "#fdca26"
             ],
             [
              1,
              "#f0f921"
             ]
            ],
            "type": "heatmapgl"
           }
          ],
          "histogram": [
           {
            "marker": {
             "pattern": {
              "fillmode": "overlay",
              "size": 10,
              "solidity": 0.2
             }
            },
            "type": "histogram"
           }
          ],
          "histogram2d": [
           {
            "colorbar": {
             "outlinewidth": 0,
             "ticks": ""
            },
            "colorscale": [
             [
              0,
              "#0d0887"
             ],
             [
              0.1111111111111111,
              "#46039f"
             ],
             [
              0.2222222222222222,
              "#7201a8"
             ],
             [
              0.3333333333333333,
              "#9c179e"
             ],
             [
              0.4444444444444444,
              "#bd3786"
             ],
             [
              0.5555555555555556,
              "#d8576b"
             ],
             [
              0.6666666666666666,
              "#ed7953"
             ],
             [
              0.7777777777777778,
              "#fb9f3a"
             ],
             [
              0.8888888888888888,
              "#fdca26"
             ],
             [
              1,
              "#f0f921"
             ]
            ],
            "type": "histogram2d"
           }
          ],
          "histogram2dcontour": [
           {
            "colorbar": {
             "outlinewidth": 0,
             "ticks": ""
            },
            "colorscale": [
             [
              0,
              "#0d0887"
             ],
             [
              0.1111111111111111,
              "#46039f"
             ],
             [
              0.2222222222222222,
              "#7201a8"
             ],
             [
              0.3333333333333333,
              "#9c179e"
             ],
             [
              0.4444444444444444,
              "#bd3786"
             ],
             [
              0.5555555555555556,
              "#d8576b"
             ],
             [
              0.6666666666666666,
              "#ed7953"
             ],
             [
              0.7777777777777778,
              "#fb9f3a"
             ],
             [
              0.8888888888888888,
              "#fdca26"
             ],
             [
              1,
              "#f0f921"
             ]
            ],
            "type": "histogram2dcontour"
           }
          ],
          "mesh3d": [
           {
            "colorbar": {
             "outlinewidth": 0,
             "ticks": ""
            },
            "type": "mesh3d"
           }
          ],
          "parcoords": [
           {
            "line": {
             "colorbar": {
              "outlinewidth": 0,
              "ticks": ""
             }
            },
            "type": "parcoords"
           }
          ],
          "pie": [
           {
            "automargin": true,
            "type": "pie"
           }
          ],
          "scatter": [
           {
            "fillpattern": {
             "fillmode": "overlay",
             "size": 10,
             "solidity": 0.2
            },
            "type": "scatter"
           }
          ],
          "scatter3d": [
           {
            "line": {
             "colorbar": {
              "outlinewidth": 0,
              "ticks": ""
             }
            },
            "marker": {
             "colorbar": {
              "outlinewidth": 0,
              "ticks": ""
             }
            },
            "type": "scatter3d"
           }
          ],
          "scattercarpet": [
           {
            "marker": {
             "colorbar": {
              "outlinewidth": 0,
              "ticks": ""
             }
            },
            "type": "scattercarpet"
           }
          ],
          "scattergeo": [
           {
            "marker": {
             "colorbar": {
              "outlinewidth": 0,
              "ticks": ""
             }
            },
            "type": "scattergeo"
           }
          ],
          "scattergl": [
           {
            "marker": {
             "colorbar": {
              "outlinewidth": 0,
              "ticks": ""
             }
            },
            "type": "scattergl"
           }
          ],
          "scattermapbox": [
           {
            "marker": {
             "colorbar": {
              "outlinewidth": 0,
              "ticks": ""
             }
            },
            "type": "scattermapbox"
           }
          ],
          "scatterpolar": [
           {
            "marker": {
             "colorbar": {
              "outlinewidth": 0,
              "ticks": ""
             }
            },
            "type": "scatterpolar"
           }
          ],
          "scatterpolargl": [
           {
            "marker": {
             "colorbar": {
              "outlinewidth": 0,
              "ticks": ""
             }
            },
            "type": "scatterpolargl"
           }
          ],
          "scatterternary": [
           {
            "marker": {
             "colorbar": {
              "outlinewidth": 0,
              "ticks": ""
             }
            },
            "type": "scatterternary"
           }
          ],
          "surface": [
           {
            "colorbar": {
             "outlinewidth": 0,
             "ticks": ""
            },
            "colorscale": [
             [
              0,
              "#0d0887"
             ],
             [
              0.1111111111111111,
              "#46039f"
             ],
             [
              0.2222222222222222,
              "#7201a8"
             ],
             [
              0.3333333333333333,
              "#9c179e"
             ],
             [
              0.4444444444444444,
              "#bd3786"
             ],
             [
              0.5555555555555556,
              "#d8576b"
             ],
             [
              0.6666666666666666,
              "#ed7953"
             ],
             [
              0.7777777777777778,
              "#fb9f3a"
             ],
             [
              0.8888888888888888,
              "#fdca26"
             ],
             [
              1,
              "#f0f921"
             ]
            ],
            "type": "surface"
           }
          ],
          "table": [
           {
            "cells": {
             "fill": {
              "color": "#EBF0F8"
             },
             "line": {
              "color": "white"
             }
            },
            "header": {
             "fill": {
              "color": "#C8D4E3"
             },
             "line": {
              "color": "white"
             }
            },
            "type": "table"
           }
          ]
         },
         "layout": {
          "annotationdefaults": {
           "arrowcolor": "#2a3f5f",
           "arrowhead": 0,
           "arrowwidth": 1
          },
          "autotypenumbers": "strict",
          "coloraxis": {
           "colorbar": {
            "outlinewidth": 0,
            "ticks": ""
           }
          },
          "colorscale": {
           "diverging": [
            [
             0,
             "#8e0152"
            ],
            [
             0.1,
             "#c51b7d"
            ],
            [
             0.2,
             "#de77ae"
            ],
            [
             0.3,
             "#f1b6da"
            ],
            [
             0.4,
             "#fde0ef"
            ],
            [
             0.5,
             "#f7f7f7"
            ],
            [
             0.6,
             "#e6f5d0"
            ],
            [
             0.7,
             "#b8e186"
            ],
            [
             0.8,
             "#7fbc41"
            ],
            [
             0.9,
             "#4d9221"
            ],
            [
             1,
             "#276419"
            ]
           ],
           "sequential": [
            [
             0,
             "#0d0887"
            ],
            [
             0.1111111111111111,
             "#46039f"
            ],
            [
             0.2222222222222222,
             "#7201a8"
            ],
            [
             0.3333333333333333,
             "#9c179e"
            ],
            [
             0.4444444444444444,
             "#bd3786"
            ],
            [
             0.5555555555555556,
             "#d8576b"
            ],
            [
             0.6666666666666666,
             "#ed7953"
            ],
            [
             0.7777777777777778,
             "#fb9f3a"
            ],
            [
             0.8888888888888888,
             "#fdca26"
            ],
            [
             1,
             "#f0f921"
            ]
           ],
           "sequentialminus": [
            [
             0,
             "#0d0887"
            ],
            [
             0.1111111111111111,
             "#46039f"
            ],
            [
             0.2222222222222222,
             "#7201a8"
            ],
            [
             0.3333333333333333,
             "#9c179e"
            ],
            [
             0.4444444444444444,
             "#bd3786"
            ],
            [
             0.5555555555555556,
             "#d8576b"
            ],
            [
             0.6666666666666666,
             "#ed7953"
            ],
            [
             0.7777777777777778,
             "#fb9f3a"
            ],
            [
             0.8888888888888888,
             "#fdca26"
            ],
            [
             1,
             "#f0f921"
            ]
           ]
          },
          "colorway": [
           "#636efa",
           "#EF553B",
           "#00cc96",
           "#ab63fa",
           "#FFA15A",
           "#19d3f3",
           "#FF6692",
           "#B6E880",
           "#FF97FF",
           "#FECB52"
          ],
          "font": {
           "color": "#2a3f5f"
          },
          "geo": {
           "bgcolor": "white",
           "lakecolor": "white",
           "landcolor": "#E5ECF6",
           "showlakes": true,
           "showland": true,
           "subunitcolor": "white"
          },
          "hoverlabel": {
           "align": "left"
          },
          "hovermode": "closest",
          "mapbox": {
           "style": "light"
          },
          "paper_bgcolor": "white",
          "plot_bgcolor": "#E5ECF6",
          "polar": {
           "angularaxis": {
            "gridcolor": "white",
            "linecolor": "white",
            "ticks": ""
           },
           "bgcolor": "#E5ECF6",
           "radialaxis": {
            "gridcolor": "white",
            "linecolor": "white",
            "ticks": ""
           }
          },
          "scene": {
           "xaxis": {
            "backgroundcolor": "#E5ECF6",
            "gridcolor": "white",
            "gridwidth": 2,
            "linecolor": "white",
            "showbackground": true,
            "ticks": "",
            "zerolinecolor": "white"
           },
           "yaxis": {
            "backgroundcolor": "#E5ECF6",
            "gridcolor": "white",
            "gridwidth": 2,
            "linecolor": "white",
            "showbackground": true,
            "ticks": "",
            "zerolinecolor": "white"
           },
           "zaxis": {
            "backgroundcolor": "#E5ECF6",
            "gridcolor": "white",
            "gridwidth": 2,
            "linecolor": "white",
            "showbackground": true,
            "ticks": "",
            "zerolinecolor": "white"
           }
          },
          "shapedefaults": {
           "line": {
            "color": "#2a3f5f"
           }
          },
          "ternary": {
           "aaxis": {
            "gridcolor": "white",
            "linecolor": "white",
            "ticks": ""
           },
           "baxis": {
            "gridcolor": "white",
            "linecolor": "white",
            "ticks": ""
           },
           "bgcolor": "#E5ECF6",
           "caxis": {
            "gridcolor": "white",
            "linecolor": "white",
            "ticks": ""
           }
          },
          "title": {
           "x": 0.05
          },
          "xaxis": {
           "automargin": true,
           "gridcolor": "white",
           "linecolor": "white",
           "ticks": "",
           "title": {
            "standoff": 15
           },
           "zerolinecolor": "white",
           "zerolinewidth": 2
          },
          "yaxis": {
           "automargin": true,
           "gridcolor": "white",
           "linecolor": "white",
           "ticks": "",
           "title": {
            "standoff": 15
           },
           "zerolinecolor": "white",
           "zerolinewidth": 2
          }
         }
        },
        "xaxis": {
         "anchor": "y",
         "domain": [
          0,
          1
         ],
         "title": {
          "text": "BMI"
         }
        },
        "yaxis": {
         "anchor": "x",
         "domain": [
          0,
          1
         ],
         "title": {
          "text": "count"
         }
        }
       }
      },
      "text/html": [
       "<div>                            <div id=\"57639320-fb13-4255-a1e7-49130018307e\" class=\"plotly-graph-div\" style=\"height:525px; width:100%;\"></div>            <script type=\"text/javascript\">                require([\"plotly\"], function(Plotly) {                    window.PLOTLYENV=window.PLOTLYENV || {};                                    if (document.getElementById(\"57639320-fb13-4255-a1e7-49130018307e\")) {                    Plotly.newPlot(                        \"57639320-fb13-4255-a1e7-49130018307e\",                        [{\"alignmentgroup\":\"True\",\"bingroup\":\"x\",\"hovertemplate\":\"gender=male<br>BMI=%{x}<br>count=%{y}<extra></extra>\",\"legendgroup\":\"male\",\"marker\":{\"color\":\"#636efa\",\"pattern\":{\"shape\":\"\"}},\"name\":\"male\",\"nbinsx\":100,\"offsetgroup\":\"male\",\"orientation\":\"v\",\"showlegend\":true,\"x\":[28.7132112,30.35032952,36.07947745,31.37798917,26.171875,null,27.77777778,29.52111838,31.83495338,27.86594941,47.65812397,36.16967555,26.27471384,34.0410284,21.79106405,28.15530042,28.76420455,32.34477974,32.60475788,24.29943171,23.63969196,31.28092183,27.55789225,32.66520851,29.05328798,29.11894136,28.9007795,33.79017735,34.08660523,24.70554438,28.31024931,24.22857143,28.44137397,23.97053496,28.72737719,24.65590962,28.18457265,null,28.37821519,35.81314879,22.47658689,26.14927686,18.99198825,28.62879239,29.96161169,27.0,33.80205516,24.22145329,29.3877551,33.21799308,25.05736022,25.66115203,null,null,null,null,19.52311537,37.34721593,21.84700852,22.8206756,22.40878677,21.6066482,32.14024836,24.17897757,24.96800974,24.30248706,25.45111384,25.46938776,24.76756592,27.13141179,25.43646664,26.52851035,28.06891815,29.3523545,28.90507573,29.04657027,29.06122449,null,null,27.45982194,27.17063157,26.88172043,40.74074074,23.56663223,25.0,32.0,32.03857841,24.53512397,34.06360931,28.40111108,23.05456246,33.89721074,26.5,28.08641975,33.85577144,30.81648831,27.76465028,29.11542185,24.89117868,34.68627699],\"xaxis\":\"x\",\"yaxis\":\"y\",\"type\":\"histogram\"},{\"alignmentgroup\":\"True\",\"bingroup\":\"x\",\"hovertemplate\":\"gender=female<br>BMI=%{x}<br>count=%{y}<extra></extra>\",\"legendgroup\":\"female\",\"marker\":{\"color\":\"#EF553B\",\"pattern\":{\"shape\":\"\"}},\"name\":\"female\",\"nbinsx\":100,\"offsetgroup\":\"female\",\"orientation\":\"v\",\"showlegend\":true,\"x\":[27.35457064,22.0603538,22.8515625,20.9566075,28.46036374,24.16171225,25.92419951,20.72432543,22.95432524,25.74394464,31.40522352,39.40621751,23.8697204,37.02479339,29.9597275,18.83437364,36.19875019,20.82093992,33.95061728,23.19620659,29.2358582,25.84648258,27.76342975,22.03856749,29.13631634,24.62222222,29.07495538,21.23057202,24.30461788,21.56454491,26.44628099,29.6875,31.25,29.41176471,19.91836735,30.86419753,null,24.67702134,33.94930751,31.83391003,21.4532872,24.96494648,25.99090318,38.19632234,18.77834467,37.57762747,27.76979795,24.65590962,26.61934339,29.40759637,33.15043439,null,32.07591299,27.39817568,26.42356982,31.97501487,26.76977989,38.57875854,26.0261749,29.24210864,38.0078167,21.60410478,20.90419501,19.1953028,27.16140697],\"xaxis\":\"x\",\"yaxis\":\"y\",\"type\":\"histogram\"}],                        {\"template\":{\"data\":{\"histogram2dcontour\":[{\"type\":\"histogram2dcontour\",\"colorbar\":{\"outlinewidth\":0,\"ticks\":\"\"},\"colorscale\":[[0.0,\"#0d0887\"],[0.1111111111111111,\"#46039f\"],[0.2222222222222222,\"#7201a8\"],[0.3333333333333333,\"#9c179e\"],[0.4444444444444444,\"#bd3786\"],[0.5555555555555556,\"#d8576b\"],[0.6666666666666666,\"#ed7953\"],[0.7777777777777778,\"#fb9f3a\"],[0.8888888888888888,\"#fdca26\"],[1.0,\"#f0f921\"]]}],\"choropleth\":[{\"type\":\"choropleth\",\"colorbar\":{\"outlinewidth\":0,\"ticks\":\"\"}}],\"histogram2d\":[{\"type\":\"histogram2d\",\"colorbar\":{\"outlinewidth\":0,\"ticks\":\"\"},\"colorscale\":[[0.0,\"#0d0887\"],[0.1111111111111111,\"#46039f\"],[0.2222222222222222,\"#7201a8\"],[0.3333333333333333,\"#9c179e\"],[0.4444444444444444,\"#bd3786\"],[0.5555555555555556,\"#d8576b\"],[0.6666666666666666,\"#ed7953\"],[0.7777777777777778,\"#fb9f3a\"],[0.8888888888888888,\"#fdca26\"],[1.0,\"#f0f921\"]]}],\"heatmap\":[{\"type\":\"heatmap\",\"colorbar\":{\"outlinewidth\":0,\"ticks\":\"\"},\"colorscale\":[[0.0,\"#0d0887\"],[0.1111111111111111,\"#46039f\"],[0.2222222222222222,\"#7201a8\"],[0.3333333333333333,\"#9c179e\"],[0.4444444444444444,\"#bd3786\"],[0.5555555555555556,\"#d8576b\"],[0.6666666666666666,\"#ed7953\"],[0.7777777777777778,\"#fb9f3a\"],[0.8888888888888888,\"#fdca26\"],[1.0,\"#f0f921\"]]}],\"heatmapgl\":[{\"type\":\"heatmapgl\",\"colorbar\":{\"outlinewidth\":0,\"ticks\":\"\"},\"colorscale\":[[0.0,\"#0d0887\"],[0.1111111111111111,\"#46039f\"],[0.2222222222222222,\"#7201a8\"],[0.3333333333333333,\"#9c179e\"],[0.4444444444444444,\"#bd3786\"],[0.5555555555555556,\"#d8576b\"],[0.6666666666666666,\"#ed7953\"],[0.7777777777777778,\"#fb9f3a\"],[0.8888888888888888,\"#fdca26\"],[1.0,\"#f0f921\"]]}],\"contourcarpet\":[{\"type\":\"contourcarpet\",\"colorbar\":{\"outlinewidth\":0,\"ticks\":\"\"}}],\"contour\":[{\"type\":\"contour\",\"colorbar\":{\"outlinewidth\":0,\"ticks\":\"\"},\"colorscale\":[[0.0,\"#0d0887\"],[0.1111111111111111,\"#46039f\"],[0.2222222222222222,\"#7201a8\"],[0.3333333333333333,\"#9c179e\"],[0.4444444444444444,\"#bd3786\"],[0.5555555555555556,\"#d8576b\"],[0.6666666666666666,\"#ed7953\"],[0.7777777777777778,\"#fb9f3a\"],[0.8888888888888888,\"#fdca26\"],[1.0,\"#f0f921\"]]}],\"surface\":[{\"type\":\"surface\",\"colorbar\":{\"outlinewidth\":0,\"ticks\":\"\"},\"colorscale\":[[0.0,\"#0d0887\"],[0.1111111111111111,\"#46039f\"],[0.2222222222222222,\"#7201a8\"],[0.3333333333333333,\"#9c179e\"],[0.4444444444444444,\"#bd3786\"],[0.5555555555555556,\"#d8576b\"],[0.6666666666666666,\"#ed7953\"],[0.7777777777777778,\"#fb9f3a\"],[0.8888888888888888,\"#fdca26\"],[1.0,\"#f0f921\"]]}],\"mesh3d\":[{\"type\":\"mesh3d\",\"colorbar\":{\"outlinewidth\":0,\"ticks\":\"\"}}],\"scatter\":[{\"fillpattern\":{\"fillmode\":\"overlay\",\"size\":10,\"solidity\":0.2},\"type\":\"scatter\"}],\"parcoords\":[{\"type\":\"parcoords\",\"line\":{\"colorbar\":{\"outlinewidth\":0,\"ticks\":\"\"}}}],\"scatterpolargl\":[{\"type\":\"scatterpolargl\",\"marker\":{\"colorbar\":{\"outlinewidth\":0,\"ticks\":\"\"}}}],\"bar\":[{\"error_x\":{\"color\":\"#2a3f5f\"},\"error_y\":{\"color\":\"#2a3f5f\"},\"marker\":{\"line\":{\"color\":\"#E5ECF6\",\"width\":0.5},\"pattern\":{\"fillmode\":\"overlay\",\"size\":10,\"solidity\":0.2}},\"type\":\"bar\"}],\"scattergeo\":[{\"type\":\"scattergeo\",\"marker\":{\"colorbar\":{\"outlinewidth\":0,\"ticks\":\"\"}}}],\"scatterpolar\":[{\"type\":\"scatterpolar\",\"marker\":{\"colorbar\":{\"outlinewidth\":0,\"ticks\":\"\"}}}],\"histogram\":[{\"marker\":{\"pattern\":{\"fillmode\":\"overlay\",\"size\":10,\"solidity\":0.2}},\"type\":\"histogram\"}],\"scattergl\":[{\"type\":\"scattergl\",\"marker\":{\"colorbar\":{\"outlinewidth\":0,\"ticks\":\"\"}}}],\"scatter3d\":[{\"type\":\"scatter3d\",\"line\":{\"colorbar\":{\"outlinewidth\":0,\"ticks\":\"\"}},\"marker\":{\"colorbar\":{\"outlinewidth\":0,\"ticks\":\"\"}}}],\"scattermapbox\":[{\"type\":\"scattermapbox\",\"marker\":{\"colorbar\":{\"outlinewidth\":0,\"ticks\":\"\"}}}],\"scatterternary\":[{\"type\":\"scatterternary\",\"marker\":{\"colorbar\":{\"outlinewidth\":0,\"ticks\":\"\"}}}],\"scattercarpet\":[{\"type\":\"scattercarpet\",\"marker\":{\"colorbar\":{\"outlinewidth\":0,\"ticks\":\"\"}}}],\"carpet\":[{\"aaxis\":{\"endlinecolor\":\"#2a3f5f\",\"gridcolor\":\"white\",\"linecolor\":\"white\",\"minorgridcolor\":\"white\",\"startlinecolor\":\"#2a3f5f\"},\"baxis\":{\"endlinecolor\":\"#2a3f5f\",\"gridcolor\":\"white\",\"linecolor\":\"white\",\"minorgridcolor\":\"white\",\"startlinecolor\":\"#2a3f5f\"},\"type\":\"carpet\"}],\"table\":[{\"cells\":{\"fill\":{\"color\":\"#EBF0F8\"},\"line\":{\"color\":\"white\"}},\"header\":{\"fill\":{\"color\":\"#C8D4E3\"},\"line\":{\"color\":\"white\"}},\"type\":\"table\"}],\"barpolar\":[{\"marker\":{\"line\":{\"color\":\"#E5ECF6\",\"width\":0.5},\"pattern\":{\"fillmode\":\"overlay\",\"size\":10,\"solidity\":0.2}},\"type\":\"barpolar\"}],\"pie\":[{\"automargin\":true,\"type\":\"pie\"}]},\"layout\":{\"autotypenumbers\":\"strict\",\"colorway\":[\"#636efa\",\"#EF553B\",\"#00cc96\",\"#ab63fa\",\"#FFA15A\",\"#19d3f3\",\"#FF6692\",\"#B6E880\",\"#FF97FF\",\"#FECB52\"],\"font\":{\"color\":\"#2a3f5f\"},\"hovermode\":\"closest\",\"hoverlabel\":{\"align\":\"left\"},\"paper_bgcolor\":\"white\",\"plot_bgcolor\":\"#E5ECF6\",\"polar\":{\"bgcolor\":\"#E5ECF6\",\"angularaxis\":{\"gridcolor\":\"white\",\"linecolor\":\"white\",\"ticks\":\"\"},\"radialaxis\":{\"gridcolor\":\"white\",\"linecolor\":\"white\",\"ticks\":\"\"}},\"ternary\":{\"bgcolor\":\"#E5ECF6\",\"aaxis\":{\"gridcolor\":\"white\",\"linecolor\":\"white\",\"ticks\":\"\"},\"baxis\":{\"gridcolor\":\"white\",\"linecolor\":\"white\",\"ticks\":\"\"},\"caxis\":{\"gridcolor\":\"white\",\"linecolor\":\"white\",\"ticks\":\"\"}},\"coloraxis\":{\"colorbar\":{\"outlinewidth\":0,\"ticks\":\"\"}},\"colorscale\":{\"sequential\":[[0.0,\"#0d0887\"],[0.1111111111111111,\"#46039f\"],[0.2222222222222222,\"#7201a8\"],[0.3333333333333333,\"#9c179e\"],[0.4444444444444444,\"#bd3786\"],[0.5555555555555556,\"#d8576b\"],[0.6666666666666666,\"#ed7953\"],[0.7777777777777778,\"#fb9f3a\"],[0.8888888888888888,\"#fdca26\"],[1.0,\"#f0f921\"]],\"sequentialminus\":[[0.0,\"#0d0887\"],[0.1111111111111111,\"#46039f\"],[0.2222222222222222,\"#7201a8\"],[0.3333333333333333,\"#9c179e\"],[0.4444444444444444,\"#bd3786\"],[0.5555555555555556,\"#d8576b\"],[0.6666666666666666,\"#ed7953\"],[0.7777777777777778,\"#fb9f3a\"],[0.8888888888888888,\"#fdca26\"],[1.0,\"#f0f921\"]],\"diverging\":[[0,\"#8e0152\"],[0.1,\"#c51b7d\"],[0.2,\"#de77ae\"],[0.3,\"#f1b6da\"],[0.4,\"#fde0ef\"],[0.5,\"#f7f7f7\"],[0.6,\"#e6f5d0\"],[0.7,\"#b8e186\"],[0.8,\"#7fbc41\"],[0.9,\"#4d9221\"],[1,\"#276419\"]]},\"xaxis\":{\"gridcolor\":\"white\",\"linecolor\":\"white\",\"ticks\":\"\",\"title\":{\"standoff\":15},\"zerolinecolor\":\"white\",\"automargin\":true,\"zerolinewidth\":2},\"yaxis\":{\"gridcolor\":\"white\",\"linecolor\":\"white\",\"ticks\":\"\",\"title\":{\"standoff\":15},\"zerolinecolor\":\"white\",\"automargin\":true,\"zerolinewidth\":2},\"scene\":{\"xaxis\":{\"backgroundcolor\":\"#E5ECF6\",\"gridcolor\":\"white\",\"linecolor\":\"white\",\"showbackground\":true,\"ticks\":\"\",\"zerolinecolor\":\"white\",\"gridwidth\":2},\"yaxis\":{\"backgroundcolor\":\"#E5ECF6\",\"gridcolor\":\"white\",\"linecolor\":\"white\",\"showbackground\":true,\"ticks\":\"\",\"zerolinecolor\":\"white\",\"gridwidth\":2},\"zaxis\":{\"backgroundcolor\":\"#E5ECF6\",\"gridcolor\":\"white\",\"linecolor\":\"white\",\"showbackground\":true,\"ticks\":\"\",\"zerolinecolor\":\"white\",\"gridwidth\":2}},\"shapedefaults\":{\"line\":{\"color\":\"#2a3f5f\"}},\"annotationdefaults\":{\"arrowcolor\":\"#2a3f5f\",\"arrowhead\":0,\"arrowwidth\":1},\"geo\":{\"bgcolor\":\"white\",\"landcolor\":\"#E5ECF6\",\"subunitcolor\":\"white\",\"showland\":true,\"showlakes\":true,\"lakecolor\":\"white\"},\"title\":{\"x\":0.05},\"mapbox\":{\"style\":\"light\"}}},\"xaxis\":{\"anchor\":\"y\",\"domain\":[0.0,1.0],\"title\":{\"text\":\"BMI\"}},\"yaxis\":{\"anchor\":\"x\",\"domain\":[0.0,1.0],\"title\":{\"text\":\"count\"}},\"legend\":{\"title\":{\"text\":\"gender\"},\"tracegroupgap\":0},\"margin\":{\"t\":60},\"barmode\":\"relative\"},                        {\"responsive\": true}                    ).then(function(){\n",
       "                            \n",
       "var gd = document.getElementById('57639320-fb13-4255-a1e7-49130018307e');\n",
       "var x = new MutationObserver(function (mutations, observer) {{\n",
       "        var display = window.getComputedStyle(gd).display;\n",
       "        if (!display || display === 'none') {{\n",
       "            console.log([gd, 'removed!']);\n",
       "            Plotly.purge(gd);\n",
       "            observer.disconnect();\n",
       "        }}\n",
       "}});\n",
       "\n",
       "// Listen for the removal of the full notebook cells\n",
       "var notebookContainer = gd.closest('#notebook-container');\n",
       "if (notebookContainer) {{\n",
       "    x.observe(notebookContainer, {childList: true});\n",
       "}}\n",
       "\n",
       "// Listen for the clearing of the current output cell\n",
       "var outputEl = gd.closest('.output');\n",
       "if (outputEl) {{\n",
       "    x.observe(outputEl, {childList: true});\n",
       "}}\n",
       "\n",
       "                        })                };                });            </script>        </div>"
      ]
     },
     "metadata": {},
     "output_type": "display_data"
    }
   ],
   "source": [
    "px.histogram(df, x='BMI', color='gender', nbins=100)"
   ]
  },
  {
   "cell_type": "code",
   "execution_count": 22,
   "id": "e7e5bfda",
   "metadata": {
    "ExecuteTime": {
     "end_time": "2023-04-18T11:17:14.635710Z",
     "start_time": "2023-04-18T11:17:14.583037Z"
    }
   },
   "outputs": [
    {
     "data": {
      "application/vnd.plotly.v1+json": {
       "config": {
        "plotlyServerURL": "https://plotly.com"
       },
       "data": [
        {
         "hovertemplate": "BMI=%{x}<br>Dorea_longicatena=%{y}<extra></extra>",
         "legendgroup": "",
         "marker": {
          "color": "#636efa",
          "symbol": "circle"
         },
         "mode": "markers",
         "name": "",
         "orientation": "v",
         "showlegend": false,
         "type": "scatter",
         "x": [
          28.7132112,
          27.35457064,
          22.0603538,
          30.35032952,
          36.07947745,
          31.37798917,
          26.171875,
          null,
          22.8515625,
          20.9566075,
          28.46036374,
          24.16171225,
          25.92419951,
          27.77777778,
          29.52111838,
          31.83495338,
          20.72432543,
          22.95432524,
          27.86594941,
          25.74394464,
          47.65812397,
          36.16967555,
          26.27471384,
          31.40522352,
          34.0410284,
          21.79106405,
          39.40621751,
          28.15530042,
          28.76420455,
          23.8697204,
          37.02479339,
          32.34477974,
          32.60475788,
          24.29943171,
          29.9597275,
          23.63969196,
          31.28092183,
          18.83437364,
          27.55789225,
          36.19875019,
          20.82093992,
          33.95061728,
          23.19620659,
          29.2358582,
          32.66520851,
          29.05328798,
          29.11894136,
          25.84648258,
          28.9007795,
          33.79017735,
          34.08660523,
          24.70554438,
          28.31024931,
          24.22857143,
          28.44137397,
          23.97053496,
          27.76342975,
          28.72737719,
          24.65590962,
          22.03856749,
          28.18457265,
          null,
          28.37821519,
          29.13631634,
          24.62222222,
          35.81314879,
          22.47658689,
          26.14927686,
          29.07495538,
          18.99198825,
          28.62879239,
          29.96161169,
          21.23057202,
          27,
          24.30461788,
          21.56454491,
          33.80205516,
          26.44628099,
          24.22145329,
          29.3877551,
          33.21799308,
          25.05736022,
          29.6875,
          25.66115203,
          null,
          null,
          null,
          null,
          31.25,
          29.41176471,
          19.91836735,
          19.52311537,
          30.86419753,
          37.34721593,
          null,
          21.84700852,
          22.8206756,
          24.67702134,
          33.94930751,
          22.40878677,
          31.83391003,
          21.6066482,
          32.14024836,
          21.4532872,
          24.17897757,
          24.96800974,
          24.96494648,
          24.30248706,
          25.45111384,
          25.99090318,
          25.46938776,
          38.19632234,
          18.77834467,
          37.57762747,
          24.76756592,
          27.13141179,
          25.43646664,
          27.76979795,
          26.52851035,
          24.65590962,
          26.61934339,
          29.40759637,
          33.15043439,
          28.06891815,
          29.3523545,
          null,
          28.90507573,
          32.07591299,
          29.04657027,
          29.06122449,
          null,
          null,
          27.39817568,
          27.45982194,
          27.17063157,
          26.42356982,
          26.88172043,
          40.74074074,
          31.97501487,
          26.76977989,
          23.56663223,
          25,
          32,
          38.57875854,
          32.03857841,
          26.0261749,
          29.24210864,
          38.0078167,
          21.60410478,
          24.53512397,
          34.06360931,
          28.40111108,
          23.05456246,
          20.90419501,
          33.89721074,
          26.5,
          28.08641975,
          19.1953028,
          33.85577144,
          30.81648831,
          27.76465028,
          29.11542185,
          24.89117868,
          34.68627699,
          27.16140697
         ],
         "xaxis": "x",
         "y": [
          0.07567,
          0.65825,
          0.03822,
          0.82328,
          0.09959,
          0.20807,
          0.03759,
          0.26584,
          0.00531,
          0.76814,
          0.00512,
          0.0654,
          0.76546,
          4.93456,
          0.62757,
          3.28901,
          0,
          0.79283,
          0.82327,
          0,
          14.13748,
          0.57174,
          1.6654,
          1.5069,
          0.00043,
          0.10834,
          1.64612,
          0.68895,
          0.00338,
          4.19414,
          0,
          2.51907,
          1.34824,
          1.28352,
          0,
          0.40152,
          2.28552,
          0,
          0.21804,
          1.42843,
          1.47758,
          11.9872,
          3.42982,
          2.74001,
          3.45777,
          3.52915,
          0,
          4.07329,
          0.81788,
          0.83639,
          0,
          0.96465,
          0.1095,
          2.89223,
          1.06333,
          2.61281,
          0,
          0.00948,
          2.58002,
          2.92005,
          0.99602,
          0.42283,
          1.93779,
          0.38897,
          1.03818,
          2.9013,
          1.47973,
          1.6909,
          0,
          0.23847,
          2.10952,
          1.21302,
          0,
          0.24972,
          0.17674,
          1.19438,
          0.73054,
          0,
          0.15299,
          0.56875,
          0,
          1.37289,
          0,
          0.96626,
          0.93774,
          0.86707,
          0.5409,
          1.28433,
          0,
          4.96548,
          0,
          1.41117,
          0.97735,
          1.09252,
          0,
          0.1595,
          1.73927,
          9.85735,
          10.38389,
          1.16107,
          0.01458,
          0.12242,
          2.80733,
          1.52141,
          1.79758,
          0.92461,
          6.96724,
          1.31027,
          1.13263,
          4.181,
          0.00248,
          1.02664,
          0,
          3.4993,
          0,
          0.10993,
          0.23648,
          0.28922,
          0.3379,
          3.82992,
          0.03006,
          0,
          1.70123,
          1.45681,
          0.69088,
          1.01115,
          3.95981,
          1.60794,
          0.64201,
          8.34227,
          1.39839,
          2.68694,
          1.22067,
          9.30414,
          2.02726,
          0.13598,
          2.86798,
          2.55587,
          1.27713,
          1.87945,
          2.62214,
          3.95587,
          2.3709,
          4.55326,
          3.27233,
          3.59762,
          4.7725,
          1.4144,
          1.07653,
          2.58919,
          2.00106,
          4.20691,
          0.10661,
          2.53146,
          1.79777,
          0.42898,
          0,
          8.68998,
          9.05042,
          0,
          0.62685,
          0.23401,
          0,
          0.66418,
          0.92254
         ],
         "yaxis": "y"
        }
       ],
       "layout": {
        "legend": {
         "tracegroupgap": 0
        },
        "margin": {
         "t": 60
        },
        "template": {
         "data": {
          "bar": [
           {
            "error_x": {
             "color": "#2a3f5f"
            },
            "error_y": {
             "color": "#2a3f5f"
            },
            "marker": {
             "line": {
              "color": "#E5ECF6",
              "width": 0.5
             },
             "pattern": {
              "fillmode": "overlay",
              "size": 10,
              "solidity": 0.2
             }
            },
            "type": "bar"
           }
          ],
          "barpolar": [
           {
            "marker": {
             "line": {
              "color": "#E5ECF6",
              "width": 0.5
             },
             "pattern": {
              "fillmode": "overlay",
              "size": 10,
              "solidity": 0.2
             }
            },
            "type": "barpolar"
           }
          ],
          "carpet": [
           {
            "aaxis": {
             "endlinecolor": "#2a3f5f",
             "gridcolor": "white",
             "linecolor": "white",
             "minorgridcolor": "white",
             "startlinecolor": "#2a3f5f"
            },
            "baxis": {
             "endlinecolor": "#2a3f5f",
             "gridcolor": "white",
             "linecolor": "white",
             "minorgridcolor": "white",
             "startlinecolor": "#2a3f5f"
            },
            "type": "carpet"
           }
          ],
          "choropleth": [
           {
            "colorbar": {
             "outlinewidth": 0,
             "ticks": ""
            },
            "type": "choropleth"
           }
          ],
          "contour": [
           {
            "colorbar": {
             "outlinewidth": 0,
             "ticks": ""
            },
            "colorscale": [
             [
              0,
              "#0d0887"
             ],
             [
              0.1111111111111111,
              "#46039f"
             ],
             [
              0.2222222222222222,
              "#7201a8"
             ],
             [
              0.3333333333333333,
              "#9c179e"
             ],
             [
              0.4444444444444444,
              "#bd3786"
             ],
             [
              0.5555555555555556,
              "#d8576b"
             ],
             [
              0.6666666666666666,
              "#ed7953"
             ],
             [
              0.7777777777777778,
              "#fb9f3a"
             ],
             [
              0.8888888888888888,
              "#fdca26"
             ],
             [
              1,
              "#f0f921"
             ]
            ],
            "type": "contour"
           }
          ],
          "contourcarpet": [
           {
            "colorbar": {
             "outlinewidth": 0,
             "ticks": ""
            },
            "type": "contourcarpet"
           }
          ],
          "heatmap": [
           {
            "colorbar": {
             "outlinewidth": 0,
             "ticks": ""
            },
            "colorscale": [
             [
              0,
              "#0d0887"
             ],
             [
              0.1111111111111111,
              "#46039f"
             ],
             [
              0.2222222222222222,
              "#7201a8"
             ],
             [
              0.3333333333333333,
              "#9c179e"
             ],
             [
              0.4444444444444444,
              "#bd3786"
             ],
             [
              0.5555555555555556,
              "#d8576b"
             ],
             [
              0.6666666666666666,
              "#ed7953"
             ],
             [
              0.7777777777777778,
              "#fb9f3a"
             ],
             [
              0.8888888888888888,
              "#fdca26"
             ],
             [
              1,
              "#f0f921"
             ]
            ],
            "type": "heatmap"
           }
          ],
          "heatmapgl": [
           {
            "colorbar": {
             "outlinewidth": 0,
             "ticks": ""
            },
            "colorscale": [
             [
              0,
              "#0d0887"
             ],
             [
              0.1111111111111111,
              "#46039f"
             ],
             [
              0.2222222222222222,
              "#7201a8"
             ],
             [
              0.3333333333333333,
              "#9c179e"
             ],
             [
              0.4444444444444444,
              "#bd3786"
             ],
             [
              0.5555555555555556,
              "#d8576b"
             ],
             [
              0.6666666666666666,
              "#ed7953"
             ],
             [
              0.7777777777777778,
              "#fb9f3a"
             ],
             [
              0.8888888888888888,
              "#fdca26"
             ],
             [
              1,
              "#f0f921"
             ]
            ],
            "type": "heatmapgl"
           }
          ],
          "histogram": [
           {
            "marker": {
             "pattern": {
              "fillmode": "overlay",
              "size": 10,
              "solidity": 0.2
             }
            },
            "type": "histogram"
           }
          ],
          "histogram2d": [
           {
            "colorbar": {
             "outlinewidth": 0,
             "ticks": ""
            },
            "colorscale": [
             [
              0,
              "#0d0887"
             ],
             [
              0.1111111111111111,
              "#46039f"
             ],
             [
              0.2222222222222222,
              "#7201a8"
             ],
             [
              0.3333333333333333,
              "#9c179e"
             ],
             [
              0.4444444444444444,
              "#bd3786"
             ],
             [
              0.5555555555555556,
              "#d8576b"
             ],
             [
              0.6666666666666666,
              "#ed7953"
             ],
             [
              0.7777777777777778,
              "#fb9f3a"
             ],
             [
              0.8888888888888888,
              "#fdca26"
             ],
             [
              1,
              "#f0f921"
             ]
            ],
            "type": "histogram2d"
           }
          ],
          "histogram2dcontour": [
           {
            "colorbar": {
             "outlinewidth": 0,
             "ticks": ""
            },
            "colorscale": [
             [
              0,
              "#0d0887"
             ],
             [
              0.1111111111111111,
              "#46039f"
             ],
             [
              0.2222222222222222,
              "#7201a8"
             ],
             [
              0.3333333333333333,
              "#9c179e"
             ],
             [
              0.4444444444444444,
              "#bd3786"
             ],
             [
              0.5555555555555556,
              "#d8576b"
             ],
             [
              0.6666666666666666,
              "#ed7953"
             ],
             [
              0.7777777777777778,
              "#fb9f3a"
             ],
             [
              0.8888888888888888,
              "#fdca26"
             ],
             [
              1,
              "#f0f921"
             ]
            ],
            "type": "histogram2dcontour"
           }
          ],
          "mesh3d": [
           {
            "colorbar": {
             "outlinewidth": 0,
             "ticks": ""
            },
            "type": "mesh3d"
           }
          ],
          "parcoords": [
           {
            "line": {
             "colorbar": {
              "outlinewidth": 0,
              "ticks": ""
             }
            },
            "type": "parcoords"
           }
          ],
          "pie": [
           {
            "automargin": true,
            "type": "pie"
           }
          ],
          "scatter": [
           {
            "fillpattern": {
             "fillmode": "overlay",
             "size": 10,
             "solidity": 0.2
            },
            "type": "scatter"
           }
          ],
          "scatter3d": [
           {
            "line": {
             "colorbar": {
              "outlinewidth": 0,
              "ticks": ""
             }
            },
            "marker": {
             "colorbar": {
              "outlinewidth": 0,
              "ticks": ""
             }
            },
            "type": "scatter3d"
           }
          ],
          "scattercarpet": [
           {
            "marker": {
             "colorbar": {
              "outlinewidth": 0,
              "ticks": ""
             }
            },
            "type": "scattercarpet"
           }
          ],
          "scattergeo": [
           {
            "marker": {
             "colorbar": {
              "outlinewidth": 0,
              "ticks": ""
             }
            },
            "type": "scattergeo"
           }
          ],
          "scattergl": [
           {
            "marker": {
             "colorbar": {
              "outlinewidth": 0,
              "ticks": ""
             }
            },
            "type": "scattergl"
           }
          ],
          "scattermapbox": [
           {
            "marker": {
             "colorbar": {
              "outlinewidth": 0,
              "ticks": ""
             }
            },
            "type": "scattermapbox"
           }
          ],
          "scatterpolar": [
           {
            "marker": {
             "colorbar": {
              "outlinewidth": 0,
              "ticks": ""
             }
            },
            "type": "scatterpolar"
           }
          ],
          "scatterpolargl": [
           {
            "marker": {
             "colorbar": {
              "outlinewidth": 0,
              "ticks": ""
             }
            },
            "type": "scatterpolargl"
           }
          ],
          "scatterternary": [
           {
            "marker": {
             "colorbar": {
              "outlinewidth": 0,
              "ticks": ""
             }
            },
            "type": "scatterternary"
           }
          ],
          "surface": [
           {
            "colorbar": {
             "outlinewidth": 0,
             "ticks": ""
            },
            "colorscale": [
             [
              0,
              "#0d0887"
             ],
             [
              0.1111111111111111,
              "#46039f"
             ],
             [
              0.2222222222222222,
              "#7201a8"
             ],
             [
              0.3333333333333333,
              "#9c179e"
             ],
             [
              0.4444444444444444,
              "#bd3786"
             ],
             [
              0.5555555555555556,
              "#d8576b"
             ],
             [
              0.6666666666666666,
              "#ed7953"
             ],
             [
              0.7777777777777778,
              "#fb9f3a"
             ],
             [
              0.8888888888888888,
              "#fdca26"
             ],
             [
              1,
              "#f0f921"
             ]
            ],
            "type": "surface"
           }
          ],
          "table": [
           {
            "cells": {
             "fill": {
              "color": "#EBF0F8"
             },
             "line": {
              "color": "white"
             }
            },
            "header": {
             "fill": {
              "color": "#C8D4E3"
             },
             "line": {
              "color": "white"
             }
            },
            "type": "table"
           }
          ]
         },
         "layout": {
          "annotationdefaults": {
           "arrowcolor": "#2a3f5f",
           "arrowhead": 0,
           "arrowwidth": 1
          },
          "autotypenumbers": "strict",
          "coloraxis": {
           "colorbar": {
            "outlinewidth": 0,
            "ticks": ""
           }
          },
          "colorscale": {
           "diverging": [
            [
             0,
             "#8e0152"
            ],
            [
             0.1,
             "#c51b7d"
            ],
            [
             0.2,
             "#de77ae"
            ],
            [
             0.3,
             "#f1b6da"
            ],
            [
             0.4,
             "#fde0ef"
            ],
            [
             0.5,
             "#f7f7f7"
            ],
            [
             0.6,
             "#e6f5d0"
            ],
            [
             0.7,
             "#b8e186"
            ],
            [
             0.8,
             "#7fbc41"
            ],
            [
             0.9,
             "#4d9221"
            ],
            [
             1,
             "#276419"
            ]
           ],
           "sequential": [
            [
             0,
             "#0d0887"
            ],
            [
             0.1111111111111111,
             "#46039f"
            ],
            [
             0.2222222222222222,
             "#7201a8"
            ],
            [
             0.3333333333333333,
             "#9c179e"
            ],
            [
             0.4444444444444444,
             "#bd3786"
            ],
            [
             0.5555555555555556,
             "#d8576b"
            ],
            [
             0.6666666666666666,
             "#ed7953"
            ],
            [
             0.7777777777777778,
             "#fb9f3a"
            ],
            [
             0.8888888888888888,
             "#fdca26"
            ],
            [
             1,
             "#f0f921"
            ]
           ],
           "sequentialminus": [
            [
             0,
             "#0d0887"
            ],
            [
             0.1111111111111111,
             "#46039f"
            ],
            [
             0.2222222222222222,
             "#7201a8"
            ],
            [
             0.3333333333333333,
             "#9c179e"
            ],
            [
             0.4444444444444444,
             "#bd3786"
            ],
            [
             0.5555555555555556,
             "#d8576b"
            ],
            [
             0.6666666666666666,
             "#ed7953"
            ],
            [
             0.7777777777777778,
             "#fb9f3a"
            ],
            [
             0.8888888888888888,
             "#fdca26"
            ],
            [
             1,
             "#f0f921"
            ]
           ]
          },
          "colorway": [
           "#636efa",
           "#EF553B",
           "#00cc96",
           "#ab63fa",
           "#FFA15A",
           "#19d3f3",
           "#FF6692",
           "#B6E880",
           "#FF97FF",
           "#FECB52"
          ],
          "font": {
           "color": "#2a3f5f"
          },
          "geo": {
           "bgcolor": "white",
           "lakecolor": "white",
           "landcolor": "#E5ECF6",
           "showlakes": true,
           "showland": true,
           "subunitcolor": "white"
          },
          "hoverlabel": {
           "align": "left"
          },
          "hovermode": "closest",
          "mapbox": {
           "style": "light"
          },
          "paper_bgcolor": "white",
          "plot_bgcolor": "#E5ECF6",
          "polar": {
           "angularaxis": {
            "gridcolor": "white",
            "linecolor": "white",
            "ticks": ""
           },
           "bgcolor": "#E5ECF6",
           "radialaxis": {
            "gridcolor": "white",
            "linecolor": "white",
            "ticks": ""
           }
          },
          "scene": {
           "xaxis": {
            "backgroundcolor": "#E5ECF6",
            "gridcolor": "white",
            "gridwidth": 2,
            "linecolor": "white",
            "showbackground": true,
            "ticks": "",
            "zerolinecolor": "white"
           },
           "yaxis": {
            "backgroundcolor": "#E5ECF6",
            "gridcolor": "white",
            "gridwidth": 2,
            "linecolor": "white",
            "showbackground": true,
            "ticks": "",
            "zerolinecolor": "white"
           },
           "zaxis": {
            "backgroundcolor": "#E5ECF6",
            "gridcolor": "white",
            "gridwidth": 2,
            "linecolor": "white",
            "showbackground": true,
            "ticks": "",
            "zerolinecolor": "white"
           }
          },
          "shapedefaults": {
           "line": {
            "color": "#2a3f5f"
           }
          },
          "ternary": {
           "aaxis": {
            "gridcolor": "white",
            "linecolor": "white",
            "ticks": ""
           },
           "baxis": {
            "gridcolor": "white",
            "linecolor": "white",
            "ticks": ""
           },
           "bgcolor": "#E5ECF6",
           "caxis": {
            "gridcolor": "white",
            "linecolor": "white",
            "ticks": ""
           }
          },
          "title": {
           "x": 0.05
          },
          "xaxis": {
           "automargin": true,
           "gridcolor": "white",
           "linecolor": "white",
           "ticks": "",
           "title": {
            "standoff": 15
           },
           "zerolinecolor": "white",
           "zerolinewidth": 2
          },
          "yaxis": {
           "automargin": true,
           "gridcolor": "white",
           "linecolor": "white",
           "ticks": "",
           "title": {
            "standoff": 15
           },
           "zerolinecolor": "white",
           "zerolinewidth": 2
          }
         }
        },
        "xaxis": {
         "anchor": "y",
         "domain": [
          0,
          1
         ],
         "title": {
          "text": "BMI"
         }
        },
        "yaxis": {
         "anchor": "x",
         "domain": [
          0,
          1
         ],
         "title": {
          "text": "Dorea_longicatena"
         }
        }
       }
      },
      "text/html": [
       "<div>                            <div id=\"403da326-39b3-4db4-8390-052cc566ad78\" class=\"plotly-graph-div\" style=\"height:525px; width:100%;\"></div>            <script type=\"text/javascript\">                require([\"plotly\"], function(Plotly) {                    window.PLOTLYENV=window.PLOTLYENV || {};                                    if (document.getElementById(\"403da326-39b3-4db4-8390-052cc566ad78\")) {                    Plotly.newPlot(                        \"403da326-39b3-4db4-8390-052cc566ad78\",                        [{\"hovertemplate\":\"BMI=%{x}<br>Dorea_longicatena=%{y}<extra></extra>\",\"legendgroup\":\"\",\"marker\":{\"color\":\"#636efa\",\"symbol\":\"circle\"},\"mode\":\"markers\",\"name\":\"\",\"orientation\":\"v\",\"showlegend\":false,\"x\":[28.7132112,27.35457064,22.0603538,30.35032952,36.07947745,31.37798917,26.171875,null,22.8515625,20.9566075,28.46036374,24.16171225,25.92419951,27.77777778,29.52111838,31.83495338,20.72432543,22.95432524,27.86594941,25.74394464,47.65812397,36.16967555,26.27471384,31.40522352,34.0410284,21.79106405,39.40621751,28.15530042,28.76420455,23.8697204,37.02479339,32.34477974,32.60475788,24.29943171,29.9597275,23.63969196,31.28092183,18.83437364,27.55789225,36.19875019,20.82093992,33.95061728,23.19620659,29.2358582,32.66520851,29.05328798,29.11894136,25.84648258,28.9007795,33.79017735,34.08660523,24.70554438,28.31024931,24.22857143,28.44137397,23.97053496,27.76342975,28.72737719,24.65590962,22.03856749,28.18457265,null,28.37821519,29.13631634,24.62222222,35.81314879,22.47658689,26.14927686,29.07495538,18.99198825,28.62879239,29.96161169,21.23057202,27.0,24.30461788,21.56454491,33.80205516,26.44628099,24.22145329,29.3877551,33.21799308,25.05736022,29.6875,25.66115203,null,null,null,null,31.25,29.41176471,19.91836735,19.52311537,30.86419753,37.34721593,null,21.84700852,22.8206756,24.67702134,33.94930751,22.40878677,31.83391003,21.6066482,32.14024836,21.4532872,24.17897757,24.96800974,24.96494648,24.30248706,25.45111384,25.99090318,25.46938776,38.19632234,18.77834467,37.57762747,24.76756592,27.13141179,25.43646664,27.76979795,26.52851035,24.65590962,26.61934339,29.40759637,33.15043439,28.06891815,29.3523545,null,28.90507573,32.07591299,29.04657027,29.06122449,null,null,27.39817568,27.45982194,27.17063157,26.42356982,26.88172043,40.74074074,31.97501487,26.76977989,23.56663223,25.0,32.0,38.57875854,32.03857841,26.0261749,29.24210864,38.0078167,21.60410478,24.53512397,34.06360931,28.40111108,23.05456246,20.90419501,33.89721074,26.5,28.08641975,19.1953028,33.85577144,30.81648831,27.76465028,29.11542185,24.89117868,34.68627699,27.16140697],\"xaxis\":\"x\",\"y\":[0.07567,0.65825,0.03822,0.82328,0.09959,0.20807,0.03759,0.26584,0.00531,0.76814,0.00512,0.0654,0.76546,4.93456,0.62757,3.28901,0.0,0.79283,0.82327,0.0,14.13748,0.57174,1.6654,1.5069,0.00043,0.10834,1.64612,0.68895,0.00338,4.19414,0.0,2.51907,1.34824,1.28352,0.0,0.40152,2.28552,0.0,0.21804,1.42843,1.47758,11.9872,3.42982,2.74001,3.45777,3.52915,0.0,4.07329,0.81788,0.83639,0.0,0.96465,0.1095,2.89223,1.06333,2.61281,0.0,0.00948,2.58002,2.92005,0.99602,0.42283,1.93779,0.38897,1.03818,2.9013,1.47973,1.6909,0.0,0.23847,2.10952,1.21302,0.0,0.24972,0.17674,1.19438,0.73054,0.0,0.15299,0.56875,0.0,1.37289,0.0,0.96626,0.93774,0.86707,0.5409,1.28433,0.0,4.96548,0.0,1.41117,0.97735,1.09252,0.0,0.1595,1.73927,9.85735,10.38389,1.16107,0.01458,0.12242,2.80733,1.52141,1.79758,0.92461,6.96724,1.31027,1.13263,4.181,0.00248,1.02664,0.0,3.4993,0.0,0.10993,0.23648,0.28922,0.3379,3.82992,0.03006,0.0,1.70123,1.45681,0.69088,1.01115,3.95981,1.60794,0.64201,8.34227,1.39839,2.68694,1.22067,9.30414,2.02726,0.13598,2.86798,2.55587,1.27713,1.87945,2.62214,3.95587,2.3709,4.55326,3.27233,3.59762,4.7725,1.4144,1.07653,2.58919,2.00106,4.20691,0.10661,2.53146,1.79777,0.42898,0.0,8.68998,9.05042,0.0,0.62685,0.23401,0.0,0.66418,0.92254],\"yaxis\":\"y\",\"type\":\"scatter\"}],                        {\"template\":{\"data\":{\"histogram2dcontour\":[{\"type\":\"histogram2dcontour\",\"colorbar\":{\"outlinewidth\":0,\"ticks\":\"\"},\"colorscale\":[[0.0,\"#0d0887\"],[0.1111111111111111,\"#46039f\"],[0.2222222222222222,\"#7201a8\"],[0.3333333333333333,\"#9c179e\"],[0.4444444444444444,\"#bd3786\"],[0.5555555555555556,\"#d8576b\"],[0.6666666666666666,\"#ed7953\"],[0.7777777777777778,\"#fb9f3a\"],[0.8888888888888888,\"#fdca26\"],[1.0,\"#f0f921\"]]}],\"choropleth\":[{\"type\":\"choropleth\",\"colorbar\":{\"outlinewidth\":0,\"ticks\":\"\"}}],\"histogram2d\":[{\"type\":\"histogram2d\",\"colorbar\":{\"outlinewidth\":0,\"ticks\":\"\"},\"colorscale\":[[0.0,\"#0d0887\"],[0.1111111111111111,\"#46039f\"],[0.2222222222222222,\"#7201a8\"],[0.3333333333333333,\"#9c179e\"],[0.4444444444444444,\"#bd3786\"],[0.5555555555555556,\"#d8576b\"],[0.6666666666666666,\"#ed7953\"],[0.7777777777777778,\"#fb9f3a\"],[0.8888888888888888,\"#fdca26\"],[1.0,\"#f0f921\"]]}],\"heatmap\":[{\"type\":\"heatmap\",\"colorbar\":{\"outlinewidth\":0,\"ticks\":\"\"},\"colorscale\":[[0.0,\"#0d0887\"],[0.1111111111111111,\"#46039f\"],[0.2222222222222222,\"#7201a8\"],[0.3333333333333333,\"#9c179e\"],[0.4444444444444444,\"#bd3786\"],[0.5555555555555556,\"#d8576b\"],[0.6666666666666666,\"#ed7953\"],[0.7777777777777778,\"#fb9f3a\"],[0.8888888888888888,\"#fdca26\"],[1.0,\"#f0f921\"]]}],\"heatmapgl\":[{\"type\":\"heatmapgl\",\"colorbar\":{\"outlinewidth\":0,\"ticks\":\"\"},\"colorscale\":[[0.0,\"#0d0887\"],[0.1111111111111111,\"#46039f\"],[0.2222222222222222,\"#7201a8\"],[0.3333333333333333,\"#9c179e\"],[0.4444444444444444,\"#bd3786\"],[0.5555555555555556,\"#d8576b\"],[0.6666666666666666,\"#ed7953\"],[0.7777777777777778,\"#fb9f3a\"],[0.8888888888888888,\"#fdca26\"],[1.0,\"#f0f921\"]]}],\"contourcarpet\":[{\"type\":\"contourcarpet\",\"colorbar\":{\"outlinewidth\":0,\"ticks\":\"\"}}],\"contour\":[{\"type\":\"contour\",\"colorbar\":{\"outlinewidth\":0,\"ticks\":\"\"},\"colorscale\":[[0.0,\"#0d0887\"],[0.1111111111111111,\"#46039f\"],[0.2222222222222222,\"#7201a8\"],[0.3333333333333333,\"#9c179e\"],[0.4444444444444444,\"#bd3786\"],[0.5555555555555556,\"#d8576b\"],[0.6666666666666666,\"#ed7953\"],[0.7777777777777778,\"#fb9f3a\"],[0.8888888888888888,\"#fdca26\"],[1.0,\"#f0f921\"]]}],\"surface\":[{\"type\":\"surface\",\"colorbar\":{\"outlinewidth\":0,\"ticks\":\"\"},\"colorscale\":[[0.0,\"#0d0887\"],[0.1111111111111111,\"#46039f\"],[0.2222222222222222,\"#7201a8\"],[0.3333333333333333,\"#9c179e\"],[0.4444444444444444,\"#bd3786\"],[0.5555555555555556,\"#d8576b\"],[0.6666666666666666,\"#ed7953\"],[0.7777777777777778,\"#fb9f3a\"],[0.8888888888888888,\"#fdca26\"],[1.0,\"#f0f921\"]]}],\"mesh3d\":[{\"type\":\"mesh3d\",\"colorbar\":{\"outlinewidth\":0,\"ticks\":\"\"}}],\"scatter\":[{\"fillpattern\":{\"fillmode\":\"overlay\",\"size\":10,\"solidity\":0.2},\"type\":\"scatter\"}],\"parcoords\":[{\"type\":\"parcoords\",\"line\":{\"colorbar\":{\"outlinewidth\":0,\"ticks\":\"\"}}}],\"scatterpolargl\":[{\"type\":\"scatterpolargl\",\"marker\":{\"colorbar\":{\"outlinewidth\":0,\"ticks\":\"\"}}}],\"bar\":[{\"error_x\":{\"color\":\"#2a3f5f\"},\"error_y\":{\"color\":\"#2a3f5f\"},\"marker\":{\"line\":{\"color\":\"#E5ECF6\",\"width\":0.5},\"pattern\":{\"fillmode\":\"overlay\",\"size\":10,\"solidity\":0.2}},\"type\":\"bar\"}],\"scattergeo\":[{\"type\":\"scattergeo\",\"marker\":{\"colorbar\":{\"outlinewidth\":0,\"ticks\":\"\"}}}],\"scatterpolar\":[{\"type\":\"scatterpolar\",\"marker\":{\"colorbar\":{\"outlinewidth\":0,\"ticks\":\"\"}}}],\"histogram\":[{\"marker\":{\"pattern\":{\"fillmode\":\"overlay\",\"size\":10,\"solidity\":0.2}},\"type\":\"histogram\"}],\"scattergl\":[{\"type\":\"scattergl\",\"marker\":{\"colorbar\":{\"outlinewidth\":0,\"ticks\":\"\"}}}],\"scatter3d\":[{\"type\":\"scatter3d\",\"line\":{\"colorbar\":{\"outlinewidth\":0,\"ticks\":\"\"}},\"marker\":{\"colorbar\":{\"outlinewidth\":0,\"ticks\":\"\"}}}],\"scattermapbox\":[{\"type\":\"scattermapbox\",\"marker\":{\"colorbar\":{\"outlinewidth\":0,\"ticks\":\"\"}}}],\"scatterternary\":[{\"type\":\"scatterternary\",\"marker\":{\"colorbar\":{\"outlinewidth\":0,\"ticks\":\"\"}}}],\"scattercarpet\":[{\"type\":\"scattercarpet\",\"marker\":{\"colorbar\":{\"outlinewidth\":0,\"ticks\":\"\"}}}],\"carpet\":[{\"aaxis\":{\"endlinecolor\":\"#2a3f5f\",\"gridcolor\":\"white\",\"linecolor\":\"white\",\"minorgridcolor\":\"white\",\"startlinecolor\":\"#2a3f5f\"},\"baxis\":{\"endlinecolor\":\"#2a3f5f\",\"gridcolor\":\"white\",\"linecolor\":\"white\",\"minorgridcolor\":\"white\",\"startlinecolor\":\"#2a3f5f\"},\"type\":\"carpet\"}],\"table\":[{\"cells\":{\"fill\":{\"color\":\"#EBF0F8\"},\"line\":{\"color\":\"white\"}},\"header\":{\"fill\":{\"color\":\"#C8D4E3\"},\"line\":{\"color\":\"white\"}},\"type\":\"table\"}],\"barpolar\":[{\"marker\":{\"line\":{\"color\":\"#E5ECF6\",\"width\":0.5},\"pattern\":{\"fillmode\":\"overlay\",\"size\":10,\"solidity\":0.2}},\"type\":\"barpolar\"}],\"pie\":[{\"automargin\":true,\"type\":\"pie\"}]},\"layout\":{\"autotypenumbers\":\"strict\",\"colorway\":[\"#636efa\",\"#EF553B\",\"#00cc96\",\"#ab63fa\",\"#FFA15A\",\"#19d3f3\",\"#FF6692\",\"#B6E880\",\"#FF97FF\",\"#FECB52\"],\"font\":{\"color\":\"#2a3f5f\"},\"hovermode\":\"closest\",\"hoverlabel\":{\"align\":\"left\"},\"paper_bgcolor\":\"white\",\"plot_bgcolor\":\"#E5ECF6\",\"polar\":{\"bgcolor\":\"#E5ECF6\",\"angularaxis\":{\"gridcolor\":\"white\",\"linecolor\":\"white\",\"ticks\":\"\"},\"radialaxis\":{\"gridcolor\":\"white\",\"linecolor\":\"white\",\"ticks\":\"\"}},\"ternary\":{\"bgcolor\":\"#E5ECF6\",\"aaxis\":{\"gridcolor\":\"white\",\"linecolor\":\"white\",\"ticks\":\"\"},\"baxis\":{\"gridcolor\":\"white\",\"linecolor\":\"white\",\"ticks\":\"\"},\"caxis\":{\"gridcolor\":\"white\",\"linecolor\":\"white\",\"ticks\":\"\"}},\"coloraxis\":{\"colorbar\":{\"outlinewidth\":0,\"ticks\":\"\"}},\"colorscale\":{\"sequential\":[[0.0,\"#0d0887\"],[0.1111111111111111,\"#46039f\"],[0.2222222222222222,\"#7201a8\"],[0.3333333333333333,\"#9c179e\"],[0.4444444444444444,\"#bd3786\"],[0.5555555555555556,\"#d8576b\"],[0.6666666666666666,\"#ed7953\"],[0.7777777777777778,\"#fb9f3a\"],[0.8888888888888888,\"#fdca26\"],[1.0,\"#f0f921\"]],\"sequentialminus\":[[0.0,\"#0d0887\"],[0.1111111111111111,\"#46039f\"],[0.2222222222222222,\"#7201a8\"],[0.3333333333333333,\"#9c179e\"],[0.4444444444444444,\"#bd3786\"],[0.5555555555555556,\"#d8576b\"],[0.6666666666666666,\"#ed7953\"],[0.7777777777777778,\"#fb9f3a\"],[0.8888888888888888,\"#fdca26\"],[1.0,\"#f0f921\"]],\"diverging\":[[0,\"#8e0152\"],[0.1,\"#c51b7d\"],[0.2,\"#de77ae\"],[0.3,\"#f1b6da\"],[0.4,\"#fde0ef\"],[0.5,\"#f7f7f7\"],[0.6,\"#e6f5d0\"],[0.7,\"#b8e186\"],[0.8,\"#7fbc41\"],[0.9,\"#4d9221\"],[1,\"#276419\"]]},\"xaxis\":{\"gridcolor\":\"white\",\"linecolor\":\"white\",\"ticks\":\"\",\"title\":{\"standoff\":15},\"zerolinecolor\":\"white\",\"automargin\":true,\"zerolinewidth\":2},\"yaxis\":{\"gridcolor\":\"white\",\"linecolor\":\"white\",\"ticks\":\"\",\"title\":{\"standoff\":15},\"zerolinecolor\":\"white\",\"automargin\":true,\"zerolinewidth\":2},\"scene\":{\"xaxis\":{\"backgroundcolor\":\"#E5ECF6\",\"gridcolor\":\"white\",\"linecolor\":\"white\",\"showbackground\":true,\"ticks\":\"\",\"zerolinecolor\":\"white\",\"gridwidth\":2},\"yaxis\":{\"backgroundcolor\":\"#E5ECF6\",\"gridcolor\":\"white\",\"linecolor\":\"white\",\"showbackground\":true,\"ticks\":\"\",\"zerolinecolor\":\"white\",\"gridwidth\":2},\"zaxis\":{\"backgroundcolor\":\"#E5ECF6\",\"gridcolor\":\"white\",\"linecolor\":\"white\",\"showbackground\":true,\"ticks\":\"\",\"zerolinecolor\":\"white\",\"gridwidth\":2}},\"shapedefaults\":{\"line\":{\"color\":\"#2a3f5f\"}},\"annotationdefaults\":{\"arrowcolor\":\"#2a3f5f\",\"arrowhead\":0,\"arrowwidth\":1},\"geo\":{\"bgcolor\":\"white\",\"landcolor\":\"#E5ECF6\",\"subunitcolor\":\"white\",\"showland\":true,\"showlakes\":true,\"lakecolor\":\"white\"},\"title\":{\"x\":0.05},\"mapbox\":{\"style\":\"light\"}}},\"xaxis\":{\"anchor\":\"y\",\"domain\":[0.0,1.0],\"title\":{\"text\":\"BMI\"}},\"yaxis\":{\"anchor\":\"x\",\"domain\":[0.0,1.0],\"title\":{\"text\":\"Dorea_longicatena\"}},\"legend\":{\"tracegroupgap\":0},\"margin\":{\"t\":60}},                        {\"responsive\": true}                    ).then(function(){\n",
       "                            \n",
       "var gd = document.getElementById('403da326-39b3-4db4-8390-052cc566ad78');\n",
       "var x = new MutationObserver(function (mutations, observer) {{\n",
       "        var display = window.getComputedStyle(gd).display;\n",
       "        if (!display || display === 'none') {{\n",
       "            console.log([gd, 'removed!']);\n",
       "            Plotly.purge(gd);\n",
       "            observer.disconnect();\n",
       "        }}\n",
       "}});\n",
       "\n",
       "// Listen for the removal of the full notebook cells\n",
       "var notebookContainer = gd.closest('#notebook-container');\n",
       "if (notebookContainer) {{\n",
       "    x.observe(notebookContainer, {childList: true});\n",
       "}}\n",
       "\n",
       "// Listen for the clearing of the current output cell\n",
       "var outputEl = gd.closest('.output');\n",
       "if (outputEl) {{\n",
       "    x.observe(outputEl, {childList: true});\n",
       "}}\n",
       "\n",
       "                        })                };                });            </script>        </div>"
      ]
     },
     "metadata": {},
     "output_type": "display_data"
    }
   ],
   "source": [
    "fig = px.scatter(df, x=\"BMI\", y=\"Dorea_longicatena\")\n",
    "fig.show()"
   ]
  },
  {
   "cell_type": "code",
   "execution_count": 23,
   "id": "4ef8510f",
   "metadata": {
    "ExecuteTime": {
     "end_time": "2023-04-18T11:18:02.794155Z",
     "start_time": "2023-04-18T11:18:02.720303Z"
    }
   },
   "outputs": [
    {
     "data": {
      "application/vnd.plotly.v1+json": {
       "config": {
        "plotlyServerURL": "https://plotly.com"
       },
       "data": [
        {
         "customdata": [
          [
           "ESP",
           "BCN-01_1",
           "male",
           "adult"
          ],
          [
           "ESP",
           "BCN-04_1",
           "male",
           "adult"
          ],
          [
           "ESP",
           "BCN-05_1",
           "male",
           "senior"
          ],
          [
           "ESP",
           "BCN-06_1",
           "male",
           "adult"
          ],
          [
           "ESP",
           "BCN-07_1",
           "male",
           "senior"
          ],
          [
           "ESP",
           "BCN-08_1",
           "male",
           "senior"
          ],
          [
           "GBR",
           "PRIMM0002",
           "male",
           "senior"
          ],
          [
           "GBR",
           "PRIMM0003",
           "male",
           "senior"
          ],
          [
           "GBR",
           "PRIMM0004",
           "male",
           "adult"
          ],
          [
           "GBR",
           "PRIMM0008",
           "male",
           "senior"
          ],
          [
           "GBR",
           "PRIMM0017",
           "male",
           "adult"
          ],
          [
           "GBR",
           "PRIMM0029",
           "male",
           "senior"
          ],
          [
           "GBR",
           "PRIMM0030",
           "male",
           "adult"
          ],
          [
           "GBR",
           "PRIMM0035",
           "male",
           "senior"
          ],
          [
           "GBR",
           "PRIMM0044",
           "male",
           "adult"
          ],
          [
           "GBR",
           "PRIMM0059",
           "male",
           "senior"
          ],
          [
           "GBR",
           "PRIMM0060",
           "male",
           "senior"
          ],
          [
           "GBR",
           "PRIMM0068",
           "male",
           "adult"
          ],
          [
           "GBR",
           "PRIMM0069",
           "male",
           "adult"
          ],
          [
           "GBR",
           "PRIMM0077",
           "male",
           "senior"
          ],
          [
           "GBR",
           "PRIMM0079",
           "male",
           "senior"
          ],
          [
           "GBR",
           "PRIMM0080",
           "male",
           "adult"
          ],
          [
           "GBR",
           "PRIMM0088",
           "male",
           "senior"
          ],
          [
           "GBR",
           "PRIMM0116",
           "male",
           "senior"
          ],
          [
           "GBR",
           "PRIMM0117",
           "male",
           "senior"
          ],
          [
           "GBR",
           "PRIMM0123",
           "male",
           "adult"
          ],
          [
           "GBR",
           "PRIMM0137",
           "male",
           "senior"
          ],
          [
           "GBR",
           "PRIMM0140",
           "male",
           "adult"
          ],
          [
           "GBR",
           "PRIMM0143",
           "male",
           "adult"
          ],
          [
           "GBR",
           "PRIMM0154",
           "male",
           "senior"
          ],
          [
           "GBR",
           "PRIMM0155",
           "male",
           "senior"
          ],
          [
           "GBR",
           "PRIMM0159",
           "male",
           "adult"
          ],
          [
           "GBR",
           "PRIMM0162",
           "male",
           "adult"
          ],
          [
           "GBR",
           "PRIMM0166",
           "male",
           "adult"
          ],
          [
           "GBR",
           "PRIMM0171",
           "male",
           "adult"
          ],
          [
           "GBR",
           "PRIMM0178",
           "male",
           "adult"
          ],
          [
           "GBR",
           "PRIMM0193",
           "male",
           "adult"
          ],
          [
           "GBR",
           "PRIMM0197",
           "male",
           "senior"
          ],
          [
           "GBR",
           "PRIMM0199",
           "male",
           "senior"
          ],
          [
           "GBR",
           "PRIMM0210",
           "male",
           "senior"
          ],
          [
           "GBR",
           "PRIMM0215",
           "male",
           "senior"
          ],
          [
           "GBR",
           "PRIMM0218",
           "male",
           "senior"
          ],
          [
           "GBR",
           "PRIMM0220",
           "male",
           "adult"
          ],
          [
           "GBR",
           "PRIMM0232",
           "male",
           "senior"
          ],
          [
           "GBR",
           "PRIMM0234",
           "male",
           "adult"
          ],
          [
           "GBR",
           "PRIMM0241",
           "male",
           "adult"
          ],
          [
           "GBR",
           "PRIMM0261",
           "male",
           "adult"
          ],
          [
           "GBR",
           "PRIMM0266",
           "male",
           "senior"
          ],
          [
           "GBR",
           "PRIMM0271",
           "male",
           "senior"
          ],
          [
           "GBR",
           "PRIMM0276",
           "male",
           "adult"
          ],
          [
           "GBR",
           "PRIMM0278",
           "male",
           "adult"
          ],
          [
           "NLD",
           "PRIMM0287",
           "male",
           "senior"
          ],
          [
           "NLD",
           "PRIMM0300",
           "male",
           "adult"
          ],
          [
           "NLD",
           "PRIMM0301",
           "male",
           "senior"
          ],
          [
           "NLD",
           "PRIMM0308",
           "male",
           "adult"
          ],
          [
           "NLD",
           "PRIMM0310",
           "male",
           "senior"
          ],
          [
           "NLD",
           "PRIMM0352",
           "male",
           "senior"
          ],
          [
           "NLD",
           "PRIMM0354",
           "male",
           "senior"
          ],
          [
           "NLD",
           "PRIMM0361",
           "male",
           "adult"
          ],
          [
           "GBR",
           "PRIMM0365",
           "male",
           "senior"
          ],
          [
           "NLD",
           "PRIMM0381",
           "male",
           "adult"
          ],
          [
           "NLD",
           "PRIMM0386",
           "male",
           "adult"
          ],
          [
           "NLD",
           "PRIMM0387",
           "male",
           "adult"
          ],
          [
           "NLD",
           "PRIMM0394",
           "male",
           "senior"
          ],
          [
           "NLD",
           "PRIMM0398",
           "male",
           "senior"
          ],
          [
           "NLD",
           "PRIMM0403",
           "male",
           "adult"
          ],
          [
           "NLD",
           "PRIMM0404",
           "male",
           "adult"
          ],
          [
           "NLD",
           "PRIMM0417",
           "male",
           "senior"
          ],
          [
           "NLD",
           "PRIMM0424",
           "male",
           "adult"
          ],
          [
           "NLD",
           "PRIMM0426",
           "male",
           "adult"
          ],
          [
           "NLD",
           "PRIMM0427",
           "male",
           "senior"
          ],
          [
           "NLD",
           "PRIMM0435",
           "male",
           "senior"
          ],
          [
           "NLD",
           "PRIMM0461",
           "male",
           "adult"
          ],
          [
           "NLD",
           "PRIMM0467",
           "male",
           "adult"
          ],
          [
           "NLD",
           "PRIMM0474",
           "male",
           "senior"
          ],
          [
           "NLD",
           "PRIMM0477",
           "male",
           "adult"
          ],
          [
           "NLD",
           "PRIMM0483",
           "male",
           "senior"
          ],
          [
           "NLD",
           "PRIMM0498",
           "male",
           "senior"
          ],
          [
           "NLD",
           "PRIMM0511",
           "male",
           "senior"
          ],
          [
           "NLD",
           "PRIMM0516",
           "male",
           "senior"
          ],
          [
           "NLD",
           "PRIMM0521",
           "male",
           "senior"
          ],
          [
           "NLD",
           "PRIMM0526",
           "male",
           "adult"
          ],
          [
           "NLD",
           "PRIMM0532",
           "male",
           "adult"
          ],
          [
           "GBR",
           "PRIMM0543",
           "male",
           "adult"
          ],
          [
           "GBR",
           "PRIMM0544",
           "male",
           "senior"
          ],
          [
           "GBR",
           "PRIMM0546",
           "male",
           "senior"
          ],
          [
           "GBR",
           "PRIMM0551",
           "male",
           "senior"
          ],
          [
           "GBR",
           "PRIMM0565",
           "male",
           "adult"
          ],
          [
           "GBR",
           "PRIMM0567",
           "male",
           "adult"
          ],
          [
           "GBR",
           "PRIMM0569",
           "male",
           "senior"
          ],
          [
           "GBR",
           "PRIMM0571",
           "male",
           "adult"
          ],
          [
           "GBR",
           "PRIMM0575",
           "male",
           "adult"
          ],
          [
           "GBR",
           "PRIMM0576",
           "male",
           "adult"
          ],
          [
           "GBR",
           "PRIMM0578",
           "male",
           "senior"
          ],
          [
           "GBR",
           "PRIMM0590",
           "male",
           "senior"
          ],
          [
           "GBR",
           "PRIMM0594",
           "male",
           "adult"
          ],
          [
           "GBR",
           "PRIMM0597",
           "male",
           "senior"
          ],
          [
           "GBR",
           "PRIMM0601",
           "male",
           "senior"
          ],
          [
           "GBR",
           "PRIMM0602",
           "male",
           "adult"
          ],
          [
           "GBR",
           "PRIMM0610",
           "male",
           "adult"
          ]
         ],
         "hovertemplate": "gender=%{customdata[2]}<br>BMI=%{x}<br>Dorea_longicatena=%{y}<br>country=%{customdata[0]}<br>subject_id=%{customdata[1]}<br>age_category=%{customdata[3]}<extra></extra>",
         "legendgroup": "male",
         "marker": {
          "color": "#636efa",
          "symbol": "circle"
         },
         "mode": "markers",
         "name": "male",
         "orientation": "v",
         "showlegend": true,
         "type": "scatter",
         "x": [
          28.7132112,
          30.35032952,
          36.07947745,
          31.37798917,
          26.171875,
          null,
          27.77777778,
          29.52111838,
          31.83495338,
          27.86594941,
          47.65812397,
          36.16967555,
          26.27471384,
          34.0410284,
          21.79106405,
          28.15530042,
          28.76420455,
          32.34477974,
          32.60475788,
          24.29943171,
          23.63969196,
          31.28092183,
          27.55789225,
          32.66520851,
          29.05328798,
          29.11894136,
          28.9007795,
          33.79017735,
          34.08660523,
          24.70554438,
          28.31024931,
          24.22857143,
          28.44137397,
          23.97053496,
          28.72737719,
          24.65590962,
          28.18457265,
          null,
          28.37821519,
          35.81314879,
          22.47658689,
          26.14927686,
          18.99198825,
          28.62879239,
          29.96161169,
          27,
          33.80205516,
          24.22145329,
          29.3877551,
          33.21799308,
          25.05736022,
          25.66115203,
          null,
          null,
          null,
          null,
          19.52311537,
          37.34721593,
          21.84700852,
          22.8206756,
          22.40878677,
          21.6066482,
          32.14024836,
          24.17897757,
          24.96800974,
          24.30248706,
          25.45111384,
          25.46938776,
          24.76756592,
          27.13141179,
          25.43646664,
          26.52851035,
          28.06891815,
          29.3523545,
          28.90507573,
          29.04657027,
          29.06122449,
          null,
          null,
          27.45982194,
          27.17063157,
          26.88172043,
          40.74074074,
          23.56663223,
          25,
          32,
          32.03857841,
          24.53512397,
          34.06360931,
          28.40111108,
          23.05456246,
          33.89721074,
          26.5,
          28.08641975,
          33.85577144,
          30.81648831,
          27.76465028,
          29.11542185,
          24.89117868,
          34.68627699
         ],
         "xaxis": "x",
         "y": [
          0.07567,
          0.82328,
          0.09959,
          0.20807,
          0.03759,
          0.26584,
          4.93456,
          0.62757,
          3.28901,
          0.82327,
          14.13748,
          0.57174,
          1.6654,
          0.00043,
          0.10834,
          0.68895,
          0.00338,
          2.51907,
          1.34824,
          1.28352,
          0.40152,
          2.28552,
          0.21804,
          3.45777,
          3.52915,
          0,
          0.81788,
          0.83639,
          0,
          0.96465,
          0.1095,
          2.89223,
          1.06333,
          2.61281,
          0.00948,
          2.58002,
          0.99602,
          0.42283,
          1.93779,
          2.9013,
          1.47973,
          1.6909,
          0.23847,
          2.10952,
          1.21302,
          0.24972,
          0.73054,
          0.15299,
          0.56875,
          0,
          1.37289,
          0.96626,
          0.93774,
          0.86707,
          0.5409,
          1.28433,
          1.41117,
          1.09252,
          0.1595,
          1.73927,
          1.16107,
          0.12242,
          2.80733,
          1.79758,
          0.92461,
          1.31027,
          1.13263,
          0.00248,
          0,
          0.10993,
          0.23648,
          0.3379,
          1.45681,
          0.69088,
          3.95981,
          0.64201,
          8.34227,
          1.39839,
          2.68694,
          9.30414,
          2.02726,
          2.86798,
          2.55587,
          2.62214,
          3.95587,
          2.3709,
          3.27233,
          2.58919,
          2.00106,
          4.20691,
          0.10661,
          1.79777,
          0.42898,
          0,
          9.05042,
          0,
          0.62685,
          0.23401,
          0,
          0.66418
         ],
         "yaxis": "y"
        },
        {
         "customdata": [
          [
           "ESP",
           "BCN-02_1",
           "female",
           "adult"
          ],
          [
           "ESP",
           "BCN-03_1",
           "female",
           "senior"
          ],
          [
           "ESP",
           "BCN-09_1",
           "female",
           "adult"
          ],
          [
           "ESP",
           "BCN-10_1",
           "female",
           "adult"
          ],
          [
           "ESP",
           "BCN-11_1",
           "female",
           "senior"
          ],
          [
           "ESP",
           "BCN-12_1",
           "female",
           "senior"
          ],
          [
           "GBR",
           "PRIMM0001",
           "female",
           "adult"
          ],
          [
           "GBR",
           "PRIMM0005",
           "female",
           "adult"
          ],
          [
           "GBR",
           "PRIMM0007",
           "female",
           "adult"
          ],
          [
           "GBR",
           "PRIMM0013",
           "female",
           "senior"
          ],
          [
           "GBR",
           "PRIMM0032",
           "female",
           "senior"
          ],
          [
           "GBR",
           "PRIMM0050",
           "female",
           "adult"
          ],
          [
           "GBR",
           "PRIMM0062",
           "female",
           "adult"
          ],
          [
           "GBR",
           "PRIMM0064",
           "female",
           "adult"
          ],
          [
           "GBR",
           "PRIMM0078",
           "female",
           "adult"
          ],
          [
           "GBR",
           "PRIMM0087",
           "female",
           "adult"
          ],
          [
           "GBR",
           "PRIMM0091",
           "female",
           "senior"
          ],
          [
           "GBR",
           "PRIMM0094",
           "female",
           "senior"
          ],
          [
           "GBR",
           "PRIMM0109",
           "female",
           "senior"
          ],
          [
           "GBR",
           "PRIMM0111",
           "female",
           "adult"
          ],
          [
           "GBR",
           "PRIMM0113",
           "female",
           "senior"
          ],
          [
           "GBR",
           "PRIMM0129",
           "female",
           "senior"
          ],
          [
           "GBR",
           "PRIMM0168",
           "female",
           "adult"
          ],
          [
           "GBR",
           "PRIMM0181",
           "female",
           "adult"
          ],
          [
           "GBR",
           "PRIMM0201",
           "female",
           "senior"
          ],
          [
           "GBR",
           "PRIMM0204",
           "female",
           "senior"
          ],
          [
           "GBR",
           "PRIMM0219",
           "female",
           "senior"
          ],
          [
           "GBR",
           "PRIMM0240",
           "female",
           "senior"
          ],
          [
           "GBR",
           "PRIMM0242",
           "female",
           "adult"
          ],
          [
           "GBR",
           "PRIMM0256",
           "female",
           "adult"
          ],
          [
           "GBR",
           "PRIMM0264",
           "female",
           "senior"
          ],
          [
           "GBR",
           "PRIMM0281",
           "female",
           "senior"
          ],
          [
           "NLD",
           "PRIMM0325",
           "female",
           "senior"
          ],
          [
           "NLD",
           "PRIMM0328",
           "female",
           "adult"
          ],
          [
           "NLD",
           "PRIMM0331",
           "female",
           "adult"
          ],
          [
           "NLD",
           "PRIMM0353",
           "female",
           "senior"
          ],
          [
           "NLD",
           "PRIMM0357",
           "female",
           "adult"
          ],
          [
           "NLD",
           "PRIMM0378",
           "female",
           "senior"
          ],
          [
           "NLD",
           "PRIMM0380",
           "female",
           "adult"
          ],
          [
           "NLD",
           "PRIMM0383",
           "female",
           "adult"
          ],
          [
           "NLD",
           "PRIMM0391",
           "female",
           "adult"
          ],
          [
           "NLD",
           "PRIMM0399",
           "female",
           "adult"
          ],
          [
           "NLD",
           "PRIMM0411",
           "female",
           "adult"
          ],
          [
           "NLD",
           "PRIMM0421",
           "female",
           "adult"
          ],
          [
           "NLD",
           "PRIMM0422",
           "female",
           "adult"
          ],
          [
           "NLD",
           "PRIMM0423",
           "female",
           "adult"
          ],
          [
           "NLD",
           "PRIMM0434",
           "female",
           "senior"
          ],
          [
           "NLD",
           "PRIMM0445",
           "female",
           "adult"
          ],
          [
           "NLD",
           "PRIMM0447",
           "female",
           "adult"
          ],
          [
           "NLD",
           "PRIMM0455",
           "female",
           "adult"
          ],
          [
           "NLD",
           "PRIMM0460",
           "female",
           "adult"
          ],
          [
           "NLD",
           "PRIMM0473",
           "female",
           "adult"
          ],
          [
           "NLD",
           "PRIMM0475",
           "female",
           "adult"
          ],
          [
           "NLD",
           "PRIMM0513",
           "female",
           "adult"
          ],
          [
           "NLD",
           "PRIMM0525",
           "female",
           "senior"
          ],
          [
           "NLD",
           "PRIMM0536",
           "female",
           "adult"
          ],
          [
           "GBR",
           "PRIMM0541",
           "female",
           "adult"
          ],
          [
           "GBR",
           "PRIMM0549",
           "female",
           "senior"
          ],
          [
           "GBR",
           "PRIMM0557",
           "female",
           "adult"
          ],
          [
           "GBR",
           "PRIMM0559",
           "female",
           "senior"
          ],
          [
           "GBR",
           "PRIMM0561",
           "female",
           "adult"
          ],
          [
           "GBR",
           "PRIMM0563",
           "female",
           "adult"
          ],
          [
           "GBR",
           "PRIMM0573",
           "female",
           "adult"
          ],
          [
           "GBR",
           "PRIMM0589",
           "female",
           "adult"
          ],
          [
           "GBR",
           "PRIMM0611",
           "female",
           "adult"
          ]
         ],
         "hovertemplate": "gender=%{customdata[2]}<br>BMI=%{x}<br>Dorea_longicatena=%{y}<br>country=%{customdata[0]}<br>subject_id=%{customdata[1]}<br>age_category=%{customdata[3]}<extra></extra>",
         "legendgroup": "female",
         "marker": {
          "color": "#EF553B",
          "symbol": "circle"
         },
         "mode": "markers",
         "name": "female",
         "orientation": "v",
         "showlegend": true,
         "type": "scatter",
         "x": [
          27.35457064,
          22.0603538,
          22.8515625,
          20.9566075,
          28.46036374,
          24.16171225,
          25.92419951,
          20.72432543,
          22.95432524,
          25.74394464,
          31.40522352,
          39.40621751,
          23.8697204,
          37.02479339,
          29.9597275,
          18.83437364,
          36.19875019,
          20.82093992,
          33.95061728,
          23.19620659,
          29.2358582,
          25.84648258,
          27.76342975,
          22.03856749,
          29.13631634,
          24.62222222,
          29.07495538,
          21.23057202,
          24.30461788,
          21.56454491,
          26.44628099,
          29.6875,
          31.25,
          29.41176471,
          19.91836735,
          30.86419753,
          null,
          24.67702134,
          33.94930751,
          31.83391003,
          21.4532872,
          24.96494648,
          25.99090318,
          38.19632234,
          18.77834467,
          37.57762747,
          27.76979795,
          24.65590962,
          26.61934339,
          29.40759637,
          33.15043439,
          null,
          32.07591299,
          27.39817568,
          26.42356982,
          31.97501487,
          26.76977989,
          38.57875854,
          26.0261749,
          29.24210864,
          38.0078167,
          21.60410478,
          20.90419501,
          19.1953028,
          27.16140697
         ],
         "xaxis": "x",
         "y": [
          0.65825,
          0.03822,
          0.00531,
          0.76814,
          0.00512,
          0.0654,
          0.76546,
          0,
          0.79283,
          0,
          1.5069,
          1.64612,
          4.19414,
          0,
          0,
          0,
          1.42843,
          1.47758,
          11.9872,
          3.42982,
          2.74001,
          4.07329,
          0,
          2.92005,
          0.38897,
          1.03818,
          0,
          0,
          0.17674,
          1.19438,
          0,
          0,
          0,
          4.96548,
          0,
          0.97735,
          0,
          9.85735,
          10.38389,
          0.01458,
          1.52141,
          6.96724,
          4.181,
          1.02664,
          0,
          3.4993,
          0.28922,
          3.82992,
          0.03006,
          0,
          1.70123,
          1.01115,
          1.60794,
          1.22067,
          0.13598,
          1.27713,
          1.87945,
          4.55326,
          3.59762,
          4.7725,
          1.4144,
          1.07653,
          2.53146,
          8.68998,
          0.92254
         ],
         "yaxis": "y"
        }
       ],
       "layout": {
        "legend": {
         "title": {
          "text": "gender"
         },
         "tracegroupgap": 0
        },
        "margin": {
         "t": 60
        },
        "template": {
         "data": {
          "bar": [
           {
            "error_x": {
             "color": "#2a3f5f"
            },
            "error_y": {
             "color": "#2a3f5f"
            },
            "marker": {
             "line": {
              "color": "#E5ECF6",
              "width": 0.5
             },
             "pattern": {
              "fillmode": "overlay",
              "size": 10,
              "solidity": 0.2
             }
            },
            "type": "bar"
           }
          ],
          "barpolar": [
           {
            "marker": {
             "line": {
              "color": "#E5ECF6",
              "width": 0.5
             },
             "pattern": {
              "fillmode": "overlay",
              "size": 10,
              "solidity": 0.2
             }
            },
            "type": "barpolar"
           }
          ],
          "carpet": [
           {
            "aaxis": {
             "endlinecolor": "#2a3f5f",
             "gridcolor": "white",
             "linecolor": "white",
             "minorgridcolor": "white",
             "startlinecolor": "#2a3f5f"
            },
            "baxis": {
             "endlinecolor": "#2a3f5f",
             "gridcolor": "white",
             "linecolor": "white",
             "minorgridcolor": "white",
             "startlinecolor": "#2a3f5f"
            },
            "type": "carpet"
           }
          ],
          "choropleth": [
           {
            "colorbar": {
             "outlinewidth": 0,
             "ticks": ""
            },
            "type": "choropleth"
           }
          ],
          "contour": [
           {
            "colorbar": {
             "outlinewidth": 0,
             "ticks": ""
            },
            "colorscale": [
             [
              0,
              "#0d0887"
             ],
             [
              0.1111111111111111,
              "#46039f"
             ],
             [
              0.2222222222222222,
              "#7201a8"
             ],
             [
              0.3333333333333333,
              "#9c179e"
             ],
             [
              0.4444444444444444,
              "#bd3786"
             ],
             [
              0.5555555555555556,
              "#d8576b"
             ],
             [
              0.6666666666666666,
              "#ed7953"
             ],
             [
              0.7777777777777778,
              "#fb9f3a"
             ],
             [
              0.8888888888888888,
              "#fdca26"
             ],
             [
              1,
              "#f0f921"
             ]
            ],
            "type": "contour"
           }
          ],
          "contourcarpet": [
           {
            "colorbar": {
             "outlinewidth": 0,
             "ticks": ""
            },
            "type": "contourcarpet"
           }
          ],
          "heatmap": [
           {
            "colorbar": {
             "outlinewidth": 0,
             "ticks": ""
            },
            "colorscale": [
             [
              0,
              "#0d0887"
             ],
             [
              0.1111111111111111,
              "#46039f"
             ],
             [
              0.2222222222222222,
              "#7201a8"
             ],
             [
              0.3333333333333333,
              "#9c179e"
             ],
             [
              0.4444444444444444,
              "#bd3786"
             ],
             [
              0.5555555555555556,
              "#d8576b"
             ],
             [
              0.6666666666666666,
              "#ed7953"
             ],
             [
              0.7777777777777778,
              "#fb9f3a"
             ],
             [
              0.8888888888888888,
              "#fdca26"
             ],
             [
              1,
              "#f0f921"
             ]
            ],
            "type": "heatmap"
           }
          ],
          "heatmapgl": [
           {
            "colorbar": {
             "outlinewidth": 0,
             "ticks": ""
            },
            "colorscale": [
             [
              0,
              "#0d0887"
             ],
             [
              0.1111111111111111,
              "#46039f"
             ],
             [
              0.2222222222222222,
              "#7201a8"
             ],
             [
              0.3333333333333333,
              "#9c179e"
             ],
             [
              0.4444444444444444,
              "#bd3786"
             ],
             [
              0.5555555555555556,
              "#d8576b"
             ],
             [
              0.6666666666666666,
              "#ed7953"
             ],
             [
              0.7777777777777778,
              "#fb9f3a"
             ],
             [
              0.8888888888888888,
              "#fdca26"
             ],
             [
              1,
              "#f0f921"
             ]
            ],
            "type": "heatmapgl"
           }
          ],
          "histogram": [
           {
            "marker": {
             "pattern": {
              "fillmode": "overlay",
              "size": 10,
              "solidity": 0.2
             }
            },
            "type": "histogram"
           }
          ],
          "histogram2d": [
           {
            "colorbar": {
             "outlinewidth": 0,
             "ticks": ""
            },
            "colorscale": [
             [
              0,
              "#0d0887"
             ],
             [
              0.1111111111111111,
              "#46039f"
             ],
             [
              0.2222222222222222,
              "#7201a8"
             ],
             [
              0.3333333333333333,
              "#9c179e"
             ],
             [
              0.4444444444444444,
              "#bd3786"
             ],
             [
              0.5555555555555556,
              "#d8576b"
             ],
             [
              0.6666666666666666,
              "#ed7953"
             ],
             [
              0.7777777777777778,
              "#fb9f3a"
             ],
             [
              0.8888888888888888,
              "#fdca26"
             ],
             [
              1,
              "#f0f921"
             ]
            ],
            "type": "histogram2d"
           }
          ],
          "histogram2dcontour": [
           {
            "colorbar": {
             "outlinewidth": 0,
             "ticks": ""
            },
            "colorscale": [
             [
              0,
              "#0d0887"
             ],
             [
              0.1111111111111111,
              "#46039f"
             ],
             [
              0.2222222222222222,
              "#7201a8"
             ],
             [
              0.3333333333333333,
              "#9c179e"
             ],
             [
              0.4444444444444444,
              "#bd3786"
             ],
             [
              0.5555555555555556,
              "#d8576b"
             ],
             [
              0.6666666666666666,
              "#ed7953"
             ],
             [
              0.7777777777777778,
              "#fb9f3a"
             ],
             [
              0.8888888888888888,
              "#fdca26"
             ],
             [
              1,
              "#f0f921"
             ]
            ],
            "type": "histogram2dcontour"
           }
          ],
          "mesh3d": [
           {
            "colorbar": {
             "outlinewidth": 0,
             "ticks": ""
            },
            "type": "mesh3d"
           }
          ],
          "parcoords": [
           {
            "line": {
             "colorbar": {
              "outlinewidth": 0,
              "ticks": ""
             }
            },
            "type": "parcoords"
           }
          ],
          "pie": [
           {
            "automargin": true,
            "type": "pie"
           }
          ],
          "scatter": [
           {
            "fillpattern": {
             "fillmode": "overlay",
             "size": 10,
             "solidity": 0.2
            },
            "type": "scatter"
           }
          ],
          "scatter3d": [
           {
            "line": {
             "colorbar": {
              "outlinewidth": 0,
              "ticks": ""
             }
            },
            "marker": {
             "colorbar": {
              "outlinewidth": 0,
              "ticks": ""
             }
            },
            "type": "scatter3d"
           }
          ],
          "scattercarpet": [
           {
            "marker": {
             "colorbar": {
              "outlinewidth": 0,
              "ticks": ""
             }
            },
            "type": "scattercarpet"
           }
          ],
          "scattergeo": [
           {
            "marker": {
             "colorbar": {
              "outlinewidth": 0,
              "ticks": ""
             }
            },
            "type": "scattergeo"
           }
          ],
          "scattergl": [
           {
            "marker": {
             "colorbar": {
              "outlinewidth": 0,
              "ticks": ""
             }
            },
            "type": "scattergl"
           }
          ],
          "scattermapbox": [
           {
            "marker": {
             "colorbar": {
              "outlinewidth": 0,
              "ticks": ""
             }
            },
            "type": "scattermapbox"
           }
          ],
          "scatterpolar": [
           {
            "marker": {
             "colorbar": {
              "outlinewidth": 0,
              "ticks": ""
             }
            },
            "type": "scatterpolar"
           }
          ],
          "scatterpolargl": [
           {
            "marker": {
             "colorbar": {
              "outlinewidth": 0,
              "ticks": ""
             }
            },
            "type": "scatterpolargl"
           }
          ],
          "scatterternary": [
           {
            "marker": {
             "colorbar": {
              "outlinewidth": 0,
              "ticks": ""
             }
            },
            "type": "scatterternary"
           }
          ],
          "surface": [
           {
            "colorbar": {
             "outlinewidth": 0,
             "ticks": ""
            },
            "colorscale": [
             [
              0,
              "#0d0887"
             ],
             [
              0.1111111111111111,
              "#46039f"
             ],
             [
              0.2222222222222222,
              "#7201a8"
             ],
             [
              0.3333333333333333,
              "#9c179e"
             ],
             [
              0.4444444444444444,
              "#bd3786"
             ],
             [
              0.5555555555555556,
              "#d8576b"
             ],
             [
              0.6666666666666666,
              "#ed7953"
             ],
             [
              0.7777777777777778,
              "#fb9f3a"
             ],
             [
              0.8888888888888888,
              "#fdca26"
             ],
             [
              1,
              "#f0f921"
             ]
            ],
            "type": "surface"
           }
          ],
          "table": [
           {
            "cells": {
             "fill": {
              "color": "#EBF0F8"
             },
             "line": {
              "color": "white"
             }
            },
            "header": {
             "fill": {
              "color": "#C8D4E3"
             },
             "line": {
              "color": "white"
             }
            },
            "type": "table"
           }
          ]
         },
         "layout": {
          "annotationdefaults": {
           "arrowcolor": "#2a3f5f",
           "arrowhead": 0,
           "arrowwidth": 1
          },
          "autotypenumbers": "strict",
          "coloraxis": {
           "colorbar": {
            "outlinewidth": 0,
            "ticks": ""
           }
          },
          "colorscale": {
           "diverging": [
            [
             0,
             "#8e0152"
            ],
            [
             0.1,
             "#c51b7d"
            ],
            [
             0.2,
             "#de77ae"
            ],
            [
             0.3,
             "#f1b6da"
            ],
            [
             0.4,
             "#fde0ef"
            ],
            [
             0.5,
             "#f7f7f7"
            ],
            [
             0.6,
             "#e6f5d0"
            ],
            [
             0.7,
             "#b8e186"
            ],
            [
             0.8,
             "#7fbc41"
            ],
            [
             0.9,
             "#4d9221"
            ],
            [
             1,
             "#276419"
            ]
           ],
           "sequential": [
            [
             0,
             "#0d0887"
            ],
            [
             0.1111111111111111,
             "#46039f"
            ],
            [
             0.2222222222222222,
             "#7201a8"
            ],
            [
             0.3333333333333333,
             "#9c179e"
            ],
            [
             0.4444444444444444,
             "#bd3786"
            ],
            [
             0.5555555555555556,
             "#d8576b"
            ],
            [
             0.6666666666666666,
             "#ed7953"
            ],
            [
             0.7777777777777778,
             "#fb9f3a"
            ],
            [
             0.8888888888888888,
             "#fdca26"
            ],
            [
             1,
             "#f0f921"
            ]
           ],
           "sequentialminus": [
            [
             0,
             "#0d0887"
            ],
            [
             0.1111111111111111,
             "#46039f"
            ],
            [
             0.2222222222222222,
             "#7201a8"
            ],
            [
             0.3333333333333333,
             "#9c179e"
            ],
            [
             0.4444444444444444,
             "#bd3786"
            ],
            [
             0.5555555555555556,
             "#d8576b"
            ],
            [
             0.6666666666666666,
             "#ed7953"
            ],
            [
             0.7777777777777778,
             "#fb9f3a"
            ],
            [
             0.8888888888888888,
             "#fdca26"
            ],
            [
             1,
             "#f0f921"
            ]
           ]
          },
          "colorway": [
           "#636efa",
           "#EF553B",
           "#00cc96",
           "#ab63fa",
           "#FFA15A",
           "#19d3f3",
           "#FF6692",
           "#B6E880",
           "#FF97FF",
           "#FECB52"
          ],
          "font": {
           "color": "#2a3f5f"
          },
          "geo": {
           "bgcolor": "white",
           "lakecolor": "white",
           "landcolor": "#E5ECF6",
           "showlakes": true,
           "showland": true,
           "subunitcolor": "white"
          },
          "hoverlabel": {
           "align": "left"
          },
          "hovermode": "closest",
          "mapbox": {
           "style": "light"
          },
          "paper_bgcolor": "white",
          "plot_bgcolor": "#E5ECF6",
          "polar": {
           "angularaxis": {
            "gridcolor": "white",
            "linecolor": "white",
            "ticks": ""
           },
           "bgcolor": "#E5ECF6",
           "radialaxis": {
            "gridcolor": "white",
            "linecolor": "white",
            "ticks": ""
           }
          },
          "scene": {
           "xaxis": {
            "backgroundcolor": "#E5ECF6",
            "gridcolor": "white",
            "gridwidth": 2,
            "linecolor": "white",
            "showbackground": true,
            "ticks": "",
            "zerolinecolor": "white"
           },
           "yaxis": {
            "backgroundcolor": "#E5ECF6",
            "gridcolor": "white",
            "gridwidth": 2,
            "linecolor": "white",
            "showbackground": true,
            "ticks": "",
            "zerolinecolor": "white"
           },
           "zaxis": {
            "backgroundcolor": "#E5ECF6",
            "gridcolor": "white",
            "gridwidth": 2,
            "linecolor": "white",
            "showbackground": true,
            "ticks": "",
            "zerolinecolor": "white"
           }
          },
          "shapedefaults": {
           "line": {
            "color": "#2a3f5f"
           }
          },
          "ternary": {
           "aaxis": {
            "gridcolor": "white",
            "linecolor": "white",
            "ticks": ""
           },
           "baxis": {
            "gridcolor": "white",
            "linecolor": "white",
            "ticks": ""
           },
           "bgcolor": "#E5ECF6",
           "caxis": {
            "gridcolor": "white",
            "linecolor": "white",
            "ticks": ""
           }
          },
          "title": {
           "x": 0.05
          },
          "xaxis": {
           "automargin": true,
           "gridcolor": "white",
           "linecolor": "white",
           "ticks": "",
           "title": {
            "standoff": 15
           },
           "zerolinecolor": "white",
           "zerolinewidth": 2
          },
          "yaxis": {
           "automargin": true,
           "gridcolor": "white",
           "linecolor": "white",
           "ticks": "",
           "title": {
            "standoff": 15
           },
           "zerolinecolor": "white",
           "zerolinewidth": 2
          }
         }
        },
        "xaxis": {
         "anchor": "y",
         "domain": [
          0,
          1
         ],
         "title": {
          "text": "BMI"
         }
        },
        "yaxis": {
         "anchor": "x",
         "domain": [
          0,
          1
         ],
         "title": {
          "text": "Dorea_longicatena"
         }
        }
       }
      },
      "text/html": [
       "<div>                            <div id=\"5a7ca849-d093-4a8b-8187-c204b9a8e3ce\" class=\"plotly-graph-div\" style=\"height:525px; width:100%;\"></div>            <script type=\"text/javascript\">                require([\"plotly\"], function(Plotly) {                    window.PLOTLYENV=window.PLOTLYENV || {};                                    if (document.getElementById(\"5a7ca849-d093-4a8b-8187-c204b9a8e3ce\")) {                    Plotly.newPlot(                        \"5a7ca849-d093-4a8b-8187-c204b9a8e3ce\",                        [{\"customdata\":[[\"ESP\",\"BCN-01_1\",\"male\",\"adult\"],[\"ESP\",\"BCN-04_1\",\"male\",\"adult\"],[\"ESP\",\"BCN-05_1\",\"male\",\"senior\"],[\"ESP\",\"BCN-06_1\",\"male\",\"adult\"],[\"ESP\",\"BCN-07_1\",\"male\",\"senior\"],[\"ESP\",\"BCN-08_1\",\"male\",\"senior\"],[\"GBR\",\"PRIMM0002\",\"male\",\"senior\"],[\"GBR\",\"PRIMM0003\",\"male\",\"senior\"],[\"GBR\",\"PRIMM0004\",\"male\",\"adult\"],[\"GBR\",\"PRIMM0008\",\"male\",\"senior\"],[\"GBR\",\"PRIMM0017\",\"male\",\"adult\"],[\"GBR\",\"PRIMM0029\",\"male\",\"senior\"],[\"GBR\",\"PRIMM0030\",\"male\",\"adult\"],[\"GBR\",\"PRIMM0035\",\"male\",\"senior\"],[\"GBR\",\"PRIMM0044\",\"male\",\"adult\"],[\"GBR\",\"PRIMM0059\",\"male\",\"senior\"],[\"GBR\",\"PRIMM0060\",\"male\",\"senior\"],[\"GBR\",\"PRIMM0068\",\"male\",\"adult\"],[\"GBR\",\"PRIMM0069\",\"male\",\"adult\"],[\"GBR\",\"PRIMM0077\",\"male\",\"senior\"],[\"GBR\",\"PRIMM0079\",\"male\",\"senior\"],[\"GBR\",\"PRIMM0080\",\"male\",\"adult\"],[\"GBR\",\"PRIMM0088\",\"male\",\"senior\"],[\"GBR\",\"PRIMM0116\",\"male\",\"senior\"],[\"GBR\",\"PRIMM0117\",\"male\",\"senior\"],[\"GBR\",\"PRIMM0123\",\"male\",\"adult\"],[\"GBR\",\"PRIMM0137\",\"male\",\"senior\"],[\"GBR\",\"PRIMM0140\",\"male\",\"adult\"],[\"GBR\",\"PRIMM0143\",\"male\",\"adult\"],[\"GBR\",\"PRIMM0154\",\"male\",\"senior\"],[\"GBR\",\"PRIMM0155\",\"male\",\"senior\"],[\"GBR\",\"PRIMM0159\",\"male\",\"adult\"],[\"GBR\",\"PRIMM0162\",\"male\",\"adult\"],[\"GBR\",\"PRIMM0166\",\"male\",\"adult\"],[\"GBR\",\"PRIMM0171\",\"male\",\"adult\"],[\"GBR\",\"PRIMM0178\",\"male\",\"adult\"],[\"GBR\",\"PRIMM0193\",\"male\",\"adult\"],[\"GBR\",\"PRIMM0197\",\"male\",\"senior\"],[\"GBR\",\"PRIMM0199\",\"male\",\"senior\"],[\"GBR\",\"PRIMM0210\",\"male\",\"senior\"],[\"GBR\",\"PRIMM0215\",\"male\",\"senior\"],[\"GBR\",\"PRIMM0218\",\"male\",\"senior\"],[\"GBR\",\"PRIMM0220\",\"male\",\"adult\"],[\"GBR\",\"PRIMM0232\",\"male\",\"senior\"],[\"GBR\",\"PRIMM0234\",\"male\",\"adult\"],[\"GBR\",\"PRIMM0241\",\"male\",\"adult\"],[\"GBR\",\"PRIMM0261\",\"male\",\"adult\"],[\"GBR\",\"PRIMM0266\",\"male\",\"senior\"],[\"GBR\",\"PRIMM0271\",\"male\",\"senior\"],[\"GBR\",\"PRIMM0276\",\"male\",\"adult\"],[\"GBR\",\"PRIMM0278\",\"male\",\"adult\"],[\"NLD\",\"PRIMM0287\",\"male\",\"senior\"],[\"NLD\",\"PRIMM0300\",\"male\",\"adult\"],[\"NLD\",\"PRIMM0301\",\"male\",\"senior\"],[\"NLD\",\"PRIMM0308\",\"male\",\"adult\"],[\"NLD\",\"PRIMM0310\",\"male\",\"senior\"],[\"NLD\",\"PRIMM0352\",\"male\",\"senior\"],[\"NLD\",\"PRIMM0354\",\"male\",\"senior\"],[\"NLD\",\"PRIMM0361\",\"male\",\"adult\"],[\"GBR\",\"PRIMM0365\",\"male\",\"senior\"],[\"NLD\",\"PRIMM0381\",\"male\",\"adult\"],[\"NLD\",\"PRIMM0386\",\"male\",\"adult\"],[\"NLD\",\"PRIMM0387\",\"male\",\"adult\"],[\"NLD\",\"PRIMM0394\",\"male\",\"senior\"],[\"NLD\",\"PRIMM0398\",\"male\",\"senior\"],[\"NLD\",\"PRIMM0403\",\"male\",\"adult\"],[\"NLD\",\"PRIMM0404\",\"male\",\"adult\"],[\"NLD\",\"PRIMM0417\",\"male\",\"senior\"],[\"NLD\",\"PRIMM0424\",\"male\",\"adult\"],[\"NLD\",\"PRIMM0426\",\"male\",\"adult\"],[\"NLD\",\"PRIMM0427\",\"male\",\"senior\"],[\"NLD\",\"PRIMM0435\",\"male\",\"senior\"],[\"NLD\",\"PRIMM0461\",\"male\",\"adult\"],[\"NLD\",\"PRIMM0467\",\"male\",\"adult\"],[\"NLD\",\"PRIMM0474\",\"male\",\"senior\"],[\"NLD\",\"PRIMM0477\",\"male\",\"adult\"],[\"NLD\",\"PRIMM0483\",\"male\",\"senior\"],[\"NLD\",\"PRIMM0498\",\"male\",\"senior\"],[\"NLD\",\"PRIMM0511\",\"male\",\"senior\"],[\"NLD\",\"PRIMM0516\",\"male\",\"senior\"],[\"NLD\",\"PRIMM0521\",\"male\",\"senior\"],[\"NLD\",\"PRIMM0526\",\"male\",\"adult\"],[\"NLD\",\"PRIMM0532\",\"male\",\"adult\"],[\"GBR\",\"PRIMM0543\",\"male\",\"adult\"],[\"GBR\",\"PRIMM0544\",\"male\",\"senior\"],[\"GBR\",\"PRIMM0546\",\"male\",\"senior\"],[\"GBR\",\"PRIMM0551\",\"male\",\"senior\"],[\"GBR\",\"PRIMM0565\",\"male\",\"adult\"],[\"GBR\",\"PRIMM0567\",\"male\",\"adult\"],[\"GBR\",\"PRIMM0569\",\"male\",\"senior\"],[\"GBR\",\"PRIMM0571\",\"male\",\"adult\"],[\"GBR\",\"PRIMM0575\",\"male\",\"adult\"],[\"GBR\",\"PRIMM0576\",\"male\",\"adult\"],[\"GBR\",\"PRIMM0578\",\"male\",\"senior\"],[\"GBR\",\"PRIMM0590\",\"male\",\"senior\"],[\"GBR\",\"PRIMM0594\",\"male\",\"adult\"],[\"GBR\",\"PRIMM0597\",\"male\",\"senior\"],[\"GBR\",\"PRIMM0601\",\"male\",\"senior\"],[\"GBR\",\"PRIMM0602\",\"male\",\"adult\"],[\"GBR\",\"PRIMM0610\",\"male\",\"adult\"]],\"hovertemplate\":\"gender=%{customdata[2]}<br>BMI=%{x}<br>Dorea_longicatena=%{y}<br>country=%{customdata[0]}<br>subject_id=%{customdata[1]}<br>age_category=%{customdata[3]}<extra></extra>\",\"legendgroup\":\"male\",\"marker\":{\"color\":\"#636efa\",\"symbol\":\"circle\"},\"mode\":\"markers\",\"name\":\"male\",\"orientation\":\"v\",\"showlegend\":true,\"x\":[28.7132112,30.35032952,36.07947745,31.37798917,26.171875,null,27.77777778,29.52111838,31.83495338,27.86594941,47.65812397,36.16967555,26.27471384,34.0410284,21.79106405,28.15530042,28.76420455,32.34477974,32.60475788,24.29943171,23.63969196,31.28092183,27.55789225,32.66520851,29.05328798,29.11894136,28.9007795,33.79017735,34.08660523,24.70554438,28.31024931,24.22857143,28.44137397,23.97053496,28.72737719,24.65590962,28.18457265,null,28.37821519,35.81314879,22.47658689,26.14927686,18.99198825,28.62879239,29.96161169,27.0,33.80205516,24.22145329,29.3877551,33.21799308,25.05736022,25.66115203,null,null,null,null,19.52311537,37.34721593,21.84700852,22.8206756,22.40878677,21.6066482,32.14024836,24.17897757,24.96800974,24.30248706,25.45111384,25.46938776,24.76756592,27.13141179,25.43646664,26.52851035,28.06891815,29.3523545,28.90507573,29.04657027,29.06122449,null,null,27.45982194,27.17063157,26.88172043,40.74074074,23.56663223,25.0,32.0,32.03857841,24.53512397,34.06360931,28.40111108,23.05456246,33.89721074,26.5,28.08641975,33.85577144,30.81648831,27.76465028,29.11542185,24.89117868,34.68627699],\"xaxis\":\"x\",\"y\":[0.07567,0.82328,0.09959,0.20807,0.03759,0.26584,4.93456,0.62757,3.28901,0.82327,14.13748,0.57174,1.6654,0.00043,0.10834,0.68895,0.00338,2.51907,1.34824,1.28352,0.40152,2.28552,0.21804,3.45777,3.52915,0.0,0.81788,0.83639,0.0,0.96465,0.1095,2.89223,1.06333,2.61281,0.00948,2.58002,0.99602,0.42283,1.93779,2.9013,1.47973,1.6909,0.23847,2.10952,1.21302,0.24972,0.73054,0.15299,0.56875,0.0,1.37289,0.96626,0.93774,0.86707,0.5409,1.28433,1.41117,1.09252,0.1595,1.73927,1.16107,0.12242,2.80733,1.79758,0.92461,1.31027,1.13263,0.00248,0.0,0.10993,0.23648,0.3379,1.45681,0.69088,3.95981,0.64201,8.34227,1.39839,2.68694,9.30414,2.02726,2.86798,2.55587,2.62214,3.95587,2.3709,3.27233,2.58919,2.00106,4.20691,0.10661,1.79777,0.42898,0.0,9.05042,0.0,0.62685,0.23401,0.0,0.66418],\"yaxis\":\"y\",\"type\":\"scatter\"},{\"customdata\":[[\"ESP\",\"BCN-02_1\",\"female\",\"adult\"],[\"ESP\",\"BCN-03_1\",\"female\",\"senior\"],[\"ESP\",\"BCN-09_1\",\"female\",\"adult\"],[\"ESP\",\"BCN-10_1\",\"female\",\"adult\"],[\"ESP\",\"BCN-11_1\",\"female\",\"senior\"],[\"ESP\",\"BCN-12_1\",\"female\",\"senior\"],[\"GBR\",\"PRIMM0001\",\"female\",\"adult\"],[\"GBR\",\"PRIMM0005\",\"female\",\"adult\"],[\"GBR\",\"PRIMM0007\",\"female\",\"adult\"],[\"GBR\",\"PRIMM0013\",\"female\",\"senior\"],[\"GBR\",\"PRIMM0032\",\"female\",\"senior\"],[\"GBR\",\"PRIMM0050\",\"female\",\"adult\"],[\"GBR\",\"PRIMM0062\",\"female\",\"adult\"],[\"GBR\",\"PRIMM0064\",\"female\",\"adult\"],[\"GBR\",\"PRIMM0078\",\"female\",\"adult\"],[\"GBR\",\"PRIMM0087\",\"female\",\"adult\"],[\"GBR\",\"PRIMM0091\",\"female\",\"senior\"],[\"GBR\",\"PRIMM0094\",\"female\",\"senior\"],[\"GBR\",\"PRIMM0109\",\"female\",\"senior\"],[\"GBR\",\"PRIMM0111\",\"female\",\"adult\"],[\"GBR\",\"PRIMM0113\",\"female\",\"senior\"],[\"GBR\",\"PRIMM0129\",\"female\",\"senior\"],[\"GBR\",\"PRIMM0168\",\"female\",\"adult\"],[\"GBR\",\"PRIMM0181\",\"female\",\"adult\"],[\"GBR\",\"PRIMM0201\",\"female\",\"senior\"],[\"GBR\",\"PRIMM0204\",\"female\",\"senior\"],[\"GBR\",\"PRIMM0219\",\"female\",\"senior\"],[\"GBR\",\"PRIMM0240\",\"female\",\"senior\"],[\"GBR\",\"PRIMM0242\",\"female\",\"adult\"],[\"GBR\",\"PRIMM0256\",\"female\",\"adult\"],[\"GBR\",\"PRIMM0264\",\"female\",\"senior\"],[\"GBR\",\"PRIMM0281\",\"female\",\"senior\"],[\"NLD\",\"PRIMM0325\",\"female\",\"senior\"],[\"NLD\",\"PRIMM0328\",\"female\",\"adult\"],[\"NLD\",\"PRIMM0331\",\"female\",\"adult\"],[\"NLD\",\"PRIMM0353\",\"female\",\"senior\"],[\"NLD\",\"PRIMM0357\",\"female\",\"adult\"],[\"NLD\",\"PRIMM0378\",\"female\",\"senior\"],[\"NLD\",\"PRIMM0380\",\"female\",\"adult\"],[\"NLD\",\"PRIMM0383\",\"female\",\"adult\"],[\"NLD\",\"PRIMM0391\",\"female\",\"adult\"],[\"NLD\",\"PRIMM0399\",\"female\",\"adult\"],[\"NLD\",\"PRIMM0411\",\"female\",\"adult\"],[\"NLD\",\"PRIMM0421\",\"female\",\"adult\"],[\"NLD\",\"PRIMM0422\",\"female\",\"adult\"],[\"NLD\",\"PRIMM0423\",\"female\",\"adult\"],[\"NLD\",\"PRIMM0434\",\"female\",\"senior\"],[\"NLD\",\"PRIMM0445\",\"female\",\"adult\"],[\"NLD\",\"PRIMM0447\",\"female\",\"adult\"],[\"NLD\",\"PRIMM0455\",\"female\",\"adult\"],[\"NLD\",\"PRIMM0460\",\"female\",\"adult\"],[\"NLD\",\"PRIMM0473\",\"female\",\"adult\"],[\"NLD\",\"PRIMM0475\",\"female\",\"adult\"],[\"NLD\",\"PRIMM0513\",\"female\",\"adult\"],[\"NLD\",\"PRIMM0525\",\"female\",\"senior\"],[\"NLD\",\"PRIMM0536\",\"female\",\"adult\"],[\"GBR\",\"PRIMM0541\",\"female\",\"adult\"],[\"GBR\",\"PRIMM0549\",\"female\",\"senior\"],[\"GBR\",\"PRIMM0557\",\"female\",\"adult\"],[\"GBR\",\"PRIMM0559\",\"female\",\"senior\"],[\"GBR\",\"PRIMM0561\",\"female\",\"adult\"],[\"GBR\",\"PRIMM0563\",\"female\",\"adult\"],[\"GBR\",\"PRIMM0573\",\"female\",\"adult\"],[\"GBR\",\"PRIMM0589\",\"female\",\"adult\"],[\"GBR\",\"PRIMM0611\",\"female\",\"adult\"]],\"hovertemplate\":\"gender=%{customdata[2]}<br>BMI=%{x}<br>Dorea_longicatena=%{y}<br>country=%{customdata[0]}<br>subject_id=%{customdata[1]}<br>age_category=%{customdata[3]}<extra></extra>\",\"legendgroup\":\"female\",\"marker\":{\"color\":\"#EF553B\",\"symbol\":\"circle\"},\"mode\":\"markers\",\"name\":\"female\",\"orientation\":\"v\",\"showlegend\":true,\"x\":[27.35457064,22.0603538,22.8515625,20.9566075,28.46036374,24.16171225,25.92419951,20.72432543,22.95432524,25.74394464,31.40522352,39.40621751,23.8697204,37.02479339,29.9597275,18.83437364,36.19875019,20.82093992,33.95061728,23.19620659,29.2358582,25.84648258,27.76342975,22.03856749,29.13631634,24.62222222,29.07495538,21.23057202,24.30461788,21.56454491,26.44628099,29.6875,31.25,29.41176471,19.91836735,30.86419753,null,24.67702134,33.94930751,31.83391003,21.4532872,24.96494648,25.99090318,38.19632234,18.77834467,37.57762747,27.76979795,24.65590962,26.61934339,29.40759637,33.15043439,null,32.07591299,27.39817568,26.42356982,31.97501487,26.76977989,38.57875854,26.0261749,29.24210864,38.0078167,21.60410478,20.90419501,19.1953028,27.16140697],\"xaxis\":\"x\",\"y\":[0.65825,0.03822,0.00531,0.76814,0.00512,0.0654,0.76546,0.0,0.79283,0.0,1.5069,1.64612,4.19414,0.0,0.0,0.0,1.42843,1.47758,11.9872,3.42982,2.74001,4.07329,0.0,2.92005,0.38897,1.03818,0.0,0.0,0.17674,1.19438,0.0,0.0,0.0,4.96548,0.0,0.97735,0.0,9.85735,10.38389,0.01458,1.52141,6.96724,4.181,1.02664,0.0,3.4993,0.28922,3.82992,0.03006,0.0,1.70123,1.01115,1.60794,1.22067,0.13598,1.27713,1.87945,4.55326,3.59762,4.7725,1.4144,1.07653,2.53146,8.68998,0.92254],\"yaxis\":\"y\",\"type\":\"scatter\"}],                        {\"template\":{\"data\":{\"histogram2dcontour\":[{\"type\":\"histogram2dcontour\",\"colorbar\":{\"outlinewidth\":0,\"ticks\":\"\"},\"colorscale\":[[0.0,\"#0d0887\"],[0.1111111111111111,\"#46039f\"],[0.2222222222222222,\"#7201a8\"],[0.3333333333333333,\"#9c179e\"],[0.4444444444444444,\"#bd3786\"],[0.5555555555555556,\"#d8576b\"],[0.6666666666666666,\"#ed7953\"],[0.7777777777777778,\"#fb9f3a\"],[0.8888888888888888,\"#fdca26\"],[1.0,\"#f0f921\"]]}],\"choropleth\":[{\"type\":\"choropleth\",\"colorbar\":{\"outlinewidth\":0,\"ticks\":\"\"}}],\"histogram2d\":[{\"type\":\"histogram2d\",\"colorbar\":{\"outlinewidth\":0,\"ticks\":\"\"},\"colorscale\":[[0.0,\"#0d0887\"],[0.1111111111111111,\"#46039f\"],[0.2222222222222222,\"#7201a8\"],[0.3333333333333333,\"#9c179e\"],[0.4444444444444444,\"#bd3786\"],[0.5555555555555556,\"#d8576b\"],[0.6666666666666666,\"#ed7953\"],[0.7777777777777778,\"#fb9f3a\"],[0.8888888888888888,\"#fdca26\"],[1.0,\"#f0f921\"]]}],\"heatmap\":[{\"type\":\"heatmap\",\"colorbar\":{\"outlinewidth\":0,\"ticks\":\"\"},\"colorscale\":[[0.0,\"#0d0887\"],[0.1111111111111111,\"#46039f\"],[0.2222222222222222,\"#7201a8\"],[0.3333333333333333,\"#9c179e\"],[0.4444444444444444,\"#bd3786\"],[0.5555555555555556,\"#d8576b\"],[0.6666666666666666,\"#ed7953\"],[0.7777777777777778,\"#fb9f3a\"],[0.8888888888888888,\"#fdca26\"],[1.0,\"#f0f921\"]]}],\"heatmapgl\":[{\"type\":\"heatmapgl\",\"colorbar\":{\"outlinewidth\":0,\"ticks\":\"\"},\"colorscale\":[[0.0,\"#0d0887\"],[0.1111111111111111,\"#46039f\"],[0.2222222222222222,\"#7201a8\"],[0.3333333333333333,\"#9c179e\"],[0.4444444444444444,\"#bd3786\"],[0.5555555555555556,\"#d8576b\"],[0.6666666666666666,\"#ed7953\"],[0.7777777777777778,\"#fb9f3a\"],[0.8888888888888888,\"#fdca26\"],[1.0,\"#f0f921\"]]}],\"contourcarpet\":[{\"type\":\"contourcarpet\",\"colorbar\":{\"outlinewidth\":0,\"ticks\":\"\"}}],\"contour\":[{\"type\":\"contour\",\"colorbar\":{\"outlinewidth\":0,\"ticks\":\"\"},\"colorscale\":[[0.0,\"#0d0887\"],[0.1111111111111111,\"#46039f\"],[0.2222222222222222,\"#7201a8\"],[0.3333333333333333,\"#9c179e\"],[0.4444444444444444,\"#bd3786\"],[0.5555555555555556,\"#d8576b\"],[0.6666666666666666,\"#ed7953\"],[0.7777777777777778,\"#fb9f3a\"],[0.8888888888888888,\"#fdca26\"],[1.0,\"#f0f921\"]]}],\"surface\":[{\"type\":\"surface\",\"colorbar\":{\"outlinewidth\":0,\"ticks\":\"\"},\"colorscale\":[[0.0,\"#0d0887\"],[0.1111111111111111,\"#46039f\"],[0.2222222222222222,\"#7201a8\"],[0.3333333333333333,\"#9c179e\"],[0.4444444444444444,\"#bd3786\"],[0.5555555555555556,\"#d8576b\"],[0.6666666666666666,\"#ed7953\"],[0.7777777777777778,\"#fb9f3a\"],[0.8888888888888888,\"#fdca26\"],[1.0,\"#f0f921\"]]}],\"mesh3d\":[{\"type\":\"mesh3d\",\"colorbar\":{\"outlinewidth\":0,\"ticks\":\"\"}}],\"scatter\":[{\"fillpattern\":{\"fillmode\":\"overlay\",\"size\":10,\"solidity\":0.2},\"type\":\"scatter\"}],\"parcoords\":[{\"type\":\"parcoords\",\"line\":{\"colorbar\":{\"outlinewidth\":0,\"ticks\":\"\"}}}],\"scatterpolargl\":[{\"type\":\"scatterpolargl\",\"marker\":{\"colorbar\":{\"outlinewidth\":0,\"ticks\":\"\"}}}],\"bar\":[{\"error_x\":{\"color\":\"#2a3f5f\"},\"error_y\":{\"color\":\"#2a3f5f\"},\"marker\":{\"line\":{\"color\":\"#E5ECF6\",\"width\":0.5},\"pattern\":{\"fillmode\":\"overlay\",\"size\":10,\"solidity\":0.2}},\"type\":\"bar\"}],\"scattergeo\":[{\"type\":\"scattergeo\",\"marker\":{\"colorbar\":{\"outlinewidth\":0,\"ticks\":\"\"}}}],\"scatterpolar\":[{\"type\":\"scatterpolar\",\"marker\":{\"colorbar\":{\"outlinewidth\":0,\"ticks\":\"\"}}}],\"histogram\":[{\"marker\":{\"pattern\":{\"fillmode\":\"overlay\",\"size\":10,\"solidity\":0.2}},\"type\":\"histogram\"}],\"scattergl\":[{\"type\":\"scattergl\",\"marker\":{\"colorbar\":{\"outlinewidth\":0,\"ticks\":\"\"}}}],\"scatter3d\":[{\"type\":\"scatter3d\",\"line\":{\"colorbar\":{\"outlinewidth\":0,\"ticks\":\"\"}},\"marker\":{\"colorbar\":{\"outlinewidth\":0,\"ticks\":\"\"}}}],\"scattermapbox\":[{\"type\":\"scattermapbox\",\"marker\":{\"colorbar\":{\"outlinewidth\":0,\"ticks\":\"\"}}}],\"scatterternary\":[{\"type\":\"scatterternary\",\"marker\":{\"colorbar\":{\"outlinewidth\":0,\"ticks\":\"\"}}}],\"scattercarpet\":[{\"type\":\"scattercarpet\",\"marker\":{\"colorbar\":{\"outlinewidth\":0,\"ticks\":\"\"}}}],\"carpet\":[{\"aaxis\":{\"endlinecolor\":\"#2a3f5f\",\"gridcolor\":\"white\",\"linecolor\":\"white\",\"minorgridcolor\":\"white\",\"startlinecolor\":\"#2a3f5f\"},\"baxis\":{\"endlinecolor\":\"#2a3f5f\",\"gridcolor\":\"white\",\"linecolor\":\"white\",\"minorgridcolor\":\"white\",\"startlinecolor\":\"#2a3f5f\"},\"type\":\"carpet\"}],\"table\":[{\"cells\":{\"fill\":{\"color\":\"#EBF0F8\"},\"line\":{\"color\":\"white\"}},\"header\":{\"fill\":{\"color\":\"#C8D4E3\"},\"line\":{\"color\":\"white\"}},\"type\":\"table\"}],\"barpolar\":[{\"marker\":{\"line\":{\"color\":\"#E5ECF6\",\"width\":0.5},\"pattern\":{\"fillmode\":\"overlay\",\"size\":10,\"solidity\":0.2}},\"type\":\"barpolar\"}],\"pie\":[{\"automargin\":true,\"type\":\"pie\"}]},\"layout\":{\"autotypenumbers\":\"strict\",\"colorway\":[\"#636efa\",\"#EF553B\",\"#00cc96\",\"#ab63fa\",\"#FFA15A\",\"#19d3f3\",\"#FF6692\",\"#B6E880\",\"#FF97FF\",\"#FECB52\"],\"font\":{\"color\":\"#2a3f5f\"},\"hovermode\":\"closest\",\"hoverlabel\":{\"align\":\"left\"},\"paper_bgcolor\":\"white\",\"plot_bgcolor\":\"#E5ECF6\",\"polar\":{\"bgcolor\":\"#E5ECF6\",\"angularaxis\":{\"gridcolor\":\"white\",\"linecolor\":\"white\",\"ticks\":\"\"},\"radialaxis\":{\"gridcolor\":\"white\",\"linecolor\":\"white\",\"ticks\":\"\"}},\"ternary\":{\"bgcolor\":\"#E5ECF6\",\"aaxis\":{\"gridcolor\":\"white\",\"linecolor\":\"white\",\"ticks\":\"\"},\"baxis\":{\"gridcolor\":\"white\",\"linecolor\":\"white\",\"ticks\":\"\"},\"caxis\":{\"gridcolor\":\"white\",\"linecolor\":\"white\",\"ticks\":\"\"}},\"coloraxis\":{\"colorbar\":{\"outlinewidth\":0,\"ticks\":\"\"}},\"colorscale\":{\"sequential\":[[0.0,\"#0d0887\"],[0.1111111111111111,\"#46039f\"],[0.2222222222222222,\"#7201a8\"],[0.3333333333333333,\"#9c179e\"],[0.4444444444444444,\"#bd3786\"],[0.5555555555555556,\"#d8576b\"],[0.6666666666666666,\"#ed7953\"],[0.7777777777777778,\"#fb9f3a\"],[0.8888888888888888,\"#fdca26\"],[1.0,\"#f0f921\"]],\"sequentialminus\":[[0.0,\"#0d0887\"],[0.1111111111111111,\"#46039f\"],[0.2222222222222222,\"#7201a8\"],[0.3333333333333333,\"#9c179e\"],[0.4444444444444444,\"#bd3786\"],[0.5555555555555556,\"#d8576b\"],[0.6666666666666666,\"#ed7953\"],[0.7777777777777778,\"#fb9f3a\"],[0.8888888888888888,\"#fdca26\"],[1.0,\"#f0f921\"]],\"diverging\":[[0,\"#8e0152\"],[0.1,\"#c51b7d\"],[0.2,\"#de77ae\"],[0.3,\"#f1b6da\"],[0.4,\"#fde0ef\"],[0.5,\"#f7f7f7\"],[0.6,\"#e6f5d0\"],[0.7,\"#b8e186\"],[0.8,\"#7fbc41\"],[0.9,\"#4d9221\"],[1,\"#276419\"]]},\"xaxis\":{\"gridcolor\":\"white\",\"linecolor\":\"white\",\"ticks\":\"\",\"title\":{\"standoff\":15},\"zerolinecolor\":\"white\",\"automargin\":true,\"zerolinewidth\":2},\"yaxis\":{\"gridcolor\":\"white\",\"linecolor\":\"white\",\"ticks\":\"\",\"title\":{\"standoff\":15},\"zerolinecolor\":\"white\",\"automargin\":true,\"zerolinewidth\":2},\"scene\":{\"xaxis\":{\"backgroundcolor\":\"#E5ECF6\",\"gridcolor\":\"white\",\"linecolor\":\"white\",\"showbackground\":true,\"ticks\":\"\",\"zerolinecolor\":\"white\",\"gridwidth\":2},\"yaxis\":{\"backgroundcolor\":\"#E5ECF6\",\"gridcolor\":\"white\",\"linecolor\":\"white\",\"showbackground\":true,\"ticks\":\"\",\"zerolinecolor\":\"white\",\"gridwidth\":2},\"zaxis\":{\"backgroundcolor\":\"#E5ECF6\",\"gridcolor\":\"white\",\"linecolor\":\"white\",\"showbackground\":true,\"ticks\":\"\",\"zerolinecolor\":\"white\",\"gridwidth\":2}},\"shapedefaults\":{\"line\":{\"color\":\"#2a3f5f\"}},\"annotationdefaults\":{\"arrowcolor\":\"#2a3f5f\",\"arrowhead\":0,\"arrowwidth\":1},\"geo\":{\"bgcolor\":\"white\",\"landcolor\":\"#E5ECF6\",\"subunitcolor\":\"white\",\"showland\":true,\"showlakes\":true,\"lakecolor\":\"white\"},\"title\":{\"x\":0.05},\"mapbox\":{\"style\":\"light\"}}},\"xaxis\":{\"anchor\":\"y\",\"domain\":[0.0,1.0],\"title\":{\"text\":\"BMI\"}},\"yaxis\":{\"anchor\":\"x\",\"domain\":[0.0,1.0],\"title\":{\"text\":\"Dorea_longicatena\"}},\"legend\":{\"title\":{\"text\":\"gender\"},\"tracegroupgap\":0},\"margin\":{\"t\":60}},                        {\"responsive\": true}                    ).then(function(){\n",
       "                            \n",
       "var gd = document.getElementById('5a7ca849-d093-4a8b-8187-c204b9a8e3ce');\n",
       "var x = new MutationObserver(function (mutations, observer) {{\n",
       "        var display = window.getComputedStyle(gd).display;\n",
       "        if (!display || display === 'none') {{\n",
       "            console.log([gd, 'removed!']);\n",
       "            Plotly.purge(gd);\n",
       "            observer.disconnect();\n",
       "        }}\n",
       "}});\n",
       "\n",
       "// Listen for the removal of the full notebook cells\n",
       "var notebookContainer = gd.closest('#notebook-container');\n",
       "if (notebookContainer) {{\n",
       "    x.observe(notebookContainer, {childList: true});\n",
       "}}\n",
       "\n",
       "// Listen for the clearing of the current output cell\n",
       "var outputEl = gd.closest('.output');\n",
       "if (outputEl) {{\n",
       "    x.observe(outputEl, {childList: true});\n",
       "}}\n",
       "\n",
       "                        })                };                });            </script>        </div>"
      ]
     },
     "metadata": {},
     "output_type": "display_data"
    }
   ],
   "source": [
    "fig = px.scatter(df, x=\"BMI\", y=\"Dorea_longicatena\", color='gender',\n",
    "                hover_data=['country', 'subject_id', 'BMI', 'gender', 'age_category'])\n",
    "fig.show()"
   ]
  },
  {
   "cell_type": "code",
   "execution_count": 29,
   "id": "99df6d7b",
   "metadata": {
    "ExecuteTime": {
     "end_time": "2023-04-18T11:20:09.330653Z",
     "start_time": "2023-04-18T11:20:09.245311Z"
    }
   },
   "outputs": [
    {
     "data": {
      "application/vnd.plotly.v1+json": {
       "config": {
        "plotlyServerURL": "https://plotly.com"
       },
       "data": [
        {
         "customdata": [
          [
           "ESP",
           "BCN-01_1",
           "male",
           "adult"
          ],
          [
           "ESP",
           "BCN-04_1",
           "male",
           "adult"
          ],
          [
           "ESP",
           "BCN-05_1",
           "male",
           "senior"
          ],
          [
           "ESP",
           "BCN-06_1",
           "male",
           "adult"
          ],
          [
           "ESP",
           "BCN-07_1",
           "male",
           "senior"
          ],
          [
           "ESP",
           "BCN-08_1",
           "male",
           "senior"
          ],
          [
           "GBR",
           "PRIMM0002",
           "male",
           "senior"
          ],
          [
           "GBR",
           "PRIMM0003",
           "male",
           "senior"
          ],
          [
           "GBR",
           "PRIMM0004",
           "male",
           "adult"
          ],
          [
           "GBR",
           "PRIMM0008",
           "male",
           "senior"
          ],
          [
           "GBR",
           "PRIMM0017",
           "male",
           "adult"
          ],
          [
           "GBR",
           "PRIMM0029",
           "male",
           "senior"
          ],
          [
           "GBR",
           "PRIMM0030",
           "male",
           "adult"
          ],
          [
           "GBR",
           "PRIMM0035",
           "male",
           "senior"
          ],
          [
           "GBR",
           "PRIMM0044",
           "male",
           "adult"
          ],
          [
           "GBR",
           "PRIMM0059",
           "male",
           "senior"
          ],
          [
           "GBR",
           "PRIMM0060",
           "male",
           "senior"
          ],
          [
           "GBR",
           "PRIMM0068",
           "male",
           "adult"
          ],
          [
           "GBR",
           "PRIMM0069",
           "male",
           "adult"
          ],
          [
           "GBR",
           "PRIMM0077",
           "male",
           "senior"
          ],
          [
           "GBR",
           "PRIMM0079",
           "male",
           "senior"
          ],
          [
           "GBR",
           "PRIMM0080",
           "male",
           "adult"
          ],
          [
           "GBR",
           "PRIMM0088",
           "male",
           "senior"
          ],
          [
           "GBR",
           "PRIMM0116",
           "male",
           "senior"
          ],
          [
           "GBR",
           "PRIMM0117",
           "male",
           "senior"
          ],
          [
           "GBR",
           "PRIMM0123",
           "male",
           "adult"
          ],
          [
           "GBR",
           "PRIMM0137",
           "male",
           "senior"
          ],
          [
           "GBR",
           "PRIMM0140",
           "male",
           "adult"
          ],
          [
           "GBR",
           "PRIMM0143",
           "male",
           "adult"
          ],
          [
           "GBR",
           "PRIMM0154",
           "male",
           "senior"
          ],
          [
           "GBR",
           "PRIMM0155",
           "male",
           "senior"
          ],
          [
           "GBR",
           "PRIMM0159",
           "male",
           "adult"
          ],
          [
           "GBR",
           "PRIMM0162",
           "male",
           "adult"
          ],
          [
           "GBR",
           "PRIMM0166",
           "male",
           "adult"
          ],
          [
           "GBR",
           "PRIMM0171",
           "male",
           "adult"
          ],
          [
           "GBR",
           "PRIMM0178",
           "male",
           "adult"
          ],
          [
           "GBR",
           "PRIMM0193",
           "male",
           "adult"
          ],
          [
           "GBR",
           "PRIMM0197",
           "male",
           "senior"
          ],
          [
           "GBR",
           "PRIMM0199",
           "male",
           "senior"
          ],
          [
           "GBR",
           "PRIMM0210",
           "male",
           "senior"
          ],
          [
           "GBR",
           "PRIMM0215",
           "male",
           "senior"
          ],
          [
           "GBR",
           "PRIMM0218",
           "male",
           "senior"
          ],
          [
           "GBR",
           "PRIMM0220",
           "male",
           "adult"
          ],
          [
           "GBR",
           "PRIMM0232",
           "male",
           "senior"
          ],
          [
           "GBR",
           "PRIMM0234",
           "male",
           "adult"
          ],
          [
           "GBR",
           "PRIMM0241",
           "male",
           "adult"
          ],
          [
           "GBR",
           "PRIMM0261",
           "male",
           "adult"
          ],
          [
           "GBR",
           "PRIMM0266",
           "male",
           "senior"
          ],
          [
           "GBR",
           "PRIMM0271",
           "male",
           "senior"
          ],
          [
           "GBR",
           "PRIMM0276",
           "male",
           "adult"
          ],
          [
           "GBR",
           "PRIMM0278",
           "male",
           "adult"
          ],
          [
           "NLD",
           "PRIMM0287",
           "male",
           "senior"
          ],
          [
           "NLD",
           "PRIMM0300",
           "male",
           "adult"
          ],
          [
           "NLD",
           "PRIMM0301",
           "male",
           "senior"
          ],
          [
           "NLD",
           "PRIMM0308",
           "male",
           "adult"
          ],
          [
           "NLD",
           "PRIMM0310",
           "male",
           "senior"
          ],
          [
           "NLD",
           "PRIMM0352",
           "male",
           "senior"
          ],
          [
           "NLD",
           "PRIMM0354",
           "male",
           "senior"
          ],
          [
           "NLD",
           "PRIMM0361",
           "male",
           "adult"
          ],
          [
           "GBR",
           "PRIMM0365",
           "male",
           "senior"
          ],
          [
           "NLD",
           "PRIMM0381",
           "male",
           "adult"
          ],
          [
           "NLD",
           "PRIMM0386",
           "male",
           "adult"
          ],
          [
           "NLD",
           "PRIMM0387",
           "male",
           "adult"
          ],
          [
           "NLD",
           "PRIMM0394",
           "male",
           "senior"
          ],
          [
           "NLD",
           "PRIMM0398",
           "male",
           "senior"
          ],
          [
           "NLD",
           "PRIMM0403",
           "male",
           "adult"
          ],
          [
           "NLD",
           "PRIMM0404",
           "male",
           "adult"
          ],
          [
           "NLD",
           "PRIMM0417",
           "male",
           "senior"
          ],
          [
           "NLD",
           "PRIMM0424",
           "male",
           "adult"
          ],
          [
           "NLD",
           "PRIMM0426",
           "male",
           "adult"
          ],
          [
           "NLD",
           "PRIMM0427",
           "male",
           "senior"
          ],
          [
           "NLD",
           "PRIMM0435",
           "male",
           "senior"
          ],
          [
           "NLD",
           "PRIMM0461",
           "male",
           "adult"
          ],
          [
           "NLD",
           "PRIMM0467",
           "male",
           "adult"
          ],
          [
           "NLD",
           "PRIMM0474",
           "male",
           "senior"
          ],
          [
           "NLD",
           "PRIMM0477",
           "male",
           "adult"
          ],
          [
           "NLD",
           "PRIMM0483",
           "male",
           "senior"
          ],
          [
           "NLD",
           "PRIMM0498",
           "male",
           "senior"
          ],
          [
           "NLD",
           "PRIMM0511",
           "male",
           "senior"
          ],
          [
           "NLD",
           "PRIMM0516",
           "male",
           "senior"
          ],
          [
           "NLD",
           "PRIMM0521",
           "male",
           "senior"
          ],
          [
           "NLD",
           "PRIMM0526",
           "male",
           "adult"
          ],
          [
           "NLD",
           "PRIMM0532",
           "male",
           "adult"
          ],
          [
           "GBR",
           "PRIMM0543",
           "male",
           "adult"
          ],
          [
           "GBR",
           "PRIMM0544",
           "male",
           "senior"
          ],
          [
           "GBR",
           "PRIMM0546",
           "male",
           "senior"
          ],
          [
           "GBR",
           "PRIMM0551",
           "male",
           "senior"
          ],
          [
           "GBR",
           "PRIMM0565",
           "male",
           "adult"
          ],
          [
           "GBR",
           "PRIMM0567",
           "male",
           "adult"
          ],
          [
           "GBR",
           "PRIMM0569",
           "male",
           "senior"
          ],
          [
           "GBR",
           "PRIMM0571",
           "male",
           "adult"
          ],
          [
           "GBR",
           "PRIMM0575",
           "male",
           "adult"
          ],
          [
           "GBR",
           "PRIMM0576",
           "male",
           "adult"
          ],
          [
           "GBR",
           "PRIMM0578",
           "male",
           "senior"
          ],
          [
           "GBR",
           "PRIMM0590",
           "male",
           "senior"
          ],
          [
           "GBR",
           "PRIMM0594",
           "male",
           "adult"
          ],
          [
           "GBR",
           "PRIMM0597",
           "male",
           "senior"
          ],
          [
           "GBR",
           "PRIMM0601",
           "male",
           "senior"
          ],
          [
           "GBR",
           "PRIMM0602",
           "male",
           "adult"
          ],
          [
           "GBR",
           "PRIMM0610",
           "male",
           "adult"
          ]
         ],
         "hovertemplate": "gender=%{customdata[2]}<br>BMI=%{x}<br>Dorea_longicatena=%{y}<br>country=%{customdata[0]}<br>subject_id=%{customdata[1]}<br>age_category=%{customdata[3]}<extra></extra>",
         "legendgroup": "male",
         "marker": {
          "color": "#636efa",
          "line": {
           "color": "DarkSlateGrey",
           "width": 2
          },
          "size": 12,
          "symbol": "circle"
         },
         "mode": "markers",
         "name": "male",
         "orientation": "v",
         "showlegend": true,
         "type": "scatter",
         "x": [
          28.7132112,
          30.35032952,
          36.07947745,
          31.37798917,
          26.171875,
          null,
          27.77777778,
          29.52111838,
          31.83495338,
          27.86594941,
          47.65812397,
          36.16967555,
          26.27471384,
          34.0410284,
          21.79106405,
          28.15530042,
          28.76420455,
          32.34477974,
          32.60475788,
          24.29943171,
          23.63969196,
          31.28092183,
          27.55789225,
          32.66520851,
          29.05328798,
          29.11894136,
          28.9007795,
          33.79017735,
          34.08660523,
          24.70554438,
          28.31024931,
          24.22857143,
          28.44137397,
          23.97053496,
          28.72737719,
          24.65590962,
          28.18457265,
          null,
          28.37821519,
          35.81314879,
          22.47658689,
          26.14927686,
          18.99198825,
          28.62879239,
          29.96161169,
          27,
          33.80205516,
          24.22145329,
          29.3877551,
          33.21799308,
          25.05736022,
          25.66115203,
          null,
          null,
          null,
          null,
          19.52311537,
          37.34721593,
          21.84700852,
          22.8206756,
          22.40878677,
          21.6066482,
          32.14024836,
          24.17897757,
          24.96800974,
          24.30248706,
          25.45111384,
          25.46938776,
          24.76756592,
          27.13141179,
          25.43646664,
          26.52851035,
          28.06891815,
          29.3523545,
          28.90507573,
          29.04657027,
          29.06122449,
          null,
          null,
          27.45982194,
          27.17063157,
          26.88172043,
          40.74074074,
          23.56663223,
          25,
          32,
          32.03857841,
          24.53512397,
          34.06360931,
          28.40111108,
          23.05456246,
          33.89721074,
          26.5,
          28.08641975,
          33.85577144,
          30.81648831,
          27.76465028,
          29.11542185,
          24.89117868,
          34.68627699
         ],
         "xaxis": "x",
         "y": [
          0.07567,
          0.82328,
          0.09959,
          0.20807,
          0.03759,
          0.26584,
          4.93456,
          0.62757,
          3.28901,
          0.82327,
          14.13748,
          0.57174,
          1.6654,
          0.00043,
          0.10834,
          0.68895,
          0.00338,
          2.51907,
          1.34824,
          1.28352,
          0.40152,
          2.28552,
          0.21804,
          3.45777,
          3.52915,
          0,
          0.81788,
          0.83639,
          0,
          0.96465,
          0.1095,
          2.89223,
          1.06333,
          2.61281,
          0.00948,
          2.58002,
          0.99602,
          0.42283,
          1.93779,
          2.9013,
          1.47973,
          1.6909,
          0.23847,
          2.10952,
          1.21302,
          0.24972,
          0.73054,
          0.15299,
          0.56875,
          0,
          1.37289,
          0.96626,
          0.93774,
          0.86707,
          0.5409,
          1.28433,
          1.41117,
          1.09252,
          0.1595,
          1.73927,
          1.16107,
          0.12242,
          2.80733,
          1.79758,
          0.92461,
          1.31027,
          1.13263,
          0.00248,
          0,
          0.10993,
          0.23648,
          0.3379,
          1.45681,
          0.69088,
          3.95981,
          0.64201,
          8.34227,
          1.39839,
          2.68694,
          9.30414,
          2.02726,
          2.86798,
          2.55587,
          2.62214,
          3.95587,
          2.3709,
          3.27233,
          2.58919,
          2.00106,
          4.20691,
          0.10661,
          1.79777,
          0.42898,
          0,
          9.05042,
          0,
          0.62685,
          0.23401,
          0,
          0.66418
         ],
         "yaxis": "y"
        },
        {
         "hovertemplate": "<b>OLS trendline</b><br>Dorea_longicatena = 0.170767 * BMI + -3.20766<br>R<sup>2</sup>=0.125180<br><br>gender=male<br>BMI=%{x}<br>Dorea_longicatena=%{y} <b>(trend)</b><extra></extra>",
         "legendgroup": "male",
         "marker": {
          "color": "#636efa",
          "symbol": "circle"
         },
         "mode": "lines",
         "name": "male",
         "showlegend": false,
         "type": "scatter",
         "x": [
          18.99198825,
          19.52311537,
          21.6066482,
          21.79106405,
          21.84700852,
          22.40878677,
          22.47658689,
          22.8206756,
          23.05456246,
          23.56663223,
          23.63969196,
          23.97053496,
          24.17897757,
          24.22145329,
          24.22857143,
          24.29943171,
          24.30248706,
          24.53512397,
          24.65590962,
          24.70554438,
          24.76756592,
          24.89117868,
          24.96800974,
          25,
          25.05736022,
          25.43646664,
          25.45111384,
          25.46938776,
          25.66115203,
          26.14927686,
          26.171875,
          26.27471384,
          26.5,
          26.52851035,
          26.88172043,
          27,
          27.13141179,
          27.17063157,
          27.45982194,
          27.55789225,
          27.76465028,
          27.77777778,
          27.86594941,
          28.06891815,
          28.08641975,
          28.15530042,
          28.18457265,
          28.31024931,
          28.37821519,
          28.40111108,
          28.44137397,
          28.62879239,
          28.7132112,
          28.72737719,
          28.76420455,
          28.9007795,
          28.90507573,
          29.04657027,
          29.05328798,
          29.06122449,
          29.11542185,
          29.11894136,
          29.3523545,
          29.3877551,
          29.52111838,
          29.96161169,
          30.35032952,
          30.81648831,
          31.28092183,
          31.37798917,
          31.83495338,
          32,
          32.03857841,
          32.14024836,
          32.34477974,
          32.60475788,
          32.66520851,
          33.21799308,
          33.79017735,
          33.80205516,
          33.85577144,
          33.89721074,
          34.0410284,
          34.06360931,
          34.08660523,
          34.68627699,
          35.81314879,
          36.07947745,
          36.16967555,
          37.34721593,
          40.74074074,
          47.65812397
         ],
         "xaxis": "x",
         "y": [
          0.035553793852496796,
          0.1262530014763965,
          0.48205252596571313,
          0.5135447447556101,
          0.5230982375238558,
          0.6190316595177103,
          0.6306097110410547,
          0.6893688520717927,
          0.7293091075715337,
          0.8167539407164739,
          0.8292301622662528,
          0.8857273675829633,
          0.9213225741731632,
          0.9285760432621721,
          0.9297915896604732,
          0.9418922168097854,
          0.9424139710444654,
          0.9821407758084035,
          1.00276702955221,
          1.0112430294269714,
          1.021834287756266,
          1.0429433197789635,
          1.0560635616203218,
          1.0615264557645387,
          1.0713217125067143,
          1.1360607375053497,
          1.1385620020499072,
          1.1416825922095333,
          1.1744296817190572,
          1.257785499253945,
          1.2616445253036295,
          1.2792060486183505,
          1.3176775847745743,
          1.3225462236685557,
          1.3828629975150388,
          1.4030612944445862,
          1.4255021466937396,
          1.4321996073114232,
          1.4815839004943099,
          1.498331114246886,
          1.5336386494578136,
          1.5358803987551992,
          1.5509372404693025,
          1.585597688405799,
          1.5885863914721208,
          1.600348965730432,
          1.6053477089058603,
          1.6268091878053337,
          1.6384155457361071,
          1.6423254177849005,
          1.649201007605372,
          1.6812059675255568,
          1.6956219498530123,
          1.698041039407709,
          1.704329952636015,
          1.7276525043940074,
          1.728386160503999,
          1.7525488179505029,
          1.7536959839510775,
          1.755051281282344,
          1.7643064245845856,
          1.7649074422246276,
          1.8047668017824794,
          1.8108120708875672,
          1.8335861740478885,
          1.9088080798331335,
          1.975188420513688,
          2.0547931540846562,
          2.134103267750059,
          2.1506792069040603,
          2.228713805776513,
          2.2568983911447065,
          2.2634863266626475,
          2.2808482416485774,
          2.315775537585231,
          2.360171333637851,
          2.370494331720429,
          2.4648919261903135,
          2.5626023573651695,
          2.5646307003262807,
          2.5738036908384263,
          2.5808801731586835,
          2.6054395438124054,
          2.6092956275394537,
          2.613222581453204,
          2.7156269803594943,
          2.908059969572541,
          2.9535402275370277,
          2.9689431243034017,
          3.170028656164672,
          3.7495321304347176,
          4.930795813207777
         ],
         "yaxis": "y"
        },
        {
         "customdata": [
          [
           "ESP",
           "BCN-02_1",
           "female",
           "adult"
          ],
          [
           "ESP",
           "BCN-03_1",
           "female",
           "senior"
          ],
          [
           "ESP",
           "BCN-09_1",
           "female",
           "adult"
          ],
          [
           "ESP",
           "BCN-10_1",
           "female",
           "adult"
          ],
          [
           "ESP",
           "BCN-11_1",
           "female",
           "senior"
          ],
          [
           "ESP",
           "BCN-12_1",
           "female",
           "senior"
          ],
          [
           "GBR",
           "PRIMM0001",
           "female",
           "adult"
          ],
          [
           "GBR",
           "PRIMM0005",
           "female",
           "adult"
          ],
          [
           "GBR",
           "PRIMM0007",
           "female",
           "adult"
          ],
          [
           "GBR",
           "PRIMM0013",
           "female",
           "senior"
          ],
          [
           "GBR",
           "PRIMM0032",
           "female",
           "senior"
          ],
          [
           "GBR",
           "PRIMM0050",
           "female",
           "adult"
          ],
          [
           "GBR",
           "PRIMM0062",
           "female",
           "adult"
          ],
          [
           "GBR",
           "PRIMM0064",
           "female",
           "adult"
          ],
          [
           "GBR",
           "PRIMM0078",
           "female",
           "adult"
          ],
          [
           "GBR",
           "PRIMM0087",
           "female",
           "adult"
          ],
          [
           "GBR",
           "PRIMM0091",
           "female",
           "senior"
          ],
          [
           "GBR",
           "PRIMM0094",
           "female",
           "senior"
          ],
          [
           "GBR",
           "PRIMM0109",
           "female",
           "senior"
          ],
          [
           "GBR",
           "PRIMM0111",
           "female",
           "adult"
          ],
          [
           "GBR",
           "PRIMM0113",
           "female",
           "senior"
          ],
          [
           "GBR",
           "PRIMM0129",
           "female",
           "senior"
          ],
          [
           "GBR",
           "PRIMM0168",
           "female",
           "adult"
          ],
          [
           "GBR",
           "PRIMM0181",
           "female",
           "adult"
          ],
          [
           "GBR",
           "PRIMM0201",
           "female",
           "senior"
          ],
          [
           "GBR",
           "PRIMM0204",
           "female",
           "senior"
          ],
          [
           "GBR",
           "PRIMM0219",
           "female",
           "senior"
          ],
          [
           "GBR",
           "PRIMM0240",
           "female",
           "senior"
          ],
          [
           "GBR",
           "PRIMM0242",
           "female",
           "adult"
          ],
          [
           "GBR",
           "PRIMM0256",
           "female",
           "adult"
          ],
          [
           "GBR",
           "PRIMM0264",
           "female",
           "senior"
          ],
          [
           "GBR",
           "PRIMM0281",
           "female",
           "senior"
          ],
          [
           "NLD",
           "PRIMM0325",
           "female",
           "senior"
          ],
          [
           "NLD",
           "PRIMM0328",
           "female",
           "adult"
          ],
          [
           "NLD",
           "PRIMM0331",
           "female",
           "adult"
          ],
          [
           "NLD",
           "PRIMM0353",
           "female",
           "senior"
          ],
          [
           "NLD",
           "PRIMM0357",
           "female",
           "adult"
          ],
          [
           "NLD",
           "PRIMM0378",
           "female",
           "senior"
          ],
          [
           "NLD",
           "PRIMM0380",
           "female",
           "adult"
          ],
          [
           "NLD",
           "PRIMM0383",
           "female",
           "adult"
          ],
          [
           "NLD",
           "PRIMM0391",
           "female",
           "adult"
          ],
          [
           "NLD",
           "PRIMM0399",
           "female",
           "adult"
          ],
          [
           "NLD",
           "PRIMM0411",
           "female",
           "adult"
          ],
          [
           "NLD",
           "PRIMM0421",
           "female",
           "adult"
          ],
          [
           "NLD",
           "PRIMM0422",
           "female",
           "adult"
          ],
          [
           "NLD",
           "PRIMM0423",
           "female",
           "adult"
          ],
          [
           "NLD",
           "PRIMM0434",
           "female",
           "senior"
          ],
          [
           "NLD",
           "PRIMM0445",
           "female",
           "adult"
          ],
          [
           "NLD",
           "PRIMM0447",
           "female",
           "adult"
          ],
          [
           "NLD",
           "PRIMM0455",
           "female",
           "adult"
          ],
          [
           "NLD",
           "PRIMM0460",
           "female",
           "adult"
          ],
          [
           "NLD",
           "PRIMM0473",
           "female",
           "adult"
          ],
          [
           "NLD",
           "PRIMM0475",
           "female",
           "adult"
          ],
          [
           "NLD",
           "PRIMM0513",
           "female",
           "adult"
          ],
          [
           "NLD",
           "PRIMM0525",
           "female",
           "senior"
          ],
          [
           "NLD",
           "PRIMM0536",
           "female",
           "adult"
          ],
          [
           "GBR",
           "PRIMM0541",
           "female",
           "adult"
          ],
          [
           "GBR",
           "PRIMM0549",
           "female",
           "senior"
          ],
          [
           "GBR",
           "PRIMM0557",
           "female",
           "adult"
          ],
          [
           "GBR",
           "PRIMM0559",
           "female",
           "senior"
          ],
          [
           "GBR",
           "PRIMM0561",
           "female",
           "adult"
          ],
          [
           "GBR",
           "PRIMM0563",
           "female",
           "adult"
          ],
          [
           "GBR",
           "PRIMM0573",
           "female",
           "adult"
          ],
          [
           "GBR",
           "PRIMM0589",
           "female",
           "adult"
          ],
          [
           "GBR",
           "PRIMM0611",
           "female",
           "adult"
          ]
         ],
         "hovertemplate": "gender=%{customdata[2]}<br>BMI=%{x}<br>Dorea_longicatena=%{y}<br>country=%{customdata[0]}<br>subject_id=%{customdata[1]}<br>age_category=%{customdata[3]}<extra></extra>",
         "legendgroup": "female",
         "marker": {
          "color": "#EF553B",
          "line": {
           "color": "DarkSlateGrey",
           "width": 2
          },
          "size": 12,
          "symbol": "circle"
         },
         "mode": "markers",
         "name": "female",
         "orientation": "v",
         "showlegend": true,
         "type": "scatter",
         "x": [
          27.35457064,
          22.0603538,
          22.8515625,
          20.9566075,
          28.46036374,
          24.16171225,
          25.92419951,
          20.72432543,
          22.95432524,
          25.74394464,
          31.40522352,
          39.40621751,
          23.8697204,
          37.02479339,
          29.9597275,
          18.83437364,
          36.19875019,
          20.82093992,
          33.95061728,
          23.19620659,
          29.2358582,
          25.84648258,
          27.76342975,
          22.03856749,
          29.13631634,
          24.62222222,
          29.07495538,
          21.23057202,
          24.30461788,
          21.56454491,
          26.44628099,
          29.6875,
          31.25,
          29.41176471,
          19.91836735,
          30.86419753,
          null,
          24.67702134,
          33.94930751,
          31.83391003,
          21.4532872,
          24.96494648,
          25.99090318,
          38.19632234,
          18.77834467,
          37.57762747,
          27.76979795,
          24.65590962,
          26.61934339,
          29.40759637,
          33.15043439,
          null,
          32.07591299,
          27.39817568,
          26.42356982,
          31.97501487,
          26.76977989,
          38.57875854,
          26.0261749,
          29.24210864,
          38.0078167,
          21.60410478,
          20.90419501,
          19.1953028,
          27.16140697
         ],
         "xaxis": "x",
         "y": [
          0.65825,
          0.03822,
          0.00531,
          0.76814,
          0.00512,
          0.0654,
          0.76546,
          0,
          0.79283,
          0,
          1.5069,
          1.64612,
          4.19414,
          0,
          0,
          0,
          1.42843,
          1.47758,
          11.9872,
          3.42982,
          2.74001,
          4.07329,
          0,
          2.92005,
          0.38897,
          1.03818,
          0,
          0,
          0.17674,
          1.19438,
          0,
          0,
          0,
          4.96548,
          0,
          0.97735,
          0,
          9.85735,
          10.38389,
          0.01458,
          1.52141,
          6.96724,
          4.181,
          1.02664,
          0,
          3.4993,
          0.28922,
          3.82992,
          0.03006,
          0,
          1.70123,
          1.01115,
          1.60794,
          1.22067,
          0.13598,
          1.27713,
          1.87945,
          4.55326,
          3.59762,
          4.7725,
          1.4144,
          1.07653,
          2.53146,
          8.68998,
          0.92254
         ],
         "yaxis": "y"
        },
        {
         "hovertemplate": "<b>OLS trendline</b><br>Dorea_longicatena = 0.0579647 * BMI + 0.386862<br>R<sup>2</sup>=0.013280<br><br>gender=female<br>BMI=%{x}<br>Dorea_longicatena=%{y} <b>(trend)</b><extra></extra>",
         "legendgroup": "female",
         "marker": {
          "color": "#EF553B",
          "symbol": "circle"
         },
         "mode": "lines",
         "name": "female",
         "showlegend": false,
         "type": "scatter",
         "x": [
          18.77834467,
          18.83437364,
          19.1953028,
          19.91836735,
          20.72432543,
          20.82093992,
          20.90419501,
          20.9566075,
          21.23057202,
          21.4532872,
          21.56454491,
          21.60410478,
          22.03856749,
          22.0603538,
          22.8515625,
          22.95432524,
          23.19620659,
          23.8697204,
          24.16171225,
          24.30461788,
          24.62222222,
          24.65590962,
          24.67702134,
          24.96494648,
          25.74394464,
          25.84648258,
          25.92419951,
          25.99090318,
          26.0261749,
          26.42356982,
          26.44628099,
          26.61934339,
          26.76977989,
          27.16140697,
          27.35457064,
          27.39817568,
          27.76342975,
          27.76979795,
          28.46036374,
          29.07495538,
          29.13631634,
          29.2358582,
          29.24210864,
          29.40759637,
          29.41176471,
          29.6875,
          29.9597275,
          30.86419753,
          31.25,
          31.40522352,
          31.83391003,
          31.97501487,
          32.07591299,
          33.15043439,
          33.94930751,
          33.95061728,
          36.19875019,
          37.02479339,
          37.57762747,
          38.0078167,
          38.19632234,
          38.57875854,
          39.40621751
         ],
         "xaxis": "x",
         "y": [
          1.4753429401351421,
          1.4785906415009729,
          1.4995117850790216,
          1.5414239909721312,
          1.5881410938783314,
          1.593741321959127,
          1.5985671766822347,
          1.6016052499389732,
          1.6174855159119723,
          1.6303951302467934,
          1.636844147901878,
          1.639137223141903,
          1.6643207154793414,
          1.6655835519859454,
          1.7114457117873345,
          1.7174023212173226,
          1.7314228964797986,
          1.7704629095416653,
          1.7873881239451512,
          1.795671603183408,
          1.8140814373961698,
          1.8160341167866938,
          1.8172578508992259,
          1.8339473397553485,
          1.8791017195023207,
          1.8850452984720483,
          1.8895501355181188,
          1.893416592462891,
          1.8954611064566196,
          1.9184959761759495,
          1.9198124218973078,
          1.9298439286848494,
          1.9385639323993709,
          1.9612644711137601,
          1.972461141602043,
          1.9749886938302048,
          1.9961605294362186,
          1.9965296601169698,
          2.036558085757831,
          2.072182694039158,
          2.07573946250377,
          2.08150937465242,
          2.0818716794123513,
          2.0914641228706055,
          2.091705739368486,
          2.1076886474594394,
          2.123468227622464,
          2.1758955442728336,
          2.198258461327349,
          2.207255943128515,
          2.2321046198762806,
          2.2402837168968635,
          2.2461322442235976,
          2.308416534268453,
          2.354722959729237,
          2.354798880129308,
          2.4851111868230813,
          2.532992517300427,
          2.565037368324707,
          2.589973149757718,
          2.6008998190235424,
          2.623067611311767,
          2.6710310064453555
         ],
         "yaxis": "y"
        }
       ],
       "layout": {
        "height": 600,
        "legend": {
         "title": {
          "text": "gender"
         },
         "tracegroupgap": 0
        },
        "margin": {
         "t": 60
        },
        "template": {
         "data": {
          "bar": [
           {
            "error_x": {
             "color": "#2a3f5f"
            },
            "error_y": {
             "color": "#2a3f5f"
            },
            "marker": {
             "line": {
              "color": "white",
              "width": 0.5
             },
             "pattern": {
              "fillmode": "overlay",
              "size": 10,
              "solidity": 0.2
             }
            },
            "type": "bar"
           }
          ],
          "barpolar": [
           {
            "marker": {
             "line": {
              "color": "white",
              "width": 0.5
             },
             "pattern": {
              "fillmode": "overlay",
              "size": 10,
              "solidity": 0.2
             }
            },
            "type": "barpolar"
           }
          ],
          "carpet": [
           {
            "aaxis": {
             "endlinecolor": "#2a3f5f",
             "gridcolor": "#C8D4E3",
             "linecolor": "#C8D4E3",
             "minorgridcolor": "#C8D4E3",
             "startlinecolor": "#2a3f5f"
            },
            "baxis": {
             "endlinecolor": "#2a3f5f",
             "gridcolor": "#C8D4E3",
             "linecolor": "#C8D4E3",
             "minorgridcolor": "#C8D4E3",
             "startlinecolor": "#2a3f5f"
            },
            "type": "carpet"
           }
          ],
          "choropleth": [
           {
            "colorbar": {
             "outlinewidth": 0,
             "ticks": ""
            },
            "type": "choropleth"
           }
          ],
          "contour": [
           {
            "colorbar": {
             "outlinewidth": 0,
             "ticks": ""
            },
            "colorscale": [
             [
              0,
              "#0d0887"
             ],
             [
              0.1111111111111111,
              "#46039f"
             ],
             [
              0.2222222222222222,
              "#7201a8"
             ],
             [
              0.3333333333333333,
              "#9c179e"
             ],
             [
              0.4444444444444444,
              "#bd3786"
             ],
             [
              0.5555555555555556,
              "#d8576b"
             ],
             [
              0.6666666666666666,
              "#ed7953"
             ],
             [
              0.7777777777777778,
              "#fb9f3a"
             ],
             [
              0.8888888888888888,
              "#fdca26"
             ],
             [
              1,
              "#f0f921"
             ]
            ],
            "type": "contour"
           }
          ],
          "contourcarpet": [
           {
            "colorbar": {
             "outlinewidth": 0,
             "ticks": ""
            },
            "type": "contourcarpet"
           }
          ],
          "heatmap": [
           {
            "colorbar": {
             "outlinewidth": 0,
             "ticks": ""
            },
            "colorscale": [
             [
              0,
              "#0d0887"
             ],
             [
              0.1111111111111111,
              "#46039f"
             ],
             [
              0.2222222222222222,
              "#7201a8"
             ],
             [
              0.3333333333333333,
              "#9c179e"
             ],
             [
              0.4444444444444444,
              "#bd3786"
             ],
             [
              0.5555555555555556,
              "#d8576b"
             ],
             [
              0.6666666666666666,
              "#ed7953"
             ],
             [
              0.7777777777777778,
              "#fb9f3a"
             ],
             [
              0.8888888888888888,
              "#fdca26"
             ],
             [
              1,
              "#f0f921"
             ]
            ],
            "type": "heatmap"
           }
          ],
          "heatmapgl": [
           {
            "colorbar": {
             "outlinewidth": 0,
             "ticks": ""
            },
            "colorscale": [
             [
              0,
              "#0d0887"
             ],
             [
              0.1111111111111111,
              "#46039f"
             ],
             [
              0.2222222222222222,
              "#7201a8"
             ],
             [
              0.3333333333333333,
              "#9c179e"
             ],
             [
              0.4444444444444444,
              "#bd3786"
             ],
             [
              0.5555555555555556,
              "#d8576b"
             ],
             [
              0.6666666666666666,
              "#ed7953"
             ],
             [
              0.7777777777777778,
              "#fb9f3a"
             ],
             [
              0.8888888888888888,
              "#fdca26"
             ],
             [
              1,
              "#f0f921"
             ]
            ],
            "type": "heatmapgl"
           }
          ],
          "histogram": [
           {
            "marker": {
             "pattern": {
              "fillmode": "overlay",
              "size": 10,
              "solidity": 0.2
             }
            },
            "type": "histogram"
           }
          ],
          "histogram2d": [
           {
            "colorbar": {
             "outlinewidth": 0,
             "ticks": ""
            },
            "colorscale": [
             [
              0,
              "#0d0887"
             ],
             [
              0.1111111111111111,
              "#46039f"
             ],
             [
              0.2222222222222222,
              "#7201a8"
             ],
             [
              0.3333333333333333,
              "#9c179e"
             ],
             [
              0.4444444444444444,
              "#bd3786"
             ],
             [
              0.5555555555555556,
              "#d8576b"
             ],
             [
              0.6666666666666666,
              "#ed7953"
             ],
             [
              0.7777777777777778,
              "#fb9f3a"
             ],
             [
              0.8888888888888888,
              "#fdca26"
             ],
             [
              1,
              "#f0f921"
             ]
            ],
            "type": "histogram2d"
           }
          ],
          "histogram2dcontour": [
           {
            "colorbar": {
             "outlinewidth": 0,
             "ticks": ""
            },
            "colorscale": [
             [
              0,
              "#0d0887"
             ],
             [
              0.1111111111111111,
              "#46039f"
             ],
             [
              0.2222222222222222,
              "#7201a8"
             ],
             [
              0.3333333333333333,
              "#9c179e"
             ],
             [
              0.4444444444444444,
              "#bd3786"
             ],
             [
              0.5555555555555556,
              "#d8576b"
             ],
             [
              0.6666666666666666,
              "#ed7953"
             ],
             [
              0.7777777777777778,
              "#fb9f3a"
             ],
             [
              0.8888888888888888,
              "#fdca26"
             ],
             [
              1,
              "#f0f921"
             ]
            ],
            "type": "histogram2dcontour"
           }
          ],
          "mesh3d": [
           {
            "colorbar": {
             "outlinewidth": 0,
             "ticks": ""
            },
            "type": "mesh3d"
           }
          ],
          "parcoords": [
           {
            "line": {
             "colorbar": {
              "outlinewidth": 0,
              "ticks": ""
             }
            },
            "type": "parcoords"
           }
          ],
          "pie": [
           {
            "automargin": true,
            "type": "pie"
           }
          ],
          "scatter": [
           {
            "fillpattern": {
             "fillmode": "overlay",
             "size": 10,
             "solidity": 0.2
            },
            "type": "scatter"
           }
          ],
          "scatter3d": [
           {
            "line": {
             "colorbar": {
              "outlinewidth": 0,
              "ticks": ""
             }
            },
            "marker": {
             "colorbar": {
              "outlinewidth": 0,
              "ticks": ""
             }
            },
            "type": "scatter3d"
           }
          ],
          "scattercarpet": [
           {
            "marker": {
             "colorbar": {
              "outlinewidth": 0,
              "ticks": ""
             }
            },
            "type": "scattercarpet"
           }
          ],
          "scattergeo": [
           {
            "marker": {
             "colorbar": {
              "outlinewidth": 0,
              "ticks": ""
             }
            },
            "type": "scattergeo"
           }
          ],
          "scattergl": [
           {
            "marker": {
             "colorbar": {
              "outlinewidth": 0,
              "ticks": ""
             }
            },
            "type": "scattergl"
           }
          ],
          "scattermapbox": [
           {
            "marker": {
             "colorbar": {
              "outlinewidth": 0,
              "ticks": ""
             }
            },
            "type": "scattermapbox"
           }
          ],
          "scatterpolar": [
           {
            "marker": {
             "colorbar": {
              "outlinewidth": 0,
              "ticks": ""
             }
            },
            "type": "scatterpolar"
           }
          ],
          "scatterpolargl": [
           {
            "marker": {
             "colorbar": {
              "outlinewidth": 0,
              "ticks": ""
             }
            },
            "type": "scatterpolargl"
           }
          ],
          "scatterternary": [
           {
            "marker": {
             "colorbar": {
              "outlinewidth": 0,
              "ticks": ""
             }
            },
            "type": "scatterternary"
           }
          ],
          "surface": [
           {
            "colorbar": {
             "outlinewidth": 0,
             "ticks": ""
            },
            "colorscale": [
             [
              0,
              "#0d0887"
             ],
             [
              0.1111111111111111,
              "#46039f"
             ],
             [
              0.2222222222222222,
              "#7201a8"
             ],
             [
              0.3333333333333333,
              "#9c179e"
             ],
             [
              0.4444444444444444,
              "#bd3786"
             ],
             [
              0.5555555555555556,
              "#d8576b"
             ],
             [
              0.6666666666666666,
              "#ed7953"
             ],
             [
              0.7777777777777778,
              "#fb9f3a"
             ],
             [
              0.8888888888888888,
              "#fdca26"
             ],
             [
              1,
              "#f0f921"
             ]
            ],
            "type": "surface"
           }
          ],
          "table": [
           {
            "cells": {
             "fill": {
              "color": "#EBF0F8"
             },
             "line": {
              "color": "white"
             }
            },
            "header": {
             "fill": {
              "color": "#C8D4E3"
             },
             "line": {
              "color": "white"
             }
            },
            "type": "table"
           }
          ]
         },
         "layout": {
          "annotationdefaults": {
           "arrowcolor": "#2a3f5f",
           "arrowhead": 0,
           "arrowwidth": 1
          },
          "autotypenumbers": "strict",
          "coloraxis": {
           "colorbar": {
            "outlinewidth": 0,
            "ticks": ""
           }
          },
          "colorscale": {
           "diverging": [
            [
             0,
             "#8e0152"
            ],
            [
             0.1,
             "#c51b7d"
            ],
            [
             0.2,
             "#de77ae"
            ],
            [
             0.3,
             "#f1b6da"
            ],
            [
             0.4,
             "#fde0ef"
            ],
            [
             0.5,
             "#f7f7f7"
            ],
            [
             0.6,
             "#e6f5d0"
            ],
            [
             0.7,
             "#b8e186"
            ],
            [
             0.8,
             "#7fbc41"
            ],
            [
             0.9,
             "#4d9221"
            ],
            [
             1,
             "#276419"
            ]
           ],
           "sequential": [
            [
             0,
             "#0d0887"
            ],
            [
             0.1111111111111111,
             "#46039f"
            ],
            [
             0.2222222222222222,
             "#7201a8"
            ],
            [
             0.3333333333333333,
             "#9c179e"
            ],
            [
             0.4444444444444444,
             "#bd3786"
            ],
            [
             0.5555555555555556,
             "#d8576b"
            ],
            [
             0.6666666666666666,
             "#ed7953"
            ],
            [
             0.7777777777777778,
             "#fb9f3a"
            ],
            [
             0.8888888888888888,
             "#fdca26"
            ],
            [
             1,
             "#f0f921"
            ]
           ],
           "sequentialminus": [
            [
             0,
             "#0d0887"
            ],
            [
             0.1111111111111111,
             "#46039f"
            ],
            [
             0.2222222222222222,
             "#7201a8"
            ],
            [
             0.3333333333333333,
             "#9c179e"
            ],
            [
             0.4444444444444444,
             "#bd3786"
            ],
            [
             0.5555555555555556,
             "#d8576b"
            ],
            [
             0.6666666666666666,
             "#ed7953"
            ],
            [
             0.7777777777777778,
             "#fb9f3a"
            ],
            [
             0.8888888888888888,
             "#fdca26"
            ],
            [
             1,
             "#f0f921"
            ]
           ]
          },
          "colorway": [
           "#636efa",
           "#EF553B",
           "#00cc96",
           "#ab63fa",
           "#FFA15A",
           "#19d3f3",
           "#FF6692",
           "#B6E880",
           "#FF97FF",
           "#FECB52"
          ],
          "font": {
           "color": "#2a3f5f"
          },
          "geo": {
           "bgcolor": "white",
           "lakecolor": "white",
           "landcolor": "white",
           "showlakes": true,
           "showland": true,
           "subunitcolor": "#C8D4E3"
          },
          "hoverlabel": {
           "align": "left"
          },
          "hovermode": "closest",
          "mapbox": {
           "style": "light"
          },
          "paper_bgcolor": "white",
          "plot_bgcolor": "white",
          "polar": {
           "angularaxis": {
            "gridcolor": "#EBF0F8",
            "linecolor": "#EBF0F8",
            "ticks": ""
           },
           "bgcolor": "white",
           "radialaxis": {
            "gridcolor": "#EBF0F8",
            "linecolor": "#EBF0F8",
            "ticks": ""
           }
          },
          "scene": {
           "xaxis": {
            "backgroundcolor": "white",
            "gridcolor": "#DFE8F3",
            "gridwidth": 2,
            "linecolor": "#EBF0F8",
            "showbackground": true,
            "ticks": "",
            "zerolinecolor": "#EBF0F8"
           },
           "yaxis": {
            "backgroundcolor": "white",
            "gridcolor": "#DFE8F3",
            "gridwidth": 2,
            "linecolor": "#EBF0F8",
            "showbackground": true,
            "ticks": "",
            "zerolinecolor": "#EBF0F8"
           },
           "zaxis": {
            "backgroundcolor": "white",
            "gridcolor": "#DFE8F3",
            "gridwidth": 2,
            "linecolor": "#EBF0F8",
            "showbackground": true,
            "ticks": "",
            "zerolinecolor": "#EBF0F8"
           }
          },
          "shapedefaults": {
           "line": {
            "color": "#2a3f5f"
           }
          },
          "ternary": {
           "aaxis": {
            "gridcolor": "#DFE8F3",
            "linecolor": "#A2B1C6",
            "ticks": ""
           },
           "baxis": {
            "gridcolor": "#DFE8F3",
            "linecolor": "#A2B1C6",
            "ticks": ""
           },
           "bgcolor": "white",
           "caxis": {
            "gridcolor": "#DFE8F3",
            "linecolor": "#A2B1C6",
            "ticks": ""
           }
          },
          "title": {
           "x": 0.05
          },
          "xaxis": {
           "automargin": true,
           "gridcolor": "#EBF0F8",
           "linecolor": "#EBF0F8",
           "ticks": "",
           "title": {
            "standoff": 15
           },
           "zerolinecolor": "#EBF0F8",
           "zerolinewidth": 2
          },
          "yaxis": {
           "automargin": true,
           "gridcolor": "#EBF0F8",
           "linecolor": "#EBF0F8",
           "ticks": "",
           "title": {
            "standoff": 15
           },
           "zerolinecolor": "#EBF0F8",
           "zerolinewidth": 2
          }
         }
        },
        "width": 800,
        "xaxis": {
         "anchor": "y",
         "domain": [
          0,
          1
         ],
         "title": {
          "text": "BMI"
         }
        },
        "yaxis": {
         "anchor": "x",
         "domain": [
          0,
          1
         ],
         "title": {
          "text": "Dorea_longicatena"
         }
        }
       }
      },
      "text/html": [
       "<div>                            <div id=\"51e5e7c6-07fa-4ea6-adc0-8bc1de05497e\" class=\"plotly-graph-div\" style=\"height:600px; width:800px;\"></div>            <script type=\"text/javascript\">                require([\"plotly\"], function(Plotly) {                    window.PLOTLYENV=window.PLOTLYENV || {};                                    if (document.getElementById(\"51e5e7c6-07fa-4ea6-adc0-8bc1de05497e\")) {                    Plotly.newPlot(                        \"51e5e7c6-07fa-4ea6-adc0-8bc1de05497e\",                        [{\"customdata\":[[\"ESP\",\"BCN-01_1\",\"male\",\"adult\"],[\"ESP\",\"BCN-04_1\",\"male\",\"adult\"],[\"ESP\",\"BCN-05_1\",\"male\",\"senior\"],[\"ESP\",\"BCN-06_1\",\"male\",\"adult\"],[\"ESP\",\"BCN-07_1\",\"male\",\"senior\"],[\"ESP\",\"BCN-08_1\",\"male\",\"senior\"],[\"GBR\",\"PRIMM0002\",\"male\",\"senior\"],[\"GBR\",\"PRIMM0003\",\"male\",\"senior\"],[\"GBR\",\"PRIMM0004\",\"male\",\"adult\"],[\"GBR\",\"PRIMM0008\",\"male\",\"senior\"],[\"GBR\",\"PRIMM0017\",\"male\",\"adult\"],[\"GBR\",\"PRIMM0029\",\"male\",\"senior\"],[\"GBR\",\"PRIMM0030\",\"male\",\"adult\"],[\"GBR\",\"PRIMM0035\",\"male\",\"senior\"],[\"GBR\",\"PRIMM0044\",\"male\",\"adult\"],[\"GBR\",\"PRIMM0059\",\"male\",\"senior\"],[\"GBR\",\"PRIMM0060\",\"male\",\"senior\"],[\"GBR\",\"PRIMM0068\",\"male\",\"adult\"],[\"GBR\",\"PRIMM0069\",\"male\",\"adult\"],[\"GBR\",\"PRIMM0077\",\"male\",\"senior\"],[\"GBR\",\"PRIMM0079\",\"male\",\"senior\"],[\"GBR\",\"PRIMM0080\",\"male\",\"adult\"],[\"GBR\",\"PRIMM0088\",\"male\",\"senior\"],[\"GBR\",\"PRIMM0116\",\"male\",\"senior\"],[\"GBR\",\"PRIMM0117\",\"male\",\"senior\"],[\"GBR\",\"PRIMM0123\",\"male\",\"adult\"],[\"GBR\",\"PRIMM0137\",\"male\",\"senior\"],[\"GBR\",\"PRIMM0140\",\"male\",\"adult\"],[\"GBR\",\"PRIMM0143\",\"male\",\"adult\"],[\"GBR\",\"PRIMM0154\",\"male\",\"senior\"],[\"GBR\",\"PRIMM0155\",\"male\",\"senior\"],[\"GBR\",\"PRIMM0159\",\"male\",\"adult\"],[\"GBR\",\"PRIMM0162\",\"male\",\"adult\"],[\"GBR\",\"PRIMM0166\",\"male\",\"adult\"],[\"GBR\",\"PRIMM0171\",\"male\",\"adult\"],[\"GBR\",\"PRIMM0178\",\"male\",\"adult\"],[\"GBR\",\"PRIMM0193\",\"male\",\"adult\"],[\"GBR\",\"PRIMM0197\",\"male\",\"senior\"],[\"GBR\",\"PRIMM0199\",\"male\",\"senior\"],[\"GBR\",\"PRIMM0210\",\"male\",\"senior\"],[\"GBR\",\"PRIMM0215\",\"male\",\"senior\"],[\"GBR\",\"PRIMM0218\",\"male\",\"senior\"],[\"GBR\",\"PRIMM0220\",\"male\",\"adult\"],[\"GBR\",\"PRIMM0232\",\"male\",\"senior\"],[\"GBR\",\"PRIMM0234\",\"male\",\"adult\"],[\"GBR\",\"PRIMM0241\",\"male\",\"adult\"],[\"GBR\",\"PRIMM0261\",\"male\",\"adult\"],[\"GBR\",\"PRIMM0266\",\"male\",\"senior\"],[\"GBR\",\"PRIMM0271\",\"male\",\"senior\"],[\"GBR\",\"PRIMM0276\",\"male\",\"adult\"],[\"GBR\",\"PRIMM0278\",\"male\",\"adult\"],[\"NLD\",\"PRIMM0287\",\"male\",\"senior\"],[\"NLD\",\"PRIMM0300\",\"male\",\"adult\"],[\"NLD\",\"PRIMM0301\",\"male\",\"senior\"],[\"NLD\",\"PRIMM0308\",\"male\",\"adult\"],[\"NLD\",\"PRIMM0310\",\"male\",\"senior\"],[\"NLD\",\"PRIMM0352\",\"male\",\"senior\"],[\"NLD\",\"PRIMM0354\",\"male\",\"senior\"],[\"NLD\",\"PRIMM0361\",\"male\",\"adult\"],[\"GBR\",\"PRIMM0365\",\"male\",\"senior\"],[\"NLD\",\"PRIMM0381\",\"male\",\"adult\"],[\"NLD\",\"PRIMM0386\",\"male\",\"adult\"],[\"NLD\",\"PRIMM0387\",\"male\",\"adult\"],[\"NLD\",\"PRIMM0394\",\"male\",\"senior\"],[\"NLD\",\"PRIMM0398\",\"male\",\"senior\"],[\"NLD\",\"PRIMM0403\",\"male\",\"adult\"],[\"NLD\",\"PRIMM0404\",\"male\",\"adult\"],[\"NLD\",\"PRIMM0417\",\"male\",\"senior\"],[\"NLD\",\"PRIMM0424\",\"male\",\"adult\"],[\"NLD\",\"PRIMM0426\",\"male\",\"adult\"],[\"NLD\",\"PRIMM0427\",\"male\",\"senior\"],[\"NLD\",\"PRIMM0435\",\"male\",\"senior\"],[\"NLD\",\"PRIMM0461\",\"male\",\"adult\"],[\"NLD\",\"PRIMM0467\",\"male\",\"adult\"],[\"NLD\",\"PRIMM0474\",\"male\",\"senior\"],[\"NLD\",\"PRIMM0477\",\"male\",\"adult\"],[\"NLD\",\"PRIMM0483\",\"male\",\"senior\"],[\"NLD\",\"PRIMM0498\",\"male\",\"senior\"],[\"NLD\",\"PRIMM0511\",\"male\",\"senior\"],[\"NLD\",\"PRIMM0516\",\"male\",\"senior\"],[\"NLD\",\"PRIMM0521\",\"male\",\"senior\"],[\"NLD\",\"PRIMM0526\",\"male\",\"adult\"],[\"NLD\",\"PRIMM0532\",\"male\",\"adult\"],[\"GBR\",\"PRIMM0543\",\"male\",\"adult\"],[\"GBR\",\"PRIMM0544\",\"male\",\"senior\"],[\"GBR\",\"PRIMM0546\",\"male\",\"senior\"],[\"GBR\",\"PRIMM0551\",\"male\",\"senior\"],[\"GBR\",\"PRIMM0565\",\"male\",\"adult\"],[\"GBR\",\"PRIMM0567\",\"male\",\"adult\"],[\"GBR\",\"PRIMM0569\",\"male\",\"senior\"],[\"GBR\",\"PRIMM0571\",\"male\",\"adult\"],[\"GBR\",\"PRIMM0575\",\"male\",\"adult\"],[\"GBR\",\"PRIMM0576\",\"male\",\"adult\"],[\"GBR\",\"PRIMM0578\",\"male\",\"senior\"],[\"GBR\",\"PRIMM0590\",\"male\",\"senior\"],[\"GBR\",\"PRIMM0594\",\"male\",\"adult\"],[\"GBR\",\"PRIMM0597\",\"male\",\"senior\"],[\"GBR\",\"PRIMM0601\",\"male\",\"senior\"],[\"GBR\",\"PRIMM0602\",\"male\",\"adult\"],[\"GBR\",\"PRIMM0610\",\"male\",\"adult\"]],\"hovertemplate\":\"gender=%{customdata[2]}<br>BMI=%{x}<br>Dorea_longicatena=%{y}<br>country=%{customdata[0]}<br>subject_id=%{customdata[1]}<br>age_category=%{customdata[3]}<extra></extra>\",\"legendgroup\":\"male\",\"marker\":{\"color\":\"#636efa\",\"symbol\":\"circle\",\"line\":{\"color\":\"DarkSlateGrey\",\"width\":2},\"size\":12},\"mode\":\"markers\",\"name\":\"male\",\"orientation\":\"v\",\"showlegend\":true,\"x\":[28.7132112,30.35032952,36.07947745,31.37798917,26.171875,null,27.77777778,29.52111838,31.83495338,27.86594941,47.65812397,36.16967555,26.27471384,34.0410284,21.79106405,28.15530042,28.76420455,32.34477974,32.60475788,24.29943171,23.63969196,31.28092183,27.55789225,32.66520851,29.05328798,29.11894136,28.9007795,33.79017735,34.08660523,24.70554438,28.31024931,24.22857143,28.44137397,23.97053496,28.72737719,24.65590962,28.18457265,null,28.37821519,35.81314879,22.47658689,26.14927686,18.99198825,28.62879239,29.96161169,27.0,33.80205516,24.22145329,29.3877551,33.21799308,25.05736022,25.66115203,null,null,null,null,19.52311537,37.34721593,21.84700852,22.8206756,22.40878677,21.6066482,32.14024836,24.17897757,24.96800974,24.30248706,25.45111384,25.46938776,24.76756592,27.13141179,25.43646664,26.52851035,28.06891815,29.3523545,28.90507573,29.04657027,29.06122449,null,null,27.45982194,27.17063157,26.88172043,40.74074074,23.56663223,25.0,32.0,32.03857841,24.53512397,34.06360931,28.40111108,23.05456246,33.89721074,26.5,28.08641975,33.85577144,30.81648831,27.76465028,29.11542185,24.89117868,34.68627699],\"xaxis\":\"x\",\"y\":[0.07567,0.82328,0.09959,0.20807,0.03759,0.26584,4.93456,0.62757,3.28901,0.82327,14.13748,0.57174,1.6654,0.00043,0.10834,0.68895,0.00338,2.51907,1.34824,1.28352,0.40152,2.28552,0.21804,3.45777,3.52915,0.0,0.81788,0.83639,0.0,0.96465,0.1095,2.89223,1.06333,2.61281,0.00948,2.58002,0.99602,0.42283,1.93779,2.9013,1.47973,1.6909,0.23847,2.10952,1.21302,0.24972,0.73054,0.15299,0.56875,0.0,1.37289,0.96626,0.93774,0.86707,0.5409,1.28433,1.41117,1.09252,0.1595,1.73927,1.16107,0.12242,2.80733,1.79758,0.92461,1.31027,1.13263,0.00248,0.0,0.10993,0.23648,0.3379,1.45681,0.69088,3.95981,0.64201,8.34227,1.39839,2.68694,9.30414,2.02726,2.86798,2.55587,2.62214,3.95587,2.3709,3.27233,2.58919,2.00106,4.20691,0.10661,1.79777,0.42898,0.0,9.05042,0.0,0.62685,0.23401,0.0,0.66418],\"yaxis\":\"y\",\"type\":\"scatter\"},{\"hovertemplate\":\"<b>OLS trendline</b><br>Dorea_longicatena = 0.170767 * BMI + -3.20766<br>R<sup>2</sup>=0.125180<br><br>gender=male<br>BMI=%{x}<br>Dorea_longicatena=%{y} <b>(trend)</b><extra></extra>\",\"legendgroup\":\"male\",\"marker\":{\"color\":\"#636efa\",\"symbol\":\"circle\"},\"mode\":\"lines\",\"name\":\"male\",\"showlegend\":false,\"x\":[18.99198825,19.52311537,21.6066482,21.79106405,21.84700852,22.40878677,22.47658689,22.8206756,23.05456246,23.56663223,23.63969196,23.97053496,24.17897757,24.22145329,24.22857143,24.29943171,24.30248706,24.53512397,24.65590962,24.70554438,24.76756592,24.89117868,24.96800974,25.0,25.05736022,25.43646664,25.45111384,25.46938776,25.66115203,26.14927686,26.171875,26.27471384,26.5,26.52851035,26.88172043,27.0,27.13141179,27.17063157,27.45982194,27.55789225,27.76465028,27.77777778,27.86594941,28.06891815,28.08641975,28.15530042,28.18457265,28.31024931,28.37821519,28.40111108,28.44137397,28.62879239,28.7132112,28.72737719,28.76420455,28.9007795,28.90507573,29.04657027,29.05328798,29.06122449,29.11542185,29.11894136,29.3523545,29.3877551,29.52111838,29.96161169,30.35032952,30.81648831,31.28092183,31.37798917,31.83495338,32.0,32.03857841,32.14024836,32.34477974,32.60475788,32.66520851,33.21799308,33.79017735,33.80205516,33.85577144,33.89721074,34.0410284,34.06360931,34.08660523,34.68627699,35.81314879,36.07947745,36.16967555,37.34721593,40.74074074,47.65812397],\"xaxis\":\"x\",\"y\":[0.035553793852496796,0.1262530014763965,0.48205252596571313,0.5135447447556101,0.5230982375238558,0.6190316595177103,0.6306097110410547,0.6893688520717927,0.7293091075715337,0.8167539407164739,0.8292301622662528,0.8857273675829633,0.9213225741731632,0.9285760432621721,0.9297915896604732,0.9418922168097854,0.9424139710444654,0.9821407758084035,1.00276702955221,1.0112430294269714,1.021834287756266,1.0429433197789635,1.0560635616203218,1.0615264557645387,1.0713217125067143,1.1360607375053497,1.1385620020499072,1.1416825922095333,1.1744296817190572,1.257785499253945,1.2616445253036295,1.2792060486183505,1.3176775847745743,1.3225462236685557,1.3828629975150388,1.4030612944445862,1.4255021466937396,1.4321996073114232,1.4815839004943099,1.498331114246886,1.5336386494578136,1.5358803987551992,1.5509372404693025,1.585597688405799,1.5885863914721208,1.600348965730432,1.6053477089058603,1.6268091878053337,1.6384155457361071,1.6423254177849005,1.649201007605372,1.6812059675255568,1.6956219498530123,1.698041039407709,1.704329952636015,1.7276525043940074,1.728386160503999,1.7525488179505029,1.7536959839510775,1.755051281282344,1.7643064245845856,1.7649074422246276,1.8047668017824794,1.8108120708875672,1.8335861740478885,1.9088080798331335,1.975188420513688,2.0547931540846562,2.134103267750059,2.1506792069040603,2.228713805776513,2.2568983911447065,2.2634863266626475,2.2808482416485774,2.315775537585231,2.360171333637851,2.370494331720429,2.4648919261903135,2.5626023573651695,2.5646307003262807,2.5738036908384263,2.5808801731586835,2.6054395438124054,2.6092956275394537,2.613222581453204,2.7156269803594943,2.908059969572541,2.9535402275370277,2.9689431243034017,3.170028656164672,3.7495321304347176,4.930795813207777],\"yaxis\":\"y\",\"type\":\"scatter\"},{\"customdata\":[[\"ESP\",\"BCN-02_1\",\"female\",\"adult\"],[\"ESP\",\"BCN-03_1\",\"female\",\"senior\"],[\"ESP\",\"BCN-09_1\",\"female\",\"adult\"],[\"ESP\",\"BCN-10_1\",\"female\",\"adult\"],[\"ESP\",\"BCN-11_1\",\"female\",\"senior\"],[\"ESP\",\"BCN-12_1\",\"female\",\"senior\"],[\"GBR\",\"PRIMM0001\",\"female\",\"adult\"],[\"GBR\",\"PRIMM0005\",\"female\",\"adult\"],[\"GBR\",\"PRIMM0007\",\"female\",\"adult\"],[\"GBR\",\"PRIMM0013\",\"female\",\"senior\"],[\"GBR\",\"PRIMM0032\",\"female\",\"senior\"],[\"GBR\",\"PRIMM0050\",\"female\",\"adult\"],[\"GBR\",\"PRIMM0062\",\"female\",\"adult\"],[\"GBR\",\"PRIMM0064\",\"female\",\"adult\"],[\"GBR\",\"PRIMM0078\",\"female\",\"adult\"],[\"GBR\",\"PRIMM0087\",\"female\",\"adult\"],[\"GBR\",\"PRIMM0091\",\"female\",\"senior\"],[\"GBR\",\"PRIMM0094\",\"female\",\"senior\"],[\"GBR\",\"PRIMM0109\",\"female\",\"senior\"],[\"GBR\",\"PRIMM0111\",\"female\",\"adult\"],[\"GBR\",\"PRIMM0113\",\"female\",\"senior\"],[\"GBR\",\"PRIMM0129\",\"female\",\"senior\"],[\"GBR\",\"PRIMM0168\",\"female\",\"adult\"],[\"GBR\",\"PRIMM0181\",\"female\",\"adult\"],[\"GBR\",\"PRIMM0201\",\"female\",\"senior\"],[\"GBR\",\"PRIMM0204\",\"female\",\"senior\"],[\"GBR\",\"PRIMM0219\",\"female\",\"senior\"],[\"GBR\",\"PRIMM0240\",\"female\",\"senior\"],[\"GBR\",\"PRIMM0242\",\"female\",\"adult\"],[\"GBR\",\"PRIMM0256\",\"female\",\"adult\"],[\"GBR\",\"PRIMM0264\",\"female\",\"senior\"],[\"GBR\",\"PRIMM0281\",\"female\",\"senior\"],[\"NLD\",\"PRIMM0325\",\"female\",\"senior\"],[\"NLD\",\"PRIMM0328\",\"female\",\"adult\"],[\"NLD\",\"PRIMM0331\",\"female\",\"adult\"],[\"NLD\",\"PRIMM0353\",\"female\",\"senior\"],[\"NLD\",\"PRIMM0357\",\"female\",\"adult\"],[\"NLD\",\"PRIMM0378\",\"female\",\"senior\"],[\"NLD\",\"PRIMM0380\",\"female\",\"adult\"],[\"NLD\",\"PRIMM0383\",\"female\",\"adult\"],[\"NLD\",\"PRIMM0391\",\"female\",\"adult\"],[\"NLD\",\"PRIMM0399\",\"female\",\"adult\"],[\"NLD\",\"PRIMM0411\",\"female\",\"adult\"],[\"NLD\",\"PRIMM0421\",\"female\",\"adult\"],[\"NLD\",\"PRIMM0422\",\"female\",\"adult\"],[\"NLD\",\"PRIMM0423\",\"female\",\"adult\"],[\"NLD\",\"PRIMM0434\",\"female\",\"senior\"],[\"NLD\",\"PRIMM0445\",\"female\",\"adult\"],[\"NLD\",\"PRIMM0447\",\"female\",\"adult\"],[\"NLD\",\"PRIMM0455\",\"female\",\"adult\"],[\"NLD\",\"PRIMM0460\",\"female\",\"adult\"],[\"NLD\",\"PRIMM0473\",\"female\",\"adult\"],[\"NLD\",\"PRIMM0475\",\"female\",\"adult\"],[\"NLD\",\"PRIMM0513\",\"female\",\"adult\"],[\"NLD\",\"PRIMM0525\",\"female\",\"senior\"],[\"NLD\",\"PRIMM0536\",\"female\",\"adult\"],[\"GBR\",\"PRIMM0541\",\"female\",\"adult\"],[\"GBR\",\"PRIMM0549\",\"female\",\"senior\"],[\"GBR\",\"PRIMM0557\",\"female\",\"adult\"],[\"GBR\",\"PRIMM0559\",\"female\",\"senior\"],[\"GBR\",\"PRIMM0561\",\"female\",\"adult\"],[\"GBR\",\"PRIMM0563\",\"female\",\"adult\"],[\"GBR\",\"PRIMM0573\",\"female\",\"adult\"],[\"GBR\",\"PRIMM0589\",\"female\",\"adult\"],[\"GBR\",\"PRIMM0611\",\"female\",\"adult\"]],\"hovertemplate\":\"gender=%{customdata[2]}<br>BMI=%{x}<br>Dorea_longicatena=%{y}<br>country=%{customdata[0]}<br>subject_id=%{customdata[1]}<br>age_category=%{customdata[3]}<extra></extra>\",\"legendgroup\":\"female\",\"marker\":{\"color\":\"#EF553B\",\"symbol\":\"circle\",\"line\":{\"color\":\"DarkSlateGrey\",\"width\":2},\"size\":12},\"mode\":\"markers\",\"name\":\"female\",\"orientation\":\"v\",\"showlegend\":true,\"x\":[27.35457064,22.0603538,22.8515625,20.9566075,28.46036374,24.16171225,25.92419951,20.72432543,22.95432524,25.74394464,31.40522352,39.40621751,23.8697204,37.02479339,29.9597275,18.83437364,36.19875019,20.82093992,33.95061728,23.19620659,29.2358582,25.84648258,27.76342975,22.03856749,29.13631634,24.62222222,29.07495538,21.23057202,24.30461788,21.56454491,26.44628099,29.6875,31.25,29.41176471,19.91836735,30.86419753,null,24.67702134,33.94930751,31.83391003,21.4532872,24.96494648,25.99090318,38.19632234,18.77834467,37.57762747,27.76979795,24.65590962,26.61934339,29.40759637,33.15043439,null,32.07591299,27.39817568,26.42356982,31.97501487,26.76977989,38.57875854,26.0261749,29.24210864,38.0078167,21.60410478,20.90419501,19.1953028,27.16140697],\"xaxis\":\"x\",\"y\":[0.65825,0.03822,0.00531,0.76814,0.00512,0.0654,0.76546,0.0,0.79283,0.0,1.5069,1.64612,4.19414,0.0,0.0,0.0,1.42843,1.47758,11.9872,3.42982,2.74001,4.07329,0.0,2.92005,0.38897,1.03818,0.0,0.0,0.17674,1.19438,0.0,0.0,0.0,4.96548,0.0,0.97735,0.0,9.85735,10.38389,0.01458,1.52141,6.96724,4.181,1.02664,0.0,3.4993,0.28922,3.82992,0.03006,0.0,1.70123,1.01115,1.60794,1.22067,0.13598,1.27713,1.87945,4.55326,3.59762,4.7725,1.4144,1.07653,2.53146,8.68998,0.92254],\"yaxis\":\"y\",\"type\":\"scatter\"},{\"hovertemplate\":\"<b>OLS trendline</b><br>Dorea_longicatena = 0.0579647 * BMI + 0.386862<br>R<sup>2</sup>=0.013280<br><br>gender=female<br>BMI=%{x}<br>Dorea_longicatena=%{y} <b>(trend)</b><extra></extra>\",\"legendgroup\":\"female\",\"marker\":{\"color\":\"#EF553B\",\"symbol\":\"circle\"},\"mode\":\"lines\",\"name\":\"female\",\"showlegend\":false,\"x\":[18.77834467,18.83437364,19.1953028,19.91836735,20.72432543,20.82093992,20.90419501,20.9566075,21.23057202,21.4532872,21.56454491,21.60410478,22.03856749,22.0603538,22.8515625,22.95432524,23.19620659,23.8697204,24.16171225,24.30461788,24.62222222,24.65590962,24.67702134,24.96494648,25.74394464,25.84648258,25.92419951,25.99090318,26.0261749,26.42356982,26.44628099,26.61934339,26.76977989,27.16140697,27.35457064,27.39817568,27.76342975,27.76979795,28.46036374,29.07495538,29.13631634,29.2358582,29.24210864,29.40759637,29.41176471,29.6875,29.9597275,30.86419753,31.25,31.40522352,31.83391003,31.97501487,32.07591299,33.15043439,33.94930751,33.95061728,36.19875019,37.02479339,37.57762747,38.0078167,38.19632234,38.57875854,39.40621751],\"xaxis\":\"x\",\"y\":[1.4753429401351421,1.4785906415009729,1.4995117850790216,1.5414239909721312,1.5881410938783314,1.593741321959127,1.5985671766822347,1.6016052499389732,1.6174855159119723,1.6303951302467934,1.636844147901878,1.639137223141903,1.6643207154793414,1.6655835519859454,1.7114457117873345,1.7174023212173226,1.7314228964797986,1.7704629095416653,1.7873881239451512,1.795671603183408,1.8140814373961698,1.8160341167866938,1.8172578508992259,1.8339473397553485,1.8791017195023207,1.8850452984720483,1.8895501355181188,1.893416592462891,1.8954611064566196,1.9184959761759495,1.9198124218973078,1.9298439286848494,1.9385639323993709,1.9612644711137601,1.972461141602043,1.9749886938302048,1.9961605294362186,1.9965296601169698,2.036558085757831,2.072182694039158,2.07573946250377,2.08150937465242,2.0818716794123513,2.0914641228706055,2.091705739368486,2.1076886474594394,2.123468227622464,2.1758955442728336,2.198258461327349,2.207255943128515,2.2321046198762806,2.2402837168968635,2.2461322442235976,2.308416534268453,2.354722959729237,2.354798880129308,2.4851111868230813,2.532992517300427,2.565037368324707,2.589973149757718,2.6008998190235424,2.623067611311767,2.6710310064453555],\"yaxis\":\"y\",\"type\":\"scatter\"}],                        {\"template\":{\"data\":{\"barpolar\":[{\"marker\":{\"line\":{\"color\":\"white\",\"width\":0.5},\"pattern\":{\"fillmode\":\"overlay\",\"size\":10,\"solidity\":0.2}},\"type\":\"barpolar\"}],\"bar\":[{\"error_x\":{\"color\":\"#2a3f5f\"},\"error_y\":{\"color\":\"#2a3f5f\"},\"marker\":{\"line\":{\"color\":\"white\",\"width\":0.5},\"pattern\":{\"fillmode\":\"overlay\",\"size\":10,\"solidity\":0.2}},\"type\":\"bar\"}],\"carpet\":[{\"aaxis\":{\"endlinecolor\":\"#2a3f5f\",\"gridcolor\":\"#C8D4E3\",\"linecolor\":\"#C8D4E3\",\"minorgridcolor\":\"#C8D4E3\",\"startlinecolor\":\"#2a3f5f\"},\"baxis\":{\"endlinecolor\":\"#2a3f5f\",\"gridcolor\":\"#C8D4E3\",\"linecolor\":\"#C8D4E3\",\"minorgridcolor\":\"#C8D4E3\",\"startlinecolor\":\"#2a3f5f\"},\"type\":\"carpet\"}],\"choropleth\":[{\"colorbar\":{\"outlinewidth\":0,\"ticks\":\"\"},\"type\":\"choropleth\"}],\"contourcarpet\":[{\"colorbar\":{\"outlinewidth\":0,\"ticks\":\"\"},\"type\":\"contourcarpet\"}],\"contour\":[{\"colorbar\":{\"outlinewidth\":0,\"ticks\":\"\"},\"colorscale\":[[0.0,\"#0d0887\"],[0.1111111111111111,\"#46039f\"],[0.2222222222222222,\"#7201a8\"],[0.3333333333333333,\"#9c179e\"],[0.4444444444444444,\"#bd3786\"],[0.5555555555555556,\"#d8576b\"],[0.6666666666666666,\"#ed7953\"],[0.7777777777777778,\"#fb9f3a\"],[0.8888888888888888,\"#fdca26\"],[1.0,\"#f0f921\"]],\"type\":\"contour\"}],\"heatmapgl\":[{\"colorbar\":{\"outlinewidth\":0,\"ticks\":\"\"},\"colorscale\":[[0.0,\"#0d0887\"],[0.1111111111111111,\"#46039f\"],[0.2222222222222222,\"#7201a8\"],[0.3333333333333333,\"#9c179e\"],[0.4444444444444444,\"#bd3786\"],[0.5555555555555556,\"#d8576b\"],[0.6666666666666666,\"#ed7953\"],[0.7777777777777778,\"#fb9f3a\"],[0.8888888888888888,\"#fdca26\"],[1.0,\"#f0f921\"]],\"type\":\"heatmapgl\"}],\"heatmap\":[{\"colorbar\":{\"outlinewidth\":0,\"ticks\":\"\"},\"colorscale\":[[0.0,\"#0d0887\"],[0.1111111111111111,\"#46039f\"],[0.2222222222222222,\"#7201a8\"],[0.3333333333333333,\"#9c179e\"],[0.4444444444444444,\"#bd3786\"],[0.5555555555555556,\"#d8576b\"],[0.6666666666666666,\"#ed7953\"],[0.7777777777777778,\"#fb9f3a\"],[0.8888888888888888,\"#fdca26\"],[1.0,\"#f0f921\"]],\"type\":\"heatmap\"}],\"histogram2dcontour\":[{\"colorbar\":{\"outlinewidth\":0,\"ticks\":\"\"},\"colorscale\":[[0.0,\"#0d0887\"],[0.1111111111111111,\"#46039f\"],[0.2222222222222222,\"#7201a8\"],[0.3333333333333333,\"#9c179e\"],[0.4444444444444444,\"#bd3786\"],[0.5555555555555556,\"#d8576b\"],[0.6666666666666666,\"#ed7953\"],[0.7777777777777778,\"#fb9f3a\"],[0.8888888888888888,\"#fdca26\"],[1.0,\"#f0f921\"]],\"type\":\"histogram2dcontour\"}],\"histogram2d\":[{\"colorbar\":{\"outlinewidth\":0,\"ticks\":\"\"},\"colorscale\":[[0.0,\"#0d0887\"],[0.1111111111111111,\"#46039f\"],[0.2222222222222222,\"#7201a8\"],[0.3333333333333333,\"#9c179e\"],[0.4444444444444444,\"#bd3786\"],[0.5555555555555556,\"#d8576b\"],[0.6666666666666666,\"#ed7953\"],[0.7777777777777778,\"#fb9f3a\"],[0.8888888888888888,\"#fdca26\"],[1.0,\"#f0f921\"]],\"type\":\"histogram2d\"}],\"histogram\":[{\"marker\":{\"pattern\":{\"fillmode\":\"overlay\",\"size\":10,\"solidity\":0.2}},\"type\":\"histogram\"}],\"mesh3d\":[{\"colorbar\":{\"outlinewidth\":0,\"ticks\":\"\"},\"type\":\"mesh3d\"}],\"parcoords\":[{\"line\":{\"colorbar\":{\"outlinewidth\":0,\"ticks\":\"\"}},\"type\":\"parcoords\"}],\"pie\":[{\"automargin\":true,\"type\":\"pie\"}],\"scatter3d\":[{\"line\":{\"colorbar\":{\"outlinewidth\":0,\"ticks\":\"\"}},\"marker\":{\"colorbar\":{\"outlinewidth\":0,\"ticks\":\"\"}},\"type\":\"scatter3d\"}],\"scattercarpet\":[{\"marker\":{\"colorbar\":{\"outlinewidth\":0,\"ticks\":\"\"}},\"type\":\"scattercarpet\"}],\"scattergeo\":[{\"marker\":{\"colorbar\":{\"outlinewidth\":0,\"ticks\":\"\"}},\"type\":\"scattergeo\"}],\"scattergl\":[{\"marker\":{\"colorbar\":{\"outlinewidth\":0,\"ticks\":\"\"}},\"type\":\"scattergl\"}],\"scattermapbox\":[{\"marker\":{\"colorbar\":{\"outlinewidth\":0,\"ticks\":\"\"}},\"type\":\"scattermapbox\"}],\"scatterpolargl\":[{\"marker\":{\"colorbar\":{\"outlinewidth\":0,\"ticks\":\"\"}},\"type\":\"scatterpolargl\"}],\"scatterpolar\":[{\"marker\":{\"colorbar\":{\"outlinewidth\":0,\"ticks\":\"\"}},\"type\":\"scatterpolar\"}],\"scatter\":[{\"fillpattern\":{\"fillmode\":\"overlay\",\"size\":10,\"solidity\":0.2},\"type\":\"scatter\"}],\"scatterternary\":[{\"marker\":{\"colorbar\":{\"outlinewidth\":0,\"ticks\":\"\"}},\"type\":\"scatterternary\"}],\"surface\":[{\"colorbar\":{\"outlinewidth\":0,\"ticks\":\"\"},\"colorscale\":[[0.0,\"#0d0887\"],[0.1111111111111111,\"#46039f\"],[0.2222222222222222,\"#7201a8\"],[0.3333333333333333,\"#9c179e\"],[0.4444444444444444,\"#bd3786\"],[0.5555555555555556,\"#d8576b\"],[0.6666666666666666,\"#ed7953\"],[0.7777777777777778,\"#fb9f3a\"],[0.8888888888888888,\"#fdca26\"],[1.0,\"#f0f921\"]],\"type\":\"surface\"}],\"table\":[{\"cells\":{\"fill\":{\"color\":\"#EBF0F8\"},\"line\":{\"color\":\"white\"}},\"header\":{\"fill\":{\"color\":\"#C8D4E3\"},\"line\":{\"color\":\"white\"}},\"type\":\"table\"}]},\"layout\":{\"annotationdefaults\":{\"arrowcolor\":\"#2a3f5f\",\"arrowhead\":0,\"arrowwidth\":1},\"autotypenumbers\":\"strict\",\"coloraxis\":{\"colorbar\":{\"outlinewidth\":0,\"ticks\":\"\"}},\"colorscale\":{\"diverging\":[[0,\"#8e0152\"],[0.1,\"#c51b7d\"],[0.2,\"#de77ae\"],[0.3,\"#f1b6da\"],[0.4,\"#fde0ef\"],[0.5,\"#f7f7f7\"],[0.6,\"#e6f5d0\"],[0.7,\"#b8e186\"],[0.8,\"#7fbc41\"],[0.9,\"#4d9221\"],[1,\"#276419\"]],\"sequential\":[[0.0,\"#0d0887\"],[0.1111111111111111,\"#46039f\"],[0.2222222222222222,\"#7201a8\"],[0.3333333333333333,\"#9c179e\"],[0.4444444444444444,\"#bd3786\"],[0.5555555555555556,\"#d8576b\"],[0.6666666666666666,\"#ed7953\"],[0.7777777777777778,\"#fb9f3a\"],[0.8888888888888888,\"#fdca26\"],[1.0,\"#f0f921\"]],\"sequentialminus\":[[0.0,\"#0d0887\"],[0.1111111111111111,\"#46039f\"],[0.2222222222222222,\"#7201a8\"],[0.3333333333333333,\"#9c179e\"],[0.4444444444444444,\"#bd3786\"],[0.5555555555555556,\"#d8576b\"],[0.6666666666666666,\"#ed7953\"],[0.7777777777777778,\"#fb9f3a\"],[0.8888888888888888,\"#fdca26\"],[1.0,\"#f0f921\"]]},\"colorway\":[\"#636efa\",\"#EF553B\",\"#00cc96\",\"#ab63fa\",\"#FFA15A\",\"#19d3f3\",\"#FF6692\",\"#B6E880\",\"#FF97FF\",\"#FECB52\"],\"font\":{\"color\":\"#2a3f5f\"},\"geo\":{\"bgcolor\":\"white\",\"lakecolor\":\"white\",\"landcolor\":\"white\",\"showlakes\":true,\"showland\":true,\"subunitcolor\":\"#C8D4E3\"},\"hoverlabel\":{\"align\":\"left\"},\"hovermode\":\"closest\",\"mapbox\":{\"style\":\"light\"},\"paper_bgcolor\":\"white\",\"plot_bgcolor\":\"white\",\"polar\":{\"angularaxis\":{\"gridcolor\":\"#EBF0F8\",\"linecolor\":\"#EBF0F8\",\"ticks\":\"\"},\"bgcolor\":\"white\",\"radialaxis\":{\"gridcolor\":\"#EBF0F8\",\"linecolor\":\"#EBF0F8\",\"ticks\":\"\"}},\"scene\":{\"xaxis\":{\"backgroundcolor\":\"white\",\"gridcolor\":\"#DFE8F3\",\"gridwidth\":2,\"linecolor\":\"#EBF0F8\",\"showbackground\":true,\"ticks\":\"\",\"zerolinecolor\":\"#EBF0F8\"},\"yaxis\":{\"backgroundcolor\":\"white\",\"gridcolor\":\"#DFE8F3\",\"gridwidth\":2,\"linecolor\":\"#EBF0F8\",\"showbackground\":true,\"ticks\":\"\",\"zerolinecolor\":\"#EBF0F8\"},\"zaxis\":{\"backgroundcolor\":\"white\",\"gridcolor\":\"#DFE8F3\",\"gridwidth\":2,\"linecolor\":\"#EBF0F8\",\"showbackground\":true,\"ticks\":\"\",\"zerolinecolor\":\"#EBF0F8\"}},\"shapedefaults\":{\"line\":{\"color\":\"#2a3f5f\"}},\"ternary\":{\"aaxis\":{\"gridcolor\":\"#DFE8F3\",\"linecolor\":\"#A2B1C6\",\"ticks\":\"\"},\"baxis\":{\"gridcolor\":\"#DFE8F3\",\"linecolor\":\"#A2B1C6\",\"ticks\":\"\"},\"bgcolor\":\"white\",\"caxis\":{\"gridcolor\":\"#DFE8F3\",\"linecolor\":\"#A2B1C6\",\"ticks\":\"\"}},\"title\":{\"x\":0.05},\"xaxis\":{\"automargin\":true,\"gridcolor\":\"#EBF0F8\",\"linecolor\":\"#EBF0F8\",\"ticks\":\"\",\"title\":{\"standoff\":15},\"zerolinecolor\":\"#EBF0F8\",\"zerolinewidth\":2},\"yaxis\":{\"automargin\":true,\"gridcolor\":\"#EBF0F8\",\"linecolor\":\"#EBF0F8\",\"ticks\":\"\",\"title\":{\"standoff\":15},\"zerolinecolor\":\"#EBF0F8\",\"zerolinewidth\":2}}},\"xaxis\":{\"anchor\":\"y\",\"domain\":[0.0,1.0],\"title\":{\"text\":\"BMI\"}},\"yaxis\":{\"anchor\":\"x\",\"domain\":[0.0,1.0],\"title\":{\"text\":\"Dorea_longicatena\"}},\"legend\":{\"title\":{\"text\":\"gender\"},\"tracegroupgap\":0},\"margin\":{\"t\":60},\"height\":600,\"width\":800},                        {\"responsive\": true}                    ).then(function(){\n",
       "                            \n",
       "var gd = document.getElementById('51e5e7c6-07fa-4ea6-adc0-8bc1de05497e');\n",
       "var x = new MutationObserver(function (mutations, observer) {{\n",
       "        var display = window.getComputedStyle(gd).display;\n",
       "        if (!display || display === 'none') {{\n",
       "            console.log([gd, 'removed!']);\n",
       "            Plotly.purge(gd);\n",
       "            observer.disconnect();\n",
       "        }}\n",
       "}});\n",
       "\n",
       "// Listen for the removal of the full notebook cells\n",
       "var notebookContainer = gd.closest('#notebook-container');\n",
       "if (notebookContainer) {{\n",
       "    x.observe(notebookContainer, {childList: true});\n",
       "}}\n",
       "\n",
       "// Listen for the clearing of the current output cell\n",
       "var outputEl = gd.closest('.output');\n",
       "if (outputEl) {{\n",
       "    x.observe(outputEl, {childList: true});\n",
       "}}\n",
       "\n",
       "                        })                };                });            </script>        </div>"
      ]
     },
     "metadata": {},
     "output_type": "display_data"
    }
   ],
   "source": [
    "fig = px.scatter(df, x=\"BMI\", y=\"Dorea_longicatena\", color='gender',\n",
    "                hover_data=['country', 'subject_id', 'BMI', 'gender', 'age_category'], \n",
    "                template='plotly_white', width=800, height=600, trendline='ols')\n",
    "fig.update_traces(marker=dict(size=12,\n",
    "                              line=dict(width=2,\n",
    "                                        color='DarkSlateGrey')),\n",
    "                  selector=dict(mode='markers'))\n",
    "fig.show()"
   ]
  },
  {
   "cell_type": "code",
   "execution_count": 93,
   "id": "a514c3d2",
   "metadata": {
    "ExecuteTime": {
     "end_time": "2023-04-18T11:49:32.803260Z",
     "start_time": "2023-04-18T11:49:32.793471Z"
    }
   },
   "outputs": [
    {
     "data": {
      "text/plain": [
       "age_category\n",
       "adult     1.271645\n",
       "senior    2.937691\n",
       "Name: Prevotella_copri, dtype: float64"
      ]
     },
     "execution_count": 93,
     "metadata": {},
     "output_type": "execute_result"
    }
   ],
   "source": [
    "df.groupby(['age_category']).Prevotella_copri.mean()"
   ]
  },
  {
   "cell_type": "code",
   "execution_count": 101,
   "id": "bf943405",
   "metadata": {
    "ExecuteTime": {
     "end_time": "2023-04-18T11:52:15.994677Z",
     "start_time": "2023-04-18T11:52:15.976764Z"
    }
   },
   "outputs": [
    {
     "data": {
      "text/html": [
       "<div>\n",
       "<style scoped>\n",
       "    .dataframe tbody tr th:only-of-type {\n",
       "        vertical-align: middle;\n",
       "    }\n",
       "\n",
       "    .dataframe tbody tr th {\n",
       "        vertical-align: top;\n",
       "    }\n",
       "\n",
       "    .dataframe thead th {\n",
       "        text-align: right;\n",
       "    }\n",
       "</style>\n",
       "<table border=\"1\" class=\"dataframe\">\n",
       "  <thead>\n",
       "    <tr style=\"text-align: right;\">\n",
       "      <th></th>\n",
       "      <th>PFS12</th>\n",
       "      <th>species</th>\n",
       "      <th>RelAb</th>\n",
       "    </tr>\n",
       "  </thead>\n",
       "  <tbody>\n",
       "    <tr>\n",
       "      <th>0</th>\n",
       "      <td>no</td>\n",
       "      <td>Akkermansia_muciniphila</td>\n",
       "      <td>3.167862</td>\n",
       "    </tr>\n",
       "    <tr>\n",
       "      <th>1</th>\n",
       "      <td>no</td>\n",
       "      <td>Alistipes_putredinis</td>\n",
       "      <td>3.695984</td>\n",
       "    </tr>\n",
       "    <tr>\n",
       "      <th>2</th>\n",
       "      <td>no</td>\n",
       "      <td>Anaerostipes_hadrus</td>\n",
       "      <td>0.949722</td>\n",
       "    </tr>\n",
       "    <tr>\n",
       "      <th>3</th>\n",
       "      <td>no</td>\n",
       "      <td>Asaccharobacter_celatus</td>\n",
       "      <td>0.950204</td>\n",
       "    </tr>\n",
       "    <tr>\n",
       "      <th>4</th>\n",
       "      <td>no</td>\n",
       "      <td>Bacteroides_uniformis</td>\n",
       "      <td>3.050052</td>\n",
       "    </tr>\n",
       "    <tr>\n",
       "      <th>5</th>\n",
       "      <td>no</td>\n",
       "      <td>Bacteroides_vulgatus</td>\n",
       "      <td>1.384078</td>\n",
       "    </tr>\n",
       "    <tr>\n",
       "      <th>6</th>\n",
       "      <td>no</td>\n",
       "      <td>Bifidobacterium_adolescentis</td>\n",
       "      <td>6.258182</td>\n",
       "    </tr>\n",
       "    <tr>\n",
       "      <th>7</th>\n",
       "      <td>no</td>\n",
       "      <td>Bifidobacterium_bifidum</td>\n",
       "      <td>2.060352</td>\n",
       "    </tr>\n",
       "    <tr>\n",
       "      <th>8</th>\n",
       "      <td>no</td>\n",
       "      <td>Bifidobacterium_longum</td>\n",
       "      <td>5.231926</td>\n",
       "    </tr>\n",
       "    <tr>\n",
       "      <th>9</th>\n",
       "      <td>no</td>\n",
       "      <td>Collinsella_aerofaciens</td>\n",
       "      <td>9.641779</td>\n",
       "    </tr>\n",
       "    <tr>\n",
       "      <th>10</th>\n",
       "      <td>no</td>\n",
       "      <td>Coprococcus_comes</td>\n",
       "      <td>1.181042</td>\n",
       "    </tr>\n",
       "    <tr>\n",
       "      <th>11</th>\n",
       "      <td>no</td>\n",
       "      <td>Dorea_longicatena</td>\n",
       "      <td>1.639817</td>\n",
       "    </tr>\n",
       "    <tr>\n",
       "      <th>12</th>\n",
       "      <td>no</td>\n",
       "      <td>Escherichia_coli</td>\n",
       "      <td>5.032246</td>\n",
       "    </tr>\n",
       "    <tr>\n",
       "      <th>13</th>\n",
       "      <td>no</td>\n",
       "      <td>Eubacterium_rectale</td>\n",
       "      <td>1.928755</td>\n",
       "    </tr>\n",
       "    <tr>\n",
       "      <th>14</th>\n",
       "      <td>no</td>\n",
       "      <td>Faecalibacterium_prausnitzii</td>\n",
       "      <td>3.276843</td>\n",
       "    </tr>\n",
       "    <tr>\n",
       "      <th>15</th>\n",
       "      <td>no</td>\n",
       "      <td>Fusicatenibacter_saccharivorans</td>\n",
       "      <td>1.260302</td>\n",
       "    </tr>\n",
       "    <tr>\n",
       "      <th>16</th>\n",
       "      <td>no</td>\n",
       "      <td>Methanobrevibacter_smithii</td>\n",
       "      <td>1.665200</td>\n",
       "    </tr>\n",
       "    <tr>\n",
       "      <th>17</th>\n",
       "      <td>no</td>\n",
       "      <td>Prevotella_copri</td>\n",
       "      <td>1.741563</td>\n",
       "    </tr>\n",
       "    <tr>\n",
       "      <th>18</th>\n",
       "      <td>no</td>\n",
       "      <td>Ruminococcus_bromii</td>\n",
       "      <td>3.766698</td>\n",
       "    </tr>\n",
       "    <tr>\n",
       "      <th>19</th>\n",
       "      <td>no</td>\n",
       "      <td>Streptococcus_salivarius</td>\n",
       "      <td>1.684337</td>\n",
       "    </tr>\n",
       "    <tr>\n",
       "      <th>20</th>\n",
       "      <td>yes</td>\n",
       "      <td>Akkermansia_muciniphila</td>\n",
       "      <td>2.815779</td>\n",
       "    </tr>\n",
       "    <tr>\n",
       "      <th>21</th>\n",
       "      <td>yes</td>\n",
       "      <td>Alistipes_putredinis</td>\n",
       "      <td>2.177347</td>\n",
       "    </tr>\n",
       "    <tr>\n",
       "      <th>22</th>\n",
       "      <td>yes</td>\n",
       "      <td>Anaerostipes_hadrus</td>\n",
       "      <td>1.369964</td>\n",
       "    </tr>\n",
       "    <tr>\n",
       "      <th>23</th>\n",
       "      <td>yes</td>\n",
       "      <td>Asaccharobacter_celatus</td>\n",
       "      <td>1.501173</td>\n",
       "    </tr>\n",
       "    <tr>\n",
       "      <th>24</th>\n",
       "      <td>yes</td>\n",
       "      <td>Bacteroides_uniformis</td>\n",
       "      <td>2.483485</td>\n",
       "    </tr>\n",
       "    <tr>\n",
       "      <th>25</th>\n",
       "      <td>yes</td>\n",
       "      <td>Bacteroides_vulgatus</td>\n",
       "      <td>1.510944</td>\n",
       "    </tr>\n",
       "    <tr>\n",
       "      <th>26</th>\n",
       "      <td>yes</td>\n",
       "      <td>Bifidobacterium_adolescentis</td>\n",
       "      <td>6.746757</td>\n",
       "    </tr>\n",
       "    <tr>\n",
       "      <th>27</th>\n",
       "      <td>yes</td>\n",
       "      <td>Bifidobacterium_bifidum</td>\n",
       "      <td>1.673651</td>\n",
       "    </tr>\n",
       "    <tr>\n",
       "      <th>28</th>\n",
       "      <td>yes</td>\n",
       "      <td>Bifidobacterium_longum</td>\n",
       "      <td>4.959735</td>\n",
       "    </tr>\n",
       "    <tr>\n",
       "      <th>29</th>\n",
       "      <td>yes</td>\n",
       "      <td>Collinsella_aerofaciens</td>\n",
       "      <td>12.244391</td>\n",
       "    </tr>\n",
       "    <tr>\n",
       "      <th>30</th>\n",
       "      <td>yes</td>\n",
       "      <td>Coprococcus_comes</td>\n",
       "      <td>1.325815</td>\n",
       "    </tr>\n",
       "    <tr>\n",
       "      <th>31</th>\n",
       "      <td>yes</td>\n",
       "      <td>Dorea_longicatena</td>\n",
       "      <td>1.761182</td>\n",
       "    </tr>\n",
       "    <tr>\n",
       "      <th>32</th>\n",
       "      <td>yes</td>\n",
       "      <td>Escherichia_coli</td>\n",
       "      <td>4.248707</td>\n",
       "    </tr>\n",
       "    <tr>\n",
       "      <th>33</th>\n",
       "      <td>yes</td>\n",
       "      <td>Eubacterium_rectale</td>\n",
       "      <td>1.951432</td>\n",
       "    </tr>\n",
       "    <tr>\n",
       "      <th>34</th>\n",
       "      <td>yes</td>\n",
       "      <td>Faecalibacterium_prausnitzii</td>\n",
       "      <td>3.235606</td>\n",
       "    </tr>\n",
       "    <tr>\n",
       "      <th>35</th>\n",
       "      <td>yes</td>\n",
       "      <td>Fusicatenibacter_saccharivorans</td>\n",
       "      <td>1.559981</td>\n",
       "    </tr>\n",
       "    <tr>\n",
       "      <th>36</th>\n",
       "      <td>yes</td>\n",
       "      <td>Methanobrevibacter_smithii</td>\n",
       "      <td>1.380664</td>\n",
       "    </tr>\n",
       "    <tr>\n",
       "      <th>37</th>\n",
       "      <td>yes</td>\n",
       "      <td>Prevotella_copri</td>\n",
       "      <td>2.380966</td>\n",
       "    </tr>\n",
       "    <tr>\n",
       "      <th>38</th>\n",
       "      <td>yes</td>\n",
       "      <td>Ruminococcus_bromii</td>\n",
       "      <td>3.870793</td>\n",
       "    </tr>\n",
       "    <tr>\n",
       "      <th>39</th>\n",
       "      <td>yes</td>\n",
       "      <td>Streptococcus_salivarius</td>\n",
       "      <td>1.600724</td>\n",
       "    </tr>\n",
       "  </tbody>\n",
       "</table>\n",
       "</div>"
      ],
      "text/plain": [
       "   PFS12                          species      RelAb\n",
       "0     no          Akkermansia_muciniphila   3.167862\n",
       "1     no             Alistipes_putredinis   3.695984\n",
       "2     no              Anaerostipes_hadrus   0.949722\n",
       "3     no          Asaccharobacter_celatus   0.950204\n",
       "4     no            Bacteroides_uniformis   3.050052\n",
       "5     no             Bacteroides_vulgatus   1.384078\n",
       "6     no     Bifidobacterium_adolescentis   6.258182\n",
       "7     no          Bifidobacterium_bifidum   2.060352\n",
       "8     no           Bifidobacterium_longum   5.231926\n",
       "9     no          Collinsella_aerofaciens   9.641779\n",
       "10    no                Coprococcus_comes   1.181042\n",
       "11    no                Dorea_longicatena   1.639817\n",
       "12    no                 Escherichia_coli   5.032246\n",
       "13    no              Eubacterium_rectale   1.928755\n",
       "14    no     Faecalibacterium_prausnitzii   3.276843\n",
       "15    no  Fusicatenibacter_saccharivorans   1.260302\n",
       "16    no       Methanobrevibacter_smithii   1.665200\n",
       "17    no                 Prevotella_copri   1.741563\n",
       "18    no              Ruminococcus_bromii   3.766698\n",
       "19    no         Streptococcus_salivarius   1.684337\n",
       "20   yes          Akkermansia_muciniphila   2.815779\n",
       "21   yes             Alistipes_putredinis   2.177347\n",
       "22   yes              Anaerostipes_hadrus   1.369964\n",
       "23   yes          Asaccharobacter_celatus   1.501173\n",
       "24   yes            Bacteroides_uniformis   2.483485\n",
       "25   yes             Bacteroides_vulgatus   1.510944\n",
       "26   yes     Bifidobacterium_adolescentis   6.746757\n",
       "27   yes          Bifidobacterium_bifidum   1.673651\n",
       "28   yes           Bifidobacterium_longum   4.959735\n",
       "29   yes          Collinsella_aerofaciens  12.244391\n",
       "30   yes                Coprococcus_comes   1.325815\n",
       "31   yes                Dorea_longicatena   1.761182\n",
       "32   yes                 Escherichia_coli   4.248707\n",
       "33   yes              Eubacterium_rectale   1.951432\n",
       "34   yes     Faecalibacterium_prausnitzii   3.235606\n",
       "35   yes  Fusicatenibacter_saccharivorans   1.559981\n",
       "36   yes       Methanobrevibacter_smithii   1.380664\n",
       "37   yes                 Prevotella_copri   2.380966\n",
       "38   yes              Ruminococcus_bromii   3.870793\n",
       "39   yes         Streptococcus_salivarius   1.600724"
      ]
     },
     "execution_count": 101,
     "metadata": {},
     "output_type": "execute_result"
    }
   ],
   "source": [
    "new_df"
   ]
  },
  {
   "cell_type": "code",
   "execution_count": 110,
   "id": "78072ec6",
   "metadata": {
    "ExecuteTime": {
     "end_time": "2023-04-18T11:54:08.599387Z",
     "start_time": "2023-04-18T11:54:08.300455Z"
    }
   },
   "outputs": [
    {
     "data": {
      "application/vnd.plotly.v1+json": {
       "config": {
        "plotlyServerURL": "https://plotly.com"
       },
       "data": [
        {
         "alignmentgroup": "True",
         "hovertemplate": "species=Akkermansia_muciniphila<br>PFS12=%{x}<br>RelAb=%{y}<extra></extra>",
         "legendgroup": "",
         "marker": {
          "color": "#636efa",
          "pattern": {
           "shape": ""
          }
         },
         "name": "",
         "offsetgroup": "",
         "orientation": "v",
         "showlegend": false,
         "textposition": "auto",
         "type": "bar",
         "x": [
          "no",
          "yes"
         ],
         "xaxis": "x17",
         "y": [
          3.167861627906977,
          2.8157787012987012
         ],
         "yaxis": "y17"
        },
        {
         "alignmentgroup": "True",
         "hovertemplate": "species=Alistipes_putredinis<br>PFS12=%{x}<br>RelAb=%{y}<extra></extra>",
         "legendgroup": "",
         "marker": {
          "color": "#636efa",
          "pattern": {
           "shape": ""
          }
         },
         "name": "",
         "offsetgroup": "",
         "orientation": "v",
         "showlegend": false,
         "textposition": "auto",
         "type": "bar",
         "x": [
          "no",
          "yes"
         ],
         "xaxis": "x18",
         "y": [
          3.695984302325581,
          2.177347142857143
         ],
         "yaxis": "y18"
        },
        {
         "alignmentgroup": "True",
         "hovertemplate": "species=Anaerostipes_hadrus<br>PFS12=%{x}<br>RelAb=%{y}<extra></extra>",
         "legendgroup": "",
         "marker": {
          "color": "#636efa",
          "pattern": {
           "shape": ""
          }
         },
         "name": "",
         "offsetgroup": "",
         "orientation": "v",
         "showlegend": false,
         "textposition": "auto",
         "type": "bar",
         "x": [
          "no",
          "yes"
         ],
         "xaxis": "x19",
         "y": [
          0.9497216279069768,
          1.3699642857142857
         ],
         "yaxis": "y19"
        },
        {
         "alignmentgroup": "True",
         "hovertemplate": "species=Asaccharobacter_celatus<br>PFS12=%{x}<br>RelAb=%{y}<extra></extra>",
         "legendgroup": "",
         "marker": {
          "color": "#636efa",
          "pattern": {
           "shape": ""
          }
         },
         "name": "",
         "offsetgroup": "",
         "orientation": "v",
         "showlegend": false,
         "textposition": "auto",
         "type": "bar",
         "x": [
          "no",
          "yes"
         ],
         "xaxis": "x20",
         "y": [
          0.9502041860465117,
          1.5011727272727273
         ],
         "yaxis": "y20"
        },
        {
         "alignmentgroup": "True",
         "hovertemplate": "species=Bacteroides_uniformis<br>PFS12=%{x}<br>RelAb=%{y}<extra></extra>",
         "legendgroup": "",
         "marker": {
          "color": "#636efa",
          "pattern": {
           "shape": ""
          }
         },
         "name": "",
         "offsetgroup": "",
         "orientation": "v",
         "showlegend": false,
         "textposition": "auto",
         "type": "bar",
         "x": [
          "no",
          "yes"
         ],
         "xaxis": "x13",
         "y": [
          3.0500522093023252,
          2.483485064935065
         ],
         "yaxis": "y13"
        },
        {
         "alignmentgroup": "True",
         "hovertemplate": "species=Bacteroides_vulgatus<br>PFS12=%{x}<br>RelAb=%{y}<extra></extra>",
         "legendgroup": "",
         "marker": {
          "color": "#636efa",
          "pattern": {
           "shape": ""
          }
         },
         "name": "",
         "offsetgroup": "",
         "orientation": "v",
         "showlegend": false,
         "textposition": "auto",
         "type": "bar",
         "x": [
          "no",
          "yes"
         ],
         "xaxis": "x14",
         "y": [
          1.384078488372093,
          1.5109444155844156
         ],
         "yaxis": "y14"
        },
        {
         "alignmentgroup": "True",
         "hovertemplate": "species=Bifidobacterium_adolescentis<br>PFS12=%{x}<br>RelAb=%{y}<extra></extra>",
         "legendgroup": "",
         "marker": {
          "color": "#636efa",
          "pattern": {
           "shape": ""
          }
         },
         "name": "",
         "offsetgroup": "",
         "orientation": "v",
         "showlegend": false,
         "textposition": "auto",
         "type": "bar",
         "x": [
          "no",
          "yes"
         ],
         "xaxis": "x15",
         "y": [
          6.258182093023256,
          6.746756623376624
         ],
         "yaxis": "y15"
        },
        {
         "alignmentgroup": "True",
         "hovertemplate": "species=Bifidobacterium_bifidum<br>PFS12=%{x}<br>RelAb=%{y}<extra></extra>",
         "legendgroup": "",
         "marker": {
          "color": "#636efa",
          "pattern": {
           "shape": ""
          }
         },
         "name": "",
         "offsetgroup": "",
         "orientation": "v",
         "showlegend": false,
         "textposition": "auto",
         "type": "bar",
         "x": [
          "no",
          "yes"
         ],
         "xaxis": "x16",
         "y": [
          2.0603517441860464,
          1.6736510389610388
         ],
         "yaxis": "y16"
        },
        {
         "alignmentgroup": "True",
         "hovertemplate": "species=Bifidobacterium_longum<br>PFS12=%{x}<br>RelAb=%{y}<extra></extra>",
         "legendgroup": "",
         "marker": {
          "color": "#636efa",
          "pattern": {
           "shape": ""
          }
         },
         "name": "",
         "offsetgroup": "",
         "orientation": "v",
         "showlegend": false,
         "textposition": "auto",
         "type": "bar",
         "x": [
          "no",
          "yes"
         ],
         "xaxis": "x9",
         "y": [
          5.231925930232558,
          4.959735454545455
         ],
         "yaxis": "y9"
        },
        {
         "alignmentgroup": "True",
         "hovertemplate": "species=Collinsella_aerofaciens<br>PFS12=%{x}<br>RelAb=%{y}<extra></extra>",
         "legendgroup": "",
         "marker": {
          "color": "#636efa",
          "pattern": {
           "shape": ""
          }
         },
         "name": "",
         "offsetgroup": "",
         "orientation": "v",
         "showlegend": false,
         "textposition": "auto",
         "type": "bar",
         "x": [
          "no",
          "yes"
         ],
         "xaxis": "x10",
         "y": [
          9.641778953488371,
          12.244391428571427
         ],
         "yaxis": "y10"
        },
        {
         "alignmentgroup": "True",
         "hovertemplate": "species=Coprococcus_comes<br>PFS12=%{x}<br>RelAb=%{y}<extra></extra>",
         "legendgroup": "",
         "marker": {
          "color": "#636efa",
          "pattern": {
           "shape": ""
          }
         },
         "name": "",
         "offsetgroup": "",
         "orientation": "v",
         "showlegend": false,
         "textposition": "auto",
         "type": "bar",
         "x": [
          "no",
          "yes"
         ],
         "xaxis": "x11",
         "y": [
          1.1810422093023256,
          1.325814805194805
         ],
         "yaxis": "y11"
        },
        {
         "alignmentgroup": "True",
         "hovertemplate": "species=Dorea_longicatena<br>PFS12=%{x}<br>RelAb=%{y}<extra></extra>",
         "legendgroup": "",
         "marker": {
          "color": "#636efa",
          "pattern": {
           "shape": ""
          }
         },
         "name": "",
         "offsetgroup": "",
         "orientation": "v",
         "showlegend": false,
         "textposition": "auto",
         "type": "bar",
         "x": [
          "no",
          "yes"
         ],
         "xaxis": "x12",
         "y": [
          1.6398168604651162,
          1.7611816883116884
         ],
         "yaxis": "y12"
        },
        {
         "alignmentgroup": "True",
         "hovertemplate": "species=Escherichia_coli<br>PFS12=%{x}<br>RelAb=%{y}<extra></extra>",
         "legendgroup": "",
         "marker": {
          "color": "#636efa",
          "pattern": {
           "shape": ""
          }
         },
         "name": "",
         "offsetgroup": "",
         "orientation": "v",
         "showlegend": false,
         "textposition": "auto",
         "type": "bar",
         "x": [
          "no",
          "yes"
         ],
         "xaxis": "x5",
         "y": [
          5.032245813953488,
          4.248707402597402
         ],
         "yaxis": "y5"
        },
        {
         "alignmentgroup": "True",
         "hovertemplate": "species=Eubacterium_rectale<br>PFS12=%{x}<br>RelAb=%{y}<extra></extra>",
         "legendgroup": "",
         "marker": {
          "color": "#636efa",
          "pattern": {
           "shape": ""
          }
         },
         "name": "",
         "offsetgroup": "",
         "orientation": "v",
         "showlegend": false,
         "textposition": "auto",
         "type": "bar",
         "x": [
          "no",
          "yes"
         ],
         "xaxis": "x6",
         "y": [
          1.9287554651162793,
          1.9514315584415585
         ],
         "yaxis": "y6"
        },
        {
         "alignmentgroup": "True",
         "hovertemplate": "species=Faecalibacterium_prausnitzii<br>PFS12=%{x}<br>RelAb=%{y}<extra></extra>",
         "legendgroup": "",
         "marker": {
          "color": "#636efa",
          "pattern": {
           "shape": ""
          }
         },
         "name": "",
         "offsetgroup": "",
         "orientation": "v",
         "showlegend": false,
         "textposition": "auto",
         "type": "bar",
         "x": [
          "no",
          "yes"
         ],
         "xaxis": "x7",
         "y": [
          3.276842906976744,
          3.235606103896104
         ],
         "yaxis": "y7"
        },
        {
         "alignmentgroup": "True",
         "hovertemplate": "species=Fusicatenibacter_saccharivorans<br>PFS12=%{x}<br>RelAb=%{y}<extra></extra>",
         "legendgroup": "",
         "marker": {
          "color": "#636efa",
          "pattern": {
           "shape": ""
          }
         },
         "name": "",
         "offsetgroup": "",
         "orientation": "v",
         "showlegend": false,
         "textposition": "auto",
         "type": "bar",
         "x": [
          "no",
          "yes"
         ],
         "xaxis": "x8",
         "y": [
          1.260301976744186,
          1.559981038961039
         ],
         "yaxis": "y8"
        },
        {
         "alignmentgroup": "True",
         "hovertemplate": "species=Methanobrevibacter_smithii<br>PFS12=%{x}<br>RelAb=%{y}<extra></extra>",
         "legendgroup": "",
         "marker": {
          "color": "#636efa",
          "pattern": {
           "shape": ""
          }
         },
         "name": "",
         "offsetgroup": "",
         "orientation": "v",
         "showlegend": false,
         "textposition": "auto",
         "type": "bar",
         "x": [
          "no",
          "yes"
         ],
         "xaxis": "x",
         "y": [
          1.6651995348837207,
          1.3806638961038962
         ],
         "yaxis": "y"
        },
        {
         "alignmentgroup": "True",
         "hovertemplate": "species=Prevotella_copri<br>PFS12=%{x}<br>RelAb=%{y}<extra></extra>",
         "legendgroup": "",
         "marker": {
          "color": "#636efa",
          "pattern": {
           "shape": ""
          }
         },
         "name": "",
         "offsetgroup": "",
         "orientation": "v",
         "showlegend": false,
         "textposition": "auto",
         "type": "bar",
         "x": [
          "no",
          "yes"
         ],
         "xaxis": "x2",
         "y": [
          1.741563023255814,
          2.3809663636363636
         ],
         "yaxis": "y2"
        },
        {
         "alignmentgroup": "True",
         "hovertemplate": "species=Ruminococcus_bromii<br>PFS12=%{x}<br>RelAb=%{y}<extra></extra>",
         "legendgroup": "",
         "marker": {
          "color": "#636efa",
          "pattern": {
           "shape": ""
          }
         },
         "name": "",
         "offsetgroup": "",
         "orientation": "v",
         "showlegend": false,
         "textposition": "auto",
         "type": "bar",
         "x": [
          "no",
          "yes"
         ],
         "xaxis": "x3",
         "y": [
          3.7666984883720933,
          3.870792597402598
         ],
         "yaxis": "y3"
        },
        {
         "alignmentgroup": "True",
         "hovertemplate": "species=Streptococcus_salivarius<br>PFS12=%{x}<br>RelAb=%{y}<extra></extra>",
         "legendgroup": "",
         "marker": {
          "color": "#636efa",
          "pattern": {
           "shape": ""
          }
         },
         "name": "",
         "offsetgroup": "",
         "orientation": "v",
         "showlegend": false,
         "textposition": "auto",
         "type": "bar",
         "x": [
          "no",
          "yes"
         ],
         "xaxis": "x4",
         "y": [
          1.6843374418604653,
          1.6007242857142856
         ],
         "yaxis": "y4"
        }
       ],
       "layout": {
        "annotations": [
         {
          "font": {},
          "showarrow": false,
          "text": "species=Methanobrevibacter_smithii",
          "x": 0.1175,
          "xanchor": "center",
          "xref": "paper",
          "y": 0.144,
          "yanchor": "bottom",
          "yref": "paper"
         },
         {
          "font": {},
          "showarrow": false,
          "text": "species=Prevotella_copri",
          "x": 0.3725,
          "xanchor": "center",
          "xref": "paper",
          "y": 0.144,
          "yanchor": "bottom",
          "yref": "paper"
         },
         {
          "font": {},
          "showarrow": false,
          "text": "species=Ruminococcus_bromii",
          "x": 0.6275,
          "xanchor": "center",
          "xref": "paper",
          "y": 0.144,
          "yanchor": "bottom",
          "yref": "paper"
         },
         {
          "font": {},
          "showarrow": false,
          "text": "species=Streptococcus_salivarius",
          "x": 0.8824999999999998,
          "xanchor": "center",
          "xref": "paper",
          "y": 0.144,
          "yanchor": "bottom",
          "yref": "paper"
         },
         {
          "font": {},
          "showarrow": false,
          "text": "species=Escherichia_coli",
          "x": 0.1175,
          "xanchor": "center",
          "xref": "paper",
          "y": 0.358,
          "yanchor": "bottom",
          "yref": "paper"
         },
         {
          "font": {},
          "showarrow": false,
          "text": "species=Eubacterium_rectale",
          "x": 0.3725,
          "xanchor": "center",
          "xref": "paper",
          "y": 0.358,
          "yanchor": "bottom",
          "yref": "paper"
         },
         {
          "font": {},
          "showarrow": false,
          "text": "species=Faecalibacterium_prausnitzii",
          "x": 0.6275,
          "xanchor": "center",
          "xref": "paper",
          "y": 0.358,
          "yanchor": "bottom",
          "yref": "paper"
         },
         {
          "font": {},
          "showarrow": false,
          "text": "species=Fusicatenibacter_saccharivorans",
          "x": 0.8824999999999998,
          "xanchor": "center",
          "xref": "paper",
          "y": 0.358,
          "yanchor": "bottom",
          "yref": "paper"
         },
         {
          "font": {},
          "showarrow": false,
          "text": "species=Bifidobacterium_longum",
          "x": 0.1175,
          "xanchor": "center",
          "xref": "paper",
          "y": 0.572,
          "yanchor": "bottom",
          "yref": "paper"
         },
         {
          "font": {},
          "showarrow": false,
          "text": "species=Collinsella_aerofaciens",
          "x": 0.3725,
          "xanchor": "center",
          "xref": "paper",
          "y": 0.572,
          "yanchor": "bottom",
          "yref": "paper"
         },
         {
          "font": {},
          "showarrow": false,
          "text": "species=Coprococcus_comes",
          "x": 0.6275,
          "xanchor": "center",
          "xref": "paper",
          "y": 0.572,
          "yanchor": "bottom",
          "yref": "paper"
         },
         {
          "font": {},
          "showarrow": false,
          "text": "species=Dorea_longicatena",
          "x": 0.8824999999999998,
          "xanchor": "center",
          "xref": "paper",
          "y": 0.572,
          "yanchor": "bottom",
          "yref": "paper"
         },
         {
          "font": {},
          "showarrow": false,
          "text": "species=Bacteroides_uniformis",
          "x": 0.1175,
          "xanchor": "center",
          "xref": "paper",
          "y": 0.7859999999999999,
          "yanchor": "bottom",
          "yref": "paper"
         },
         {
          "font": {},
          "showarrow": false,
          "text": "species=Bacteroides_vulgatus",
          "x": 0.3725,
          "xanchor": "center",
          "xref": "paper",
          "y": 0.7859999999999999,
          "yanchor": "bottom",
          "yref": "paper"
         },
         {
          "font": {},
          "showarrow": false,
          "text": "species=Bifidobacterium_adolescentis",
          "x": 0.6275,
          "xanchor": "center",
          "xref": "paper",
          "y": 0.7859999999999999,
          "yanchor": "bottom",
          "yref": "paper"
         },
         {
          "font": {},
          "showarrow": false,
          "text": "species=Bifidobacterium_bifidum",
          "x": 0.8824999999999998,
          "xanchor": "center",
          "xref": "paper",
          "y": 0.7859999999999999,
          "yanchor": "bottom",
          "yref": "paper"
         },
         {
          "font": {},
          "showarrow": false,
          "text": "species=Akkermansia_muciniphila",
          "x": 0.1175,
          "xanchor": "center",
          "xref": "paper",
          "y": 1,
          "yanchor": "bottom",
          "yref": "paper"
         },
         {
          "font": {},
          "showarrow": false,
          "text": "species=Alistipes_putredinis",
          "x": 0.3725,
          "xanchor": "center",
          "xref": "paper",
          "y": 1,
          "yanchor": "bottom",
          "yref": "paper"
         },
         {
          "font": {},
          "showarrow": false,
          "text": "species=Anaerostipes_hadrus",
          "x": 0.6275,
          "xanchor": "center",
          "xref": "paper",
          "y": 1,
          "yanchor": "bottom",
          "yref": "paper"
         },
         {
          "font": {},
          "showarrow": false,
          "text": "species=Asaccharobacter_celatus",
          "x": 0.8824999999999998,
          "xanchor": "center",
          "xref": "paper",
          "y": 1,
          "yanchor": "bottom",
          "yref": "paper"
         }
        ],
        "barmode": "relative",
        "height": 1000,
        "legend": {
         "tracegroupgap": 0
        },
        "margin": {
         "t": 60
        },
        "template": {
         "data": {
          "bar": [
           {
            "error_x": {
             "color": "#2a3f5f"
            },
            "error_y": {
             "color": "#2a3f5f"
            },
            "marker": {
             "line": {
              "color": "#E5ECF6",
              "width": 0.5
             },
             "pattern": {
              "fillmode": "overlay",
              "size": 10,
              "solidity": 0.2
             }
            },
            "type": "bar"
           }
          ],
          "barpolar": [
           {
            "marker": {
             "line": {
              "color": "#E5ECF6",
              "width": 0.5
             },
             "pattern": {
              "fillmode": "overlay",
              "size": 10,
              "solidity": 0.2
             }
            },
            "type": "barpolar"
           }
          ],
          "carpet": [
           {
            "aaxis": {
             "endlinecolor": "#2a3f5f",
             "gridcolor": "white",
             "linecolor": "white",
             "minorgridcolor": "white",
             "startlinecolor": "#2a3f5f"
            },
            "baxis": {
             "endlinecolor": "#2a3f5f",
             "gridcolor": "white",
             "linecolor": "white",
             "minorgridcolor": "white",
             "startlinecolor": "#2a3f5f"
            },
            "type": "carpet"
           }
          ],
          "choropleth": [
           {
            "colorbar": {
             "outlinewidth": 0,
             "ticks": ""
            },
            "type": "choropleth"
           }
          ],
          "contour": [
           {
            "colorbar": {
             "outlinewidth": 0,
             "ticks": ""
            },
            "colorscale": [
             [
              0,
              "#0d0887"
             ],
             [
              0.1111111111111111,
              "#46039f"
             ],
             [
              0.2222222222222222,
              "#7201a8"
             ],
             [
              0.3333333333333333,
              "#9c179e"
             ],
             [
              0.4444444444444444,
              "#bd3786"
             ],
             [
              0.5555555555555556,
              "#d8576b"
             ],
             [
              0.6666666666666666,
              "#ed7953"
             ],
             [
              0.7777777777777778,
              "#fb9f3a"
             ],
             [
              0.8888888888888888,
              "#fdca26"
             ],
             [
              1,
              "#f0f921"
             ]
            ],
            "type": "contour"
           }
          ],
          "contourcarpet": [
           {
            "colorbar": {
             "outlinewidth": 0,
             "ticks": ""
            },
            "type": "contourcarpet"
           }
          ],
          "heatmap": [
           {
            "colorbar": {
             "outlinewidth": 0,
             "ticks": ""
            },
            "colorscale": [
             [
              0,
              "#0d0887"
             ],
             [
              0.1111111111111111,
              "#46039f"
             ],
             [
              0.2222222222222222,
              "#7201a8"
             ],
             [
              0.3333333333333333,
              "#9c179e"
             ],
             [
              0.4444444444444444,
              "#bd3786"
             ],
             [
              0.5555555555555556,
              "#d8576b"
             ],
             [
              0.6666666666666666,
              "#ed7953"
             ],
             [
              0.7777777777777778,
              "#fb9f3a"
             ],
             [
              0.8888888888888888,
              "#fdca26"
             ],
             [
              1,
              "#f0f921"
             ]
            ],
            "type": "heatmap"
           }
          ],
          "heatmapgl": [
           {
            "colorbar": {
             "outlinewidth": 0,
             "ticks": ""
            },
            "colorscale": [
             [
              0,
              "#0d0887"
             ],
             [
              0.1111111111111111,
              "#46039f"
             ],
             [
              0.2222222222222222,
              "#7201a8"
             ],
             [
              0.3333333333333333,
              "#9c179e"
             ],
             [
              0.4444444444444444,
              "#bd3786"
             ],
             [
              0.5555555555555556,
              "#d8576b"
             ],
             [
              0.6666666666666666,
              "#ed7953"
             ],
             [
              0.7777777777777778,
              "#fb9f3a"
             ],
             [
              0.8888888888888888,
              "#fdca26"
             ],
             [
              1,
              "#f0f921"
             ]
            ],
            "type": "heatmapgl"
           }
          ],
          "histogram": [
           {
            "marker": {
             "pattern": {
              "fillmode": "overlay",
              "size": 10,
              "solidity": 0.2
             }
            },
            "type": "histogram"
           }
          ],
          "histogram2d": [
           {
            "colorbar": {
             "outlinewidth": 0,
             "ticks": ""
            },
            "colorscale": [
             [
              0,
              "#0d0887"
             ],
             [
              0.1111111111111111,
              "#46039f"
             ],
             [
              0.2222222222222222,
              "#7201a8"
             ],
             [
              0.3333333333333333,
              "#9c179e"
             ],
             [
              0.4444444444444444,
              "#bd3786"
             ],
             [
              0.5555555555555556,
              "#d8576b"
             ],
             [
              0.6666666666666666,
              "#ed7953"
             ],
             [
              0.7777777777777778,
              "#fb9f3a"
             ],
             [
              0.8888888888888888,
              "#fdca26"
             ],
             [
              1,
              "#f0f921"
             ]
            ],
            "type": "histogram2d"
           }
          ],
          "histogram2dcontour": [
           {
            "colorbar": {
             "outlinewidth": 0,
             "ticks": ""
            },
            "colorscale": [
             [
              0,
              "#0d0887"
             ],
             [
              0.1111111111111111,
              "#46039f"
             ],
             [
              0.2222222222222222,
              "#7201a8"
             ],
             [
              0.3333333333333333,
              "#9c179e"
             ],
             [
              0.4444444444444444,
              "#bd3786"
             ],
             [
              0.5555555555555556,
              "#d8576b"
             ],
             [
              0.6666666666666666,
              "#ed7953"
             ],
             [
              0.7777777777777778,
              "#fb9f3a"
             ],
             [
              0.8888888888888888,
              "#fdca26"
             ],
             [
              1,
              "#f0f921"
             ]
            ],
            "type": "histogram2dcontour"
           }
          ],
          "mesh3d": [
           {
            "colorbar": {
             "outlinewidth": 0,
             "ticks": ""
            },
            "type": "mesh3d"
           }
          ],
          "parcoords": [
           {
            "line": {
             "colorbar": {
              "outlinewidth": 0,
              "ticks": ""
             }
            },
            "type": "parcoords"
           }
          ],
          "pie": [
           {
            "automargin": true,
            "type": "pie"
           }
          ],
          "scatter": [
           {
            "fillpattern": {
             "fillmode": "overlay",
             "size": 10,
             "solidity": 0.2
            },
            "type": "scatter"
           }
          ],
          "scatter3d": [
           {
            "line": {
             "colorbar": {
              "outlinewidth": 0,
              "ticks": ""
             }
            },
            "marker": {
             "colorbar": {
              "outlinewidth": 0,
              "ticks": ""
             }
            },
            "type": "scatter3d"
           }
          ],
          "scattercarpet": [
           {
            "marker": {
             "colorbar": {
              "outlinewidth": 0,
              "ticks": ""
             }
            },
            "type": "scattercarpet"
           }
          ],
          "scattergeo": [
           {
            "marker": {
             "colorbar": {
              "outlinewidth": 0,
              "ticks": ""
             }
            },
            "type": "scattergeo"
           }
          ],
          "scattergl": [
           {
            "marker": {
             "colorbar": {
              "outlinewidth": 0,
              "ticks": ""
             }
            },
            "type": "scattergl"
           }
          ],
          "scattermapbox": [
           {
            "marker": {
             "colorbar": {
              "outlinewidth": 0,
              "ticks": ""
             }
            },
            "type": "scattermapbox"
           }
          ],
          "scatterpolar": [
           {
            "marker": {
             "colorbar": {
              "outlinewidth": 0,
              "ticks": ""
             }
            },
            "type": "scatterpolar"
           }
          ],
          "scatterpolargl": [
           {
            "marker": {
             "colorbar": {
              "outlinewidth": 0,
              "ticks": ""
             }
            },
            "type": "scatterpolargl"
           }
          ],
          "scatterternary": [
           {
            "marker": {
             "colorbar": {
              "outlinewidth": 0,
              "ticks": ""
             }
            },
            "type": "scatterternary"
           }
          ],
          "surface": [
           {
            "colorbar": {
             "outlinewidth": 0,
             "ticks": ""
            },
            "colorscale": [
             [
              0,
              "#0d0887"
             ],
             [
              0.1111111111111111,
              "#46039f"
             ],
             [
              0.2222222222222222,
              "#7201a8"
             ],
             [
              0.3333333333333333,
              "#9c179e"
             ],
             [
              0.4444444444444444,
              "#bd3786"
             ],
             [
              0.5555555555555556,
              "#d8576b"
             ],
             [
              0.6666666666666666,
              "#ed7953"
             ],
             [
              0.7777777777777778,
              "#fb9f3a"
             ],
             [
              0.8888888888888888,
              "#fdca26"
             ],
             [
              1,
              "#f0f921"
             ]
            ],
            "type": "surface"
           }
          ],
          "table": [
           {
            "cells": {
             "fill": {
              "color": "#EBF0F8"
             },
             "line": {
              "color": "white"
             }
            },
            "header": {
             "fill": {
              "color": "#C8D4E3"
             },
             "line": {
              "color": "white"
             }
            },
            "type": "table"
           }
          ]
         },
         "layout": {
          "annotationdefaults": {
           "arrowcolor": "#2a3f5f",
           "arrowhead": 0,
           "arrowwidth": 1
          },
          "autotypenumbers": "strict",
          "coloraxis": {
           "colorbar": {
            "outlinewidth": 0,
            "ticks": ""
           }
          },
          "colorscale": {
           "diverging": [
            [
             0,
             "#8e0152"
            ],
            [
             0.1,
             "#c51b7d"
            ],
            [
             0.2,
             "#de77ae"
            ],
            [
             0.3,
             "#f1b6da"
            ],
            [
             0.4,
             "#fde0ef"
            ],
            [
             0.5,
             "#f7f7f7"
            ],
            [
             0.6,
             "#e6f5d0"
            ],
            [
             0.7,
             "#b8e186"
            ],
            [
             0.8,
             "#7fbc41"
            ],
            [
             0.9,
             "#4d9221"
            ],
            [
             1,
             "#276419"
            ]
           ],
           "sequential": [
            [
             0,
             "#0d0887"
            ],
            [
             0.1111111111111111,
             "#46039f"
            ],
            [
             0.2222222222222222,
             "#7201a8"
            ],
            [
             0.3333333333333333,
             "#9c179e"
            ],
            [
             0.4444444444444444,
             "#bd3786"
            ],
            [
             0.5555555555555556,
             "#d8576b"
            ],
            [
             0.6666666666666666,
             "#ed7953"
            ],
            [
             0.7777777777777778,
             "#fb9f3a"
            ],
            [
             0.8888888888888888,
             "#fdca26"
            ],
            [
             1,
             "#f0f921"
            ]
           ],
           "sequentialminus": [
            [
             0,
             "#0d0887"
            ],
            [
             0.1111111111111111,
             "#46039f"
            ],
            [
             0.2222222222222222,
             "#7201a8"
            ],
            [
             0.3333333333333333,
             "#9c179e"
            ],
            [
             0.4444444444444444,
             "#bd3786"
            ],
            [
             0.5555555555555556,
             "#d8576b"
            ],
            [
             0.6666666666666666,
             "#ed7953"
            ],
            [
             0.7777777777777778,
             "#fb9f3a"
            ],
            [
             0.8888888888888888,
             "#fdca26"
            ],
            [
             1,
             "#f0f921"
            ]
           ]
          },
          "colorway": [
           "#636efa",
           "#EF553B",
           "#00cc96",
           "#ab63fa",
           "#FFA15A",
           "#19d3f3",
           "#FF6692",
           "#B6E880",
           "#FF97FF",
           "#FECB52"
          ],
          "font": {
           "color": "#2a3f5f"
          },
          "geo": {
           "bgcolor": "white",
           "lakecolor": "white",
           "landcolor": "#E5ECF6",
           "showlakes": true,
           "showland": true,
           "subunitcolor": "white"
          },
          "hoverlabel": {
           "align": "left"
          },
          "hovermode": "closest",
          "mapbox": {
           "style": "light"
          },
          "paper_bgcolor": "white",
          "plot_bgcolor": "#E5ECF6",
          "polar": {
           "angularaxis": {
            "gridcolor": "white",
            "linecolor": "white",
            "ticks": ""
           },
           "bgcolor": "#E5ECF6",
           "radialaxis": {
            "gridcolor": "white",
            "linecolor": "white",
            "ticks": ""
           }
          },
          "scene": {
           "xaxis": {
            "backgroundcolor": "#E5ECF6",
            "gridcolor": "white",
            "gridwidth": 2,
            "linecolor": "white",
            "showbackground": true,
            "ticks": "",
            "zerolinecolor": "white"
           },
           "yaxis": {
            "backgroundcolor": "#E5ECF6",
            "gridcolor": "white",
            "gridwidth": 2,
            "linecolor": "white",
            "showbackground": true,
            "ticks": "",
            "zerolinecolor": "white"
           },
           "zaxis": {
            "backgroundcolor": "#E5ECF6",
            "gridcolor": "white",
            "gridwidth": 2,
            "linecolor": "white",
            "showbackground": true,
            "ticks": "",
            "zerolinecolor": "white"
           }
          },
          "shapedefaults": {
           "line": {
            "color": "#2a3f5f"
           }
          },
          "ternary": {
           "aaxis": {
            "gridcolor": "white",
            "linecolor": "white",
            "ticks": ""
           },
           "baxis": {
            "gridcolor": "white",
            "linecolor": "white",
            "ticks": ""
           },
           "bgcolor": "#E5ECF6",
           "caxis": {
            "gridcolor": "white",
            "linecolor": "white",
            "ticks": ""
           }
          },
          "title": {
           "x": 0.05
          },
          "xaxis": {
           "automargin": true,
           "gridcolor": "white",
           "linecolor": "white",
           "ticks": "",
           "title": {
            "standoff": 15
           },
           "zerolinecolor": "white",
           "zerolinewidth": 2
          },
          "yaxis": {
           "automargin": true,
           "gridcolor": "white",
           "linecolor": "white",
           "ticks": "",
           "title": {
            "standoff": 15
           },
           "zerolinecolor": "white",
           "zerolinewidth": 2
          }
         }
        },
        "xaxis": {
         "anchor": "y",
         "domain": [
          0,
          0.235
         ],
         "title": {
          "text": "PFS12"
         }
        },
        "xaxis10": {
         "anchor": "y10",
         "domain": [
          0.255,
          0.49
         ],
         "matches": "x",
         "showticklabels": false
        },
        "xaxis11": {
         "anchor": "y11",
         "domain": [
          0.51,
          0.745
         ],
         "matches": "x",
         "showticklabels": false
        },
        "xaxis12": {
         "anchor": "y12",
         "domain": [
          0.7649999999999999,
          0.9999999999999999
         ],
         "matches": "x",
         "showticklabels": false
        },
        "xaxis13": {
         "anchor": "y13",
         "domain": [
          0,
          0.235
         ],
         "matches": "x",
         "showticklabels": false
        },
        "xaxis14": {
         "anchor": "y14",
         "domain": [
          0.255,
          0.49
         ],
         "matches": "x",
         "showticklabels": false
        },
        "xaxis15": {
         "anchor": "y15",
         "domain": [
          0.51,
          0.745
         ],
         "matches": "x",
         "showticklabels": false
        },
        "xaxis16": {
         "anchor": "y16",
         "domain": [
          0.7649999999999999,
          0.9999999999999999
         ],
         "matches": "x",
         "showticklabels": false
        },
        "xaxis17": {
         "anchor": "y17",
         "domain": [
          0,
          0.235
         ],
         "matches": "x",
         "showticklabels": false
        },
        "xaxis18": {
         "anchor": "y18",
         "domain": [
          0.255,
          0.49
         ],
         "matches": "x",
         "showticklabels": false
        },
        "xaxis19": {
         "anchor": "y19",
         "domain": [
          0.51,
          0.745
         ],
         "matches": "x",
         "showticklabels": false
        },
        "xaxis2": {
         "anchor": "y2",
         "domain": [
          0.255,
          0.49
         ],
         "matches": "x",
         "title": {
          "text": "PFS12"
         }
        },
        "xaxis20": {
         "anchor": "y20",
         "domain": [
          0.7649999999999999,
          0.9999999999999999
         ],
         "matches": "x",
         "showticklabels": false
        },
        "xaxis3": {
         "anchor": "y3",
         "domain": [
          0.51,
          0.745
         ],
         "matches": "x",
         "title": {
          "text": "PFS12"
         }
        },
        "xaxis4": {
         "anchor": "y4",
         "domain": [
          0.7649999999999999,
          0.9999999999999999
         ],
         "matches": "x",
         "title": {
          "text": "PFS12"
         }
        },
        "xaxis5": {
         "anchor": "y5",
         "domain": [
          0,
          0.235
         ],
         "matches": "x",
         "showticklabels": false
        },
        "xaxis6": {
         "anchor": "y6",
         "domain": [
          0.255,
          0.49
         ],
         "matches": "x",
         "showticklabels": false
        },
        "xaxis7": {
         "anchor": "y7",
         "domain": [
          0.51,
          0.745
         ],
         "matches": "x",
         "showticklabels": false
        },
        "xaxis8": {
         "anchor": "y8",
         "domain": [
          0.7649999999999999,
          0.9999999999999999
         ],
         "matches": "x",
         "showticklabels": false
        },
        "xaxis9": {
         "anchor": "y9",
         "domain": [
          0,
          0.235
         ],
         "matches": "x",
         "showticklabels": false
        },
        "yaxis": {
         "anchor": "x",
         "domain": [
          0,
          0.144
         ],
         "title": {
          "text": "RelAb"
         }
        },
        "yaxis10": {
         "anchor": "x10",
         "domain": [
          0.428,
          0.572
         ],
         "matches": "y",
         "showticklabels": false
        },
        "yaxis11": {
         "anchor": "x11",
         "domain": [
          0.428,
          0.572
         ],
         "matches": "y",
         "showticklabels": false
        },
        "yaxis12": {
         "anchor": "x12",
         "domain": [
          0.428,
          0.572
         ],
         "matches": "y",
         "showticklabels": false
        },
        "yaxis13": {
         "anchor": "x13",
         "domain": [
          0.6419999999999999,
          0.7859999999999999
         ],
         "matches": "y",
         "title": {
          "text": "RelAb"
         }
        },
        "yaxis14": {
         "anchor": "x14",
         "domain": [
          0.6419999999999999,
          0.7859999999999999
         ],
         "matches": "y",
         "showticklabels": false
        },
        "yaxis15": {
         "anchor": "x15",
         "domain": [
          0.6419999999999999,
          0.7859999999999999
         ],
         "matches": "y",
         "showticklabels": false
        },
        "yaxis16": {
         "anchor": "x16",
         "domain": [
          0.6419999999999999,
          0.7859999999999999
         ],
         "matches": "y",
         "showticklabels": false
        },
        "yaxis17": {
         "anchor": "x17",
         "domain": [
          0.856,
          1
         ],
         "matches": "y",
         "title": {
          "text": "RelAb"
         }
        },
        "yaxis18": {
         "anchor": "x18",
         "domain": [
          0.856,
          1
         ],
         "matches": "y",
         "showticklabels": false
        },
        "yaxis19": {
         "anchor": "x19",
         "domain": [
          0.856,
          1
         ],
         "matches": "y",
         "showticklabels": false
        },
        "yaxis2": {
         "anchor": "x2",
         "domain": [
          0,
          0.144
         ],
         "matches": "y",
         "showticklabels": false
        },
        "yaxis20": {
         "anchor": "x20",
         "domain": [
          0.856,
          1
         ],
         "matches": "y",
         "showticklabels": false
        },
        "yaxis3": {
         "anchor": "x3",
         "domain": [
          0,
          0.144
         ],
         "matches": "y",
         "showticklabels": false
        },
        "yaxis4": {
         "anchor": "x4",
         "domain": [
          0,
          0.144
         ],
         "matches": "y",
         "showticklabels": false
        },
        "yaxis5": {
         "anchor": "x5",
         "domain": [
          0.214,
          0.358
         ],
         "matches": "y",
         "title": {
          "text": "RelAb"
         }
        },
        "yaxis6": {
         "anchor": "x6",
         "domain": [
          0.214,
          0.358
         ],
         "matches": "y",
         "showticklabels": false
        },
        "yaxis7": {
         "anchor": "x7",
         "domain": [
          0.214,
          0.358
         ],
         "matches": "y",
         "showticklabels": false
        },
        "yaxis8": {
         "anchor": "x8",
         "domain": [
          0.214,
          0.358
         ],
         "matches": "y",
         "showticklabels": false
        },
        "yaxis9": {
         "anchor": "x9",
         "domain": [
          0.428,
          0.572
         ],
         "matches": "y",
         "title": {
          "text": "RelAb"
         }
        }
       }
      },
      "text/html": [
       "<div>                            <div id=\"39a64fac-f9ec-45a3-ad64-ec3ae08cf50f\" class=\"plotly-graph-div\" style=\"height:1000px; width:100%;\"></div>            <script type=\"text/javascript\">                require([\"plotly\"], function(Plotly) {                    window.PLOTLYENV=window.PLOTLYENV || {};                                    if (document.getElementById(\"39a64fac-f9ec-45a3-ad64-ec3ae08cf50f\")) {                    Plotly.newPlot(                        \"39a64fac-f9ec-45a3-ad64-ec3ae08cf50f\",                        [{\"alignmentgroup\":\"True\",\"hovertemplate\":\"species=Akkermansia_muciniphila<br>PFS12=%{x}<br>RelAb=%{y}<extra></extra>\",\"legendgroup\":\"\",\"marker\":{\"color\":\"#636efa\",\"pattern\":{\"shape\":\"\"}},\"name\":\"\",\"offsetgroup\":\"\",\"orientation\":\"v\",\"showlegend\":false,\"textposition\":\"auto\",\"x\":[\"no\",\"yes\"],\"xaxis\":\"x17\",\"y\":[3.167861627906977,2.8157787012987012],\"yaxis\":\"y17\",\"type\":\"bar\"},{\"alignmentgroup\":\"True\",\"hovertemplate\":\"species=Alistipes_putredinis<br>PFS12=%{x}<br>RelAb=%{y}<extra></extra>\",\"legendgroup\":\"\",\"marker\":{\"color\":\"#636efa\",\"pattern\":{\"shape\":\"\"}},\"name\":\"\",\"offsetgroup\":\"\",\"orientation\":\"v\",\"showlegend\":false,\"textposition\":\"auto\",\"x\":[\"no\",\"yes\"],\"xaxis\":\"x18\",\"y\":[3.695984302325581,2.177347142857143],\"yaxis\":\"y18\",\"type\":\"bar\"},{\"alignmentgroup\":\"True\",\"hovertemplate\":\"species=Anaerostipes_hadrus<br>PFS12=%{x}<br>RelAb=%{y}<extra></extra>\",\"legendgroup\":\"\",\"marker\":{\"color\":\"#636efa\",\"pattern\":{\"shape\":\"\"}},\"name\":\"\",\"offsetgroup\":\"\",\"orientation\":\"v\",\"showlegend\":false,\"textposition\":\"auto\",\"x\":[\"no\",\"yes\"],\"xaxis\":\"x19\",\"y\":[0.9497216279069768,1.3699642857142857],\"yaxis\":\"y19\",\"type\":\"bar\"},{\"alignmentgroup\":\"True\",\"hovertemplate\":\"species=Asaccharobacter_celatus<br>PFS12=%{x}<br>RelAb=%{y}<extra></extra>\",\"legendgroup\":\"\",\"marker\":{\"color\":\"#636efa\",\"pattern\":{\"shape\":\"\"}},\"name\":\"\",\"offsetgroup\":\"\",\"orientation\":\"v\",\"showlegend\":false,\"textposition\":\"auto\",\"x\":[\"no\",\"yes\"],\"xaxis\":\"x20\",\"y\":[0.9502041860465117,1.5011727272727273],\"yaxis\":\"y20\",\"type\":\"bar\"},{\"alignmentgroup\":\"True\",\"hovertemplate\":\"species=Bacteroides_uniformis<br>PFS12=%{x}<br>RelAb=%{y}<extra></extra>\",\"legendgroup\":\"\",\"marker\":{\"color\":\"#636efa\",\"pattern\":{\"shape\":\"\"}},\"name\":\"\",\"offsetgroup\":\"\",\"orientation\":\"v\",\"showlegend\":false,\"textposition\":\"auto\",\"x\":[\"no\",\"yes\"],\"xaxis\":\"x13\",\"y\":[3.0500522093023252,2.483485064935065],\"yaxis\":\"y13\",\"type\":\"bar\"},{\"alignmentgroup\":\"True\",\"hovertemplate\":\"species=Bacteroides_vulgatus<br>PFS12=%{x}<br>RelAb=%{y}<extra></extra>\",\"legendgroup\":\"\",\"marker\":{\"color\":\"#636efa\",\"pattern\":{\"shape\":\"\"}},\"name\":\"\",\"offsetgroup\":\"\",\"orientation\":\"v\",\"showlegend\":false,\"textposition\":\"auto\",\"x\":[\"no\",\"yes\"],\"xaxis\":\"x14\",\"y\":[1.384078488372093,1.5109444155844156],\"yaxis\":\"y14\",\"type\":\"bar\"},{\"alignmentgroup\":\"True\",\"hovertemplate\":\"species=Bifidobacterium_adolescentis<br>PFS12=%{x}<br>RelAb=%{y}<extra></extra>\",\"legendgroup\":\"\",\"marker\":{\"color\":\"#636efa\",\"pattern\":{\"shape\":\"\"}},\"name\":\"\",\"offsetgroup\":\"\",\"orientation\":\"v\",\"showlegend\":false,\"textposition\":\"auto\",\"x\":[\"no\",\"yes\"],\"xaxis\":\"x15\",\"y\":[6.258182093023256,6.746756623376624],\"yaxis\":\"y15\",\"type\":\"bar\"},{\"alignmentgroup\":\"True\",\"hovertemplate\":\"species=Bifidobacterium_bifidum<br>PFS12=%{x}<br>RelAb=%{y}<extra></extra>\",\"legendgroup\":\"\",\"marker\":{\"color\":\"#636efa\",\"pattern\":{\"shape\":\"\"}},\"name\":\"\",\"offsetgroup\":\"\",\"orientation\":\"v\",\"showlegend\":false,\"textposition\":\"auto\",\"x\":[\"no\",\"yes\"],\"xaxis\":\"x16\",\"y\":[2.0603517441860464,1.6736510389610388],\"yaxis\":\"y16\",\"type\":\"bar\"},{\"alignmentgroup\":\"True\",\"hovertemplate\":\"species=Bifidobacterium_longum<br>PFS12=%{x}<br>RelAb=%{y}<extra></extra>\",\"legendgroup\":\"\",\"marker\":{\"color\":\"#636efa\",\"pattern\":{\"shape\":\"\"}},\"name\":\"\",\"offsetgroup\":\"\",\"orientation\":\"v\",\"showlegend\":false,\"textposition\":\"auto\",\"x\":[\"no\",\"yes\"],\"xaxis\":\"x9\",\"y\":[5.231925930232558,4.959735454545455],\"yaxis\":\"y9\",\"type\":\"bar\"},{\"alignmentgroup\":\"True\",\"hovertemplate\":\"species=Collinsella_aerofaciens<br>PFS12=%{x}<br>RelAb=%{y}<extra></extra>\",\"legendgroup\":\"\",\"marker\":{\"color\":\"#636efa\",\"pattern\":{\"shape\":\"\"}},\"name\":\"\",\"offsetgroup\":\"\",\"orientation\":\"v\",\"showlegend\":false,\"textposition\":\"auto\",\"x\":[\"no\",\"yes\"],\"xaxis\":\"x10\",\"y\":[9.641778953488371,12.244391428571427],\"yaxis\":\"y10\",\"type\":\"bar\"},{\"alignmentgroup\":\"True\",\"hovertemplate\":\"species=Coprococcus_comes<br>PFS12=%{x}<br>RelAb=%{y}<extra></extra>\",\"legendgroup\":\"\",\"marker\":{\"color\":\"#636efa\",\"pattern\":{\"shape\":\"\"}},\"name\":\"\",\"offsetgroup\":\"\",\"orientation\":\"v\",\"showlegend\":false,\"textposition\":\"auto\",\"x\":[\"no\",\"yes\"],\"xaxis\":\"x11\",\"y\":[1.1810422093023256,1.325814805194805],\"yaxis\":\"y11\",\"type\":\"bar\"},{\"alignmentgroup\":\"True\",\"hovertemplate\":\"species=Dorea_longicatena<br>PFS12=%{x}<br>RelAb=%{y}<extra></extra>\",\"legendgroup\":\"\",\"marker\":{\"color\":\"#636efa\",\"pattern\":{\"shape\":\"\"}},\"name\":\"\",\"offsetgroup\":\"\",\"orientation\":\"v\",\"showlegend\":false,\"textposition\":\"auto\",\"x\":[\"no\",\"yes\"],\"xaxis\":\"x12\",\"y\":[1.6398168604651162,1.7611816883116884],\"yaxis\":\"y12\",\"type\":\"bar\"},{\"alignmentgroup\":\"True\",\"hovertemplate\":\"species=Escherichia_coli<br>PFS12=%{x}<br>RelAb=%{y}<extra></extra>\",\"legendgroup\":\"\",\"marker\":{\"color\":\"#636efa\",\"pattern\":{\"shape\":\"\"}},\"name\":\"\",\"offsetgroup\":\"\",\"orientation\":\"v\",\"showlegend\":false,\"textposition\":\"auto\",\"x\":[\"no\",\"yes\"],\"xaxis\":\"x5\",\"y\":[5.032245813953488,4.248707402597402],\"yaxis\":\"y5\",\"type\":\"bar\"},{\"alignmentgroup\":\"True\",\"hovertemplate\":\"species=Eubacterium_rectale<br>PFS12=%{x}<br>RelAb=%{y}<extra></extra>\",\"legendgroup\":\"\",\"marker\":{\"color\":\"#636efa\",\"pattern\":{\"shape\":\"\"}},\"name\":\"\",\"offsetgroup\":\"\",\"orientation\":\"v\",\"showlegend\":false,\"textposition\":\"auto\",\"x\":[\"no\",\"yes\"],\"xaxis\":\"x6\",\"y\":[1.9287554651162793,1.9514315584415585],\"yaxis\":\"y6\",\"type\":\"bar\"},{\"alignmentgroup\":\"True\",\"hovertemplate\":\"species=Faecalibacterium_prausnitzii<br>PFS12=%{x}<br>RelAb=%{y}<extra></extra>\",\"legendgroup\":\"\",\"marker\":{\"color\":\"#636efa\",\"pattern\":{\"shape\":\"\"}},\"name\":\"\",\"offsetgroup\":\"\",\"orientation\":\"v\",\"showlegend\":false,\"textposition\":\"auto\",\"x\":[\"no\",\"yes\"],\"xaxis\":\"x7\",\"y\":[3.276842906976744,3.235606103896104],\"yaxis\":\"y7\",\"type\":\"bar\"},{\"alignmentgroup\":\"True\",\"hovertemplate\":\"species=Fusicatenibacter_saccharivorans<br>PFS12=%{x}<br>RelAb=%{y}<extra></extra>\",\"legendgroup\":\"\",\"marker\":{\"color\":\"#636efa\",\"pattern\":{\"shape\":\"\"}},\"name\":\"\",\"offsetgroup\":\"\",\"orientation\":\"v\",\"showlegend\":false,\"textposition\":\"auto\",\"x\":[\"no\",\"yes\"],\"xaxis\":\"x8\",\"y\":[1.260301976744186,1.559981038961039],\"yaxis\":\"y8\",\"type\":\"bar\"},{\"alignmentgroup\":\"True\",\"hovertemplate\":\"species=Methanobrevibacter_smithii<br>PFS12=%{x}<br>RelAb=%{y}<extra></extra>\",\"legendgroup\":\"\",\"marker\":{\"color\":\"#636efa\",\"pattern\":{\"shape\":\"\"}},\"name\":\"\",\"offsetgroup\":\"\",\"orientation\":\"v\",\"showlegend\":false,\"textposition\":\"auto\",\"x\":[\"no\",\"yes\"],\"xaxis\":\"x\",\"y\":[1.6651995348837207,1.3806638961038962],\"yaxis\":\"y\",\"type\":\"bar\"},{\"alignmentgroup\":\"True\",\"hovertemplate\":\"species=Prevotella_copri<br>PFS12=%{x}<br>RelAb=%{y}<extra></extra>\",\"legendgroup\":\"\",\"marker\":{\"color\":\"#636efa\",\"pattern\":{\"shape\":\"\"}},\"name\":\"\",\"offsetgroup\":\"\",\"orientation\":\"v\",\"showlegend\":false,\"textposition\":\"auto\",\"x\":[\"no\",\"yes\"],\"xaxis\":\"x2\",\"y\":[1.741563023255814,2.3809663636363636],\"yaxis\":\"y2\",\"type\":\"bar\"},{\"alignmentgroup\":\"True\",\"hovertemplate\":\"species=Ruminococcus_bromii<br>PFS12=%{x}<br>RelAb=%{y}<extra></extra>\",\"legendgroup\":\"\",\"marker\":{\"color\":\"#636efa\",\"pattern\":{\"shape\":\"\"}},\"name\":\"\",\"offsetgroup\":\"\",\"orientation\":\"v\",\"showlegend\":false,\"textposition\":\"auto\",\"x\":[\"no\",\"yes\"],\"xaxis\":\"x3\",\"y\":[3.7666984883720933,3.870792597402598],\"yaxis\":\"y3\",\"type\":\"bar\"},{\"alignmentgroup\":\"True\",\"hovertemplate\":\"species=Streptococcus_salivarius<br>PFS12=%{x}<br>RelAb=%{y}<extra></extra>\",\"legendgroup\":\"\",\"marker\":{\"color\":\"#636efa\",\"pattern\":{\"shape\":\"\"}},\"name\":\"\",\"offsetgroup\":\"\",\"orientation\":\"v\",\"showlegend\":false,\"textposition\":\"auto\",\"x\":[\"no\",\"yes\"],\"xaxis\":\"x4\",\"y\":[1.6843374418604653,1.6007242857142856],\"yaxis\":\"y4\",\"type\":\"bar\"}],                        {\"template\":{\"data\":{\"histogram2dcontour\":[{\"type\":\"histogram2dcontour\",\"colorbar\":{\"outlinewidth\":0,\"ticks\":\"\"},\"colorscale\":[[0.0,\"#0d0887\"],[0.1111111111111111,\"#46039f\"],[0.2222222222222222,\"#7201a8\"],[0.3333333333333333,\"#9c179e\"],[0.4444444444444444,\"#bd3786\"],[0.5555555555555556,\"#d8576b\"],[0.6666666666666666,\"#ed7953\"],[0.7777777777777778,\"#fb9f3a\"],[0.8888888888888888,\"#fdca26\"],[1.0,\"#f0f921\"]]}],\"choropleth\":[{\"type\":\"choropleth\",\"colorbar\":{\"outlinewidth\":0,\"ticks\":\"\"}}],\"histogram2d\":[{\"type\":\"histogram2d\",\"colorbar\":{\"outlinewidth\":0,\"ticks\":\"\"},\"colorscale\":[[0.0,\"#0d0887\"],[0.1111111111111111,\"#46039f\"],[0.2222222222222222,\"#7201a8\"],[0.3333333333333333,\"#9c179e\"],[0.4444444444444444,\"#bd3786\"],[0.5555555555555556,\"#d8576b\"],[0.6666666666666666,\"#ed7953\"],[0.7777777777777778,\"#fb9f3a\"],[0.8888888888888888,\"#fdca26\"],[1.0,\"#f0f921\"]]}],\"heatmap\":[{\"type\":\"heatmap\",\"colorbar\":{\"outlinewidth\":0,\"ticks\":\"\"},\"colorscale\":[[0.0,\"#0d0887\"],[0.1111111111111111,\"#46039f\"],[0.2222222222222222,\"#7201a8\"],[0.3333333333333333,\"#9c179e\"],[0.4444444444444444,\"#bd3786\"],[0.5555555555555556,\"#d8576b\"],[0.6666666666666666,\"#ed7953\"],[0.7777777777777778,\"#fb9f3a\"],[0.8888888888888888,\"#fdca26\"],[1.0,\"#f0f921\"]]}],\"heatmapgl\":[{\"type\":\"heatmapgl\",\"colorbar\":{\"outlinewidth\":0,\"ticks\":\"\"},\"colorscale\":[[0.0,\"#0d0887\"],[0.1111111111111111,\"#46039f\"],[0.2222222222222222,\"#7201a8\"],[0.3333333333333333,\"#9c179e\"],[0.4444444444444444,\"#bd3786\"],[0.5555555555555556,\"#d8576b\"],[0.6666666666666666,\"#ed7953\"],[0.7777777777777778,\"#fb9f3a\"],[0.8888888888888888,\"#fdca26\"],[1.0,\"#f0f921\"]]}],\"contourcarpet\":[{\"type\":\"contourcarpet\",\"colorbar\":{\"outlinewidth\":0,\"ticks\":\"\"}}],\"contour\":[{\"type\":\"contour\",\"colorbar\":{\"outlinewidth\":0,\"ticks\":\"\"},\"colorscale\":[[0.0,\"#0d0887\"],[0.1111111111111111,\"#46039f\"],[0.2222222222222222,\"#7201a8\"],[0.3333333333333333,\"#9c179e\"],[0.4444444444444444,\"#bd3786\"],[0.5555555555555556,\"#d8576b\"],[0.6666666666666666,\"#ed7953\"],[0.7777777777777778,\"#fb9f3a\"],[0.8888888888888888,\"#fdca26\"],[1.0,\"#f0f921\"]]}],\"surface\":[{\"type\":\"surface\",\"colorbar\":{\"outlinewidth\":0,\"ticks\":\"\"},\"colorscale\":[[0.0,\"#0d0887\"],[0.1111111111111111,\"#46039f\"],[0.2222222222222222,\"#7201a8\"],[0.3333333333333333,\"#9c179e\"],[0.4444444444444444,\"#bd3786\"],[0.5555555555555556,\"#d8576b\"],[0.6666666666666666,\"#ed7953\"],[0.7777777777777778,\"#fb9f3a\"],[0.8888888888888888,\"#fdca26\"],[1.0,\"#f0f921\"]]}],\"mesh3d\":[{\"type\":\"mesh3d\",\"colorbar\":{\"outlinewidth\":0,\"ticks\":\"\"}}],\"scatter\":[{\"fillpattern\":{\"fillmode\":\"overlay\",\"size\":10,\"solidity\":0.2},\"type\":\"scatter\"}],\"parcoords\":[{\"type\":\"parcoords\",\"line\":{\"colorbar\":{\"outlinewidth\":0,\"ticks\":\"\"}}}],\"scatterpolargl\":[{\"type\":\"scatterpolargl\",\"marker\":{\"colorbar\":{\"outlinewidth\":0,\"ticks\":\"\"}}}],\"bar\":[{\"error_x\":{\"color\":\"#2a3f5f\"},\"error_y\":{\"color\":\"#2a3f5f\"},\"marker\":{\"line\":{\"color\":\"#E5ECF6\",\"width\":0.5},\"pattern\":{\"fillmode\":\"overlay\",\"size\":10,\"solidity\":0.2}},\"type\":\"bar\"}],\"scattergeo\":[{\"type\":\"scattergeo\",\"marker\":{\"colorbar\":{\"outlinewidth\":0,\"ticks\":\"\"}}}],\"scatterpolar\":[{\"type\":\"scatterpolar\",\"marker\":{\"colorbar\":{\"outlinewidth\":0,\"ticks\":\"\"}}}],\"histogram\":[{\"marker\":{\"pattern\":{\"fillmode\":\"overlay\",\"size\":10,\"solidity\":0.2}},\"type\":\"histogram\"}],\"scattergl\":[{\"type\":\"scattergl\",\"marker\":{\"colorbar\":{\"outlinewidth\":0,\"ticks\":\"\"}}}],\"scatter3d\":[{\"type\":\"scatter3d\",\"line\":{\"colorbar\":{\"outlinewidth\":0,\"ticks\":\"\"}},\"marker\":{\"colorbar\":{\"outlinewidth\":0,\"ticks\":\"\"}}}],\"scattermapbox\":[{\"type\":\"scattermapbox\",\"marker\":{\"colorbar\":{\"outlinewidth\":0,\"ticks\":\"\"}}}],\"scatterternary\":[{\"type\":\"scatterternary\",\"marker\":{\"colorbar\":{\"outlinewidth\":0,\"ticks\":\"\"}}}],\"scattercarpet\":[{\"type\":\"scattercarpet\",\"marker\":{\"colorbar\":{\"outlinewidth\":0,\"ticks\":\"\"}}}],\"carpet\":[{\"aaxis\":{\"endlinecolor\":\"#2a3f5f\",\"gridcolor\":\"white\",\"linecolor\":\"white\",\"minorgridcolor\":\"white\",\"startlinecolor\":\"#2a3f5f\"},\"baxis\":{\"endlinecolor\":\"#2a3f5f\",\"gridcolor\":\"white\",\"linecolor\":\"white\",\"minorgridcolor\":\"white\",\"startlinecolor\":\"#2a3f5f\"},\"type\":\"carpet\"}],\"table\":[{\"cells\":{\"fill\":{\"color\":\"#EBF0F8\"},\"line\":{\"color\":\"white\"}},\"header\":{\"fill\":{\"color\":\"#C8D4E3\"},\"line\":{\"color\":\"white\"}},\"type\":\"table\"}],\"barpolar\":[{\"marker\":{\"line\":{\"color\":\"#E5ECF6\",\"width\":0.5},\"pattern\":{\"fillmode\":\"overlay\",\"size\":10,\"solidity\":0.2}},\"type\":\"barpolar\"}],\"pie\":[{\"automargin\":true,\"type\":\"pie\"}]},\"layout\":{\"autotypenumbers\":\"strict\",\"colorway\":[\"#636efa\",\"#EF553B\",\"#00cc96\",\"#ab63fa\",\"#FFA15A\",\"#19d3f3\",\"#FF6692\",\"#B6E880\",\"#FF97FF\",\"#FECB52\"],\"font\":{\"color\":\"#2a3f5f\"},\"hovermode\":\"closest\",\"hoverlabel\":{\"align\":\"left\"},\"paper_bgcolor\":\"white\",\"plot_bgcolor\":\"#E5ECF6\",\"polar\":{\"bgcolor\":\"#E5ECF6\",\"angularaxis\":{\"gridcolor\":\"white\",\"linecolor\":\"white\",\"ticks\":\"\"},\"radialaxis\":{\"gridcolor\":\"white\",\"linecolor\":\"white\",\"ticks\":\"\"}},\"ternary\":{\"bgcolor\":\"#E5ECF6\",\"aaxis\":{\"gridcolor\":\"white\",\"linecolor\":\"white\",\"ticks\":\"\"},\"baxis\":{\"gridcolor\":\"white\",\"linecolor\":\"white\",\"ticks\":\"\"},\"caxis\":{\"gridcolor\":\"white\",\"linecolor\":\"white\",\"ticks\":\"\"}},\"coloraxis\":{\"colorbar\":{\"outlinewidth\":0,\"ticks\":\"\"}},\"colorscale\":{\"sequential\":[[0.0,\"#0d0887\"],[0.1111111111111111,\"#46039f\"],[0.2222222222222222,\"#7201a8\"],[0.3333333333333333,\"#9c179e\"],[0.4444444444444444,\"#bd3786\"],[0.5555555555555556,\"#d8576b\"],[0.6666666666666666,\"#ed7953\"],[0.7777777777777778,\"#fb9f3a\"],[0.8888888888888888,\"#fdca26\"],[1.0,\"#f0f921\"]],\"sequentialminus\":[[0.0,\"#0d0887\"],[0.1111111111111111,\"#46039f\"],[0.2222222222222222,\"#7201a8\"],[0.3333333333333333,\"#9c179e\"],[0.4444444444444444,\"#bd3786\"],[0.5555555555555556,\"#d8576b\"],[0.6666666666666666,\"#ed7953\"],[0.7777777777777778,\"#fb9f3a\"],[0.8888888888888888,\"#fdca26\"],[1.0,\"#f0f921\"]],\"diverging\":[[0,\"#8e0152\"],[0.1,\"#c51b7d\"],[0.2,\"#de77ae\"],[0.3,\"#f1b6da\"],[0.4,\"#fde0ef\"],[0.5,\"#f7f7f7\"],[0.6,\"#e6f5d0\"],[0.7,\"#b8e186\"],[0.8,\"#7fbc41\"],[0.9,\"#4d9221\"],[1,\"#276419\"]]},\"xaxis\":{\"gridcolor\":\"white\",\"linecolor\":\"white\",\"ticks\":\"\",\"title\":{\"standoff\":15},\"zerolinecolor\":\"white\",\"automargin\":true,\"zerolinewidth\":2},\"yaxis\":{\"gridcolor\":\"white\",\"linecolor\":\"white\",\"ticks\":\"\",\"title\":{\"standoff\":15},\"zerolinecolor\":\"white\",\"automargin\":true,\"zerolinewidth\":2},\"scene\":{\"xaxis\":{\"backgroundcolor\":\"#E5ECF6\",\"gridcolor\":\"white\",\"linecolor\":\"white\",\"showbackground\":true,\"ticks\":\"\",\"zerolinecolor\":\"white\",\"gridwidth\":2},\"yaxis\":{\"backgroundcolor\":\"#E5ECF6\",\"gridcolor\":\"white\",\"linecolor\":\"white\",\"showbackground\":true,\"ticks\":\"\",\"zerolinecolor\":\"white\",\"gridwidth\":2},\"zaxis\":{\"backgroundcolor\":\"#E5ECF6\",\"gridcolor\":\"white\",\"linecolor\":\"white\",\"showbackground\":true,\"ticks\":\"\",\"zerolinecolor\":\"white\",\"gridwidth\":2}},\"shapedefaults\":{\"line\":{\"color\":\"#2a3f5f\"}},\"annotationdefaults\":{\"arrowcolor\":\"#2a3f5f\",\"arrowhead\":0,\"arrowwidth\":1},\"geo\":{\"bgcolor\":\"white\",\"landcolor\":\"#E5ECF6\",\"subunitcolor\":\"white\",\"showland\":true,\"showlakes\":true,\"lakecolor\":\"white\"},\"title\":{\"x\":0.05},\"mapbox\":{\"style\":\"light\"}}},\"xaxis\":{\"anchor\":\"y\",\"domain\":[0.0,0.235],\"title\":{\"text\":\"PFS12\"}},\"yaxis\":{\"anchor\":\"x\",\"domain\":[0.0,0.144],\"title\":{\"text\":\"RelAb\"}},\"xaxis2\":{\"anchor\":\"y2\",\"domain\":[0.255,0.49],\"matches\":\"x\",\"title\":{\"text\":\"PFS12\"}},\"yaxis2\":{\"anchor\":\"x2\",\"domain\":[0.0,0.144],\"matches\":\"y\",\"showticklabels\":false},\"xaxis3\":{\"anchor\":\"y3\",\"domain\":[0.51,0.745],\"matches\":\"x\",\"title\":{\"text\":\"PFS12\"}},\"yaxis3\":{\"anchor\":\"x3\",\"domain\":[0.0,0.144],\"matches\":\"y\",\"showticklabels\":false},\"xaxis4\":{\"anchor\":\"y4\",\"domain\":[0.7649999999999999,0.9999999999999999],\"matches\":\"x\",\"title\":{\"text\":\"PFS12\"}},\"yaxis4\":{\"anchor\":\"x4\",\"domain\":[0.0,0.144],\"matches\":\"y\",\"showticklabels\":false},\"xaxis5\":{\"anchor\":\"y5\",\"domain\":[0.0,0.235],\"matches\":\"x\",\"showticklabels\":false},\"yaxis5\":{\"anchor\":\"x5\",\"domain\":[0.214,0.358],\"matches\":\"y\",\"title\":{\"text\":\"RelAb\"}},\"xaxis6\":{\"anchor\":\"y6\",\"domain\":[0.255,0.49],\"matches\":\"x\",\"showticklabels\":false},\"yaxis6\":{\"anchor\":\"x6\",\"domain\":[0.214,0.358],\"matches\":\"y\",\"showticklabels\":false},\"xaxis7\":{\"anchor\":\"y7\",\"domain\":[0.51,0.745],\"matches\":\"x\",\"showticklabels\":false},\"yaxis7\":{\"anchor\":\"x7\",\"domain\":[0.214,0.358],\"matches\":\"y\",\"showticklabels\":false},\"xaxis8\":{\"anchor\":\"y8\",\"domain\":[0.7649999999999999,0.9999999999999999],\"matches\":\"x\",\"showticklabels\":false},\"yaxis8\":{\"anchor\":\"x8\",\"domain\":[0.214,0.358],\"matches\":\"y\",\"showticklabels\":false},\"xaxis9\":{\"anchor\":\"y9\",\"domain\":[0.0,0.235],\"matches\":\"x\",\"showticklabels\":false},\"yaxis9\":{\"anchor\":\"x9\",\"domain\":[0.428,0.572],\"matches\":\"y\",\"title\":{\"text\":\"RelAb\"}},\"xaxis10\":{\"anchor\":\"y10\",\"domain\":[0.255,0.49],\"matches\":\"x\",\"showticklabels\":false},\"yaxis10\":{\"anchor\":\"x10\",\"domain\":[0.428,0.572],\"matches\":\"y\",\"showticklabels\":false},\"xaxis11\":{\"anchor\":\"y11\",\"domain\":[0.51,0.745],\"matches\":\"x\",\"showticklabels\":false},\"yaxis11\":{\"anchor\":\"x11\",\"domain\":[0.428,0.572],\"matches\":\"y\",\"showticklabels\":false},\"xaxis12\":{\"anchor\":\"y12\",\"domain\":[0.7649999999999999,0.9999999999999999],\"matches\":\"x\",\"showticklabels\":false},\"yaxis12\":{\"anchor\":\"x12\",\"domain\":[0.428,0.572],\"matches\":\"y\",\"showticklabels\":false},\"xaxis13\":{\"anchor\":\"y13\",\"domain\":[0.0,0.235],\"matches\":\"x\",\"showticklabels\":false},\"yaxis13\":{\"anchor\":\"x13\",\"domain\":[0.6419999999999999,0.7859999999999999],\"matches\":\"y\",\"title\":{\"text\":\"RelAb\"}},\"xaxis14\":{\"anchor\":\"y14\",\"domain\":[0.255,0.49],\"matches\":\"x\",\"showticklabels\":false},\"yaxis14\":{\"anchor\":\"x14\",\"domain\":[0.6419999999999999,0.7859999999999999],\"matches\":\"y\",\"showticklabels\":false},\"xaxis15\":{\"anchor\":\"y15\",\"domain\":[0.51,0.745],\"matches\":\"x\",\"showticklabels\":false},\"yaxis15\":{\"anchor\":\"x15\",\"domain\":[0.6419999999999999,0.7859999999999999],\"matches\":\"y\",\"showticklabels\":false},\"xaxis16\":{\"anchor\":\"y16\",\"domain\":[0.7649999999999999,0.9999999999999999],\"matches\":\"x\",\"showticklabels\":false},\"yaxis16\":{\"anchor\":\"x16\",\"domain\":[0.6419999999999999,0.7859999999999999],\"matches\":\"y\",\"showticklabels\":false},\"xaxis17\":{\"anchor\":\"y17\",\"domain\":[0.0,0.235],\"matches\":\"x\",\"showticklabels\":false},\"yaxis17\":{\"anchor\":\"x17\",\"domain\":[0.856,1.0],\"matches\":\"y\",\"title\":{\"text\":\"RelAb\"}},\"xaxis18\":{\"anchor\":\"y18\",\"domain\":[0.255,0.49],\"matches\":\"x\",\"showticklabels\":false},\"yaxis18\":{\"anchor\":\"x18\",\"domain\":[0.856,1.0],\"matches\":\"y\",\"showticklabels\":false},\"xaxis19\":{\"anchor\":\"y19\",\"domain\":[0.51,0.745],\"matches\":\"x\",\"showticklabels\":false},\"yaxis19\":{\"anchor\":\"x19\",\"domain\":[0.856,1.0],\"matches\":\"y\",\"showticklabels\":false},\"xaxis20\":{\"anchor\":\"y20\",\"domain\":[0.7649999999999999,0.9999999999999999],\"matches\":\"x\",\"showticklabels\":false},\"yaxis20\":{\"anchor\":\"x20\",\"domain\":[0.856,1.0],\"matches\":\"y\",\"showticklabels\":false},\"annotations\":[{\"font\":{},\"showarrow\":false,\"text\":\"species=Methanobrevibacter_smithii\",\"x\":0.1175,\"xanchor\":\"center\",\"xref\":\"paper\",\"y\":0.144,\"yanchor\":\"bottom\",\"yref\":\"paper\"},{\"font\":{},\"showarrow\":false,\"text\":\"species=Prevotella_copri\",\"x\":0.3725,\"xanchor\":\"center\",\"xref\":\"paper\",\"y\":0.144,\"yanchor\":\"bottom\",\"yref\":\"paper\"},{\"font\":{},\"showarrow\":false,\"text\":\"species=Ruminococcus_bromii\",\"x\":0.6275,\"xanchor\":\"center\",\"xref\":\"paper\",\"y\":0.144,\"yanchor\":\"bottom\",\"yref\":\"paper\"},{\"font\":{},\"showarrow\":false,\"text\":\"species=Streptococcus_salivarius\",\"x\":0.8824999999999998,\"xanchor\":\"center\",\"xref\":\"paper\",\"y\":0.144,\"yanchor\":\"bottom\",\"yref\":\"paper\"},{\"font\":{},\"showarrow\":false,\"text\":\"species=Escherichia_coli\",\"x\":0.1175,\"xanchor\":\"center\",\"xref\":\"paper\",\"y\":0.358,\"yanchor\":\"bottom\",\"yref\":\"paper\"},{\"font\":{},\"showarrow\":false,\"text\":\"species=Eubacterium_rectale\",\"x\":0.3725,\"xanchor\":\"center\",\"xref\":\"paper\",\"y\":0.358,\"yanchor\":\"bottom\",\"yref\":\"paper\"},{\"font\":{},\"showarrow\":false,\"text\":\"species=Faecalibacterium_prausnitzii\",\"x\":0.6275,\"xanchor\":\"center\",\"xref\":\"paper\",\"y\":0.358,\"yanchor\":\"bottom\",\"yref\":\"paper\"},{\"font\":{},\"showarrow\":false,\"text\":\"species=Fusicatenibacter_saccharivorans\",\"x\":0.8824999999999998,\"xanchor\":\"center\",\"xref\":\"paper\",\"y\":0.358,\"yanchor\":\"bottom\",\"yref\":\"paper\"},{\"font\":{},\"showarrow\":false,\"text\":\"species=Bifidobacterium_longum\",\"x\":0.1175,\"xanchor\":\"center\",\"xref\":\"paper\",\"y\":0.572,\"yanchor\":\"bottom\",\"yref\":\"paper\"},{\"font\":{},\"showarrow\":false,\"text\":\"species=Collinsella_aerofaciens\",\"x\":0.3725,\"xanchor\":\"center\",\"xref\":\"paper\",\"y\":0.572,\"yanchor\":\"bottom\",\"yref\":\"paper\"},{\"font\":{},\"showarrow\":false,\"text\":\"species=Coprococcus_comes\",\"x\":0.6275,\"xanchor\":\"center\",\"xref\":\"paper\",\"y\":0.572,\"yanchor\":\"bottom\",\"yref\":\"paper\"},{\"font\":{},\"showarrow\":false,\"text\":\"species=Dorea_longicatena\",\"x\":0.8824999999999998,\"xanchor\":\"center\",\"xref\":\"paper\",\"y\":0.572,\"yanchor\":\"bottom\",\"yref\":\"paper\"},{\"font\":{},\"showarrow\":false,\"text\":\"species=Bacteroides_uniformis\",\"x\":0.1175,\"xanchor\":\"center\",\"xref\":\"paper\",\"y\":0.7859999999999999,\"yanchor\":\"bottom\",\"yref\":\"paper\"},{\"font\":{},\"showarrow\":false,\"text\":\"species=Bacteroides_vulgatus\",\"x\":0.3725,\"xanchor\":\"center\",\"xref\":\"paper\",\"y\":0.7859999999999999,\"yanchor\":\"bottom\",\"yref\":\"paper\"},{\"font\":{},\"showarrow\":false,\"text\":\"species=Bifidobacterium_adolescentis\",\"x\":0.6275,\"xanchor\":\"center\",\"xref\":\"paper\",\"y\":0.7859999999999999,\"yanchor\":\"bottom\",\"yref\":\"paper\"},{\"font\":{},\"showarrow\":false,\"text\":\"species=Bifidobacterium_bifidum\",\"x\":0.8824999999999998,\"xanchor\":\"center\",\"xref\":\"paper\",\"y\":0.7859999999999999,\"yanchor\":\"bottom\",\"yref\":\"paper\"},{\"font\":{},\"showarrow\":false,\"text\":\"species=Akkermansia_muciniphila\",\"x\":0.1175,\"xanchor\":\"center\",\"xref\":\"paper\",\"y\":1.0,\"yanchor\":\"bottom\",\"yref\":\"paper\"},{\"font\":{},\"showarrow\":false,\"text\":\"species=Alistipes_putredinis\",\"x\":0.3725,\"xanchor\":\"center\",\"xref\":\"paper\",\"y\":1.0,\"yanchor\":\"bottom\",\"yref\":\"paper\"},{\"font\":{},\"showarrow\":false,\"text\":\"species=Anaerostipes_hadrus\",\"x\":0.6275,\"xanchor\":\"center\",\"xref\":\"paper\",\"y\":1.0,\"yanchor\":\"bottom\",\"yref\":\"paper\"},{\"font\":{},\"showarrow\":false,\"text\":\"species=Asaccharobacter_celatus\",\"x\":0.8824999999999998,\"xanchor\":\"center\",\"xref\":\"paper\",\"y\":1.0,\"yanchor\":\"bottom\",\"yref\":\"paper\"}],\"legend\":{\"tracegroupgap\":0},\"margin\":{\"t\":60},\"barmode\":\"relative\",\"height\":1000},                        {\"responsive\": true}                    ).then(function(){\n",
       "                            \n",
       "var gd = document.getElementById('39a64fac-f9ec-45a3-ad64-ec3ae08cf50f');\n",
       "var x = new MutationObserver(function (mutations, observer) {{\n",
       "        var display = window.getComputedStyle(gd).display;\n",
       "        if (!display || display === 'none') {{\n",
       "            console.log([gd, 'removed!']);\n",
       "            Plotly.purge(gd);\n",
       "            observer.disconnect();\n",
       "        }}\n",
       "}});\n",
       "\n",
       "// Listen for the removal of the full notebook cells\n",
       "var notebookContainer = gd.closest('#notebook-container');\n",
       "if (notebookContainer) {{\n",
       "    x.observe(notebookContainer, {childList: true});\n",
       "}}\n",
       "\n",
       "// Listen for the clearing of the current output cell\n",
       "var outputEl = gd.closest('.output');\n",
       "if (outputEl) {{\n",
       "    x.observe(outputEl, {childList: true});\n",
       "}}\n",
       "\n",
       "                        })                };                });            </script>        </div>"
      ]
     },
     "metadata": {},
     "output_type": "display_data"
    }
   ],
   "source": [
    "new_df = bar_df.groupby(['PFS12', 'species']).RelAb.mean().reset_index()\n",
    "px.bar(new_df, x='PFS12', y= 'RelAb', facet_col='species', facet_col_wrap=4,  height=1000)"
   ]
  },
  {
   "cell_type": "code",
   "execution_count": 70,
   "id": "6efc7d3e",
   "metadata": {
    "ExecuteTime": {
     "end_time": "2023-04-18T11:43:38.017659Z",
     "start_time": "2023-04-18T11:43:37.960200Z"
    }
   },
   "outputs": [
    {
     "data": {
      "application/vnd.plotly.v1+json": {
       "config": {
        "plotlyServerURL": "https://plotly.com"
       },
       "data": [
        {
         "alignmentgroup": "True",
         "hovertemplate": "gender=%{x}<br>BMI=%{y}<extra></extra>",
         "legendgroup": "",
         "marker": {
          "color": "#636efa"
         },
         "name": "",
         "notched": false,
         "offsetgroup": "",
         "orientation": "v",
         "showlegend": false,
         "type": "box",
         "x": [
          "male",
          "female",
          "female",
          "male",
          "male",
          "male",
          "male",
          "male",
          "female",
          "female",
          "female",
          "female",
          "female",
          "male",
          "male",
          "male",
          "female",
          "female",
          "male",
          "female",
          "male",
          "male",
          "male",
          "female",
          "male",
          "male",
          "female",
          "male",
          "male",
          "female",
          "female",
          "male",
          "male",
          "male",
          "female",
          "male",
          "male",
          "female",
          "male",
          "female",
          "female",
          "female",
          "female",
          "female",
          "male",
          "male",
          "male",
          "female",
          "male",
          "male",
          "male",
          "male",
          "male",
          "male",
          "male",
          "male",
          "female",
          "male",
          "male",
          "female",
          "male",
          "male",
          "male",
          "female",
          "female",
          "male",
          "male",
          "male",
          "female",
          "male",
          "male",
          "male",
          "female",
          "male",
          "female",
          "female",
          "male",
          "female",
          "male",
          "male",
          "male",
          "male",
          "female",
          "male",
          "male",
          "male",
          "male",
          "male",
          "female",
          "female",
          "female",
          "male",
          "female",
          "male",
          "female",
          "male",
          "male",
          "female",
          "female",
          "male",
          "female",
          "male",
          "male",
          "female",
          "male",
          "male",
          "female",
          "male",
          "male",
          "female",
          "male",
          "female",
          "female",
          "female",
          "male",
          "male",
          "male",
          "female",
          "male",
          "female",
          "female",
          "female",
          "female",
          "male",
          "male",
          "female",
          "male",
          "female",
          "male",
          "male",
          "male",
          "male",
          "female",
          "male",
          "male",
          "female",
          "male",
          "male",
          "female",
          "female",
          "male",
          "male",
          "male",
          "female",
          "male",
          "female",
          "female",
          "female",
          "female",
          "male",
          "male",
          "male",
          "male",
          "female",
          "male",
          "male",
          "male",
          "female",
          "male",
          "male",
          "male",
          "male",
          "male",
          "male",
          "female"
         ],
         "x0": " ",
         "xaxis": "x",
         "y": [
          28.7132112,
          27.35457064,
          22.0603538,
          30.35032952,
          36.07947745,
          31.37798917,
          26.171875,
          null,
          22.8515625,
          20.9566075,
          28.46036374,
          24.16171225,
          25.92419951,
          27.77777778,
          29.52111838,
          31.83495338,
          20.72432543,
          22.95432524,
          27.86594941,
          25.74394464,
          47.65812397,
          36.16967555,
          26.27471384,
          31.40522352,
          34.0410284,
          21.79106405,
          39.40621751,
          28.15530042,
          28.76420455,
          23.8697204,
          37.02479339,
          32.34477974,
          32.60475788,
          24.29943171,
          29.9597275,
          23.63969196,
          31.28092183,
          18.83437364,
          27.55789225,
          36.19875019,
          20.82093992,
          33.95061728,
          23.19620659,
          29.2358582,
          32.66520851,
          29.05328798,
          29.11894136,
          25.84648258,
          28.9007795,
          33.79017735,
          34.08660523,
          24.70554438,
          28.31024931,
          24.22857143,
          28.44137397,
          23.97053496,
          27.76342975,
          28.72737719,
          24.65590962,
          22.03856749,
          28.18457265,
          null,
          28.37821519,
          29.13631634,
          24.62222222,
          35.81314879,
          22.47658689,
          26.14927686,
          29.07495538,
          18.99198825,
          28.62879239,
          29.96161169,
          21.23057202,
          27,
          24.30461788,
          21.56454491,
          33.80205516,
          26.44628099,
          24.22145329,
          29.3877551,
          33.21799308,
          25.05736022,
          29.6875,
          25.66115203,
          null,
          null,
          null,
          null,
          31.25,
          29.41176471,
          19.91836735,
          19.52311537,
          30.86419753,
          37.34721593,
          null,
          21.84700852,
          22.8206756,
          24.67702134,
          33.94930751,
          22.40878677,
          31.83391003,
          21.6066482,
          32.14024836,
          21.4532872,
          24.17897757,
          24.96800974,
          24.96494648,
          24.30248706,
          25.45111384,
          25.99090318,
          25.46938776,
          38.19632234,
          18.77834467,
          37.57762747,
          24.76756592,
          27.13141179,
          25.43646664,
          27.76979795,
          26.52851035,
          24.65590962,
          26.61934339,
          29.40759637,
          33.15043439,
          28.06891815,
          29.3523545,
          null,
          28.90507573,
          32.07591299,
          29.04657027,
          29.06122449,
          null,
          null,
          27.39817568,
          27.45982194,
          27.17063157,
          26.42356982,
          26.88172043,
          40.74074074,
          31.97501487,
          26.76977989,
          23.56663223,
          25,
          32,
          38.57875854,
          32.03857841,
          26.0261749,
          29.24210864,
          38.0078167,
          21.60410478,
          24.53512397,
          34.06360931,
          28.40111108,
          23.05456246,
          20.90419501,
          33.89721074,
          26.5,
          28.08641975,
          19.1953028,
          33.85577144,
          30.81648831,
          27.76465028,
          29.11542185,
          24.89117868,
          34.68627699,
          27.16140697
         ],
         "y0": " ",
         "yaxis": "y"
        }
       ],
       "layout": {
        "boxmode": "group",
        "legend": {
         "tracegroupgap": 0
        },
        "margin": {
         "t": 60
        },
        "template": {
         "data": {
          "bar": [
           {
            "error_x": {
             "color": "#2a3f5f"
            },
            "error_y": {
             "color": "#2a3f5f"
            },
            "marker": {
             "line": {
              "color": "#E5ECF6",
              "width": 0.5
             },
             "pattern": {
              "fillmode": "overlay",
              "size": 10,
              "solidity": 0.2
             }
            },
            "type": "bar"
           }
          ],
          "barpolar": [
           {
            "marker": {
             "line": {
              "color": "#E5ECF6",
              "width": 0.5
             },
             "pattern": {
              "fillmode": "overlay",
              "size": 10,
              "solidity": 0.2
             }
            },
            "type": "barpolar"
           }
          ],
          "carpet": [
           {
            "aaxis": {
             "endlinecolor": "#2a3f5f",
             "gridcolor": "white",
             "linecolor": "white",
             "minorgridcolor": "white",
             "startlinecolor": "#2a3f5f"
            },
            "baxis": {
             "endlinecolor": "#2a3f5f",
             "gridcolor": "white",
             "linecolor": "white",
             "minorgridcolor": "white",
             "startlinecolor": "#2a3f5f"
            },
            "type": "carpet"
           }
          ],
          "choropleth": [
           {
            "colorbar": {
             "outlinewidth": 0,
             "ticks": ""
            },
            "type": "choropleth"
           }
          ],
          "contour": [
           {
            "colorbar": {
             "outlinewidth": 0,
             "ticks": ""
            },
            "colorscale": [
             [
              0,
              "#0d0887"
             ],
             [
              0.1111111111111111,
              "#46039f"
             ],
             [
              0.2222222222222222,
              "#7201a8"
             ],
             [
              0.3333333333333333,
              "#9c179e"
             ],
             [
              0.4444444444444444,
              "#bd3786"
             ],
             [
              0.5555555555555556,
              "#d8576b"
             ],
             [
              0.6666666666666666,
              "#ed7953"
             ],
             [
              0.7777777777777778,
              "#fb9f3a"
             ],
             [
              0.8888888888888888,
              "#fdca26"
             ],
             [
              1,
              "#f0f921"
             ]
            ],
            "type": "contour"
           }
          ],
          "contourcarpet": [
           {
            "colorbar": {
             "outlinewidth": 0,
             "ticks": ""
            },
            "type": "contourcarpet"
           }
          ],
          "heatmap": [
           {
            "colorbar": {
             "outlinewidth": 0,
             "ticks": ""
            },
            "colorscale": [
             [
              0,
              "#0d0887"
             ],
             [
              0.1111111111111111,
              "#46039f"
             ],
             [
              0.2222222222222222,
              "#7201a8"
             ],
             [
              0.3333333333333333,
              "#9c179e"
             ],
             [
              0.4444444444444444,
              "#bd3786"
             ],
             [
              0.5555555555555556,
              "#d8576b"
             ],
             [
              0.6666666666666666,
              "#ed7953"
             ],
             [
              0.7777777777777778,
              "#fb9f3a"
             ],
             [
              0.8888888888888888,
              "#fdca26"
             ],
             [
              1,
              "#f0f921"
             ]
            ],
            "type": "heatmap"
           }
          ],
          "heatmapgl": [
           {
            "colorbar": {
             "outlinewidth": 0,
             "ticks": ""
            },
            "colorscale": [
             [
              0,
              "#0d0887"
             ],
             [
              0.1111111111111111,
              "#46039f"
             ],
             [
              0.2222222222222222,
              "#7201a8"
             ],
             [
              0.3333333333333333,
              "#9c179e"
             ],
             [
              0.4444444444444444,
              "#bd3786"
             ],
             [
              0.5555555555555556,
              "#d8576b"
             ],
             [
              0.6666666666666666,
              "#ed7953"
             ],
             [
              0.7777777777777778,
              "#fb9f3a"
             ],
             [
              0.8888888888888888,
              "#fdca26"
             ],
             [
              1,
              "#f0f921"
             ]
            ],
            "type": "heatmapgl"
           }
          ],
          "histogram": [
           {
            "marker": {
             "pattern": {
              "fillmode": "overlay",
              "size": 10,
              "solidity": 0.2
             }
            },
            "type": "histogram"
           }
          ],
          "histogram2d": [
           {
            "colorbar": {
             "outlinewidth": 0,
             "ticks": ""
            },
            "colorscale": [
             [
              0,
              "#0d0887"
             ],
             [
              0.1111111111111111,
              "#46039f"
             ],
             [
              0.2222222222222222,
              "#7201a8"
             ],
             [
              0.3333333333333333,
              "#9c179e"
             ],
             [
              0.4444444444444444,
              "#bd3786"
             ],
             [
              0.5555555555555556,
              "#d8576b"
             ],
             [
              0.6666666666666666,
              "#ed7953"
             ],
             [
              0.7777777777777778,
              "#fb9f3a"
             ],
             [
              0.8888888888888888,
              "#fdca26"
             ],
             [
              1,
              "#f0f921"
             ]
            ],
            "type": "histogram2d"
           }
          ],
          "histogram2dcontour": [
           {
            "colorbar": {
             "outlinewidth": 0,
             "ticks": ""
            },
            "colorscale": [
             [
              0,
              "#0d0887"
             ],
             [
              0.1111111111111111,
              "#46039f"
             ],
             [
              0.2222222222222222,
              "#7201a8"
             ],
             [
              0.3333333333333333,
              "#9c179e"
             ],
             [
              0.4444444444444444,
              "#bd3786"
             ],
             [
              0.5555555555555556,
              "#d8576b"
             ],
             [
              0.6666666666666666,
              "#ed7953"
             ],
             [
              0.7777777777777778,
              "#fb9f3a"
             ],
             [
              0.8888888888888888,
              "#fdca26"
             ],
             [
              1,
              "#f0f921"
             ]
            ],
            "type": "histogram2dcontour"
           }
          ],
          "mesh3d": [
           {
            "colorbar": {
             "outlinewidth": 0,
             "ticks": ""
            },
            "type": "mesh3d"
           }
          ],
          "parcoords": [
           {
            "line": {
             "colorbar": {
              "outlinewidth": 0,
              "ticks": ""
             }
            },
            "type": "parcoords"
           }
          ],
          "pie": [
           {
            "automargin": true,
            "type": "pie"
           }
          ],
          "scatter": [
           {
            "fillpattern": {
             "fillmode": "overlay",
             "size": 10,
             "solidity": 0.2
            },
            "type": "scatter"
           }
          ],
          "scatter3d": [
           {
            "line": {
             "colorbar": {
              "outlinewidth": 0,
              "ticks": ""
             }
            },
            "marker": {
             "colorbar": {
              "outlinewidth": 0,
              "ticks": ""
             }
            },
            "type": "scatter3d"
           }
          ],
          "scattercarpet": [
           {
            "marker": {
             "colorbar": {
              "outlinewidth": 0,
              "ticks": ""
             }
            },
            "type": "scattercarpet"
           }
          ],
          "scattergeo": [
           {
            "marker": {
             "colorbar": {
              "outlinewidth": 0,
              "ticks": ""
             }
            },
            "type": "scattergeo"
           }
          ],
          "scattergl": [
           {
            "marker": {
             "colorbar": {
              "outlinewidth": 0,
              "ticks": ""
             }
            },
            "type": "scattergl"
           }
          ],
          "scattermapbox": [
           {
            "marker": {
             "colorbar": {
              "outlinewidth": 0,
              "ticks": ""
             }
            },
            "type": "scattermapbox"
           }
          ],
          "scatterpolar": [
           {
            "marker": {
             "colorbar": {
              "outlinewidth": 0,
              "ticks": ""
             }
            },
            "type": "scatterpolar"
           }
          ],
          "scatterpolargl": [
           {
            "marker": {
             "colorbar": {
              "outlinewidth": 0,
              "ticks": ""
             }
            },
            "type": "scatterpolargl"
           }
          ],
          "scatterternary": [
           {
            "marker": {
             "colorbar": {
              "outlinewidth": 0,
              "ticks": ""
             }
            },
            "type": "scatterternary"
           }
          ],
          "surface": [
           {
            "colorbar": {
             "outlinewidth": 0,
             "ticks": ""
            },
            "colorscale": [
             [
              0,
              "#0d0887"
             ],
             [
              0.1111111111111111,
              "#46039f"
             ],
             [
              0.2222222222222222,
              "#7201a8"
             ],
             [
              0.3333333333333333,
              "#9c179e"
             ],
             [
              0.4444444444444444,
              "#bd3786"
             ],
             [
              0.5555555555555556,
              "#d8576b"
             ],
             [
              0.6666666666666666,
              "#ed7953"
             ],
             [
              0.7777777777777778,
              "#fb9f3a"
             ],
             [
              0.8888888888888888,
              "#fdca26"
             ],
             [
              1,
              "#f0f921"
             ]
            ],
            "type": "surface"
           }
          ],
          "table": [
           {
            "cells": {
             "fill": {
              "color": "#EBF0F8"
             },
             "line": {
              "color": "white"
             }
            },
            "header": {
             "fill": {
              "color": "#C8D4E3"
             },
             "line": {
              "color": "white"
             }
            },
            "type": "table"
           }
          ]
         },
         "layout": {
          "annotationdefaults": {
           "arrowcolor": "#2a3f5f",
           "arrowhead": 0,
           "arrowwidth": 1
          },
          "autotypenumbers": "strict",
          "coloraxis": {
           "colorbar": {
            "outlinewidth": 0,
            "ticks": ""
           }
          },
          "colorscale": {
           "diverging": [
            [
             0,
             "#8e0152"
            ],
            [
             0.1,
             "#c51b7d"
            ],
            [
             0.2,
             "#de77ae"
            ],
            [
             0.3,
             "#f1b6da"
            ],
            [
             0.4,
             "#fde0ef"
            ],
            [
             0.5,
             "#f7f7f7"
            ],
            [
             0.6,
             "#e6f5d0"
            ],
            [
             0.7,
             "#b8e186"
            ],
            [
             0.8,
             "#7fbc41"
            ],
            [
             0.9,
             "#4d9221"
            ],
            [
             1,
             "#276419"
            ]
           ],
           "sequential": [
            [
             0,
             "#0d0887"
            ],
            [
             0.1111111111111111,
             "#46039f"
            ],
            [
             0.2222222222222222,
             "#7201a8"
            ],
            [
             0.3333333333333333,
             "#9c179e"
            ],
            [
             0.4444444444444444,
             "#bd3786"
            ],
            [
             0.5555555555555556,
             "#d8576b"
            ],
            [
             0.6666666666666666,
             "#ed7953"
            ],
            [
             0.7777777777777778,
             "#fb9f3a"
            ],
            [
             0.8888888888888888,
             "#fdca26"
            ],
            [
             1,
             "#f0f921"
            ]
           ],
           "sequentialminus": [
            [
             0,
             "#0d0887"
            ],
            [
             0.1111111111111111,
             "#46039f"
            ],
            [
             0.2222222222222222,
             "#7201a8"
            ],
            [
             0.3333333333333333,
             "#9c179e"
            ],
            [
             0.4444444444444444,
             "#bd3786"
            ],
            [
             0.5555555555555556,
             "#d8576b"
            ],
            [
             0.6666666666666666,
             "#ed7953"
            ],
            [
             0.7777777777777778,
             "#fb9f3a"
            ],
            [
             0.8888888888888888,
             "#fdca26"
            ],
            [
             1,
             "#f0f921"
            ]
           ]
          },
          "colorway": [
           "#636efa",
           "#EF553B",
           "#00cc96",
           "#ab63fa",
           "#FFA15A",
           "#19d3f3",
           "#FF6692",
           "#B6E880",
           "#FF97FF",
           "#FECB52"
          ],
          "font": {
           "color": "#2a3f5f"
          },
          "geo": {
           "bgcolor": "white",
           "lakecolor": "white",
           "landcolor": "#E5ECF6",
           "showlakes": true,
           "showland": true,
           "subunitcolor": "white"
          },
          "hoverlabel": {
           "align": "left"
          },
          "hovermode": "closest",
          "mapbox": {
           "style": "light"
          },
          "paper_bgcolor": "white",
          "plot_bgcolor": "#E5ECF6",
          "polar": {
           "angularaxis": {
            "gridcolor": "white",
            "linecolor": "white",
            "ticks": ""
           },
           "bgcolor": "#E5ECF6",
           "radialaxis": {
            "gridcolor": "white",
            "linecolor": "white",
            "ticks": ""
           }
          },
          "scene": {
           "xaxis": {
            "backgroundcolor": "#E5ECF6",
            "gridcolor": "white",
            "gridwidth": 2,
            "linecolor": "white",
            "showbackground": true,
            "ticks": "",
            "zerolinecolor": "white"
           },
           "yaxis": {
            "backgroundcolor": "#E5ECF6",
            "gridcolor": "white",
            "gridwidth": 2,
            "linecolor": "white",
            "showbackground": true,
            "ticks": "",
            "zerolinecolor": "white"
           },
           "zaxis": {
            "backgroundcolor": "#E5ECF6",
            "gridcolor": "white",
            "gridwidth": 2,
            "linecolor": "white",
            "showbackground": true,
            "ticks": "",
            "zerolinecolor": "white"
           }
          },
          "shapedefaults": {
           "line": {
            "color": "#2a3f5f"
           }
          },
          "ternary": {
           "aaxis": {
            "gridcolor": "white",
            "linecolor": "white",
            "ticks": ""
           },
           "baxis": {
            "gridcolor": "white",
            "linecolor": "white",
            "ticks": ""
           },
           "bgcolor": "#E5ECF6",
           "caxis": {
            "gridcolor": "white",
            "linecolor": "white",
            "ticks": ""
           }
          },
          "title": {
           "x": 0.05
          },
          "xaxis": {
           "automargin": true,
           "gridcolor": "white",
           "linecolor": "white",
           "ticks": "",
           "title": {
            "standoff": 15
           },
           "zerolinecolor": "white",
           "zerolinewidth": 2
          },
          "yaxis": {
           "automargin": true,
           "gridcolor": "white",
           "linecolor": "white",
           "ticks": "",
           "title": {
            "standoff": 15
           },
           "zerolinecolor": "white",
           "zerolinewidth": 2
          }
         }
        },
        "xaxis": {
         "anchor": "y",
         "domain": [
          0,
          1
         ],
         "title": {
          "text": "gender"
         }
        },
        "yaxis": {
         "anchor": "x",
         "domain": [
          0,
          1
         ],
         "title": {
          "text": "BMI"
         }
        }
       }
      },
      "text/html": [
       "<div>                            <div id=\"1360e515-33eb-4678-b2e9-7f48083b72f4\" class=\"plotly-graph-div\" style=\"height:525px; width:100%;\"></div>            <script type=\"text/javascript\">                require([\"plotly\"], function(Plotly) {                    window.PLOTLYENV=window.PLOTLYENV || {};                                    if (document.getElementById(\"1360e515-33eb-4678-b2e9-7f48083b72f4\")) {                    Plotly.newPlot(                        \"1360e515-33eb-4678-b2e9-7f48083b72f4\",                        [{\"alignmentgroup\":\"True\",\"hovertemplate\":\"gender=%{x}<br>BMI=%{y}<extra></extra>\",\"legendgroup\":\"\",\"marker\":{\"color\":\"#636efa\"},\"name\":\"\",\"notched\":false,\"offsetgroup\":\"\",\"orientation\":\"v\",\"showlegend\":false,\"x\":[\"male\",\"female\",\"female\",\"male\",\"male\",\"male\",\"male\",\"male\",\"female\",\"female\",\"female\",\"female\",\"female\",\"male\",\"male\",\"male\",\"female\",\"female\",\"male\",\"female\",\"male\",\"male\",\"male\",\"female\",\"male\",\"male\",\"female\",\"male\",\"male\",\"female\",\"female\",\"male\",\"male\",\"male\",\"female\",\"male\",\"male\",\"female\",\"male\",\"female\",\"female\",\"female\",\"female\",\"female\",\"male\",\"male\",\"male\",\"female\",\"male\",\"male\",\"male\",\"male\",\"male\",\"male\",\"male\",\"male\",\"female\",\"male\",\"male\",\"female\",\"male\",\"male\",\"male\",\"female\",\"female\",\"male\",\"male\",\"male\",\"female\",\"male\",\"male\",\"male\",\"female\",\"male\",\"female\",\"female\",\"male\",\"female\",\"male\",\"male\",\"male\",\"male\",\"female\",\"male\",\"male\",\"male\",\"male\",\"male\",\"female\",\"female\",\"female\",\"male\",\"female\",\"male\",\"female\",\"male\",\"male\",\"female\",\"female\",\"male\",\"female\",\"male\",\"male\",\"female\",\"male\",\"male\",\"female\",\"male\",\"male\",\"female\",\"male\",\"female\",\"female\",\"female\",\"male\",\"male\",\"male\",\"female\",\"male\",\"female\",\"female\",\"female\",\"female\",\"male\",\"male\",\"female\",\"male\",\"female\",\"male\",\"male\",\"male\",\"male\",\"female\",\"male\",\"male\",\"female\",\"male\",\"male\",\"female\",\"female\",\"male\",\"male\",\"male\",\"female\",\"male\",\"female\",\"female\",\"female\",\"female\",\"male\",\"male\",\"male\",\"male\",\"female\",\"male\",\"male\",\"male\",\"female\",\"male\",\"male\",\"male\",\"male\",\"male\",\"male\",\"female\"],\"x0\":\" \",\"xaxis\":\"x\",\"y\":[28.7132112,27.35457064,22.0603538,30.35032952,36.07947745,31.37798917,26.171875,null,22.8515625,20.9566075,28.46036374,24.16171225,25.92419951,27.77777778,29.52111838,31.83495338,20.72432543,22.95432524,27.86594941,25.74394464,47.65812397,36.16967555,26.27471384,31.40522352,34.0410284,21.79106405,39.40621751,28.15530042,28.76420455,23.8697204,37.02479339,32.34477974,32.60475788,24.29943171,29.9597275,23.63969196,31.28092183,18.83437364,27.55789225,36.19875019,20.82093992,33.95061728,23.19620659,29.2358582,32.66520851,29.05328798,29.11894136,25.84648258,28.9007795,33.79017735,34.08660523,24.70554438,28.31024931,24.22857143,28.44137397,23.97053496,27.76342975,28.72737719,24.65590962,22.03856749,28.18457265,null,28.37821519,29.13631634,24.62222222,35.81314879,22.47658689,26.14927686,29.07495538,18.99198825,28.62879239,29.96161169,21.23057202,27.0,24.30461788,21.56454491,33.80205516,26.44628099,24.22145329,29.3877551,33.21799308,25.05736022,29.6875,25.66115203,null,null,null,null,31.25,29.41176471,19.91836735,19.52311537,30.86419753,37.34721593,null,21.84700852,22.8206756,24.67702134,33.94930751,22.40878677,31.83391003,21.6066482,32.14024836,21.4532872,24.17897757,24.96800974,24.96494648,24.30248706,25.45111384,25.99090318,25.46938776,38.19632234,18.77834467,37.57762747,24.76756592,27.13141179,25.43646664,27.76979795,26.52851035,24.65590962,26.61934339,29.40759637,33.15043439,28.06891815,29.3523545,null,28.90507573,32.07591299,29.04657027,29.06122449,null,null,27.39817568,27.45982194,27.17063157,26.42356982,26.88172043,40.74074074,31.97501487,26.76977989,23.56663223,25.0,32.0,38.57875854,32.03857841,26.0261749,29.24210864,38.0078167,21.60410478,24.53512397,34.06360931,28.40111108,23.05456246,20.90419501,33.89721074,26.5,28.08641975,19.1953028,33.85577144,30.81648831,27.76465028,29.11542185,24.89117868,34.68627699,27.16140697],\"y0\":\" \",\"yaxis\":\"y\",\"type\":\"box\"}],                        {\"template\":{\"data\":{\"histogram2dcontour\":[{\"type\":\"histogram2dcontour\",\"colorbar\":{\"outlinewidth\":0,\"ticks\":\"\"},\"colorscale\":[[0.0,\"#0d0887\"],[0.1111111111111111,\"#46039f\"],[0.2222222222222222,\"#7201a8\"],[0.3333333333333333,\"#9c179e\"],[0.4444444444444444,\"#bd3786\"],[0.5555555555555556,\"#d8576b\"],[0.6666666666666666,\"#ed7953\"],[0.7777777777777778,\"#fb9f3a\"],[0.8888888888888888,\"#fdca26\"],[1.0,\"#f0f921\"]]}],\"choropleth\":[{\"type\":\"choropleth\",\"colorbar\":{\"outlinewidth\":0,\"ticks\":\"\"}}],\"histogram2d\":[{\"type\":\"histogram2d\",\"colorbar\":{\"outlinewidth\":0,\"ticks\":\"\"},\"colorscale\":[[0.0,\"#0d0887\"],[0.1111111111111111,\"#46039f\"],[0.2222222222222222,\"#7201a8\"],[0.3333333333333333,\"#9c179e\"],[0.4444444444444444,\"#bd3786\"],[0.5555555555555556,\"#d8576b\"],[0.6666666666666666,\"#ed7953\"],[0.7777777777777778,\"#fb9f3a\"],[0.8888888888888888,\"#fdca26\"],[1.0,\"#f0f921\"]]}],\"heatmap\":[{\"type\":\"heatmap\",\"colorbar\":{\"outlinewidth\":0,\"ticks\":\"\"},\"colorscale\":[[0.0,\"#0d0887\"],[0.1111111111111111,\"#46039f\"],[0.2222222222222222,\"#7201a8\"],[0.3333333333333333,\"#9c179e\"],[0.4444444444444444,\"#bd3786\"],[0.5555555555555556,\"#d8576b\"],[0.6666666666666666,\"#ed7953\"],[0.7777777777777778,\"#fb9f3a\"],[0.8888888888888888,\"#fdca26\"],[1.0,\"#f0f921\"]]}],\"heatmapgl\":[{\"type\":\"heatmapgl\",\"colorbar\":{\"outlinewidth\":0,\"ticks\":\"\"},\"colorscale\":[[0.0,\"#0d0887\"],[0.1111111111111111,\"#46039f\"],[0.2222222222222222,\"#7201a8\"],[0.3333333333333333,\"#9c179e\"],[0.4444444444444444,\"#bd3786\"],[0.5555555555555556,\"#d8576b\"],[0.6666666666666666,\"#ed7953\"],[0.7777777777777778,\"#fb9f3a\"],[0.8888888888888888,\"#fdca26\"],[1.0,\"#f0f921\"]]}],\"contourcarpet\":[{\"type\":\"contourcarpet\",\"colorbar\":{\"outlinewidth\":0,\"ticks\":\"\"}}],\"contour\":[{\"type\":\"contour\",\"colorbar\":{\"outlinewidth\":0,\"ticks\":\"\"},\"colorscale\":[[0.0,\"#0d0887\"],[0.1111111111111111,\"#46039f\"],[0.2222222222222222,\"#7201a8\"],[0.3333333333333333,\"#9c179e\"],[0.4444444444444444,\"#bd3786\"],[0.5555555555555556,\"#d8576b\"],[0.6666666666666666,\"#ed7953\"],[0.7777777777777778,\"#fb9f3a\"],[0.8888888888888888,\"#fdca26\"],[1.0,\"#f0f921\"]]}],\"surface\":[{\"type\":\"surface\",\"colorbar\":{\"outlinewidth\":0,\"ticks\":\"\"},\"colorscale\":[[0.0,\"#0d0887\"],[0.1111111111111111,\"#46039f\"],[0.2222222222222222,\"#7201a8\"],[0.3333333333333333,\"#9c179e\"],[0.4444444444444444,\"#bd3786\"],[0.5555555555555556,\"#d8576b\"],[0.6666666666666666,\"#ed7953\"],[0.7777777777777778,\"#fb9f3a\"],[0.8888888888888888,\"#fdca26\"],[1.0,\"#f0f921\"]]}],\"mesh3d\":[{\"type\":\"mesh3d\",\"colorbar\":{\"outlinewidth\":0,\"ticks\":\"\"}}],\"scatter\":[{\"fillpattern\":{\"fillmode\":\"overlay\",\"size\":10,\"solidity\":0.2},\"type\":\"scatter\"}],\"parcoords\":[{\"type\":\"parcoords\",\"line\":{\"colorbar\":{\"outlinewidth\":0,\"ticks\":\"\"}}}],\"scatterpolargl\":[{\"type\":\"scatterpolargl\",\"marker\":{\"colorbar\":{\"outlinewidth\":0,\"ticks\":\"\"}}}],\"bar\":[{\"error_x\":{\"color\":\"#2a3f5f\"},\"error_y\":{\"color\":\"#2a3f5f\"},\"marker\":{\"line\":{\"color\":\"#E5ECF6\",\"width\":0.5},\"pattern\":{\"fillmode\":\"overlay\",\"size\":10,\"solidity\":0.2}},\"type\":\"bar\"}],\"scattergeo\":[{\"type\":\"scattergeo\",\"marker\":{\"colorbar\":{\"outlinewidth\":0,\"ticks\":\"\"}}}],\"scatterpolar\":[{\"type\":\"scatterpolar\",\"marker\":{\"colorbar\":{\"outlinewidth\":0,\"ticks\":\"\"}}}],\"histogram\":[{\"marker\":{\"pattern\":{\"fillmode\":\"overlay\",\"size\":10,\"solidity\":0.2}},\"type\":\"histogram\"}],\"scattergl\":[{\"type\":\"scattergl\",\"marker\":{\"colorbar\":{\"outlinewidth\":0,\"ticks\":\"\"}}}],\"scatter3d\":[{\"type\":\"scatter3d\",\"line\":{\"colorbar\":{\"outlinewidth\":0,\"ticks\":\"\"}},\"marker\":{\"colorbar\":{\"outlinewidth\":0,\"ticks\":\"\"}}}],\"scattermapbox\":[{\"type\":\"scattermapbox\",\"marker\":{\"colorbar\":{\"outlinewidth\":0,\"ticks\":\"\"}}}],\"scatterternary\":[{\"type\":\"scatterternary\",\"marker\":{\"colorbar\":{\"outlinewidth\":0,\"ticks\":\"\"}}}],\"scattercarpet\":[{\"type\":\"scattercarpet\",\"marker\":{\"colorbar\":{\"outlinewidth\":0,\"ticks\":\"\"}}}],\"carpet\":[{\"aaxis\":{\"endlinecolor\":\"#2a3f5f\",\"gridcolor\":\"white\",\"linecolor\":\"white\",\"minorgridcolor\":\"white\",\"startlinecolor\":\"#2a3f5f\"},\"baxis\":{\"endlinecolor\":\"#2a3f5f\",\"gridcolor\":\"white\",\"linecolor\":\"white\",\"minorgridcolor\":\"white\",\"startlinecolor\":\"#2a3f5f\"},\"type\":\"carpet\"}],\"table\":[{\"cells\":{\"fill\":{\"color\":\"#EBF0F8\"},\"line\":{\"color\":\"white\"}},\"header\":{\"fill\":{\"color\":\"#C8D4E3\"},\"line\":{\"color\":\"white\"}},\"type\":\"table\"}],\"barpolar\":[{\"marker\":{\"line\":{\"color\":\"#E5ECF6\",\"width\":0.5},\"pattern\":{\"fillmode\":\"overlay\",\"size\":10,\"solidity\":0.2}},\"type\":\"barpolar\"}],\"pie\":[{\"automargin\":true,\"type\":\"pie\"}]},\"layout\":{\"autotypenumbers\":\"strict\",\"colorway\":[\"#636efa\",\"#EF553B\",\"#00cc96\",\"#ab63fa\",\"#FFA15A\",\"#19d3f3\",\"#FF6692\",\"#B6E880\",\"#FF97FF\",\"#FECB52\"],\"font\":{\"color\":\"#2a3f5f\"},\"hovermode\":\"closest\",\"hoverlabel\":{\"align\":\"left\"},\"paper_bgcolor\":\"white\",\"plot_bgcolor\":\"#E5ECF6\",\"polar\":{\"bgcolor\":\"#E5ECF6\",\"angularaxis\":{\"gridcolor\":\"white\",\"linecolor\":\"white\",\"ticks\":\"\"},\"radialaxis\":{\"gridcolor\":\"white\",\"linecolor\":\"white\",\"ticks\":\"\"}},\"ternary\":{\"bgcolor\":\"#E5ECF6\",\"aaxis\":{\"gridcolor\":\"white\",\"linecolor\":\"white\",\"ticks\":\"\"},\"baxis\":{\"gridcolor\":\"white\",\"linecolor\":\"white\",\"ticks\":\"\"},\"caxis\":{\"gridcolor\":\"white\",\"linecolor\":\"white\",\"ticks\":\"\"}},\"coloraxis\":{\"colorbar\":{\"outlinewidth\":0,\"ticks\":\"\"}},\"colorscale\":{\"sequential\":[[0.0,\"#0d0887\"],[0.1111111111111111,\"#46039f\"],[0.2222222222222222,\"#7201a8\"],[0.3333333333333333,\"#9c179e\"],[0.4444444444444444,\"#bd3786\"],[0.5555555555555556,\"#d8576b\"],[0.6666666666666666,\"#ed7953\"],[0.7777777777777778,\"#fb9f3a\"],[0.8888888888888888,\"#fdca26\"],[1.0,\"#f0f921\"]],\"sequentialminus\":[[0.0,\"#0d0887\"],[0.1111111111111111,\"#46039f\"],[0.2222222222222222,\"#7201a8\"],[0.3333333333333333,\"#9c179e\"],[0.4444444444444444,\"#bd3786\"],[0.5555555555555556,\"#d8576b\"],[0.6666666666666666,\"#ed7953\"],[0.7777777777777778,\"#fb9f3a\"],[0.8888888888888888,\"#fdca26\"],[1.0,\"#f0f921\"]],\"diverging\":[[0,\"#8e0152\"],[0.1,\"#c51b7d\"],[0.2,\"#de77ae\"],[0.3,\"#f1b6da\"],[0.4,\"#fde0ef\"],[0.5,\"#f7f7f7\"],[0.6,\"#e6f5d0\"],[0.7,\"#b8e186\"],[0.8,\"#7fbc41\"],[0.9,\"#4d9221\"],[1,\"#276419\"]]},\"xaxis\":{\"gridcolor\":\"white\",\"linecolor\":\"white\",\"ticks\":\"\",\"title\":{\"standoff\":15},\"zerolinecolor\":\"white\",\"automargin\":true,\"zerolinewidth\":2},\"yaxis\":{\"gridcolor\":\"white\",\"linecolor\":\"white\",\"ticks\":\"\",\"title\":{\"standoff\":15},\"zerolinecolor\":\"white\",\"automargin\":true,\"zerolinewidth\":2},\"scene\":{\"xaxis\":{\"backgroundcolor\":\"#E5ECF6\",\"gridcolor\":\"white\",\"linecolor\":\"white\",\"showbackground\":true,\"ticks\":\"\",\"zerolinecolor\":\"white\",\"gridwidth\":2},\"yaxis\":{\"backgroundcolor\":\"#E5ECF6\",\"gridcolor\":\"white\",\"linecolor\":\"white\",\"showbackground\":true,\"ticks\":\"\",\"zerolinecolor\":\"white\",\"gridwidth\":2},\"zaxis\":{\"backgroundcolor\":\"#E5ECF6\",\"gridcolor\":\"white\",\"linecolor\":\"white\",\"showbackground\":true,\"ticks\":\"\",\"zerolinecolor\":\"white\",\"gridwidth\":2}},\"shapedefaults\":{\"line\":{\"color\":\"#2a3f5f\"}},\"annotationdefaults\":{\"arrowcolor\":\"#2a3f5f\",\"arrowhead\":0,\"arrowwidth\":1},\"geo\":{\"bgcolor\":\"white\",\"landcolor\":\"#E5ECF6\",\"subunitcolor\":\"white\",\"showland\":true,\"showlakes\":true,\"lakecolor\":\"white\"},\"title\":{\"x\":0.05},\"mapbox\":{\"style\":\"light\"}}},\"xaxis\":{\"anchor\":\"y\",\"domain\":[0.0,1.0],\"title\":{\"text\":\"gender\"}},\"yaxis\":{\"anchor\":\"x\",\"domain\":[0.0,1.0],\"title\":{\"text\":\"BMI\"}},\"legend\":{\"tracegroupgap\":0},\"margin\":{\"t\":60},\"boxmode\":\"group\"},                        {\"responsive\": true}                    ).then(function(){\n",
       "                            \n",
       "var gd = document.getElementById('1360e515-33eb-4678-b2e9-7f48083b72f4');\n",
       "var x = new MutationObserver(function (mutations, observer) {{\n",
       "        var display = window.getComputedStyle(gd).display;\n",
       "        if (!display || display === 'none') {{\n",
       "            console.log([gd, 'removed!']);\n",
       "            Plotly.purge(gd);\n",
       "            observer.disconnect();\n",
       "        }}\n",
       "}});\n",
       "\n",
       "// Listen for the removal of the full notebook cells\n",
       "var notebookContainer = gd.closest('#notebook-container');\n",
       "if (notebookContainer) {{\n",
       "    x.observe(notebookContainer, {childList: true});\n",
       "}}\n",
       "\n",
       "// Listen for the clearing of the current output cell\n",
       "var outputEl = gd.closest('.output');\n",
       "if (outputEl) {{\n",
       "    x.observe(outputEl, {childList: true});\n",
       "}}\n",
       "\n",
       "                        })                };                });            </script>        </div>"
      ]
     },
     "metadata": {},
     "output_type": "display_data"
    }
   ],
   "source": [
    "# Is there difference in PFS12 across countries/genders/age categories\n",
    "fig = px.box(df, x='gender', y='BMI')\n",
    "fig"
   ]
  },
  {
   "cell_type": "code",
   "execution_count": 77,
   "id": "d902d46a",
   "metadata": {
    "ExecuteTime": {
     "end_time": "2023-04-18T11:45:46.649565Z",
     "start_time": "2023-04-18T11:45:46.539405Z"
    }
   },
   "outputs": [
    {
     "data": {
      "application/vnd.plotly.v1+json": {
       "config": {
        "plotlyServerURL": "https://plotly.com"
       },
       "data": [
        {
         "alignmentgroup": "True",
         "hovertemplate": "PFS12=yes<br>age_category=adult<br>gender=male<br>country=%{x}<br>BMI=%{y}<extra></extra>",
         "legendgroup": "yes",
         "marker": {
          "color": "#1F77B4"
         },
         "name": "yes",
         "notched": false,
         "offsetgroup": "yes",
         "orientation": "v",
         "showlegend": true,
         "type": "box",
         "x": [
          "ESP",
          "ESP",
          "GBR",
          "GBR",
          "GBR",
          "GBR",
          "GBR",
          "GBR",
          "GBR",
          "GBR",
          "GBR",
          "GBR",
          "GBR",
          "NLD",
          "NLD",
          "NLD",
          "NLD",
          "GBR",
          "GBR",
          "GBR",
          "GBR",
          "GBR",
          "GBR"
         ],
         "x0": " ",
         "xaxis": "x3",
         "y": [
          28.7132112,
          31.37798917,
          33.79017735,
          34.08660523,
          24.22857143,
          28.44137397,
          23.97053496,
          18.99198825,
          29.96161169,
          27,
          33.80205516,
          33.21799308,
          25.05736022,
          null,
          null,
          22.40878677,
          29.04657027,
          23.56663223,
          24.53512397,
          23.05456246,
          26.5,
          30.81648831,
          34.68627699
         ],
         "y0": " ",
         "yaxis": "y3"
        },
        {
         "alignmentgroup": "True",
         "hovertemplate": "PFS12=yes<br>age_category=adult<br>gender=female<br>country=%{x}<br>BMI=%{y}<extra></extra>",
         "legendgroup": "yes",
         "marker": {
          "color": "#1F77B4"
         },
         "name": "yes",
         "notched": false,
         "offsetgroup": "yes",
         "orientation": "v",
         "showlegend": false,
         "type": "box",
         "x": [
          "GBR",
          "GBR",
          "GBR",
          "GBR",
          "GBR",
          "NLD",
          "NLD",
          "NLD",
          "NLD",
          "NLD",
          "NLD",
          "NLD",
          "NLD",
          "NLD",
          "NLD",
          "NLD",
          "NLD",
          "GBR",
          "GBR",
          "GBR",
          "GBR"
         ],
         "x0": " ",
         "xaxis": "x4",
         "y": [
          20.72432543,
          39.40621751,
          23.8697204,
          37.02479339,
          23.19620659,
          29.41176471,
          19.91836735,
          null,
          21.4532872,
          24.96494648,
          25.99090318,
          38.19632234,
          37.57762747,
          33.15043439,
          32.07591299,
          27.39817568,
          31.97501487,
          26.76977989,
          26.0261749,
          38.0078167,
          20.90419501
         ],
         "y0": " ",
         "yaxis": "y4"
        },
        {
         "alignmentgroup": "True",
         "hovertemplate": "PFS12=yes<br>age_category=senior<br>gender=male<br>country=%{x}<br>BMI=%{y}<extra></extra>",
         "legendgroup": "yes",
         "marker": {
          "color": "#1F77B4"
         },
         "name": "yes",
         "notched": false,
         "offsetgroup": "yes",
         "orientation": "v",
         "showlegend": false,
         "type": "box",
         "x": [
          "ESP",
          "GBR",
          "GBR",
          "GBR",
          "GBR",
          "GBR",
          "GBR",
          "GBR",
          "GBR",
          "GBR",
          "GBR",
          "GBR",
          "GBR",
          "NLD",
          "NLD",
          "NLD",
          "NLD",
          "NLD",
          "GBR",
          "GBR",
          "GBR"
         ],
         "x0": " ",
         "xaxis": "x",
         "y": [
          36.07947745,
          29.52111838,
          27.86594941,
          36.16967555,
          28.76420455,
          23.63969196,
          29.05328798,
          24.70554438,
          28.31024931,
          28.37821519,
          35.81314879,
          22.47658689,
          28.62879239,
          25.66115203,
          null,
          24.17897757,
          25.43646664,
          28.90507573,
          32.03857841,
          28.08641975,
          33.85577144
         ],
         "y0": " ",
         "yaxis": "y"
        },
        {
         "alignmentgroup": "True",
         "hovertemplate": "PFS12=yes<br>age_category=senior<br>gender=female<br>country=%{x}<br>BMI=%{y}<extra></extra>",
         "legendgroup": "yes",
         "marker": {
          "color": "#1F77B4"
         },
         "name": "yes",
         "notched": false,
         "offsetgroup": "yes",
         "orientation": "v",
         "showlegend": false,
         "type": "box",
         "x": [
          "ESP",
          "GBR",
          "GBR",
          "GBR",
          "GBR",
          "GBR",
          "GBR",
          "GBR",
          "NLD",
          "NLD",
          "NLD",
          "NLD"
         ],
         "x0": " ",
         "xaxis": "x2",
         "y": [
          22.0603538,
          25.74394464,
          31.40522352,
          33.95061728,
          29.2358582,
          25.84648258,
          29.13631634,
          24.62222222,
          31.25,
          24.67702134,
          27.76979795,
          26.42356982
         ],
         "y0": " ",
         "yaxis": "y2"
        },
        {
         "alignmentgroup": "True",
         "hovertemplate": "PFS12=no<br>age_category=adult<br>gender=male<br>country=%{x}<br>BMI=%{y}<extra></extra>",
         "legendgroup": "no",
         "marker": {
          "color": "#FF7F0E"
         },
         "name": "no",
         "notched": false,
         "offsetgroup": "no",
         "orientation": "v",
         "showlegend": true,
         "type": "box",
         "x": [
          "ESP",
          "GBR",
          "GBR",
          "GBR",
          "GBR",
          "GBR",
          "GBR",
          "GBR",
          "GBR",
          "GBR",
          "GBR",
          "GBR",
          "NLD",
          "NLD",
          "NLD",
          "NLD",
          "NLD",
          "NLD",
          "NLD",
          "NLD",
          "NLD",
          "NLD",
          "NLD",
          "GBR",
          "GBR",
          "GBR"
         ],
         "x0": " ",
         "xaxis": "x3",
         "y": [
          30.35032952,
          31.83495338,
          47.65812397,
          26.27471384,
          21.79106405,
          32.34477974,
          32.60475788,
          31.28092183,
          29.11894136,
          28.72737719,
          24.65590962,
          28.18457265,
          21.84700852,
          21.6066482,
          32.14024836,
          24.30248706,
          25.45111384,
          24.76756592,
          27.13141179,
          28.06891815,
          29.3523545,
          26.88172043,
          40.74074074,
          34.06360931,
          33.89721074,
          24.89117868
         ],
         "y0": " ",
         "yaxis": "y3"
        },
        {
         "alignmentgroup": "True",
         "hovertemplate": "PFS12=no<br>age_category=adult<br>gender=female<br>country=%{x}<br>BMI=%{y}<extra></extra>",
         "legendgroup": "no",
         "marker": {
          "color": "#FF7F0E"
         },
         "name": "no",
         "notched": false,
         "offsetgroup": "no",
         "orientation": "v",
         "showlegend": false,
         "type": "box",
         "x": [
          "ESP",
          "ESP",
          "ESP",
          "GBR",
          "GBR",
          "GBR",
          "GBR",
          "GBR",
          "GBR",
          "GBR",
          "GBR",
          "NLD",
          "NLD",
          "NLD",
          "NLD",
          "NLD",
          "NLD",
          "NLD",
          "GBR",
          "GBR"
         ],
         "x0": " ",
         "xaxis": "x4",
         "y": [
          27.35457064,
          22.8515625,
          20.9566075,
          25.92419951,
          22.95432524,
          29.9597275,
          18.83437364,
          27.76342975,
          22.03856749,
          24.30461788,
          21.56454491,
          33.94930751,
          31.83391003,
          18.77834467,
          24.65590962,
          26.61934339,
          29.40759637,
          null,
          21.60410478,
          27.16140697
         ],
         "y0": " ",
         "yaxis": "y4"
        },
        {
         "alignmentgroup": "True",
         "hovertemplate": "PFS12=no<br>age_category=senior<br>gender=male<br>country=%{x}<br>BMI=%{y}<extra></extra>",
         "legendgroup": "no",
         "marker": {
          "color": "#FF7F0E"
         },
         "name": "no",
         "notched": false,
         "offsetgroup": "no",
         "orientation": "v",
         "showlegend": false,
         "type": "box",
         "x": [
          "ESP",
          "ESP",
          "GBR",
          "GBR",
          "GBR",
          "GBR",
          "GBR",
          "GBR",
          "GBR",
          "GBR",
          "GBR",
          "GBR",
          "GBR",
          "NLD",
          "NLD",
          "NLD",
          "GBR",
          "NLD",
          "NLD",
          "NLD",
          "NLD",
          "NLD",
          "NLD",
          "NLD",
          "NLD",
          "GBR",
          "GBR",
          "GBR",
          "GBR",
          "GBR"
         ],
         "x0": " ",
         "xaxis": "x",
         "y": [
          26.171875,
          null,
          27.77777778,
          34.0410284,
          28.15530042,
          24.29943171,
          27.55789225,
          32.66520851,
          28.9007795,
          null,
          26.14927686,
          24.22145329,
          29.3877551,
          null,
          19.52311537,
          37.34721593,
          22.8206756,
          24.96800974,
          25.46938776,
          26.52851035,
          29.06122449,
          null,
          null,
          27.45982194,
          27.17063157,
          25,
          32,
          28.40111108,
          27.76465028,
          29.11542185
         ],
         "y0": " ",
         "yaxis": "y"
        },
        {
         "alignmentgroup": "True",
         "hovertemplate": "PFS12=no<br>age_category=senior<br>gender=female<br>country=%{x}<br>BMI=%{y}<extra></extra>",
         "legendgroup": "no",
         "marker": {
          "color": "#FF7F0E"
         },
         "name": "no",
         "notched": false,
         "offsetgroup": "no",
         "orientation": "v",
         "showlegend": false,
         "type": "box",
         "x": [
          "ESP",
          "GBR",
          "GBR",
          "GBR",
          "GBR",
          "GBR",
          "GBR",
          "NLD",
          "GBR",
          "GBR"
         ],
         "x0": " ",
         "xaxis": "x2",
         "y": [
          28.46036374,
          36.19875019,
          20.82093992,
          29.07495538,
          21.23057202,
          26.44628099,
          29.6875,
          30.86419753,
          38.57875854,
          29.24210864
         ],
         "y0": " ",
         "yaxis": "y2"
        }
       ],
       "layout": {
        "annotations": [
         {
          "font": {},
          "showarrow": false,
          "text": "gender=male",
          "x": 0.24,
          "xanchor": "center",
          "xref": "paper",
          "y": 1,
          "yanchor": "bottom",
          "yref": "paper"
         },
         {
          "font": {},
          "showarrow": false,
          "text": "gender=female",
          "x": 0.74,
          "xanchor": "center",
          "xref": "paper",
          "y": 1,
          "yanchor": "bottom",
          "yref": "paper"
         },
         {
          "font": {},
          "showarrow": false,
          "text": "age_category=senior",
          "textangle": 90,
          "x": 0.98,
          "xanchor": "left",
          "xref": "paper",
          "y": 0.2425,
          "yanchor": "middle",
          "yref": "paper"
         },
         {
          "font": {},
          "showarrow": false,
          "text": "age_category=adult",
          "textangle": 90,
          "x": 0.98,
          "xanchor": "left",
          "xref": "paper",
          "y": 0.7575000000000001,
          "yanchor": "middle",
          "yref": "paper"
         }
        ],
        "boxmode": "group",
        "height": 600,
        "legend": {
         "title": {
          "text": "PFS12"
         },
         "tracegroupgap": 0
        },
        "margin": {
         "t": 60
        },
        "template": {
         "data": {
          "bar": [
           {
            "error_x": {
             "color": "rgb(36,36,36)"
            },
            "error_y": {
             "color": "rgb(36,36,36)"
            },
            "marker": {
             "line": {
              "color": "white",
              "width": 0.5
             },
             "pattern": {
              "fillmode": "overlay",
              "size": 10,
              "solidity": 0.2
             }
            },
            "type": "bar"
           }
          ],
          "barpolar": [
           {
            "marker": {
             "line": {
              "color": "white",
              "width": 0.5
             },
             "pattern": {
              "fillmode": "overlay",
              "size": 10,
              "solidity": 0.2
             }
            },
            "type": "barpolar"
           }
          ],
          "carpet": [
           {
            "aaxis": {
             "endlinecolor": "rgb(36,36,36)",
             "gridcolor": "white",
             "linecolor": "white",
             "minorgridcolor": "white",
             "startlinecolor": "rgb(36,36,36)"
            },
            "baxis": {
             "endlinecolor": "rgb(36,36,36)",
             "gridcolor": "white",
             "linecolor": "white",
             "minorgridcolor": "white",
             "startlinecolor": "rgb(36,36,36)"
            },
            "type": "carpet"
           }
          ],
          "choropleth": [
           {
            "colorbar": {
             "outlinewidth": 1,
             "tickcolor": "rgb(36,36,36)",
             "ticks": "outside"
            },
            "type": "choropleth"
           }
          ],
          "contour": [
           {
            "colorbar": {
             "outlinewidth": 1,
             "tickcolor": "rgb(36,36,36)",
             "ticks": "outside"
            },
            "colorscale": [
             [
              0,
              "#440154"
             ],
             [
              0.1111111111111111,
              "#482878"
             ],
             [
              0.2222222222222222,
              "#3e4989"
             ],
             [
              0.3333333333333333,
              "#31688e"
             ],
             [
              0.4444444444444444,
              "#26828e"
             ],
             [
              0.5555555555555556,
              "#1f9e89"
             ],
             [
              0.6666666666666666,
              "#35b779"
             ],
             [
              0.7777777777777778,
              "#6ece58"
             ],
             [
              0.8888888888888888,
              "#b5de2b"
             ],
             [
              1,
              "#fde725"
             ]
            ],
            "type": "contour"
           }
          ],
          "contourcarpet": [
           {
            "colorbar": {
             "outlinewidth": 1,
             "tickcolor": "rgb(36,36,36)",
             "ticks": "outside"
            },
            "type": "contourcarpet"
           }
          ],
          "heatmap": [
           {
            "colorbar": {
             "outlinewidth": 1,
             "tickcolor": "rgb(36,36,36)",
             "ticks": "outside"
            },
            "colorscale": [
             [
              0,
              "#440154"
             ],
             [
              0.1111111111111111,
              "#482878"
             ],
             [
              0.2222222222222222,
              "#3e4989"
             ],
             [
              0.3333333333333333,
              "#31688e"
             ],
             [
              0.4444444444444444,
              "#26828e"
             ],
             [
              0.5555555555555556,
              "#1f9e89"
             ],
             [
              0.6666666666666666,
              "#35b779"
             ],
             [
              0.7777777777777778,
              "#6ece58"
             ],
             [
              0.8888888888888888,
              "#b5de2b"
             ],
             [
              1,
              "#fde725"
             ]
            ],
            "type": "heatmap"
           }
          ],
          "heatmapgl": [
           {
            "colorbar": {
             "outlinewidth": 1,
             "tickcolor": "rgb(36,36,36)",
             "ticks": "outside"
            },
            "colorscale": [
             [
              0,
              "#440154"
             ],
             [
              0.1111111111111111,
              "#482878"
             ],
             [
              0.2222222222222222,
              "#3e4989"
             ],
             [
              0.3333333333333333,
              "#31688e"
             ],
             [
              0.4444444444444444,
              "#26828e"
             ],
             [
              0.5555555555555556,
              "#1f9e89"
             ],
             [
              0.6666666666666666,
              "#35b779"
             ],
             [
              0.7777777777777778,
              "#6ece58"
             ],
             [
              0.8888888888888888,
              "#b5de2b"
             ],
             [
              1,
              "#fde725"
             ]
            ],
            "type": "heatmapgl"
           }
          ],
          "histogram": [
           {
            "marker": {
             "line": {
              "color": "white",
              "width": 0.6
             }
            },
            "type": "histogram"
           }
          ],
          "histogram2d": [
           {
            "colorbar": {
             "outlinewidth": 1,
             "tickcolor": "rgb(36,36,36)",
             "ticks": "outside"
            },
            "colorscale": [
             [
              0,
              "#440154"
             ],
             [
              0.1111111111111111,
              "#482878"
             ],
             [
              0.2222222222222222,
              "#3e4989"
             ],
             [
              0.3333333333333333,
              "#31688e"
             ],
             [
              0.4444444444444444,
              "#26828e"
             ],
             [
              0.5555555555555556,
              "#1f9e89"
             ],
             [
              0.6666666666666666,
              "#35b779"
             ],
             [
              0.7777777777777778,
              "#6ece58"
             ],
             [
              0.8888888888888888,
              "#b5de2b"
             ],
             [
              1,
              "#fde725"
             ]
            ],
            "type": "histogram2d"
           }
          ],
          "histogram2dcontour": [
           {
            "colorbar": {
             "outlinewidth": 1,
             "tickcolor": "rgb(36,36,36)",
             "ticks": "outside"
            },
            "colorscale": [
             [
              0,
              "#440154"
             ],
             [
              0.1111111111111111,
              "#482878"
             ],
             [
              0.2222222222222222,
              "#3e4989"
             ],
             [
              0.3333333333333333,
              "#31688e"
             ],
             [
              0.4444444444444444,
              "#26828e"
             ],
             [
              0.5555555555555556,
              "#1f9e89"
             ],
             [
              0.6666666666666666,
              "#35b779"
             ],
             [
              0.7777777777777778,
              "#6ece58"
             ],
             [
              0.8888888888888888,
              "#b5de2b"
             ],
             [
              1,
              "#fde725"
             ]
            ],
            "type": "histogram2dcontour"
           }
          ],
          "mesh3d": [
           {
            "colorbar": {
             "outlinewidth": 1,
             "tickcolor": "rgb(36,36,36)",
             "ticks": "outside"
            },
            "type": "mesh3d"
           }
          ],
          "parcoords": [
           {
            "line": {
             "colorbar": {
              "outlinewidth": 1,
              "tickcolor": "rgb(36,36,36)",
              "ticks": "outside"
             }
            },
            "type": "parcoords"
           }
          ],
          "pie": [
           {
            "automargin": true,
            "type": "pie"
           }
          ],
          "scatter": [
           {
            "fillpattern": {
             "fillmode": "overlay",
             "size": 10,
             "solidity": 0.2
            },
            "type": "scatter"
           }
          ],
          "scatter3d": [
           {
            "line": {
             "colorbar": {
              "outlinewidth": 1,
              "tickcolor": "rgb(36,36,36)",
              "ticks": "outside"
             }
            },
            "marker": {
             "colorbar": {
              "outlinewidth": 1,
              "tickcolor": "rgb(36,36,36)",
              "ticks": "outside"
             }
            },
            "type": "scatter3d"
           }
          ],
          "scattercarpet": [
           {
            "marker": {
             "colorbar": {
              "outlinewidth": 1,
              "tickcolor": "rgb(36,36,36)",
              "ticks": "outside"
             }
            },
            "type": "scattercarpet"
           }
          ],
          "scattergeo": [
           {
            "marker": {
             "colorbar": {
              "outlinewidth": 1,
              "tickcolor": "rgb(36,36,36)",
              "ticks": "outside"
             }
            },
            "type": "scattergeo"
           }
          ],
          "scattergl": [
           {
            "marker": {
             "colorbar": {
              "outlinewidth": 1,
              "tickcolor": "rgb(36,36,36)",
              "ticks": "outside"
             }
            },
            "type": "scattergl"
           }
          ],
          "scattermapbox": [
           {
            "marker": {
             "colorbar": {
              "outlinewidth": 1,
              "tickcolor": "rgb(36,36,36)",
              "ticks": "outside"
             }
            },
            "type": "scattermapbox"
           }
          ],
          "scatterpolar": [
           {
            "marker": {
             "colorbar": {
              "outlinewidth": 1,
              "tickcolor": "rgb(36,36,36)",
              "ticks": "outside"
             }
            },
            "type": "scatterpolar"
           }
          ],
          "scatterpolargl": [
           {
            "marker": {
             "colorbar": {
              "outlinewidth": 1,
              "tickcolor": "rgb(36,36,36)",
              "ticks": "outside"
             }
            },
            "type": "scatterpolargl"
           }
          ],
          "scatterternary": [
           {
            "marker": {
             "colorbar": {
              "outlinewidth": 1,
              "tickcolor": "rgb(36,36,36)",
              "ticks": "outside"
             }
            },
            "type": "scatterternary"
           }
          ],
          "surface": [
           {
            "colorbar": {
             "outlinewidth": 1,
             "tickcolor": "rgb(36,36,36)",
             "ticks": "outside"
            },
            "colorscale": [
             [
              0,
              "#440154"
             ],
             [
              0.1111111111111111,
              "#482878"
             ],
             [
              0.2222222222222222,
              "#3e4989"
             ],
             [
              0.3333333333333333,
              "#31688e"
             ],
             [
              0.4444444444444444,
              "#26828e"
             ],
             [
              0.5555555555555556,
              "#1f9e89"
             ],
             [
              0.6666666666666666,
              "#35b779"
             ],
             [
              0.7777777777777778,
              "#6ece58"
             ],
             [
              0.8888888888888888,
              "#b5de2b"
             ],
             [
              1,
              "#fde725"
             ]
            ],
            "type": "surface"
           }
          ],
          "table": [
           {
            "cells": {
             "fill": {
              "color": "rgb(237,237,237)"
             },
             "line": {
              "color": "white"
             }
            },
            "header": {
             "fill": {
              "color": "rgb(217,217,217)"
             },
             "line": {
              "color": "white"
             }
            },
            "type": "table"
           }
          ]
         },
         "layout": {
          "annotationdefaults": {
           "arrowhead": 0,
           "arrowwidth": 1
          },
          "autotypenumbers": "strict",
          "coloraxis": {
           "colorbar": {
            "outlinewidth": 1,
            "tickcolor": "rgb(36,36,36)",
            "ticks": "outside"
           }
          },
          "colorscale": {
           "diverging": [
            [
             0,
             "rgb(103,0,31)"
            ],
            [
             0.1,
             "rgb(178,24,43)"
            ],
            [
             0.2,
             "rgb(214,96,77)"
            ],
            [
             0.3,
             "rgb(244,165,130)"
            ],
            [
             0.4,
             "rgb(253,219,199)"
            ],
            [
             0.5,
             "rgb(247,247,247)"
            ],
            [
             0.6,
             "rgb(209,229,240)"
            ],
            [
             0.7,
             "rgb(146,197,222)"
            ],
            [
             0.8,
             "rgb(67,147,195)"
            ],
            [
             0.9,
             "rgb(33,102,172)"
            ],
            [
             1,
             "rgb(5,48,97)"
            ]
           ],
           "sequential": [
            [
             0,
             "#440154"
            ],
            [
             0.1111111111111111,
             "#482878"
            ],
            [
             0.2222222222222222,
             "#3e4989"
            ],
            [
             0.3333333333333333,
             "#31688e"
            ],
            [
             0.4444444444444444,
             "#26828e"
            ],
            [
             0.5555555555555556,
             "#1f9e89"
            ],
            [
             0.6666666666666666,
             "#35b779"
            ],
            [
             0.7777777777777778,
             "#6ece58"
            ],
            [
             0.8888888888888888,
             "#b5de2b"
            ],
            [
             1,
             "#fde725"
            ]
           ],
           "sequentialminus": [
            [
             0,
             "#440154"
            ],
            [
             0.1111111111111111,
             "#482878"
            ],
            [
             0.2222222222222222,
             "#3e4989"
            ],
            [
             0.3333333333333333,
             "#31688e"
            ],
            [
             0.4444444444444444,
             "#26828e"
            ],
            [
             0.5555555555555556,
             "#1f9e89"
            ],
            [
             0.6666666666666666,
             "#35b779"
            ],
            [
             0.7777777777777778,
             "#6ece58"
            ],
            [
             0.8888888888888888,
             "#b5de2b"
            ],
            [
             1,
             "#fde725"
            ]
           ]
          },
          "colorway": [
           "#1F77B4",
           "#FF7F0E",
           "#2CA02C",
           "#D62728",
           "#9467BD",
           "#8C564B",
           "#E377C2",
           "#7F7F7F",
           "#BCBD22",
           "#17BECF"
          ],
          "font": {
           "color": "rgb(36,36,36)"
          },
          "geo": {
           "bgcolor": "white",
           "lakecolor": "white",
           "landcolor": "white",
           "showlakes": true,
           "showland": true,
           "subunitcolor": "white"
          },
          "hoverlabel": {
           "align": "left"
          },
          "hovermode": "closest",
          "mapbox": {
           "style": "light"
          },
          "paper_bgcolor": "white",
          "plot_bgcolor": "white",
          "polar": {
           "angularaxis": {
            "gridcolor": "rgb(232,232,232)",
            "linecolor": "rgb(36,36,36)",
            "showgrid": false,
            "showline": true,
            "ticks": "outside"
           },
           "bgcolor": "white",
           "radialaxis": {
            "gridcolor": "rgb(232,232,232)",
            "linecolor": "rgb(36,36,36)",
            "showgrid": false,
            "showline": true,
            "ticks": "outside"
           }
          },
          "scene": {
           "xaxis": {
            "backgroundcolor": "white",
            "gridcolor": "rgb(232,232,232)",
            "gridwidth": 2,
            "linecolor": "rgb(36,36,36)",
            "showbackground": true,
            "showgrid": false,
            "showline": true,
            "ticks": "outside",
            "zeroline": false,
            "zerolinecolor": "rgb(36,36,36)"
           },
           "yaxis": {
            "backgroundcolor": "white",
            "gridcolor": "rgb(232,232,232)",
            "gridwidth": 2,
            "linecolor": "rgb(36,36,36)",
            "showbackground": true,
            "showgrid": false,
            "showline": true,
            "ticks": "outside",
            "zeroline": false,
            "zerolinecolor": "rgb(36,36,36)"
           },
           "zaxis": {
            "backgroundcolor": "white",
            "gridcolor": "rgb(232,232,232)",
            "gridwidth": 2,
            "linecolor": "rgb(36,36,36)",
            "showbackground": true,
            "showgrid": false,
            "showline": true,
            "ticks": "outside",
            "zeroline": false,
            "zerolinecolor": "rgb(36,36,36)"
           }
          },
          "shapedefaults": {
           "fillcolor": "black",
           "line": {
            "width": 0
           },
           "opacity": 0.3
          },
          "ternary": {
           "aaxis": {
            "gridcolor": "rgb(232,232,232)",
            "linecolor": "rgb(36,36,36)",
            "showgrid": false,
            "showline": true,
            "ticks": "outside"
           },
           "baxis": {
            "gridcolor": "rgb(232,232,232)",
            "linecolor": "rgb(36,36,36)",
            "showgrid": false,
            "showline": true,
            "ticks": "outside"
           },
           "bgcolor": "white",
           "caxis": {
            "gridcolor": "rgb(232,232,232)",
            "linecolor": "rgb(36,36,36)",
            "showgrid": false,
            "showline": true,
            "ticks": "outside"
           }
          },
          "title": {
           "x": 0.05
          },
          "xaxis": {
           "automargin": true,
           "gridcolor": "rgb(232,232,232)",
           "linecolor": "rgb(36,36,36)",
           "showgrid": false,
           "showline": true,
           "ticks": "outside",
           "title": {
            "standoff": 15
           },
           "zeroline": false,
           "zerolinecolor": "rgb(36,36,36)"
          },
          "yaxis": {
           "automargin": true,
           "gridcolor": "rgb(232,232,232)",
           "linecolor": "rgb(36,36,36)",
           "showgrid": false,
           "showline": true,
           "ticks": "outside",
           "title": {
            "standoff": 15
           },
           "zeroline": false,
           "zerolinecolor": "rgb(36,36,36)"
          }
         }
        },
        "width": 800,
        "xaxis": {
         "anchor": "y",
         "domain": [
          0,
          0.48
         ],
         "title": {
          "text": "country"
         }
        },
        "xaxis2": {
         "anchor": "y2",
         "domain": [
          0.5,
          0.98
         ],
         "matches": "x",
         "title": {
          "text": "country"
         }
        },
        "xaxis3": {
         "anchor": "y3",
         "domain": [
          0,
          0.48
         ],
         "matches": "x",
         "showticklabels": false
        },
        "xaxis4": {
         "anchor": "y4",
         "domain": [
          0.5,
          0.98
         ],
         "matches": "x",
         "showticklabels": false
        },
        "yaxis": {
         "anchor": "x",
         "domain": [
          0,
          0.485
         ],
         "title": {
          "text": "BMI"
         }
        },
        "yaxis2": {
         "anchor": "x2",
         "domain": [
          0,
          0.485
         ],
         "matches": "y",
         "showticklabels": false
        },
        "yaxis3": {
         "anchor": "x3",
         "domain": [
          0.515,
          1
         ],
         "matches": "y",
         "title": {
          "text": "BMI"
         }
        },
        "yaxis4": {
         "anchor": "x4",
         "domain": [
          0.515,
          1
         ],
         "matches": "y",
         "showticklabels": false
        }
       }
      },
      "text/html": [
       "<div>                            <div id=\"57728bb0-cb0a-40df-845b-0ed3dcb58a26\" class=\"plotly-graph-div\" style=\"height:600px; width:800px;\"></div>            <script type=\"text/javascript\">                require([\"plotly\"], function(Plotly) {                    window.PLOTLYENV=window.PLOTLYENV || {};                                    if (document.getElementById(\"57728bb0-cb0a-40df-845b-0ed3dcb58a26\")) {                    Plotly.newPlot(                        \"57728bb0-cb0a-40df-845b-0ed3dcb58a26\",                        [{\"alignmentgroup\":\"True\",\"hovertemplate\":\"PFS12=yes<br>age_category=adult<br>gender=male<br>country=%{x}<br>BMI=%{y}<extra></extra>\",\"legendgroup\":\"yes\",\"marker\":{\"color\":\"#1F77B4\"},\"name\":\"yes\",\"notched\":false,\"offsetgroup\":\"yes\",\"orientation\":\"v\",\"showlegend\":true,\"x\":[\"ESP\",\"ESP\",\"GBR\",\"GBR\",\"GBR\",\"GBR\",\"GBR\",\"GBR\",\"GBR\",\"GBR\",\"GBR\",\"GBR\",\"GBR\",\"NLD\",\"NLD\",\"NLD\",\"NLD\",\"GBR\",\"GBR\",\"GBR\",\"GBR\",\"GBR\",\"GBR\"],\"x0\":\" \",\"xaxis\":\"x3\",\"y\":[28.7132112,31.37798917,33.79017735,34.08660523,24.22857143,28.44137397,23.97053496,18.99198825,29.96161169,27.0,33.80205516,33.21799308,25.05736022,null,null,22.40878677,29.04657027,23.56663223,24.53512397,23.05456246,26.5,30.81648831,34.68627699],\"y0\":\" \",\"yaxis\":\"y3\",\"type\":\"box\"},{\"alignmentgroup\":\"True\",\"hovertemplate\":\"PFS12=yes<br>age_category=adult<br>gender=female<br>country=%{x}<br>BMI=%{y}<extra></extra>\",\"legendgroup\":\"yes\",\"marker\":{\"color\":\"#1F77B4\"},\"name\":\"yes\",\"notched\":false,\"offsetgroup\":\"yes\",\"orientation\":\"v\",\"showlegend\":false,\"x\":[\"GBR\",\"GBR\",\"GBR\",\"GBR\",\"GBR\",\"NLD\",\"NLD\",\"NLD\",\"NLD\",\"NLD\",\"NLD\",\"NLD\",\"NLD\",\"NLD\",\"NLD\",\"NLD\",\"NLD\",\"GBR\",\"GBR\",\"GBR\",\"GBR\"],\"x0\":\" \",\"xaxis\":\"x4\",\"y\":[20.72432543,39.40621751,23.8697204,37.02479339,23.19620659,29.41176471,19.91836735,null,21.4532872,24.96494648,25.99090318,38.19632234,37.57762747,33.15043439,32.07591299,27.39817568,31.97501487,26.76977989,26.0261749,38.0078167,20.90419501],\"y0\":\" \",\"yaxis\":\"y4\",\"type\":\"box\"},{\"alignmentgroup\":\"True\",\"hovertemplate\":\"PFS12=yes<br>age_category=senior<br>gender=male<br>country=%{x}<br>BMI=%{y}<extra></extra>\",\"legendgroup\":\"yes\",\"marker\":{\"color\":\"#1F77B4\"},\"name\":\"yes\",\"notched\":false,\"offsetgroup\":\"yes\",\"orientation\":\"v\",\"showlegend\":false,\"x\":[\"ESP\",\"GBR\",\"GBR\",\"GBR\",\"GBR\",\"GBR\",\"GBR\",\"GBR\",\"GBR\",\"GBR\",\"GBR\",\"GBR\",\"GBR\",\"NLD\",\"NLD\",\"NLD\",\"NLD\",\"NLD\",\"GBR\",\"GBR\",\"GBR\"],\"x0\":\" \",\"xaxis\":\"x\",\"y\":[36.07947745,29.52111838,27.86594941,36.16967555,28.76420455,23.63969196,29.05328798,24.70554438,28.31024931,28.37821519,35.81314879,22.47658689,28.62879239,25.66115203,null,24.17897757,25.43646664,28.90507573,32.03857841,28.08641975,33.85577144],\"y0\":\" \",\"yaxis\":\"y\",\"type\":\"box\"},{\"alignmentgroup\":\"True\",\"hovertemplate\":\"PFS12=yes<br>age_category=senior<br>gender=female<br>country=%{x}<br>BMI=%{y}<extra></extra>\",\"legendgroup\":\"yes\",\"marker\":{\"color\":\"#1F77B4\"},\"name\":\"yes\",\"notched\":false,\"offsetgroup\":\"yes\",\"orientation\":\"v\",\"showlegend\":false,\"x\":[\"ESP\",\"GBR\",\"GBR\",\"GBR\",\"GBR\",\"GBR\",\"GBR\",\"GBR\",\"NLD\",\"NLD\",\"NLD\",\"NLD\"],\"x0\":\" \",\"xaxis\":\"x2\",\"y\":[22.0603538,25.74394464,31.40522352,33.95061728,29.2358582,25.84648258,29.13631634,24.62222222,31.25,24.67702134,27.76979795,26.42356982],\"y0\":\" \",\"yaxis\":\"y2\",\"type\":\"box\"},{\"alignmentgroup\":\"True\",\"hovertemplate\":\"PFS12=no<br>age_category=adult<br>gender=male<br>country=%{x}<br>BMI=%{y}<extra></extra>\",\"legendgroup\":\"no\",\"marker\":{\"color\":\"#FF7F0E\"},\"name\":\"no\",\"notched\":false,\"offsetgroup\":\"no\",\"orientation\":\"v\",\"showlegend\":true,\"x\":[\"ESP\",\"GBR\",\"GBR\",\"GBR\",\"GBR\",\"GBR\",\"GBR\",\"GBR\",\"GBR\",\"GBR\",\"GBR\",\"GBR\",\"NLD\",\"NLD\",\"NLD\",\"NLD\",\"NLD\",\"NLD\",\"NLD\",\"NLD\",\"NLD\",\"NLD\",\"NLD\",\"GBR\",\"GBR\",\"GBR\"],\"x0\":\" \",\"xaxis\":\"x3\",\"y\":[30.35032952,31.83495338,47.65812397,26.27471384,21.79106405,32.34477974,32.60475788,31.28092183,29.11894136,28.72737719,24.65590962,28.18457265,21.84700852,21.6066482,32.14024836,24.30248706,25.45111384,24.76756592,27.13141179,28.06891815,29.3523545,26.88172043,40.74074074,34.06360931,33.89721074,24.89117868],\"y0\":\" \",\"yaxis\":\"y3\",\"type\":\"box\"},{\"alignmentgroup\":\"True\",\"hovertemplate\":\"PFS12=no<br>age_category=adult<br>gender=female<br>country=%{x}<br>BMI=%{y}<extra></extra>\",\"legendgroup\":\"no\",\"marker\":{\"color\":\"#FF7F0E\"},\"name\":\"no\",\"notched\":false,\"offsetgroup\":\"no\",\"orientation\":\"v\",\"showlegend\":false,\"x\":[\"ESP\",\"ESP\",\"ESP\",\"GBR\",\"GBR\",\"GBR\",\"GBR\",\"GBR\",\"GBR\",\"GBR\",\"GBR\",\"NLD\",\"NLD\",\"NLD\",\"NLD\",\"NLD\",\"NLD\",\"NLD\",\"GBR\",\"GBR\"],\"x0\":\" \",\"xaxis\":\"x4\",\"y\":[27.35457064,22.8515625,20.9566075,25.92419951,22.95432524,29.9597275,18.83437364,27.76342975,22.03856749,24.30461788,21.56454491,33.94930751,31.83391003,18.77834467,24.65590962,26.61934339,29.40759637,null,21.60410478,27.16140697],\"y0\":\" \",\"yaxis\":\"y4\",\"type\":\"box\"},{\"alignmentgroup\":\"True\",\"hovertemplate\":\"PFS12=no<br>age_category=senior<br>gender=male<br>country=%{x}<br>BMI=%{y}<extra></extra>\",\"legendgroup\":\"no\",\"marker\":{\"color\":\"#FF7F0E\"},\"name\":\"no\",\"notched\":false,\"offsetgroup\":\"no\",\"orientation\":\"v\",\"showlegend\":false,\"x\":[\"ESP\",\"ESP\",\"GBR\",\"GBR\",\"GBR\",\"GBR\",\"GBR\",\"GBR\",\"GBR\",\"GBR\",\"GBR\",\"GBR\",\"GBR\",\"NLD\",\"NLD\",\"NLD\",\"GBR\",\"NLD\",\"NLD\",\"NLD\",\"NLD\",\"NLD\",\"NLD\",\"NLD\",\"NLD\",\"GBR\",\"GBR\",\"GBR\",\"GBR\",\"GBR\"],\"x0\":\" \",\"xaxis\":\"x\",\"y\":[26.171875,null,27.77777778,34.0410284,28.15530042,24.29943171,27.55789225,32.66520851,28.9007795,null,26.14927686,24.22145329,29.3877551,null,19.52311537,37.34721593,22.8206756,24.96800974,25.46938776,26.52851035,29.06122449,null,null,27.45982194,27.17063157,25.0,32.0,28.40111108,27.76465028,29.11542185],\"y0\":\" \",\"yaxis\":\"y\",\"type\":\"box\"},{\"alignmentgroup\":\"True\",\"hovertemplate\":\"PFS12=no<br>age_category=senior<br>gender=female<br>country=%{x}<br>BMI=%{y}<extra></extra>\",\"legendgroup\":\"no\",\"marker\":{\"color\":\"#FF7F0E\"},\"name\":\"no\",\"notched\":false,\"offsetgroup\":\"no\",\"orientation\":\"v\",\"showlegend\":false,\"x\":[\"ESP\",\"GBR\",\"GBR\",\"GBR\",\"GBR\",\"GBR\",\"GBR\",\"NLD\",\"GBR\",\"GBR\"],\"x0\":\" \",\"xaxis\":\"x2\",\"y\":[28.46036374,36.19875019,20.82093992,29.07495538,21.23057202,26.44628099,29.6875,30.86419753,38.57875854,29.24210864],\"y0\":\" \",\"yaxis\":\"y2\",\"type\":\"box\"}],                        {\"template\":{\"data\":{\"barpolar\":[{\"marker\":{\"line\":{\"color\":\"white\",\"width\":0.5},\"pattern\":{\"fillmode\":\"overlay\",\"size\":10,\"solidity\":0.2}},\"type\":\"barpolar\"}],\"bar\":[{\"error_x\":{\"color\":\"rgb(36,36,36)\"},\"error_y\":{\"color\":\"rgb(36,36,36)\"},\"marker\":{\"line\":{\"color\":\"white\",\"width\":0.5},\"pattern\":{\"fillmode\":\"overlay\",\"size\":10,\"solidity\":0.2}},\"type\":\"bar\"}],\"carpet\":[{\"aaxis\":{\"endlinecolor\":\"rgb(36,36,36)\",\"gridcolor\":\"white\",\"linecolor\":\"white\",\"minorgridcolor\":\"white\",\"startlinecolor\":\"rgb(36,36,36)\"},\"baxis\":{\"endlinecolor\":\"rgb(36,36,36)\",\"gridcolor\":\"white\",\"linecolor\":\"white\",\"minorgridcolor\":\"white\",\"startlinecolor\":\"rgb(36,36,36)\"},\"type\":\"carpet\"}],\"choropleth\":[{\"colorbar\":{\"outlinewidth\":1,\"tickcolor\":\"rgb(36,36,36)\",\"ticks\":\"outside\"},\"type\":\"choropleth\"}],\"contourcarpet\":[{\"colorbar\":{\"outlinewidth\":1,\"tickcolor\":\"rgb(36,36,36)\",\"ticks\":\"outside\"},\"type\":\"contourcarpet\"}],\"contour\":[{\"colorbar\":{\"outlinewidth\":1,\"tickcolor\":\"rgb(36,36,36)\",\"ticks\":\"outside\"},\"colorscale\":[[0.0,\"#440154\"],[0.1111111111111111,\"#482878\"],[0.2222222222222222,\"#3e4989\"],[0.3333333333333333,\"#31688e\"],[0.4444444444444444,\"#26828e\"],[0.5555555555555556,\"#1f9e89\"],[0.6666666666666666,\"#35b779\"],[0.7777777777777778,\"#6ece58\"],[0.8888888888888888,\"#b5de2b\"],[1.0,\"#fde725\"]],\"type\":\"contour\"}],\"heatmapgl\":[{\"colorbar\":{\"outlinewidth\":1,\"tickcolor\":\"rgb(36,36,36)\",\"ticks\":\"outside\"},\"colorscale\":[[0.0,\"#440154\"],[0.1111111111111111,\"#482878\"],[0.2222222222222222,\"#3e4989\"],[0.3333333333333333,\"#31688e\"],[0.4444444444444444,\"#26828e\"],[0.5555555555555556,\"#1f9e89\"],[0.6666666666666666,\"#35b779\"],[0.7777777777777778,\"#6ece58\"],[0.8888888888888888,\"#b5de2b\"],[1.0,\"#fde725\"]],\"type\":\"heatmapgl\"}],\"heatmap\":[{\"colorbar\":{\"outlinewidth\":1,\"tickcolor\":\"rgb(36,36,36)\",\"ticks\":\"outside\"},\"colorscale\":[[0.0,\"#440154\"],[0.1111111111111111,\"#482878\"],[0.2222222222222222,\"#3e4989\"],[0.3333333333333333,\"#31688e\"],[0.4444444444444444,\"#26828e\"],[0.5555555555555556,\"#1f9e89\"],[0.6666666666666666,\"#35b779\"],[0.7777777777777778,\"#6ece58\"],[0.8888888888888888,\"#b5de2b\"],[1.0,\"#fde725\"]],\"type\":\"heatmap\"}],\"histogram2dcontour\":[{\"colorbar\":{\"outlinewidth\":1,\"tickcolor\":\"rgb(36,36,36)\",\"ticks\":\"outside\"},\"colorscale\":[[0.0,\"#440154\"],[0.1111111111111111,\"#482878\"],[0.2222222222222222,\"#3e4989\"],[0.3333333333333333,\"#31688e\"],[0.4444444444444444,\"#26828e\"],[0.5555555555555556,\"#1f9e89\"],[0.6666666666666666,\"#35b779\"],[0.7777777777777778,\"#6ece58\"],[0.8888888888888888,\"#b5de2b\"],[1.0,\"#fde725\"]],\"type\":\"histogram2dcontour\"}],\"histogram2d\":[{\"colorbar\":{\"outlinewidth\":1,\"tickcolor\":\"rgb(36,36,36)\",\"ticks\":\"outside\"},\"colorscale\":[[0.0,\"#440154\"],[0.1111111111111111,\"#482878\"],[0.2222222222222222,\"#3e4989\"],[0.3333333333333333,\"#31688e\"],[0.4444444444444444,\"#26828e\"],[0.5555555555555556,\"#1f9e89\"],[0.6666666666666666,\"#35b779\"],[0.7777777777777778,\"#6ece58\"],[0.8888888888888888,\"#b5de2b\"],[1.0,\"#fde725\"]],\"type\":\"histogram2d\"}],\"histogram\":[{\"marker\":{\"line\":{\"color\":\"white\",\"width\":0.6}},\"type\":\"histogram\"}],\"mesh3d\":[{\"colorbar\":{\"outlinewidth\":1,\"tickcolor\":\"rgb(36,36,36)\",\"ticks\":\"outside\"},\"type\":\"mesh3d\"}],\"parcoords\":[{\"line\":{\"colorbar\":{\"outlinewidth\":1,\"tickcolor\":\"rgb(36,36,36)\",\"ticks\":\"outside\"}},\"type\":\"parcoords\"}],\"pie\":[{\"automargin\":true,\"type\":\"pie\"}],\"scatter3d\":[{\"line\":{\"colorbar\":{\"outlinewidth\":1,\"tickcolor\":\"rgb(36,36,36)\",\"ticks\":\"outside\"}},\"marker\":{\"colorbar\":{\"outlinewidth\":1,\"tickcolor\":\"rgb(36,36,36)\",\"ticks\":\"outside\"}},\"type\":\"scatter3d\"}],\"scattercarpet\":[{\"marker\":{\"colorbar\":{\"outlinewidth\":1,\"tickcolor\":\"rgb(36,36,36)\",\"ticks\":\"outside\"}},\"type\":\"scattercarpet\"}],\"scattergeo\":[{\"marker\":{\"colorbar\":{\"outlinewidth\":1,\"tickcolor\":\"rgb(36,36,36)\",\"ticks\":\"outside\"}},\"type\":\"scattergeo\"}],\"scattergl\":[{\"marker\":{\"colorbar\":{\"outlinewidth\":1,\"tickcolor\":\"rgb(36,36,36)\",\"ticks\":\"outside\"}},\"type\":\"scattergl\"}],\"scattermapbox\":[{\"marker\":{\"colorbar\":{\"outlinewidth\":1,\"tickcolor\":\"rgb(36,36,36)\",\"ticks\":\"outside\"}},\"type\":\"scattermapbox\"}],\"scatterpolargl\":[{\"marker\":{\"colorbar\":{\"outlinewidth\":1,\"tickcolor\":\"rgb(36,36,36)\",\"ticks\":\"outside\"}},\"type\":\"scatterpolargl\"}],\"scatterpolar\":[{\"marker\":{\"colorbar\":{\"outlinewidth\":1,\"tickcolor\":\"rgb(36,36,36)\",\"ticks\":\"outside\"}},\"type\":\"scatterpolar\"}],\"scatter\":[{\"fillpattern\":{\"fillmode\":\"overlay\",\"size\":10,\"solidity\":0.2},\"type\":\"scatter\"}],\"scatterternary\":[{\"marker\":{\"colorbar\":{\"outlinewidth\":1,\"tickcolor\":\"rgb(36,36,36)\",\"ticks\":\"outside\"}},\"type\":\"scatterternary\"}],\"surface\":[{\"colorbar\":{\"outlinewidth\":1,\"tickcolor\":\"rgb(36,36,36)\",\"ticks\":\"outside\"},\"colorscale\":[[0.0,\"#440154\"],[0.1111111111111111,\"#482878\"],[0.2222222222222222,\"#3e4989\"],[0.3333333333333333,\"#31688e\"],[0.4444444444444444,\"#26828e\"],[0.5555555555555556,\"#1f9e89\"],[0.6666666666666666,\"#35b779\"],[0.7777777777777778,\"#6ece58\"],[0.8888888888888888,\"#b5de2b\"],[1.0,\"#fde725\"]],\"type\":\"surface\"}],\"table\":[{\"cells\":{\"fill\":{\"color\":\"rgb(237,237,237)\"},\"line\":{\"color\":\"white\"}},\"header\":{\"fill\":{\"color\":\"rgb(217,217,217)\"},\"line\":{\"color\":\"white\"}},\"type\":\"table\"}]},\"layout\":{\"annotationdefaults\":{\"arrowhead\":0,\"arrowwidth\":1},\"autotypenumbers\":\"strict\",\"coloraxis\":{\"colorbar\":{\"outlinewidth\":1,\"tickcolor\":\"rgb(36,36,36)\",\"ticks\":\"outside\"}},\"colorscale\":{\"diverging\":[[0.0,\"rgb(103,0,31)\"],[0.1,\"rgb(178,24,43)\"],[0.2,\"rgb(214,96,77)\"],[0.3,\"rgb(244,165,130)\"],[0.4,\"rgb(253,219,199)\"],[0.5,\"rgb(247,247,247)\"],[0.6,\"rgb(209,229,240)\"],[0.7,\"rgb(146,197,222)\"],[0.8,\"rgb(67,147,195)\"],[0.9,\"rgb(33,102,172)\"],[1.0,\"rgb(5,48,97)\"]],\"sequential\":[[0.0,\"#440154\"],[0.1111111111111111,\"#482878\"],[0.2222222222222222,\"#3e4989\"],[0.3333333333333333,\"#31688e\"],[0.4444444444444444,\"#26828e\"],[0.5555555555555556,\"#1f9e89\"],[0.6666666666666666,\"#35b779\"],[0.7777777777777778,\"#6ece58\"],[0.8888888888888888,\"#b5de2b\"],[1.0,\"#fde725\"]],\"sequentialminus\":[[0.0,\"#440154\"],[0.1111111111111111,\"#482878\"],[0.2222222222222222,\"#3e4989\"],[0.3333333333333333,\"#31688e\"],[0.4444444444444444,\"#26828e\"],[0.5555555555555556,\"#1f9e89\"],[0.6666666666666666,\"#35b779\"],[0.7777777777777778,\"#6ece58\"],[0.8888888888888888,\"#b5de2b\"],[1.0,\"#fde725\"]]},\"colorway\":[\"#1F77B4\",\"#FF7F0E\",\"#2CA02C\",\"#D62728\",\"#9467BD\",\"#8C564B\",\"#E377C2\",\"#7F7F7F\",\"#BCBD22\",\"#17BECF\"],\"font\":{\"color\":\"rgb(36,36,36)\"},\"geo\":{\"bgcolor\":\"white\",\"lakecolor\":\"white\",\"landcolor\":\"white\",\"showlakes\":true,\"showland\":true,\"subunitcolor\":\"white\"},\"hoverlabel\":{\"align\":\"left\"},\"hovermode\":\"closest\",\"mapbox\":{\"style\":\"light\"},\"paper_bgcolor\":\"white\",\"plot_bgcolor\":\"white\",\"polar\":{\"angularaxis\":{\"gridcolor\":\"rgb(232,232,232)\",\"linecolor\":\"rgb(36,36,36)\",\"showgrid\":false,\"showline\":true,\"ticks\":\"outside\"},\"bgcolor\":\"white\",\"radialaxis\":{\"gridcolor\":\"rgb(232,232,232)\",\"linecolor\":\"rgb(36,36,36)\",\"showgrid\":false,\"showline\":true,\"ticks\":\"outside\"}},\"scene\":{\"xaxis\":{\"backgroundcolor\":\"white\",\"gridcolor\":\"rgb(232,232,232)\",\"gridwidth\":2,\"linecolor\":\"rgb(36,36,36)\",\"showbackground\":true,\"showgrid\":false,\"showline\":true,\"ticks\":\"outside\",\"zeroline\":false,\"zerolinecolor\":\"rgb(36,36,36)\"},\"yaxis\":{\"backgroundcolor\":\"white\",\"gridcolor\":\"rgb(232,232,232)\",\"gridwidth\":2,\"linecolor\":\"rgb(36,36,36)\",\"showbackground\":true,\"showgrid\":false,\"showline\":true,\"ticks\":\"outside\",\"zeroline\":false,\"zerolinecolor\":\"rgb(36,36,36)\"},\"zaxis\":{\"backgroundcolor\":\"white\",\"gridcolor\":\"rgb(232,232,232)\",\"gridwidth\":2,\"linecolor\":\"rgb(36,36,36)\",\"showbackground\":true,\"showgrid\":false,\"showline\":true,\"ticks\":\"outside\",\"zeroline\":false,\"zerolinecolor\":\"rgb(36,36,36)\"}},\"shapedefaults\":{\"fillcolor\":\"black\",\"line\":{\"width\":0},\"opacity\":0.3},\"ternary\":{\"aaxis\":{\"gridcolor\":\"rgb(232,232,232)\",\"linecolor\":\"rgb(36,36,36)\",\"showgrid\":false,\"showline\":true,\"ticks\":\"outside\"},\"baxis\":{\"gridcolor\":\"rgb(232,232,232)\",\"linecolor\":\"rgb(36,36,36)\",\"showgrid\":false,\"showline\":true,\"ticks\":\"outside\"},\"bgcolor\":\"white\",\"caxis\":{\"gridcolor\":\"rgb(232,232,232)\",\"linecolor\":\"rgb(36,36,36)\",\"showgrid\":false,\"showline\":true,\"ticks\":\"outside\"}},\"title\":{\"x\":0.05},\"xaxis\":{\"automargin\":true,\"gridcolor\":\"rgb(232,232,232)\",\"linecolor\":\"rgb(36,36,36)\",\"showgrid\":false,\"showline\":true,\"ticks\":\"outside\",\"title\":{\"standoff\":15},\"zeroline\":false,\"zerolinecolor\":\"rgb(36,36,36)\"},\"yaxis\":{\"automargin\":true,\"gridcolor\":\"rgb(232,232,232)\",\"linecolor\":\"rgb(36,36,36)\",\"showgrid\":false,\"showline\":true,\"ticks\":\"outside\",\"title\":{\"standoff\":15},\"zeroline\":false,\"zerolinecolor\":\"rgb(36,36,36)\"}}},\"xaxis\":{\"anchor\":\"y\",\"domain\":[0.0,0.48],\"title\":{\"text\":\"country\"}},\"yaxis\":{\"anchor\":\"x\",\"domain\":[0.0,0.485],\"title\":{\"text\":\"BMI\"}},\"xaxis2\":{\"anchor\":\"y2\",\"domain\":[0.5,0.98],\"matches\":\"x\",\"title\":{\"text\":\"country\"}},\"yaxis2\":{\"anchor\":\"x2\",\"domain\":[0.0,0.485],\"matches\":\"y\",\"showticklabels\":false},\"xaxis3\":{\"anchor\":\"y3\",\"domain\":[0.0,0.48],\"matches\":\"x\",\"showticklabels\":false},\"yaxis3\":{\"anchor\":\"x3\",\"domain\":[0.515,1.0],\"matches\":\"y\",\"title\":{\"text\":\"BMI\"}},\"xaxis4\":{\"anchor\":\"y4\",\"domain\":[0.5,0.98],\"matches\":\"x\",\"showticklabels\":false},\"yaxis4\":{\"anchor\":\"x4\",\"domain\":[0.515,1.0],\"matches\":\"y\",\"showticklabels\":false},\"annotations\":[{\"font\":{},\"showarrow\":false,\"text\":\"gender=male\",\"x\":0.24,\"xanchor\":\"center\",\"xref\":\"paper\",\"y\":1.0,\"yanchor\":\"bottom\",\"yref\":\"paper\"},{\"font\":{},\"showarrow\":false,\"text\":\"gender=female\",\"x\":0.74,\"xanchor\":\"center\",\"xref\":\"paper\",\"y\":1.0,\"yanchor\":\"bottom\",\"yref\":\"paper\"},{\"font\":{},\"showarrow\":false,\"text\":\"age_category=senior\",\"textangle\":90,\"x\":0.98,\"xanchor\":\"left\",\"xref\":\"paper\",\"y\":0.2425,\"yanchor\":\"middle\",\"yref\":\"paper\"},{\"font\":{},\"showarrow\":false,\"text\":\"age_category=adult\",\"textangle\":90,\"x\":0.98,\"xanchor\":\"left\",\"xref\":\"paper\",\"y\":0.7575000000000001,\"yanchor\":\"middle\",\"yref\":\"paper\"}],\"legend\":{\"title\":{\"text\":\"PFS12\"},\"tracegroupgap\":0},\"margin\":{\"t\":60},\"boxmode\":\"group\",\"height\":600,\"width\":800},                        {\"responsive\": true}                    ).then(function(){\n",
       "                            \n",
       "var gd = document.getElementById('57728bb0-cb0a-40df-845b-0ed3dcb58a26');\n",
       "var x = new MutationObserver(function (mutations, observer) {{\n",
       "        var display = window.getComputedStyle(gd).display;\n",
       "        if (!display || display === 'none') {{\n",
       "            console.log([gd, 'removed!']);\n",
       "            Plotly.purge(gd);\n",
       "            observer.disconnect();\n",
       "        }}\n",
       "}});\n",
       "\n",
       "// Listen for the removal of the full notebook cells\n",
       "var notebookContainer = gd.closest('#notebook-container');\n",
       "if (notebookContainer) {{\n",
       "    x.observe(notebookContainer, {childList: true});\n",
       "}}\n",
       "\n",
       "// Listen for the clearing of the current output cell\n",
       "var outputEl = gd.closest('.output');\n",
       "if (outputEl) {{\n",
       "    x.observe(outputEl, {childList: true});\n",
       "}}\n",
       "\n",
       "                        })                };                });            </script>        </div>"
      ]
     },
     "metadata": {},
     "output_type": "display_data"
    }
   ],
   "source": [
    "# Is there difference in PFS12 across countries/gender/age categories\n",
    "fig = px.box(df, x='country', y='BMI', facet_col='gender', facet_row='age_category', color='PFS12',\n",
    "            width=800, height=600, template='simple_white')\n",
    "\n",
    "fig"
   ]
  },
  {
   "cell_type": "code",
   "execution_count": 81,
   "id": "ecbfd374",
   "metadata": {
    "ExecuteTime": {
     "end_time": "2023-04-18T11:46:20.876420Z",
     "start_time": "2023-04-18T11:46:20.748383Z"
    }
   },
   "outputs": [
    {
     "data": {
      "application/vnd.plotly.v1+json": {
       "config": {
        "plotlyServerURL": "https://plotly.com"
       },
       "data": [
        {
         "alignmentgroup": "True",
         "customdata": [
          [
           "male",
           "adult"
          ],
          [
           "female",
           "adult"
          ],
          [
           "female",
           "senior"
          ],
          [
           "male",
           "adult"
          ],
          [
           "male",
           "senior"
          ]
         ],
         "hovertemplate": "species=Anaerostipes_hadrus<br>subject_id=%{x}<br>RelAb=%{y}<br>gender=%{customdata[0]}<br>age_category=%{customdata[1]}<extra></extra>",
         "legendgroup": "Anaerostipes_hadrus",
         "marker": {
          "color": "#636efa",
          "pattern": {
           "shape": ""
          }
         },
         "name": "Anaerostipes_hadrus",
         "offsetgroup": "Anaerostipes_hadrus",
         "orientation": "v",
         "showlegend": true,
         "textposition": "auto",
         "type": "bar",
         "x": [
          "BCN-01_1",
          "BCN-02_1",
          "BCN-03_1",
          "BCN-04_1",
          "BCN-05_1"
         ],
         "xaxis": "x",
         "y": [
          1.10764,
          0.07957,
          0.06803,
          0.17733,
          0
         ],
         "yaxis": "y"
        },
        {
         "alignmentgroup": "True",
         "customdata": [
          [
           "male",
           "adult"
          ],
          [
           "female",
           "adult"
          ],
          [
           "female",
           "senior"
          ],
          [
           "male",
           "adult"
          ],
          [
           "male",
           "senior"
          ]
         ],
         "hovertemplate": "species=Asaccharobacter_celatus<br>subject_id=%{x}<br>RelAb=%{y}<br>gender=%{customdata[0]}<br>age_category=%{customdata[1]}<extra></extra>",
         "legendgroup": "Asaccharobacter_celatus",
         "marker": {
          "color": "#EF553B",
          "pattern": {
           "shape": ""
          }
         },
         "name": "Asaccharobacter_celatus",
         "offsetgroup": "Asaccharobacter_celatus",
         "orientation": "v",
         "showlegend": true,
         "textposition": "auto",
         "type": "bar",
         "x": [
          "BCN-01_1",
          "BCN-02_1",
          "BCN-03_1",
          "BCN-04_1",
          "BCN-05_1"
         ],
         "xaxis": "x",
         "y": [
          0,
          0.02697,
          0,
          0,
          0.38326
         ],
         "yaxis": "y"
        },
        {
         "alignmentgroup": "True",
         "customdata": [
          [
           "male",
           "adult"
          ],
          [
           "female",
           "adult"
          ],
          [
           "female",
           "senior"
          ],
          [
           "male",
           "adult"
          ],
          [
           "male",
           "senior"
          ]
         ],
         "hovertemplate": "species=Coprococcus_comes<br>subject_id=%{x}<br>RelAb=%{y}<br>gender=%{customdata[0]}<br>age_category=%{customdata[1]}<extra></extra>",
         "legendgroup": "Coprococcus_comes",
         "marker": {
          "color": "#00cc96",
          "pattern": {
           "shape": ""
          }
         },
         "name": "Coprococcus_comes",
         "offsetgroup": "Coprococcus_comes",
         "orientation": "v",
         "showlegend": true,
         "textposition": "auto",
         "type": "bar",
         "x": [
          "BCN-01_1",
          "BCN-02_1",
          "BCN-03_1",
          "BCN-04_1",
          "BCN-05_1"
         ],
         "xaxis": "x",
         "y": [
          0.39131,
          0.15881,
          0.0529,
          0.39534,
          0
         ],
         "yaxis": "y"
        },
        {
         "alignmentgroup": "True",
         "customdata": [
          [
           "male",
           "adult"
          ],
          [
           "female",
           "adult"
          ],
          [
           "female",
           "senior"
          ],
          [
           "male",
           "adult"
          ],
          [
           "male",
           "senior"
          ]
         ],
         "hovertemplate": "species=Fusicatenibacter_saccharivorans<br>subject_id=%{x}<br>RelAb=%{y}<br>gender=%{customdata[0]}<br>age_category=%{customdata[1]}<extra></extra>",
         "legendgroup": "Fusicatenibacter_saccharivorans",
         "marker": {
          "color": "#ab63fa",
          "pattern": {
           "shape": ""
          }
         },
         "name": "Fusicatenibacter_saccharivorans",
         "offsetgroup": "Fusicatenibacter_saccharivorans",
         "orientation": "v",
         "showlegend": true,
         "textposition": "auto",
         "type": "bar",
         "x": [
          "BCN-01_1",
          "BCN-02_1",
          "BCN-03_1",
          "BCN-04_1",
          "BCN-05_1"
         ],
         "xaxis": "x",
         "y": [
          0.80794,
          0.42029,
          0.04999,
          0.40406,
          0.05267
         ],
         "yaxis": "y"
        },
        {
         "alignmentgroup": "True",
         "customdata": [
          [
           "male",
           "adult"
          ],
          [
           "female",
           "adult"
          ],
          [
           "female",
           "senior"
          ],
          [
           "male",
           "adult"
          ],
          [
           "male",
           "senior"
          ]
         ],
         "hovertemplate": "species=Bacteroides_vulgatus<br>subject_id=%{x}<br>RelAb=%{y}<br>gender=%{customdata[0]}<br>age_category=%{customdata[1]}<extra></extra>",
         "legendgroup": "Bacteroides_vulgatus",
         "marker": {
          "color": "#FFA15A",
          "pattern": {
           "shape": ""
          }
         },
         "name": "Bacteroides_vulgatus",
         "offsetgroup": "Bacteroides_vulgatus",
         "orientation": "v",
         "showlegend": true,
         "textposition": "auto",
         "type": "bar",
         "x": [
          "BCN-01_1",
          "BCN-02_1",
          "BCN-03_1",
          "BCN-04_1",
          "BCN-05_1"
         ],
         "xaxis": "x",
         "y": [
          6.92922,
          8.39282,
          0,
          8.84652,
          7.54186
         ],
         "yaxis": "y"
        },
        {
         "alignmentgroup": "True",
         "customdata": [
          [
           "male",
           "adult"
          ],
          [
           "female",
           "adult"
          ],
          [
           "female",
           "senior"
          ],
          [
           "male",
           "adult"
          ],
          [
           "male",
           "senior"
          ]
         ],
         "hovertemplate": "species=Methanobrevibacter_smithii<br>subject_id=%{x}<br>RelAb=%{y}<br>gender=%{customdata[0]}<br>age_category=%{customdata[1]}<extra></extra>",
         "legendgroup": "Methanobrevibacter_smithii",
         "marker": {
          "color": "#19d3f3",
          "pattern": {
           "shape": ""
          }
         },
         "name": "Methanobrevibacter_smithii",
         "offsetgroup": "Methanobrevibacter_smithii",
         "orientation": "v",
         "showlegend": true,
         "textposition": "auto",
         "type": "bar",
         "x": [
          "BCN-01_1",
          "BCN-02_1",
          "BCN-03_1",
          "BCN-04_1",
          "BCN-05_1"
         ],
         "xaxis": "x",
         "y": [
          0,
          0.01656,
          0,
          0,
          0.61649
         ],
         "yaxis": "y"
        },
        {
         "alignmentgroup": "True",
         "customdata": [
          [
           "male",
           "adult"
          ],
          [
           "female",
           "adult"
          ],
          [
           "female",
           "senior"
          ],
          [
           "male",
           "adult"
          ],
          [
           "male",
           "senior"
          ]
         ],
         "hovertemplate": "species=Streptococcus_salivarius<br>subject_id=%{x}<br>RelAb=%{y}<br>gender=%{customdata[0]}<br>age_category=%{customdata[1]}<extra></extra>",
         "legendgroup": "Streptococcus_salivarius",
         "marker": {
          "color": "#FF6692",
          "pattern": {
           "shape": ""
          }
         },
         "name": "Streptococcus_salivarius",
         "offsetgroup": "Streptococcus_salivarius",
         "orientation": "v",
         "showlegend": true,
         "textposition": "auto",
         "type": "bar",
         "x": [
          "BCN-01_1",
          "BCN-02_1",
          "BCN-03_1",
          "BCN-04_1",
          "BCN-05_1"
         ],
         "xaxis": "x",
         "y": [
          0,
          0.00405,
          0.22965,
          0,
          0.41095
         ],
         "yaxis": "y"
        },
        {
         "alignmentgroup": "True",
         "customdata": [
          [
           "male",
           "adult"
          ],
          [
           "female",
           "adult"
          ],
          [
           "female",
           "senior"
          ],
          [
           "male",
           "adult"
          ],
          [
           "male",
           "senior"
          ]
         ],
         "hovertemplate": "species=Dorea_longicatena<br>subject_id=%{x}<br>RelAb=%{y}<br>gender=%{customdata[0]}<br>age_category=%{customdata[1]}<extra></extra>",
         "legendgroup": "Dorea_longicatena",
         "marker": {
          "color": "#B6E880",
          "pattern": {
           "shape": ""
          }
         },
         "name": "Dorea_longicatena",
         "offsetgroup": "Dorea_longicatena",
         "orientation": "v",
         "showlegend": true,
         "textposition": "auto",
         "type": "bar",
         "x": [
          "BCN-01_1",
          "BCN-02_1",
          "BCN-03_1",
          "BCN-04_1",
          "BCN-05_1"
         ],
         "xaxis": "x",
         "y": [
          0.07567,
          0.65825,
          0.03822,
          0.82328,
          0.09959
         ],
         "yaxis": "y"
        },
        {
         "alignmentgroup": "True",
         "customdata": [
          [
           "male",
           "adult"
          ],
          [
           "female",
           "adult"
          ],
          [
           "female",
           "senior"
          ],
          [
           "male",
           "adult"
          ],
          [
           "male",
           "senior"
          ]
         ],
         "hovertemplate": "species=Bifidobacterium_bifidum<br>subject_id=%{x}<br>RelAb=%{y}<br>gender=%{customdata[0]}<br>age_category=%{customdata[1]}<extra></extra>",
         "legendgroup": "Bifidobacterium_bifidum",
         "marker": {
          "color": "#FF97FF",
          "pattern": {
           "shape": ""
          }
         },
         "name": "Bifidobacterium_bifidum",
         "offsetgroup": "Bifidobacterium_bifidum",
         "orientation": "v",
         "showlegend": true,
         "textposition": "auto",
         "type": "bar",
         "x": [
          "BCN-01_1",
          "BCN-02_1",
          "BCN-03_1",
          "BCN-04_1",
          "BCN-05_1"
         ],
         "xaxis": "x",
         "y": [
          0,
          0.02668,
          0.03016,
          0,
          0.19483
         ],
         "yaxis": "y"
        },
        {
         "alignmentgroup": "True",
         "customdata": [
          [
           "male",
           "adult"
          ],
          [
           "female",
           "adult"
          ],
          [
           "female",
           "senior"
          ],
          [
           "male",
           "adult"
          ],
          [
           "male",
           "senior"
          ]
         ],
         "hovertemplate": "species=Eubacterium_rectale<br>subject_id=%{x}<br>RelAb=%{y}<br>gender=%{customdata[0]}<br>age_category=%{customdata[1]}<extra></extra>",
         "legendgroup": "Eubacterium_rectale",
         "marker": {
          "color": "#FECB52",
          "pattern": {
           "shape": ""
          }
         },
         "name": "Eubacterium_rectale",
         "offsetgroup": "Eubacterium_rectale",
         "orientation": "v",
         "showlegend": true,
         "textposition": "auto",
         "type": "bar",
         "x": [
          "BCN-01_1",
          "BCN-02_1",
          "BCN-03_1",
          "BCN-04_1",
          "BCN-05_1"
         ],
         "xaxis": "x",
         "y": [
          0.0679,
          0.11673,
          0.17591,
          3.82375,
          0.24323
         ],
         "yaxis": "y"
        },
        {
         "alignmentgroup": "True",
         "customdata": [
          [
           "male",
           "adult"
          ],
          [
           "female",
           "adult"
          ],
          [
           "female",
           "senior"
          ],
          [
           "male",
           "adult"
          ],
          [
           "male",
           "senior"
          ]
         ],
         "hovertemplate": "species=Prevotella_copri<br>subject_id=%{x}<br>RelAb=%{y}<br>gender=%{customdata[0]}<br>age_category=%{customdata[1]}<extra></extra>",
         "legendgroup": "Prevotella_copri",
         "marker": {
          "color": "#636efa",
          "pattern": {
           "shape": ""
          }
         },
         "name": "Prevotella_copri",
         "offsetgroup": "Prevotella_copri",
         "orientation": "v",
         "showlegend": true,
         "textposition": "auto",
         "type": "bar",
         "x": [
          "BCN-01_1",
          "BCN-02_1",
          "BCN-03_1",
          "BCN-04_1",
          "BCN-05_1"
         ],
         "xaxis": "x",
         "y": [
          0,
          0,
          67.77848,
          0,
          0
         ],
         "yaxis": "y"
        },
        {
         "alignmentgroup": "True",
         "customdata": [
          [
           "male",
           "adult"
          ],
          [
           "female",
           "adult"
          ],
          [
           "female",
           "senior"
          ],
          [
           "male",
           "adult"
          ],
          [
           "male",
           "senior"
          ]
         ],
         "hovertemplate": "species=Bacteroides_uniformis<br>subject_id=%{x}<br>RelAb=%{y}<br>gender=%{customdata[0]}<br>age_category=%{customdata[1]}<extra></extra>",
         "legendgroup": "Bacteroides_uniformis",
         "marker": {
          "color": "#EF553B",
          "pattern": {
           "shape": ""
          }
         },
         "name": "Bacteroides_uniformis",
         "offsetgroup": "Bacteroides_uniformis",
         "orientation": "v",
         "showlegend": true,
         "textposition": "auto",
         "type": "bar",
         "x": [
          "BCN-01_1",
          "BCN-02_1",
          "BCN-03_1",
          "BCN-04_1",
          "BCN-05_1"
         ],
         "xaxis": "x",
         "y": [
          21.67335,
          16.93711,
          1.81256,
          6.37426,
          30.92338
         ],
         "yaxis": "y"
        },
        {
         "alignmentgroup": "True",
         "customdata": [
          [
           "male",
           "adult"
          ],
          [
           "female",
           "adult"
          ],
          [
           "female",
           "senior"
          ],
          [
           "male",
           "adult"
          ],
          [
           "male",
           "senior"
          ]
         ],
         "hovertemplate": "species=Alistipes_putredinis<br>subject_id=%{x}<br>RelAb=%{y}<br>gender=%{customdata[0]}<br>age_category=%{customdata[1]}<extra></extra>",
         "legendgroup": "Alistipes_putredinis",
         "marker": {
          "color": "#00cc96",
          "pattern": {
           "shape": ""
          }
         },
         "name": "Alistipes_putredinis",
         "offsetgroup": "Alistipes_putredinis",
         "orientation": "v",
         "showlegend": true,
         "textposition": "auto",
         "type": "bar",
         "x": [
          "BCN-01_1",
          "BCN-02_1",
          "BCN-03_1",
          "BCN-04_1",
          "BCN-05_1"
         ],
         "xaxis": "x",
         "y": [
          0.01142,
          7.04382,
          6.10781,
          12.07799,
          10.58879
         ],
         "yaxis": "y"
        },
        {
         "alignmentgroup": "True",
         "customdata": [
          [
           "male",
           "adult"
          ],
          [
           "female",
           "adult"
          ],
          [
           "female",
           "senior"
          ],
          [
           "male",
           "adult"
          ],
          [
           "male",
           "senior"
          ]
         ],
         "hovertemplate": "species=Akkermansia_muciniphila<br>subject_id=%{x}<br>RelAb=%{y}<br>gender=%{customdata[0]}<br>age_category=%{customdata[1]}<extra></extra>",
         "legendgroup": "Akkermansia_muciniphila",
         "marker": {
          "color": "#ab63fa",
          "pattern": {
           "shape": ""
          }
         },
         "name": "Akkermansia_muciniphila",
         "offsetgroup": "Akkermansia_muciniphila",
         "orientation": "v",
         "showlegend": true,
         "textposition": "auto",
         "type": "bar",
         "x": [
          "BCN-01_1",
          "BCN-02_1",
          "BCN-03_1",
          "BCN-04_1",
          "BCN-05_1"
         ],
         "xaxis": "x",
         "y": [
          0,
          0.13485,
          0.16416,
          0,
          0
         ],
         "yaxis": "y"
        },
        {
         "alignmentgroup": "True",
         "customdata": [
          [
           "male",
           "adult"
          ],
          [
           "female",
           "adult"
          ],
          [
           "female",
           "senior"
          ],
          [
           "male",
           "adult"
          ],
          [
           "male",
           "senior"
          ]
         ],
         "hovertemplate": "species=Faecalibacterium_prausnitzii<br>subject_id=%{x}<br>RelAb=%{y}<br>gender=%{customdata[0]}<br>age_category=%{customdata[1]}<extra></extra>",
         "legendgroup": "Faecalibacterium_prausnitzii",
         "marker": {
          "color": "#FFA15A",
          "pattern": {
           "shape": ""
          }
         },
         "name": "Faecalibacterium_prausnitzii",
         "offsetgroup": "Faecalibacterium_prausnitzii",
         "orientation": "v",
         "showlegend": true,
         "textposition": "auto",
         "type": "bar",
         "x": [
          "BCN-01_1",
          "BCN-02_1",
          "BCN-03_1",
          "BCN-04_1",
          "BCN-05_1"
         ],
         "xaxis": "x",
         "y": [
          4.47034,
          1.66004,
          1.97072,
          1.38323,
          0.0458
         ],
         "yaxis": "y"
        },
        {
         "alignmentgroup": "True",
         "customdata": [
          [
           "male",
           "adult"
          ],
          [
           "female",
           "adult"
          ],
          [
           "female",
           "senior"
          ],
          [
           "male",
           "adult"
          ],
          [
           "male",
           "senior"
          ]
         ],
         "hovertemplate": "species=Ruminococcus_bromii<br>subject_id=%{x}<br>RelAb=%{y}<br>gender=%{customdata[0]}<br>age_category=%{customdata[1]}<extra></extra>",
         "legendgroup": "Ruminococcus_bromii",
         "marker": {
          "color": "#19d3f3",
          "pattern": {
           "shape": ""
          }
         },
         "name": "Ruminococcus_bromii",
         "offsetgroup": "Ruminococcus_bromii",
         "orientation": "v",
         "showlegend": true,
         "textposition": "auto",
         "type": "bar",
         "x": [
          "BCN-01_1",
          "BCN-02_1",
          "BCN-03_1",
          "BCN-04_1",
          "BCN-05_1"
         ],
         "xaxis": "x",
         "y": [
          0.87113,
          0.07198,
          0,
          1.71353,
          15.63297
         ],
         "yaxis": "y"
        },
        {
         "alignmentgroup": "True",
         "customdata": [
          [
           "male",
           "adult"
          ],
          [
           "female",
           "adult"
          ],
          [
           "female",
           "senior"
          ],
          [
           "male",
           "adult"
          ],
          [
           "male",
           "senior"
          ]
         ],
         "hovertemplate": "species=Escherichia_coli<br>subject_id=%{x}<br>RelAb=%{y}<br>gender=%{customdata[0]}<br>age_category=%{customdata[1]}<extra></extra>",
         "legendgroup": "Escherichia_coli",
         "marker": {
          "color": "#FF6692",
          "pattern": {
           "shape": ""
          }
         },
         "name": "Escherichia_coli",
         "offsetgroup": "Escherichia_coli",
         "orientation": "v",
         "showlegend": true,
         "textposition": "auto",
         "type": "bar",
         "x": [
          "BCN-01_1",
          "BCN-02_1",
          "BCN-03_1",
          "BCN-04_1",
          "BCN-05_1"
         ],
         "xaxis": "x",
         "y": [
          0.03334,
          0,
          0.02288,
          0,
          5.05773
         ],
         "yaxis": "y"
        },
        {
         "alignmentgroup": "True",
         "customdata": [
          [
           "male",
           "adult"
          ],
          [
           "female",
           "adult"
          ],
          [
           "female",
           "senior"
          ],
          [
           "male",
           "adult"
          ],
          [
           "male",
           "senior"
          ]
         ],
         "hovertemplate": "species=Bifidobacterium_longum<br>subject_id=%{x}<br>RelAb=%{y}<br>gender=%{customdata[0]}<br>age_category=%{customdata[1]}<extra></extra>",
         "legendgroup": "Bifidobacterium_longum",
         "marker": {
          "color": "#B6E880",
          "pattern": {
           "shape": ""
          }
         },
         "name": "Bifidobacterium_longum",
         "offsetgroup": "Bifidobacterium_longum",
         "orientation": "v",
         "showlegend": true,
         "textposition": "auto",
         "type": "bar",
         "x": [
          "BCN-01_1",
          "BCN-02_1",
          "BCN-03_1",
          "BCN-04_1",
          "BCN-05_1"
         ],
         "xaxis": "x",
         "y": [
          0,
          0.01587,
          0.0034,
          0.01074,
          1.79973
         ],
         "yaxis": "y"
        },
        {
         "alignmentgroup": "True",
         "customdata": [
          [
           "male",
           "adult"
          ],
          [
           "female",
           "adult"
          ],
          [
           "female",
           "senior"
          ],
          [
           "male",
           "adult"
          ],
          [
           "male",
           "senior"
          ]
         ],
         "hovertemplate": "species=Bifidobacterium_adolescentis<br>subject_id=%{x}<br>RelAb=%{y}<br>gender=%{customdata[0]}<br>age_category=%{customdata[1]}<extra></extra>",
         "legendgroup": "Bifidobacterium_adolescentis",
         "marker": {
          "color": "#FF97FF",
          "pattern": {
           "shape": ""
          }
         },
         "name": "Bifidobacterium_adolescentis",
         "offsetgroup": "Bifidobacterium_adolescentis",
         "orientation": "v",
         "showlegend": true,
         "textposition": "auto",
         "type": "bar",
         "x": [
          "BCN-01_1",
          "BCN-02_1",
          "BCN-03_1",
          "BCN-04_1",
          "BCN-05_1"
         ],
         "xaxis": "x",
         "y": [
          0,
          0.16376,
          0.00095,
          0.09001,
          0
         ],
         "yaxis": "y"
        },
        {
         "alignmentgroup": "True",
         "customdata": [
          [
           "male",
           "adult"
          ],
          [
           "female",
           "adult"
          ],
          [
           "female",
           "senior"
          ],
          [
           "male",
           "adult"
          ],
          [
           "male",
           "senior"
          ]
         ],
         "hovertemplate": "species=Collinsella_aerofaciens<br>subject_id=%{x}<br>RelAb=%{y}<br>gender=%{customdata[0]}<br>age_category=%{customdata[1]}<extra></extra>",
         "legendgroup": "Collinsella_aerofaciens",
         "marker": {
          "color": "#FECB52",
          "pattern": {
           "shape": ""
          }
         },
         "name": "Collinsella_aerofaciens",
         "offsetgroup": "Collinsella_aerofaciens",
         "orientation": "v",
         "showlegend": true,
         "textposition": "auto",
         "type": "bar",
         "x": [
          "BCN-01_1",
          "BCN-02_1",
          "BCN-03_1",
          "BCN-04_1",
          "BCN-05_1"
         ],
         "xaxis": "x",
         "y": [
          0.05024,
          0.19042,
          0.08099,
          1.10278,
          0
         ],
         "yaxis": "y"
        }
       ],
       "layout": {
        "barmode": "relative",
        "height": 600,
        "legend": {
         "title": {
          "text": "species"
         },
         "tracegroupgap": 0
        },
        "margin": {
         "t": 60
        },
        "template": {
         "data": {
          "bar": [
           {
            "error_x": {
             "color": "#2a3f5f"
            },
            "error_y": {
             "color": "#2a3f5f"
            },
            "marker": {
             "line": {
              "color": "white",
              "width": 0.5
             },
             "pattern": {
              "fillmode": "overlay",
              "size": 10,
              "solidity": 0.2
             }
            },
            "type": "bar"
           }
          ],
          "barpolar": [
           {
            "marker": {
             "line": {
              "color": "white",
              "width": 0.5
             },
             "pattern": {
              "fillmode": "overlay",
              "size": 10,
              "solidity": 0.2
             }
            },
            "type": "barpolar"
           }
          ],
          "carpet": [
           {
            "aaxis": {
             "endlinecolor": "#2a3f5f",
             "gridcolor": "#C8D4E3",
             "linecolor": "#C8D4E3",
             "minorgridcolor": "#C8D4E3",
             "startlinecolor": "#2a3f5f"
            },
            "baxis": {
             "endlinecolor": "#2a3f5f",
             "gridcolor": "#C8D4E3",
             "linecolor": "#C8D4E3",
             "minorgridcolor": "#C8D4E3",
             "startlinecolor": "#2a3f5f"
            },
            "type": "carpet"
           }
          ],
          "choropleth": [
           {
            "colorbar": {
             "outlinewidth": 0,
             "ticks": ""
            },
            "type": "choropleth"
           }
          ],
          "contour": [
           {
            "colorbar": {
             "outlinewidth": 0,
             "ticks": ""
            },
            "colorscale": [
             [
              0,
              "#0d0887"
             ],
             [
              0.1111111111111111,
              "#46039f"
             ],
             [
              0.2222222222222222,
              "#7201a8"
             ],
             [
              0.3333333333333333,
              "#9c179e"
             ],
             [
              0.4444444444444444,
              "#bd3786"
             ],
             [
              0.5555555555555556,
              "#d8576b"
             ],
             [
              0.6666666666666666,
              "#ed7953"
             ],
             [
              0.7777777777777778,
              "#fb9f3a"
             ],
             [
              0.8888888888888888,
              "#fdca26"
             ],
             [
              1,
              "#f0f921"
             ]
            ],
            "type": "contour"
           }
          ],
          "contourcarpet": [
           {
            "colorbar": {
             "outlinewidth": 0,
             "ticks": ""
            },
            "type": "contourcarpet"
           }
          ],
          "heatmap": [
           {
            "colorbar": {
             "outlinewidth": 0,
             "ticks": ""
            },
            "colorscale": [
             [
              0,
              "#0d0887"
             ],
             [
              0.1111111111111111,
              "#46039f"
             ],
             [
              0.2222222222222222,
              "#7201a8"
             ],
             [
              0.3333333333333333,
              "#9c179e"
             ],
             [
              0.4444444444444444,
              "#bd3786"
             ],
             [
              0.5555555555555556,
              "#d8576b"
             ],
             [
              0.6666666666666666,
              "#ed7953"
             ],
             [
              0.7777777777777778,
              "#fb9f3a"
             ],
             [
              0.8888888888888888,
              "#fdca26"
             ],
             [
              1,
              "#f0f921"
             ]
            ],
            "type": "heatmap"
           }
          ],
          "heatmapgl": [
           {
            "colorbar": {
             "outlinewidth": 0,
             "ticks": ""
            },
            "colorscale": [
             [
              0,
              "#0d0887"
             ],
             [
              0.1111111111111111,
              "#46039f"
             ],
             [
              0.2222222222222222,
              "#7201a8"
             ],
             [
              0.3333333333333333,
              "#9c179e"
             ],
             [
              0.4444444444444444,
              "#bd3786"
             ],
             [
              0.5555555555555556,
              "#d8576b"
             ],
             [
              0.6666666666666666,
              "#ed7953"
             ],
             [
              0.7777777777777778,
              "#fb9f3a"
             ],
             [
              0.8888888888888888,
              "#fdca26"
             ],
             [
              1,
              "#f0f921"
             ]
            ],
            "type": "heatmapgl"
           }
          ],
          "histogram": [
           {
            "marker": {
             "pattern": {
              "fillmode": "overlay",
              "size": 10,
              "solidity": 0.2
             }
            },
            "type": "histogram"
           }
          ],
          "histogram2d": [
           {
            "colorbar": {
             "outlinewidth": 0,
             "ticks": ""
            },
            "colorscale": [
             [
              0,
              "#0d0887"
             ],
             [
              0.1111111111111111,
              "#46039f"
             ],
             [
              0.2222222222222222,
              "#7201a8"
             ],
             [
              0.3333333333333333,
              "#9c179e"
             ],
             [
              0.4444444444444444,
              "#bd3786"
             ],
             [
              0.5555555555555556,
              "#d8576b"
             ],
             [
              0.6666666666666666,
              "#ed7953"
             ],
             [
              0.7777777777777778,
              "#fb9f3a"
             ],
             [
              0.8888888888888888,
              "#fdca26"
             ],
             [
              1,
              "#f0f921"
             ]
            ],
            "type": "histogram2d"
           }
          ],
          "histogram2dcontour": [
           {
            "colorbar": {
             "outlinewidth": 0,
             "ticks": ""
            },
            "colorscale": [
             [
              0,
              "#0d0887"
             ],
             [
              0.1111111111111111,
              "#46039f"
             ],
             [
              0.2222222222222222,
              "#7201a8"
             ],
             [
              0.3333333333333333,
              "#9c179e"
             ],
             [
              0.4444444444444444,
              "#bd3786"
             ],
             [
              0.5555555555555556,
              "#d8576b"
             ],
             [
              0.6666666666666666,
              "#ed7953"
             ],
             [
              0.7777777777777778,
              "#fb9f3a"
             ],
             [
              0.8888888888888888,
              "#fdca26"
             ],
             [
              1,
              "#f0f921"
             ]
            ],
            "type": "histogram2dcontour"
           }
          ],
          "mesh3d": [
           {
            "colorbar": {
             "outlinewidth": 0,
             "ticks": ""
            },
            "type": "mesh3d"
           }
          ],
          "parcoords": [
           {
            "line": {
             "colorbar": {
              "outlinewidth": 0,
              "ticks": ""
             }
            },
            "type": "parcoords"
           }
          ],
          "pie": [
           {
            "automargin": true,
            "type": "pie"
           }
          ],
          "scatter": [
           {
            "fillpattern": {
             "fillmode": "overlay",
             "size": 10,
             "solidity": 0.2
            },
            "type": "scatter"
           }
          ],
          "scatter3d": [
           {
            "line": {
             "colorbar": {
              "outlinewidth": 0,
              "ticks": ""
             }
            },
            "marker": {
             "colorbar": {
              "outlinewidth": 0,
              "ticks": ""
             }
            },
            "type": "scatter3d"
           }
          ],
          "scattercarpet": [
           {
            "marker": {
             "colorbar": {
              "outlinewidth": 0,
              "ticks": ""
             }
            },
            "type": "scattercarpet"
           }
          ],
          "scattergeo": [
           {
            "marker": {
             "colorbar": {
              "outlinewidth": 0,
              "ticks": ""
             }
            },
            "type": "scattergeo"
           }
          ],
          "scattergl": [
           {
            "marker": {
             "colorbar": {
              "outlinewidth": 0,
              "ticks": ""
             }
            },
            "type": "scattergl"
           }
          ],
          "scattermapbox": [
           {
            "marker": {
             "colorbar": {
              "outlinewidth": 0,
              "ticks": ""
             }
            },
            "type": "scattermapbox"
           }
          ],
          "scatterpolar": [
           {
            "marker": {
             "colorbar": {
              "outlinewidth": 0,
              "ticks": ""
             }
            },
            "type": "scatterpolar"
           }
          ],
          "scatterpolargl": [
           {
            "marker": {
             "colorbar": {
              "outlinewidth": 0,
              "ticks": ""
             }
            },
            "type": "scatterpolargl"
           }
          ],
          "scatterternary": [
           {
            "marker": {
             "colorbar": {
              "outlinewidth": 0,
              "ticks": ""
             }
            },
            "type": "scatterternary"
           }
          ],
          "surface": [
           {
            "colorbar": {
             "outlinewidth": 0,
             "ticks": ""
            },
            "colorscale": [
             [
              0,
              "#0d0887"
             ],
             [
              0.1111111111111111,
              "#46039f"
             ],
             [
              0.2222222222222222,
              "#7201a8"
             ],
             [
              0.3333333333333333,
              "#9c179e"
             ],
             [
              0.4444444444444444,
              "#bd3786"
             ],
             [
              0.5555555555555556,
              "#d8576b"
             ],
             [
              0.6666666666666666,
              "#ed7953"
             ],
             [
              0.7777777777777778,
              "#fb9f3a"
             ],
             [
              0.8888888888888888,
              "#fdca26"
             ],
             [
              1,
              "#f0f921"
             ]
            ],
            "type": "surface"
           }
          ],
          "table": [
           {
            "cells": {
             "fill": {
              "color": "#EBF0F8"
             },
             "line": {
              "color": "white"
             }
            },
            "header": {
             "fill": {
              "color": "#C8D4E3"
             },
             "line": {
              "color": "white"
             }
            },
            "type": "table"
           }
          ]
         },
         "layout": {
          "annotationdefaults": {
           "arrowcolor": "#2a3f5f",
           "arrowhead": 0,
           "arrowwidth": 1
          },
          "autotypenumbers": "strict",
          "coloraxis": {
           "colorbar": {
            "outlinewidth": 0,
            "ticks": ""
           }
          },
          "colorscale": {
           "diverging": [
            [
             0,
             "#8e0152"
            ],
            [
             0.1,
             "#c51b7d"
            ],
            [
             0.2,
             "#de77ae"
            ],
            [
             0.3,
             "#f1b6da"
            ],
            [
             0.4,
             "#fde0ef"
            ],
            [
             0.5,
             "#f7f7f7"
            ],
            [
             0.6,
             "#e6f5d0"
            ],
            [
             0.7,
             "#b8e186"
            ],
            [
             0.8,
             "#7fbc41"
            ],
            [
             0.9,
             "#4d9221"
            ],
            [
             1,
             "#276419"
            ]
           ],
           "sequential": [
            [
             0,
             "#0d0887"
            ],
            [
             0.1111111111111111,
             "#46039f"
            ],
            [
             0.2222222222222222,
             "#7201a8"
            ],
            [
             0.3333333333333333,
             "#9c179e"
            ],
            [
             0.4444444444444444,
             "#bd3786"
            ],
            [
             0.5555555555555556,
             "#d8576b"
            ],
            [
             0.6666666666666666,
             "#ed7953"
            ],
            [
             0.7777777777777778,
             "#fb9f3a"
            ],
            [
             0.8888888888888888,
             "#fdca26"
            ],
            [
             1,
             "#f0f921"
            ]
           ],
           "sequentialminus": [
            [
             0,
             "#0d0887"
            ],
            [
             0.1111111111111111,
             "#46039f"
            ],
            [
             0.2222222222222222,
             "#7201a8"
            ],
            [
             0.3333333333333333,
             "#9c179e"
            ],
            [
             0.4444444444444444,
             "#bd3786"
            ],
            [
             0.5555555555555556,
             "#d8576b"
            ],
            [
             0.6666666666666666,
             "#ed7953"
            ],
            [
             0.7777777777777778,
             "#fb9f3a"
            ],
            [
             0.8888888888888888,
             "#fdca26"
            ],
            [
             1,
             "#f0f921"
            ]
           ]
          },
          "colorway": [
           "#636efa",
           "#EF553B",
           "#00cc96",
           "#ab63fa",
           "#FFA15A",
           "#19d3f3",
           "#FF6692",
           "#B6E880",
           "#FF97FF",
           "#FECB52"
          ],
          "font": {
           "color": "#2a3f5f"
          },
          "geo": {
           "bgcolor": "white",
           "lakecolor": "white",
           "landcolor": "white",
           "showlakes": true,
           "showland": true,
           "subunitcolor": "#C8D4E3"
          },
          "hoverlabel": {
           "align": "left"
          },
          "hovermode": "closest",
          "mapbox": {
           "style": "light"
          },
          "paper_bgcolor": "white",
          "plot_bgcolor": "white",
          "polar": {
           "angularaxis": {
            "gridcolor": "#EBF0F8",
            "linecolor": "#EBF0F8",
            "ticks": ""
           },
           "bgcolor": "white",
           "radialaxis": {
            "gridcolor": "#EBF0F8",
            "linecolor": "#EBF0F8",
            "ticks": ""
           }
          },
          "scene": {
           "xaxis": {
            "backgroundcolor": "white",
            "gridcolor": "#DFE8F3",
            "gridwidth": 2,
            "linecolor": "#EBF0F8",
            "showbackground": true,
            "ticks": "",
            "zerolinecolor": "#EBF0F8"
           },
           "yaxis": {
            "backgroundcolor": "white",
            "gridcolor": "#DFE8F3",
            "gridwidth": 2,
            "linecolor": "#EBF0F8",
            "showbackground": true,
            "ticks": "",
            "zerolinecolor": "#EBF0F8"
           },
           "zaxis": {
            "backgroundcolor": "white",
            "gridcolor": "#DFE8F3",
            "gridwidth": 2,
            "linecolor": "#EBF0F8",
            "showbackground": true,
            "ticks": "",
            "zerolinecolor": "#EBF0F8"
           }
          },
          "shapedefaults": {
           "line": {
            "color": "#2a3f5f"
           }
          },
          "ternary": {
           "aaxis": {
            "gridcolor": "#DFE8F3",
            "linecolor": "#A2B1C6",
            "ticks": ""
           },
           "baxis": {
            "gridcolor": "#DFE8F3",
            "linecolor": "#A2B1C6",
            "ticks": ""
           },
           "bgcolor": "white",
           "caxis": {
            "gridcolor": "#DFE8F3",
            "linecolor": "#A2B1C6",
            "ticks": ""
           }
          },
          "title": {
           "x": 0.05
          },
          "xaxis": {
           "automargin": true,
           "gridcolor": "#EBF0F8",
           "linecolor": "#EBF0F8",
           "ticks": "",
           "title": {
            "standoff": 15
           },
           "zerolinecolor": "#EBF0F8",
           "zerolinewidth": 2
          },
          "yaxis": {
           "automargin": true,
           "gridcolor": "#EBF0F8",
           "linecolor": "#EBF0F8",
           "ticks": "",
           "title": {
            "standoff": 15
           },
           "zerolinecolor": "#EBF0F8",
           "zerolinewidth": 2
          }
         }
        },
        "width": 800,
        "xaxis": {
         "anchor": "y",
         "domain": [
          0,
          1
         ],
         "title": {
          "text": "subject_id"
         }
        },
        "yaxis": {
         "anchor": "x",
         "domain": [
          0,
          1
         ],
         "title": {
          "text": "RelAb"
         }
        }
       }
      },
      "text/html": [
       "<div>                            <div id=\"165a05e8-8891-4645-bbb7-fa36da6e855d\" class=\"plotly-graph-div\" style=\"height:600px; width:800px;\"></div>            <script type=\"text/javascript\">                require([\"plotly\"], function(Plotly) {                    window.PLOTLYENV=window.PLOTLYENV || {};                                    if (document.getElementById(\"165a05e8-8891-4645-bbb7-fa36da6e855d\")) {                    Plotly.newPlot(                        \"165a05e8-8891-4645-bbb7-fa36da6e855d\",                        [{\"alignmentgroup\":\"True\",\"customdata\":[[\"male\",\"adult\"],[\"female\",\"adult\"],[\"female\",\"senior\"],[\"male\",\"adult\"],[\"male\",\"senior\"]],\"hovertemplate\":\"species=Anaerostipes_hadrus<br>subject_id=%{x}<br>RelAb=%{y}<br>gender=%{customdata[0]}<br>age_category=%{customdata[1]}<extra></extra>\",\"legendgroup\":\"Anaerostipes_hadrus\",\"marker\":{\"color\":\"#636efa\",\"pattern\":{\"shape\":\"\"}},\"name\":\"Anaerostipes_hadrus\",\"offsetgroup\":\"Anaerostipes_hadrus\",\"orientation\":\"v\",\"showlegend\":true,\"textposition\":\"auto\",\"x\":[\"BCN-01_1\",\"BCN-02_1\",\"BCN-03_1\",\"BCN-04_1\",\"BCN-05_1\"],\"xaxis\":\"x\",\"y\":[1.10764,0.07957,0.06803,0.17733,0.0],\"yaxis\":\"y\",\"type\":\"bar\"},{\"alignmentgroup\":\"True\",\"customdata\":[[\"male\",\"adult\"],[\"female\",\"adult\"],[\"female\",\"senior\"],[\"male\",\"adult\"],[\"male\",\"senior\"]],\"hovertemplate\":\"species=Asaccharobacter_celatus<br>subject_id=%{x}<br>RelAb=%{y}<br>gender=%{customdata[0]}<br>age_category=%{customdata[1]}<extra></extra>\",\"legendgroup\":\"Asaccharobacter_celatus\",\"marker\":{\"color\":\"#EF553B\",\"pattern\":{\"shape\":\"\"}},\"name\":\"Asaccharobacter_celatus\",\"offsetgroup\":\"Asaccharobacter_celatus\",\"orientation\":\"v\",\"showlegend\":true,\"textposition\":\"auto\",\"x\":[\"BCN-01_1\",\"BCN-02_1\",\"BCN-03_1\",\"BCN-04_1\",\"BCN-05_1\"],\"xaxis\":\"x\",\"y\":[0.0,0.02697,0.0,0.0,0.38326],\"yaxis\":\"y\",\"type\":\"bar\"},{\"alignmentgroup\":\"True\",\"customdata\":[[\"male\",\"adult\"],[\"female\",\"adult\"],[\"female\",\"senior\"],[\"male\",\"adult\"],[\"male\",\"senior\"]],\"hovertemplate\":\"species=Coprococcus_comes<br>subject_id=%{x}<br>RelAb=%{y}<br>gender=%{customdata[0]}<br>age_category=%{customdata[1]}<extra></extra>\",\"legendgroup\":\"Coprococcus_comes\",\"marker\":{\"color\":\"#00cc96\",\"pattern\":{\"shape\":\"\"}},\"name\":\"Coprococcus_comes\",\"offsetgroup\":\"Coprococcus_comes\",\"orientation\":\"v\",\"showlegend\":true,\"textposition\":\"auto\",\"x\":[\"BCN-01_1\",\"BCN-02_1\",\"BCN-03_1\",\"BCN-04_1\",\"BCN-05_1\"],\"xaxis\":\"x\",\"y\":[0.39131,0.15881,0.0529,0.39534,0.0],\"yaxis\":\"y\",\"type\":\"bar\"},{\"alignmentgroup\":\"True\",\"customdata\":[[\"male\",\"adult\"],[\"female\",\"adult\"],[\"female\",\"senior\"],[\"male\",\"adult\"],[\"male\",\"senior\"]],\"hovertemplate\":\"species=Fusicatenibacter_saccharivorans<br>subject_id=%{x}<br>RelAb=%{y}<br>gender=%{customdata[0]}<br>age_category=%{customdata[1]}<extra></extra>\",\"legendgroup\":\"Fusicatenibacter_saccharivorans\",\"marker\":{\"color\":\"#ab63fa\",\"pattern\":{\"shape\":\"\"}},\"name\":\"Fusicatenibacter_saccharivorans\",\"offsetgroup\":\"Fusicatenibacter_saccharivorans\",\"orientation\":\"v\",\"showlegend\":true,\"textposition\":\"auto\",\"x\":[\"BCN-01_1\",\"BCN-02_1\",\"BCN-03_1\",\"BCN-04_1\",\"BCN-05_1\"],\"xaxis\":\"x\",\"y\":[0.80794,0.42029,0.04999,0.40406,0.05267],\"yaxis\":\"y\",\"type\":\"bar\"},{\"alignmentgroup\":\"True\",\"customdata\":[[\"male\",\"adult\"],[\"female\",\"adult\"],[\"female\",\"senior\"],[\"male\",\"adult\"],[\"male\",\"senior\"]],\"hovertemplate\":\"species=Bacteroides_vulgatus<br>subject_id=%{x}<br>RelAb=%{y}<br>gender=%{customdata[0]}<br>age_category=%{customdata[1]}<extra></extra>\",\"legendgroup\":\"Bacteroides_vulgatus\",\"marker\":{\"color\":\"#FFA15A\",\"pattern\":{\"shape\":\"\"}},\"name\":\"Bacteroides_vulgatus\",\"offsetgroup\":\"Bacteroides_vulgatus\",\"orientation\":\"v\",\"showlegend\":true,\"textposition\":\"auto\",\"x\":[\"BCN-01_1\",\"BCN-02_1\",\"BCN-03_1\",\"BCN-04_1\",\"BCN-05_1\"],\"xaxis\":\"x\",\"y\":[6.92922,8.39282,0.0,8.84652,7.54186],\"yaxis\":\"y\",\"type\":\"bar\"},{\"alignmentgroup\":\"True\",\"customdata\":[[\"male\",\"adult\"],[\"female\",\"adult\"],[\"female\",\"senior\"],[\"male\",\"adult\"],[\"male\",\"senior\"]],\"hovertemplate\":\"species=Methanobrevibacter_smithii<br>subject_id=%{x}<br>RelAb=%{y}<br>gender=%{customdata[0]}<br>age_category=%{customdata[1]}<extra></extra>\",\"legendgroup\":\"Methanobrevibacter_smithii\",\"marker\":{\"color\":\"#19d3f3\",\"pattern\":{\"shape\":\"\"}},\"name\":\"Methanobrevibacter_smithii\",\"offsetgroup\":\"Methanobrevibacter_smithii\",\"orientation\":\"v\",\"showlegend\":true,\"textposition\":\"auto\",\"x\":[\"BCN-01_1\",\"BCN-02_1\",\"BCN-03_1\",\"BCN-04_1\",\"BCN-05_1\"],\"xaxis\":\"x\",\"y\":[0.0,0.01656,0.0,0.0,0.61649],\"yaxis\":\"y\",\"type\":\"bar\"},{\"alignmentgroup\":\"True\",\"customdata\":[[\"male\",\"adult\"],[\"female\",\"adult\"],[\"female\",\"senior\"],[\"male\",\"adult\"],[\"male\",\"senior\"]],\"hovertemplate\":\"species=Streptococcus_salivarius<br>subject_id=%{x}<br>RelAb=%{y}<br>gender=%{customdata[0]}<br>age_category=%{customdata[1]}<extra></extra>\",\"legendgroup\":\"Streptococcus_salivarius\",\"marker\":{\"color\":\"#FF6692\",\"pattern\":{\"shape\":\"\"}},\"name\":\"Streptococcus_salivarius\",\"offsetgroup\":\"Streptococcus_salivarius\",\"orientation\":\"v\",\"showlegend\":true,\"textposition\":\"auto\",\"x\":[\"BCN-01_1\",\"BCN-02_1\",\"BCN-03_1\",\"BCN-04_1\",\"BCN-05_1\"],\"xaxis\":\"x\",\"y\":[0.0,0.00405,0.22965,0.0,0.41095],\"yaxis\":\"y\",\"type\":\"bar\"},{\"alignmentgroup\":\"True\",\"customdata\":[[\"male\",\"adult\"],[\"female\",\"adult\"],[\"female\",\"senior\"],[\"male\",\"adult\"],[\"male\",\"senior\"]],\"hovertemplate\":\"species=Dorea_longicatena<br>subject_id=%{x}<br>RelAb=%{y}<br>gender=%{customdata[0]}<br>age_category=%{customdata[1]}<extra></extra>\",\"legendgroup\":\"Dorea_longicatena\",\"marker\":{\"color\":\"#B6E880\",\"pattern\":{\"shape\":\"\"}},\"name\":\"Dorea_longicatena\",\"offsetgroup\":\"Dorea_longicatena\",\"orientation\":\"v\",\"showlegend\":true,\"textposition\":\"auto\",\"x\":[\"BCN-01_1\",\"BCN-02_1\",\"BCN-03_1\",\"BCN-04_1\",\"BCN-05_1\"],\"xaxis\":\"x\",\"y\":[0.07567,0.65825,0.03822,0.82328,0.09959],\"yaxis\":\"y\",\"type\":\"bar\"},{\"alignmentgroup\":\"True\",\"customdata\":[[\"male\",\"adult\"],[\"female\",\"adult\"],[\"female\",\"senior\"],[\"male\",\"adult\"],[\"male\",\"senior\"]],\"hovertemplate\":\"species=Bifidobacterium_bifidum<br>subject_id=%{x}<br>RelAb=%{y}<br>gender=%{customdata[0]}<br>age_category=%{customdata[1]}<extra></extra>\",\"legendgroup\":\"Bifidobacterium_bifidum\",\"marker\":{\"color\":\"#FF97FF\",\"pattern\":{\"shape\":\"\"}},\"name\":\"Bifidobacterium_bifidum\",\"offsetgroup\":\"Bifidobacterium_bifidum\",\"orientation\":\"v\",\"showlegend\":true,\"textposition\":\"auto\",\"x\":[\"BCN-01_1\",\"BCN-02_1\",\"BCN-03_1\",\"BCN-04_1\",\"BCN-05_1\"],\"xaxis\":\"x\",\"y\":[0.0,0.02668,0.03016,0.0,0.19483],\"yaxis\":\"y\",\"type\":\"bar\"},{\"alignmentgroup\":\"True\",\"customdata\":[[\"male\",\"adult\"],[\"female\",\"adult\"],[\"female\",\"senior\"],[\"male\",\"adult\"],[\"male\",\"senior\"]],\"hovertemplate\":\"species=Eubacterium_rectale<br>subject_id=%{x}<br>RelAb=%{y}<br>gender=%{customdata[0]}<br>age_category=%{customdata[1]}<extra></extra>\",\"legendgroup\":\"Eubacterium_rectale\",\"marker\":{\"color\":\"#FECB52\",\"pattern\":{\"shape\":\"\"}},\"name\":\"Eubacterium_rectale\",\"offsetgroup\":\"Eubacterium_rectale\",\"orientation\":\"v\",\"showlegend\":true,\"textposition\":\"auto\",\"x\":[\"BCN-01_1\",\"BCN-02_1\",\"BCN-03_1\",\"BCN-04_1\",\"BCN-05_1\"],\"xaxis\":\"x\",\"y\":[0.0679,0.11673,0.17591,3.82375,0.24323],\"yaxis\":\"y\",\"type\":\"bar\"},{\"alignmentgroup\":\"True\",\"customdata\":[[\"male\",\"adult\"],[\"female\",\"adult\"],[\"female\",\"senior\"],[\"male\",\"adult\"],[\"male\",\"senior\"]],\"hovertemplate\":\"species=Prevotella_copri<br>subject_id=%{x}<br>RelAb=%{y}<br>gender=%{customdata[0]}<br>age_category=%{customdata[1]}<extra></extra>\",\"legendgroup\":\"Prevotella_copri\",\"marker\":{\"color\":\"#636efa\",\"pattern\":{\"shape\":\"\"}},\"name\":\"Prevotella_copri\",\"offsetgroup\":\"Prevotella_copri\",\"orientation\":\"v\",\"showlegend\":true,\"textposition\":\"auto\",\"x\":[\"BCN-01_1\",\"BCN-02_1\",\"BCN-03_1\",\"BCN-04_1\",\"BCN-05_1\"],\"xaxis\":\"x\",\"y\":[0.0,0.0,67.77848,0.0,0.0],\"yaxis\":\"y\",\"type\":\"bar\"},{\"alignmentgroup\":\"True\",\"customdata\":[[\"male\",\"adult\"],[\"female\",\"adult\"],[\"female\",\"senior\"],[\"male\",\"adult\"],[\"male\",\"senior\"]],\"hovertemplate\":\"species=Bacteroides_uniformis<br>subject_id=%{x}<br>RelAb=%{y}<br>gender=%{customdata[0]}<br>age_category=%{customdata[1]}<extra></extra>\",\"legendgroup\":\"Bacteroides_uniformis\",\"marker\":{\"color\":\"#EF553B\",\"pattern\":{\"shape\":\"\"}},\"name\":\"Bacteroides_uniformis\",\"offsetgroup\":\"Bacteroides_uniformis\",\"orientation\":\"v\",\"showlegend\":true,\"textposition\":\"auto\",\"x\":[\"BCN-01_1\",\"BCN-02_1\",\"BCN-03_1\",\"BCN-04_1\",\"BCN-05_1\"],\"xaxis\":\"x\",\"y\":[21.67335,16.93711,1.81256,6.37426,30.92338],\"yaxis\":\"y\",\"type\":\"bar\"},{\"alignmentgroup\":\"True\",\"customdata\":[[\"male\",\"adult\"],[\"female\",\"adult\"],[\"female\",\"senior\"],[\"male\",\"adult\"],[\"male\",\"senior\"]],\"hovertemplate\":\"species=Alistipes_putredinis<br>subject_id=%{x}<br>RelAb=%{y}<br>gender=%{customdata[0]}<br>age_category=%{customdata[1]}<extra></extra>\",\"legendgroup\":\"Alistipes_putredinis\",\"marker\":{\"color\":\"#00cc96\",\"pattern\":{\"shape\":\"\"}},\"name\":\"Alistipes_putredinis\",\"offsetgroup\":\"Alistipes_putredinis\",\"orientation\":\"v\",\"showlegend\":true,\"textposition\":\"auto\",\"x\":[\"BCN-01_1\",\"BCN-02_1\",\"BCN-03_1\",\"BCN-04_1\",\"BCN-05_1\"],\"xaxis\":\"x\",\"y\":[0.01142,7.04382,6.10781,12.07799,10.58879],\"yaxis\":\"y\",\"type\":\"bar\"},{\"alignmentgroup\":\"True\",\"customdata\":[[\"male\",\"adult\"],[\"female\",\"adult\"],[\"female\",\"senior\"],[\"male\",\"adult\"],[\"male\",\"senior\"]],\"hovertemplate\":\"species=Akkermansia_muciniphila<br>subject_id=%{x}<br>RelAb=%{y}<br>gender=%{customdata[0]}<br>age_category=%{customdata[1]}<extra></extra>\",\"legendgroup\":\"Akkermansia_muciniphila\",\"marker\":{\"color\":\"#ab63fa\",\"pattern\":{\"shape\":\"\"}},\"name\":\"Akkermansia_muciniphila\",\"offsetgroup\":\"Akkermansia_muciniphila\",\"orientation\":\"v\",\"showlegend\":true,\"textposition\":\"auto\",\"x\":[\"BCN-01_1\",\"BCN-02_1\",\"BCN-03_1\",\"BCN-04_1\",\"BCN-05_1\"],\"xaxis\":\"x\",\"y\":[0.0,0.13485,0.16416,0.0,0.0],\"yaxis\":\"y\",\"type\":\"bar\"},{\"alignmentgroup\":\"True\",\"customdata\":[[\"male\",\"adult\"],[\"female\",\"adult\"],[\"female\",\"senior\"],[\"male\",\"adult\"],[\"male\",\"senior\"]],\"hovertemplate\":\"species=Faecalibacterium_prausnitzii<br>subject_id=%{x}<br>RelAb=%{y}<br>gender=%{customdata[0]}<br>age_category=%{customdata[1]}<extra></extra>\",\"legendgroup\":\"Faecalibacterium_prausnitzii\",\"marker\":{\"color\":\"#FFA15A\",\"pattern\":{\"shape\":\"\"}},\"name\":\"Faecalibacterium_prausnitzii\",\"offsetgroup\":\"Faecalibacterium_prausnitzii\",\"orientation\":\"v\",\"showlegend\":true,\"textposition\":\"auto\",\"x\":[\"BCN-01_1\",\"BCN-02_1\",\"BCN-03_1\",\"BCN-04_1\",\"BCN-05_1\"],\"xaxis\":\"x\",\"y\":[4.47034,1.66004,1.97072,1.38323,0.0458],\"yaxis\":\"y\",\"type\":\"bar\"},{\"alignmentgroup\":\"True\",\"customdata\":[[\"male\",\"adult\"],[\"female\",\"adult\"],[\"female\",\"senior\"],[\"male\",\"adult\"],[\"male\",\"senior\"]],\"hovertemplate\":\"species=Ruminococcus_bromii<br>subject_id=%{x}<br>RelAb=%{y}<br>gender=%{customdata[0]}<br>age_category=%{customdata[1]}<extra></extra>\",\"legendgroup\":\"Ruminococcus_bromii\",\"marker\":{\"color\":\"#19d3f3\",\"pattern\":{\"shape\":\"\"}},\"name\":\"Ruminococcus_bromii\",\"offsetgroup\":\"Ruminococcus_bromii\",\"orientation\":\"v\",\"showlegend\":true,\"textposition\":\"auto\",\"x\":[\"BCN-01_1\",\"BCN-02_1\",\"BCN-03_1\",\"BCN-04_1\",\"BCN-05_1\"],\"xaxis\":\"x\",\"y\":[0.87113,0.07198,0.0,1.71353,15.63297],\"yaxis\":\"y\",\"type\":\"bar\"},{\"alignmentgroup\":\"True\",\"customdata\":[[\"male\",\"adult\"],[\"female\",\"adult\"],[\"female\",\"senior\"],[\"male\",\"adult\"],[\"male\",\"senior\"]],\"hovertemplate\":\"species=Escherichia_coli<br>subject_id=%{x}<br>RelAb=%{y}<br>gender=%{customdata[0]}<br>age_category=%{customdata[1]}<extra></extra>\",\"legendgroup\":\"Escherichia_coli\",\"marker\":{\"color\":\"#FF6692\",\"pattern\":{\"shape\":\"\"}},\"name\":\"Escherichia_coli\",\"offsetgroup\":\"Escherichia_coli\",\"orientation\":\"v\",\"showlegend\":true,\"textposition\":\"auto\",\"x\":[\"BCN-01_1\",\"BCN-02_1\",\"BCN-03_1\",\"BCN-04_1\",\"BCN-05_1\"],\"xaxis\":\"x\",\"y\":[0.03334,0.0,0.02288,0.0,5.05773],\"yaxis\":\"y\",\"type\":\"bar\"},{\"alignmentgroup\":\"True\",\"customdata\":[[\"male\",\"adult\"],[\"female\",\"adult\"],[\"female\",\"senior\"],[\"male\",\"adult\"],[\"male\",\"senior\"]],\"hovertemplate\":\"species=Bifidobacterium_longum<br>subject_id=%{x}<br>RelAb=%{y}<br>gender=%{customdata[0]}<br>age_category=%{customdata[1]}<extra></extra>\",\"legendgroup\":\"Bifidobacterium_longum\",\"marker\":{\"color\":\"#B6E880\",\"pattern\":{\"shape\":\"\"}},\"name\":\"Bifidobacterium_longum\",\"offsetgroup\":\"Bifidobacterium_longum\",\"orientation\":\"v\",\"showlegend\":true,\"textposition\":\"auto\",\"x\":[\"BCN-01_1\",\"BCN-02_1\",\"BCN-03_1\",\"BCN-04_1\",\"BCN-05_1\"],\"xaxis\":\"x\",\"y\":[0.0,0.01587,0.0034,0.01074,1.79973],\"yaxis\":\"y\",\"type\":\"bar\"},{\"alignmentgroup\":\"True\",\"customdata\":[[\"male\",\"adult\"],[\"female\",\"adult\"],[\"female\",\"senior\"],[\"male\",\"adult\"],[\"male\",\"senior\"]],\"hovertemplate\":\"species=Bifidobacterium_adolescentis<br>subject_id=%{x}<br>RelAb=%{y}<br>gender=%{customdata[0]}<br>age_category=%{customdata[1]}<extra></extra>\",\"legendgroup\":\"Bifidobacterium_adolescentis\",\"marker\":{\"color\":\"#FF97FF\",\"pattern\":{\"shape\":\"\"}},\"name\":\"Bifidobacterium_adolescentis\",\"offsetgroup\":\"Bifidobacterium_adolescentis\",\"orientation\":\"v\",\"showlegend\":true,\"textposition\":\"auto\",\"x\":[\"BCN-01_1\",\"BCN-02_1\",\"BCN-03_1\",\"BCN-04_1\",\"BCN-05_1\"],\"xaxis\":\"x\",\"y\":[0.0,0.16376,0.00095,0.09001,0.0],\"yaxis\":\"y\",\"type\":\"bar\"},{\"alignmentgroup\":\"True\",\"customdata\":[[\"male\",\"adult\"],[\"female\",\"adult\"],[\"female\",\"senior\"],[\"male\",\"adult\"],[\"male\",\"senior\"]],\"hovertemplate\":\"species=Collinsella_aerofaciens<br>subject_id=%{x}<br>RelAb=%{y}<br>gender=%{customdata[0]}<br>age_category=%{customdata[1]}<extra></extra>\",\"legendgroup\":\"Collinsella_aerofaciens\",\"marker\":{\"color\":\"#FECB52\",\"pattern\":{\"shape\":\"\"}},\"name\":\"Collinsella_aerofaciens\",\"offsetgroup\":\"Collinsella_aerofaciens\",\"orientation\":\"v\",\"showlegend\":true,\"textposition\":\"auto\",\"x\":[\"BCN-01_1\",\"BCN-02_1\",\"BCN-03_1\",\"BCN-04_1\",\"BCN-05_1\"],\"xaxis\":\"x\",\"y\":[0.05024,0.19042,0.08099,1.10278,0.0],\"yaxis\":\"y\",\"type\":\"bar\"}],                        {\"template\":{\"data\":{\"barpolar\":[{\"marker\":{\"line\":{\"color\":\"white\",\"width\":0.5},\"pattern\":{\"fillmode\":\"overlay\",\"size\":10,\"solidity\":0.2}},\"type\":\"barpolar\"}],\"bar\":[{\"error_x\":{\"color\":\"#2a3f5f\"},\"error_y\":{\"color\":\"#2a3f5f\"},\"marker\":{\"line\":{\"color\":\"white\",\"width\":0.5},\"pattern\":{\"fillmode\":\"overlay\",\"size\":10,\"solidity\":0.2}},\"type\":\"bar\"}],\"carpet\":[{\"aaxis\":{\"endlinecolor\":\"#2a3f5f\",\"gridcolor\":\"#C8D4E3\",\"linecolor\":\"#C8D4E3\",\"minorgridcolor\":\"#C8D4E3\",\"startlinecolor\":\"#2a3f5f\"},\"baxis\":{\"endlinecolor\":\"#2a3f5f\",\"gridcolor\":\"#C8D4E3\",\"linecolor\":\"#C8D4E3\",\"minorgridcolor\":\"#C8D4E3\",\"startlinecolor\":\"#2a3f5f\"},\"type\":\"carpet\"}],\"choropleth\":[{\"colorbar\":{\"outlinewidth\":0,\"ticks\":\"\"},\"type\":\"choropleth\"}],\"contourcarpet\":[{\"colorbar\":{\"outlinewidth\":0,\"ticks\":\"\"},\"type\":\"contourcarpet\"}],\"contour\":[{\"colorbar\":{\"outlinewidth\":0,\"ticks\":\"\"},\"colorscale\":[[0.0,\"#0d0887\"],[0.1111111111111111,\"#46039f\"],[0.2222222222222222,\"#7201a8\"],[0.3333333333333333,\"#9c179e\"],[0.4444444444444444,\"#bd3786\"],[0.5555555555555556,\"#d8576b\"],[0.6666666666666666,\"#ed7953\"],[0.7777777777777778,\"#fb9f3a\"],[0.8888888888888888,\"#fdca26\"],[1.0,\"#f0f921\"]],\"type\":\"contour\"}],\"heatmapgl\":[{\"colorbar\":{\"outlinewidth\":0,\"ticks\":\"\"},\"colorscale\":[[0.0,\"#0d0887\"],[0.1111111111111111,\"#46039f\"],[0.2222222222222222,\"#7201a8\"],[0.3333333333333333,\"#9c179e\"],[0.4444444444444444,\"#bd3786\"],[0.5555555555555556,\"#d8576b\"],[0.6666666666666666,\"#ed7953\"],[0.7777777777777778,\"#fb9f3a\"],[0.8888888888888888,\"#fdca26\"],[1.0,\"#f0f921\"]],\"type\":\"heatmapgl\"}],\"heatmap\":[{\"colorbar\":{\"outlinewidth\":0,\"ticks\":\"\"},\"colorscale\":[[0.0,\"#0d0887\"],[0.1111111111111111,\"#46039f\"],[0.2222222222222222,\"#7201a8\"],[0.3333333333333333,\"#9c179e\"],[0.4444444444444444,\"#bd3786\"],[0.5555555555555556,\"#d8576b\"],[0.6666666666666666,\"#ed7953\"],[0.7777777777777778,\"#fb9f3a\"],[0.8888888888888888,\"#fdca26\"],[1.0,\"#f0f921\"]],\"type\":\"heatmap\"}],\"histogram2dcontour\":[{\"colorbar\":{\"outlinewidth\":0,\"ticks\":\"\"},\"colorscale\":[[0.0,\"#0d0887\"],[0.1111111111111111,\"#46039f\"],[0.2222222222222222,\"#7201a8\"],[0.3333333333333333,\"#9c179e\"],[0.4444444444444444,\"#bd3786\"],[0.5555555555555556,\"#d8576b\"],[0.6666666666666666,\"#ed7953\"],[0.7777777777777778,\"#fb9f3a\"],[0.8888888888888888,\"#fdca26\"],[1.0,\"#f0f921\"]],\"type\":\"histogram2dcontour\"}],\"histogram2d\":[{\"colorbar\":{\"outlinewidth\":0,\"ticks\":\"\"},\"colorscale\":[[0.0,\"#0d0887\"],[0.1111111111111111,\"#46039f\"],[0.2222222222222222,\"#7201a8\"],[0.3333333333333333,\"#9c179e\"],[0.4444444444444444,\"#bd3786\"],[0.5555555555555556,\"#d8576b\"],[0.6666666666666666,\"#ed7953\"],[0.7777777777777778,\"#fb9f3a\"],[0.8888888888888888,\"#fdca26\"],[1.0,\"#f0f921\"]],\"type\":\"histogram2d\"}],\"histogram\":[{\"marker\":{\"pattern\":{\"fillmode\":\"overlay\",\"size\":10,\"solidity\":0.2}},\"type\":\"histogram\"}],\"mesh3d\":[{\"colorbar\":{\"outlinewidth\":0,\"ticks\":\"\"},\"type\":\"mesh3d\"}],\"parcoords\":[{\"line\":{\"colorbar\":{\"outlinewidth\":0,\"ticks\":\"\"}},\"type\":\"parcoords\"}],\"pie\":[{\"automargin\":true,\"type\":\"pie\"}],\"scatter3d\":[{\"line\":{\"colorbar\":{\"outlinewidth\":0,\"ticks\":\"\"}},\"marker\":{\"colorbar\":{\"outlinewidth\":0,\"ticks\":\"\"}},\"type\":\"scatter3d\"}],\"scattercarpet\":[{\"marker\":{\"colorbar\":{\"outlinewidth\":0,\"ticks\":\"\"}},\"type\":\"scattercarpet\"}],\"scattergeo\":[{\"marker\":{\"colorbar\":{\"outlinewidth\":0,\"ticks\":\"\"}},\"type\":\"scattergeo\"}],\"scattergl\":[{\"marker\":{\"colorbar\":{\"outlinewidth\":0,\"ticks\":\"\"}},\"type\":\"scattergl\"}],\"scattermapbox\":[{\"marker\":{\"colorbar\":{\"outlinewidth\":0,\"ticks\":\"\"}},\"type\":\"scattermapbox\"}],\"scatterpolargl\":[{\"marker\":{\"colorbar\":{\"outlinewidth\":0,\"ticks\":\"\"}},\"type\":\"scatterpolargl\"}],\"scatterpolar\":[{\"marker\":{\"colorbar\":{\"outlinewidth\":0,\"ticks\":\"\"}},\"type\":\"scatterpolar\"}],\"scatter\":[{\"fillpattern\":{\"fillmode\":\"overlay\",\"size\":10,\"solidity\":0.2},\"type\":\"scatter\"}],\"scatterternary\":[{\"marker\":{\"colorbar\":{\"outlinewidth\":0,\"ticks\":\"\"}},\"type\":\"scatterternary\"}],\"surface\":[{\"colorbar\":{\"outlinewidth\":0,\"ticks\":\"\"},\"colorscale\":[[0.0,\"#0d0887\"],[0.1111111111111111,\"#46039f\"],[0.2222222222222222,\"#7201a8\"],[0.3333333333333333,\"#9c179e\"],[0.4444444444444444,\"#bd3786\"],[0.5555555555555556,\"#d8576b\"],[0.6666666666666666,\"#ed7953\"],[0.7777777777777778,\"#fb9f3a\"],[0.8888888888888888,\"#fdca26\"],[1.0,\"#f0f921\"]],\"type\":\"surface\"}],\"table\":[{\"cells\":{\"fill\":{\"color\":\"#EBF0F8\"},\"line\":{\"color\":\"white\"}},\"header\":{\"fill\":{\"color\":\"#C8D4E3\"},\"line\":{\"color\":\"white\"}},\"type\":\"table\"}]},\"layout\":{\"annotationdefaults\":{\"arrowcolor\":\"#2a3f5f\",\"arrowhead\":0,\"arrowwidth\":1},\"autotypenumbers\":\"strict\",\"coloraxis\":{\"colorbar\":{\"outlinewidth\":0,\"ticks\":\"\"}},\"colorscale\":{\"diverging\":[[0,\"#8e0152\"],[0.1,\"#c51b7d\"],[0.2,\"#de77ae\"],[0.3,\"#f1b6da\"],[0.4,\"#fde0ef\"],[0.5,\"#f7f7f7\"],[0.6,\"#e6f5d0\"],[0.7,\"#b8e186\"],[0.8,\"#7fbc41\"],[0.9,\"#4d9221\"],[1,\"#276419\"]],\"sequential\":[[0.0,\"#0d0887\"],[0.1111111111111111,\"#46039f\"],[0.2222222222222222,\"#7201a8\"],[0.3333333333333333,\"#9c179e\"],[0.4444444444444444,\"#bd3786\"],[0.5555555555555556,\"#d8576b\"],[0.6666666666666666,\"#ed7953\"],[0.7777777777777778,\"#fb9f3a\"],[0.8888888888888888,\"#fdca26\"],[1.0,\"#f0f921\"]],\"sequentialminus\":[[0.0,\"#0d0887\"],[0.1111111111111111,\"#46039f\"],[0.2222222222222222,\"#7201a8\"],[0.3333333333333333,\"#9c179e\"],[0.4444444444444444,\"#bd3786\"],[0.5555555555555556,\"#d8576b\"],[0.6666666666666666,\"#ed7953\"],[0.7777777777777778,\"#fb9f3a\"],[0.8888888888888888,\"#fdca26\"],[1.0,\"#f0f921\"]]},\"colorway\":[\"#636efa\",\"#EF553B\",\"#00cc96\",\"#ab63fa\",\"#FFA15A\",\"#19d3f3\",\"#FF6692\",\"#B6E880\",\"#FF97FF\",\"#FECB52\"],\"font\":{\"color\":\"#2a3f5f\"},\"geo\":{\"bgcolor\":\"white\",\"lakecolor\":\"white\",\"landcolor\":\"white\",\"showlakes\":true,\"showland\":true,\"subunitcolor\":\"#C8D4E3\"},\"hoverlabel\":{\"align\":\"left\"},\"hovermode\":\"closest\",\"mapbox\":{\"style\":\"light\"},\"paper_bgcolor\":\"white\",\"plot_bgcolor\":\"white\",\"polar\":{\"angularaxis\":{\"gridcolor\":\"#EBF0F8\",\"linecolor\":\"#EBF0F8\",\"ticks\":\"\"},\"bgcolor\":\"white\",\"radialaxis\":{\"gridcolor\":\"#EBF0F8\",\"linecolor\":\"#EBF0F8\",\"ticks\":\"\"}},\"scene\":{\"xaxis\":{\"backgroundcolor\":\"white\",\"gridcolor\":\"#DFE8F3\",\"gridwidth\":2,\"linecolor\":\"#EBF0F8\",\"showbackground\":true,\"ticks\":\"\",\"zerolinecolor\":\"#EBF0F8\"},\"yaxis\":{\"backgroundcolor\":\"white\",\"gridcolor\":\"#DFE8F3\",\"gridwidth\":2,\"linecolor\":\"#EBF0F8\",\"showbackground\":true,\"ticks\":\"\",\"zerolinecolor\":\"#EBF0F8\"},\"zaxis\":{\"backgroundcolor\":\"white\",\"gridcolor\":\"#DFE8F3\",\"gridwidth\":2,\"linecolor\":\"#EBF0F8\",\"showbackground\":true,\"ticks\":\"\",\"zerolinecolor\":\"#EBF0F8\"}},\"shapedefaults\":{\"line\":{\"color\":\"#2a3f5f\"}},\"ternary\":{\"aaxis\":{\"gridcolor\":\"#DFE8F3\",\"linecolor\":\"#A2B1C6\",\"ticks\":\"\"},\"baxis\":{\"gridcolor\":\"#DFE8F3\",\"linecolor\":\"#A2B1C6\",\"ticks\":\"\"},\"bgcolor\":\"white\",\"caxis\":{\"gridcolor\":\"#DFE8F3\",\"linecolor\":\"#A2B1C6\",\"ticks\":\"\"}},\"title\":{\"x\":0.05},\"xaxis\":{\"automargin\":true,\"gridcolor\":\"#EBF0F8\",\"linecolor\":\"#EBF0F8\",\"ticks\":\"\",\"title\":{\"standoff\":15},\"zerolinecolor\":\"#EBF0F8\",\"zerolinewidth\":2},\"yaxis\":{\"automargin\":true,\"gridcolor\":\"#EBF0F8\",\"linecolor\":\"#EBF0F8\",\"ticks\":\"\",\"title\":{\"standoff\":15},\"zerolinecolor\":\"#EBF0F8\",\"zerolinewidth\":2}}},\"xaxis\":{\"anchor\":\"y\",\"domain\":[0.0,1.0],\"title\":{\"text\":\"subject_id\"}},\"yaxis\":{\"anchor\":\"x\",\"domain\":[0.0,1.0],\"title\":{\"text\":\"RelAb\"}},\"legend\":{\"title\":{\"text\":\"species\"},\"tracegroupgap\":0},\"margin\":{\"t\":60},\"barmode\":\"relative\",\"height\":600,\"width\":800},                        {\"responsive\": true}                    ).then(function(){\n",
       "                            \n",
       "var gd = document.getElementById('165a05e8-8891-4645-bbb7-fa36da6e855d');\n",
       "var x = new MutationObserver(function (mutations, observer) {{\n",
       "        var display = window.getComputedStyle(gd).display;\n",
       "        if (!display || display === 'none') {{\n",
       "            console.log([gd, 'removed!']);\n",
       "            Plotly.purge(gd);\n",
       "            observer.disconnect();\n",
       "        }}\n",
       "}});\n",
       "\n",
       "// Listen for the removal of the full notebook cells\n",
       "var notebookContainer = gd.closest('#notebook-container');\n",
       "if (notebookContainer) {{\n",
       "    x.observe(notebookContainer, {childList: true});\n",
       "}}\n",
       "\n",
       "// Listen for the clearing of the current output cell\n",
       "var outputEl = gd.closest('.output');\n",
       "if (outputEl) {{\n",
       "    x.observe(outputEl, {childList: true});\n",
       "}}\n",
       "\n",
       "                        })                };                });            </script>        </div>"
      ]
     },
     "metadata": {},
     "output_type": "display_data"
    }
   ],
   "source": [
    "bar_df = df.melt(id_vars = ['subject_id', 'country', 'gender', 'age_category', 'BMI', 'PFS12'], value_name = 'RelAb', \n",
    "           var_name = 'species')\n",
    "fig = px.bar(bar_df[bar_df.subject_id.isin(df.subject_id.unique()[0:5])], x=\"subject_id\", y=\"RelAb\", color=\"species\",\n",
    "             template='plotly_white',\n",
    "             hover_data =['gender', 'age_category'], width=800, height=600,\n",
    "             )\n",
    "fig.show()"
   ]
  },
  {
   "cell_type": "code",
   "execution_count": 33,
   "id": "1e6ce05b",
   "metadata": {
    "ExecuteTime": {
     "end_time": "2023-04-18T11:23:45.751421Z",
     "start_time": "2023-04-18T11:23:45.725604Z"
    }
   },
   "outputs": [
    {
     "data": {
      "text/html": [
       "<div>\n",
       "<style scoped>\n",
       "    .dataframe tbody tr th:only-of-type {\n",
       "        vertical-align: middle;\n",
       "    }\n",
       "\n",
       "    .dataframe tbody tr th {\n",
       "        vertical-align: top;\n",
       "    }\n",
       "\n",
       "    .dataframe thead th {\n",
       "        text-align: right;\n",
       "    }\n",
       "</style>\n",
       "<table border=\"1\" class=\"dataframe\">\n",
       "  <thead>\n",
       "    <tr style=\"text-align: right;\">\n",
       "      <th></th>\n",
       "      <th>subject_id</th>\n",
       "      <th>country</th>\n",
       "      <th>gender</th>\n",
       "      <th>age_category</th>\n",
       "      <th>BMI</th>\n",
       "      <th>PFS12</th>\n",
       "      <th>species</th>\n",
       "      <th>RelAb</th>\n",
       "    </tr>\n",
       "  </thead>\n",
       "  <tbody>\n",
       "    <tr>\n",
       "      <th>0</th>\n",
       "      <td>BCN-01_1</td>\n",
       "      <td>ESP</td>\n",
       "      <td>male</td>\n",
       "      <td>adult</td>\n",
       "      <td>28.713211</td>\n",
       "      <td>yes</td>\n",
       "      <td>Anaerostipes_hadrus</td>\n",
       "      <td>1.10764</td>\n",
       "    </tr>\n",
       "    <tr>\n",
       "      <th>1</th>\n",
       "      <td>BCN-02_1</td>\n",
       "      <td>ESP</td>\n",
       "      <td>female</td>\n",
       "      <td>adult</td>\n",
       "      <td>27.354571</td>\n",
       "      <td>no</td>\n",
       "      <td>Anaerostipes_hadrus</td>\n",
       "      <td>0.07957</td>\n",
       "    </tr>\n",
       "    <tr>\n",
       "      <th>2</th>\n",
       "      <td>BCN-03_1</td>\n",
       "      <td>ESP</td>\n",
       "      <td>female</td>\n",
       "      <td>senior</td>\n",
       "      <td>22.060354</td>\n",
       "      <td>yes</td>\n",
       "      <td>Anaerostipes_hadrus</td>\n",
       "      <td>0.06803</td>\n",
       "    </tr>\n",
       "    <tr>\n",
       "      <th>3</th>\n",
       "      <td>BCN-04_1</td>\n",
       "      <td>ESP</td>\n",
       "      <td>male</td>\n",
       "      <td>adult</td>\n",
       "      <td>30.350330</td>\n",
       "      <td>no</td>\n",
       "      <td>Anaerostipes_hadrus</td>\n",
       "      <td>0.17733</td>\n",
       "    </tr>\n",
       "    <tr>\n",
       "      <th>4</th>\n",
       "      <td>BCN-05_1</td>\n",
       "      <td>ESP</td>\n",
       "      <td>male</td>\n",
       "      <td>senior</td>\n",
       "      <td>36.079477</td>\n",
       "      <td>yes</td>\n",
       "      <td>Anaerostipes_hadrus</td>\n",
       "      <td>0.00000</td>\n",
       "    </tr>\n",
       "    <tr>\n",
       "      <th>...</th>\n",
       "      <td>...</td>\n",
       "      <td>...</td>\n",
       "      <td>...</td>\n",
       "      <td>...</td>\n",
       "      <td>...</td>\n",
       "      <td>...</td>\n",
       "      <td>...</td>\n",
       "      <td>...</td>\n",
       "    </tr>\n",
       "    <tr>\n",
       "      <th>95</th>\n",
       "      <td>BCN-01_1</td>\n",
       "      <td>ESP</td>\n",
       "      <td>male</td>\n",
       "      <td>adult</td>\n",
       "      <td>28.713211</td>\n",
       "      <td>yes</td>\n",
       "      <td>Collinsella_aerofaciens</td>\n",
       "      <td>0.05024</td>\n",
       "    </tr>\n",
       "    <tr>\n",
       "      <th>96</th>\n",
       "      <td>BCN-02_1</td>\n",
       "      <td>ESP</td>\n",
       "      <td>female</td>\n",
       "      <td>adult</td>\n",
       "      <td>27.354571</td>\n",
       "      <td>no</td>\n",
       "      <td>Collinsella_aerofaciens</td>\n",
       "      <td>0.19042</td>\n",
       "    </tr>\n",
       "    <tr>\n",
       "      <th>97</th>\n",
       "      <td>BCN-03_1</td>\n",
       "      <td>ESP</td>\n",
       "      <td>female</td>\n",
       "      <td>senior</td>\n",
       "      <td>22.060354</td>\n",
       "      <td>yes</td>\n",
       "      <td>Collinsella_aerofaciens</td>\n",
       "      <td>0.08099</td>\n",
       "    </tr>\n",
       "    <tr>\n",
       "      <th>98</th>\n",
       "      <td>BCN-04_1</td>\n",
       "      <td>ESP</td>\n",
       "      <td>male</td>\n",
       "      <td>adult</td>\n",
       "      <td>30.350330</td>\n",
       "      <td>no</td>\n",
       "      <td>Collinsella_aerofaciens</td>\n",
       "      <td>1.10278</td>\n",
       "    </tr>\n",
       "    <tr>\n",
       "      <th>99</th>\n",
       "      <td>BCN-05_1</td>\n",
       "      <td>ESP</td>\n",
       "      <td>male</td>\n",
       "      <td>senior</td>\n",
       "      <td>36.079477</td>\n",
       "      <td>yes</td>\n",
       "      <td>Collinsella_aerofaciens</td>\n",
       "      <td>0.00000</td>\n",
       "    </tr>\n",
       "  </tbody>\n",
       "</table>\n",
       "<p>100 rows × 8 columns</p>\n",
       "</div>"
      ],
      "text/plain": [
       "   subject_id country  gender age_category        BMI PFS12  \\\n",
       "0    BCN-01_1     ESP    male        adult  28.713211   yes   \n",
       "1    BCN-02_1     ESP  female        adult  27.354571    no   \n",
       "2    BCN-03_1     ESP  female       senior  22.060354   yes   \n",
       "3    BCN-04_1     ESP    male        adult  30.350330    no   \n",
       "4    BCN-05_1     ESP    male       senior  36.079477   yes   \n",
       "..        ...     ...     ...          ...        ...   ...   \n",
       "95   BCN-01_1     ESP    male        adult  28.713211   yes   \n",
       "96   BCN-02_1     ESP  female        adult  27.354571    no   \n",
       "97   BCN-03_1     ESP  female       senior  22.060354   yes   \n",
       "98   BCN-04_1     ESP    male        adult  30.350330    no   \n",
       "99   BCN-05_1     ESP    male       senior  36.079477   yes   \n",
       "\n",
       "                    species    RelAb  \n",
       "0       Anaerostipes_hadrus  1.10764  \n",
       "1       Anaerostipes_hadrus  0.07957  \n",
       "2       Anaerostipes_hadrus  0.06803  \n",
       "3       Anaerostipes_hadrus  0.17733  \n",
       "4       Anaerostipes_hadrus  0.00000  \n",
       "..                      ...      ...  \n",
       "95  Collinsella_aerofaciens  0.05024  \n",
       "96  Collinsella_aerofaciens  0.19042  \n",
       "97  Collinsella_aerofaciens  0.08099  \n",
       "98  Collinsella_aerofaciens  1.10278  \n",
       "99  Collinsella_aerofaciens  0.00000  \n",
       "\n",
       "[100 rows x 8 columns]"
      ]
     },
     "execution_count": 33,
     "metadata": {},
     "output_type": "execute_result"
    }
   ],
   "source": [
    "bar_df.melt(id_vars = ['subject_id', 'country', 'gender', 'age_category', 'BMI', 'PFS12'], value_name = 'RelAb', \n",
    "           var_name = 'species')"
   ]
  },
  {
   "cell_type": "code",
   "execution_count": 31,
   "id": "081521d4",
   "metadata": {
    "ExecuteTime": {
     "end_time": "2023-04-18T11:21:59.371563Z",
     "start_time": "2023-04-18T11:21:59.346713Z"
    }
   },
   "outputs": [
    {
     "data": {
      "text/html": [
       "<div>\n",
       "<style scoped>\n",
       "    .dataframe tbody tr th:only-of-type {\n",
       "        vertical-align: middle;\n",
       "    }\n",
       "\n",
       "    .dataframe tbody tr th {\n",
       "        vertical-align: top;\n",
       "    }\n",
       "\n",
       "    .dataframe thead th {\n",
       "        text-align: right;\n",
       "    }\n",
       "</style>\n",
       "<table border=\"1\" class=\"dataframe\">\n",
       "  <thead>\n",
       "    <tr style=\"text-align: right;\">\n",
       "      <th></th>\n",
       "      <th>subject_id</th>\n",
       "      <th>country</th>\n",
       "      <th>gender</th>\n",
       "      <th>age_category</th>\n",
       "      <th>BMI</th>\n",
       "      <th>PFS12</th>\n",
       "      <th>Anaerostipes_hadrus</th>\n",
       "      <th>Asaccharobacter_celatus</th>\n",
       "      <th>Coprococcus_comes</th>\n",
       "      <th>Fusicatenibacter_saccharivorans</th>\n",
       "      <th>...</th>\n",
       "      <th>Prevotella_copri</th>\n",
       "      <th>Bacteroides_uniformis</th>\n",
       "      <th>Alistipes_putredinis</th>\n",
       "      <th>Akkermansia_muciniphila</th>\n",
       "      <th>Faecalibacterium_prausnitzii</th>\n",
       "      <th>Ruminococcus_bromii</th>\n",
       "      <th>Escherichia_coli</th>\n",
       "      <th>Bifidobacterium_longum</th>\n",
       "      <th>Bifidobacterium_adolescentis</th>\n",
       "      <th>Collinsella_aerofaciens</th>\n",
       "    </tr>\n",
       "  </thead>\n",
       "  <tbody>\n",
       "    <tr>\n",
       "      <th>BCN-01_1</th>\n",
       "      <td>BCN-01_1</td>\n",
       "      <td>ESP</td>\n",
       "      <td>male</td>\n",
       "      <td>adult</td>\n",
       "      <td>28.713211</td>\n",
       "      <td>yes</td>\n",
       "      <td>1.10764</td>\n",
       "      <td>0.00000</td>\n",
       "      <td>0.39131</td>\n",
       "      <td>0.80794</td>\n",
       "      <td>...</td>\n",
       "      <td>0.00000</td>\n",
       "      <td>21.67335</td>\n",
       "      <td>0.01142</td>\n",
       "      <td>0.00000</td>\n",
       "      <td>4.47034</td>\n",
       "      <td>0.87113</td>\n",
       "      <td>0.03334</td>\n",
       "      <td>0.00000</td>\n",
       "      <td>0.00000</td>\n",
       "      <td>0.05024</td>\n",
       "    </tr>\n",
       "    <tr>\n",
       "      <th>BCN-02_1</th>\n",
       "      <td>BCN-02_1</td>\n",
       "      <td>ESP</td>\n",
       "      <td>female</td>\n",
       "      <td>adult</td>\n",
       "      <td>27.354571</td>\n",
       "      <td>no</td>\n",
       "      <td>0.07957</td>\n",
       "      <td>0.02697</td>\n",
       "      <td>0.15881</td>\n",
       "      <td>0.42029</td>\n",
       "      <td>...</td>\n",
       "      <td>0.00000</td>\n",
       "      <td>16.93711</td>\n",
       "      <td>7.04382</td>\n",
       "      <td>0.13485</td>\n",
       "      <td>1.66004</td>\n",
       "      <td>0.07198</td>\n",
       "      <td>0.00000</td>\n",
       "      <td>0.01587</td>\n",
       "      <td>0.16376</td>\n",
       "      <td>0.19042</td>\n",
       "    </tr>\n",
       "    <tr>\n",
       "      <th>BCN-03_1</th>\n",
       "      <td>BCN-03_1</td>\n",
       "      <td>ESP</td>\n",
       "      <td>female</td>\n",
       "      <td>senior</td>\n",
       "      <td>22.060354</td>\n",
       "      <td>yes</td>\n",
       "      <td>0.06803</td>\n",
       "      <td>0.00000</td>\n",
       "      <td>0.05290</td>\n",
       "      <td>0.04999</td>\n",
       "      <td>...</td>\n",
       "      <td>67.77848</td>\n",
       "      <td>1.81256</td>\n",
       "      <td>6.10781</td>\n",
       "      <td>0.16416</td>\n",
       "      <td>1.97072</td>\n",
       "      <td>0.00000</td>\n",
       "      <td>0.02288</td>\n",
       "      <td>0.00340</td>\n",
       "      <td>0.00095</td>\n",
       "      <td>0.08099</td>\n",
       "    </tr>\n",
       "    <tr>\n",
       "      <th>BCN-04_1</th>\n",
       "      <td>BCN-04_1</td>\n",
       "      <td>ESP</td>\n",
       "      <td>male</td>\n",
       "      <td>adult</td>\n",
       "      <td>30.350330</td>\n",
       "      <td>no</td>\n",
       "      <td>0.17733</td>\n",
       "      <td>0.00000</td>\n",
       "      <td>0.39534</td>\n",
       "      <td>0.40406</td>\n",
       "      <td>...</td>\n",
       "      <td>0.00000</td>\n",
       "      <td>6.37426</td>\n",
       "      <td>12.07799</td>\n",
       "      <td>0.00000</td>\n",
       "      <td>1.38323</td>\n",
       "      <td>1.71353</td>\n",
       "      <td>0.00000</td>\n",
       "      <td>0.01074</td>\n",
       "      <td>0.09001</td>\n",
       "      <td>1.10278</td>\n",
       "    </tr>\n",
       "    <tr>\n",
       "      <th>BCN-05_1</th>\n",
       "      <td>BCN-05_1</td>\n",
       "      <td>ESP</td>\n",
       "      <td>male</td>\n",
       "      <td>senior</td>\n",
       "      <td>36.079477</td>\n",
       "      <td>yes</td>\n",
       "      <td>0.00000</td>\n",
       "      <td>0.38326</td>\n",
       "      <td>0.00000</td>\n",
       "      <td>0.05267</td>\n",
       "      <td>...</td>\n",
       "      <td>0.00000</td>\n",
       "      <td>30.92338</td>\n",
       "      <td>10.58879</td>\n",
       "      <td>0.00000</td>\n",
       "      <td>0.04580</td>\n",
       "      <td>15.63297</td>\n",
       "      <td>5.05773</td>\n",
       "      <td>1.79973</td>\n",
       "      <td>0.00000</td>\n",
       "      <td>0.00000</td>\n",
       "    </tr>\n",
       "  </tbody>\n",
       "</table>\n",
       "<p>5 rows × 26 columns</p>\n",
       "</div>"
      ],
      "text/plain": [
       "         subject_id country  gender age_category        BMI PFS12  \\\n",
       "BCN-01_1   BCN-01_1     ESP    male        adult  28.713211   yes   \n",
       "BCN-02_1   BCN-02_1     ESP  female        adult  27.354571    no   \n",
       "BCN-03_1   BCN-03_1     ESP  female       senior  22.060354   yes   \n",
       "BCN-04_1   BCN-04_1     ESP    male        adult  30.350330    no   \n",
       "BCN-05_1   BCN-05_1     ESP    male       senior  36.079477   yes   \n",
       "\n",
       "          Anaerostipes_hadrus  Asaccharobacter_celatus  Coprococcus_comes  \\\n",
       "BCN-01_1              1.10764                  0.00000            0.39131   \n",
       "BCN-02_1              0.07957                  0.02697            0.15881   \n",
       "BCN-03_1              0.06803                  0.00000            0.05290   \n",
       "BCN-04_1              0.17733                  0.00000            0.39534   \n",
       "BCN-05_1              0.00000                  0.38326            0.00000   \n",
       "\n",
       "          Fusicatenibacter_saccharivorans  ...  Prevotella_copri  \\\n",
       "BCN-01_1                          0.80794  ...           0.00000   \n",
       "BCN-02_1                          0.42029  ...           0.00000   \n",
       "BCN-03_1                          0.04999  ...          67.77848   \n",
       "BCN-04_1                          0.40406  ...           0.00000   \n",
       "BCN-05_1                          0.05267  ...           0.00000   \n",
       "\n",
       "          Bacteroides_uniformis  Alistipes_putredinis  \\\n",
       "BCN-01_1               21.67335               0.01142   \n",
       "BCN-02_1               16.93711               7.04382   \n",
       "BCN-03_1                1.81256               6.10781   \n",
       "BCN-04_1                6.37426              12.07799   \n",
       "BCN-05_1               30.92338              10.58879   \n",
       "\n",
       "          Akkermansia_muciniphila  Faecalibacterium_prausnitzii  \\\n",
       "BCN-01_1                  0.00000                       4.47034   \n",
       "BCN-02_1                  0.13485                       1.66004   \n",
       "BCN-03_1                  0.16416                       1.97072   \n",
       "BCN-04_1                  0.00000                       1.38323   \n",
       "BCN-05_1                  0.00000                       0.04580   \n",
       "\n",
       "          Ruminococcus_bromii  Escherichia_coli  Bifidobacterium_longum  \\\n",
       "BCN-01_1              0.87113           0.03334                 0.00000   \n",
       "BCN-02_1              0.07198           0.00000                 0.01587   \n",
       "BCN-03_1              0.00000           0.02288                 0.00340   \n",
       "BCN-04_1              1.71353           0.00000                 0.01074   \n",
       "BCN-05_1             15.63297           5.05773                 1.79973   \n",
       "\n",
       "          Bifidobacterium_adolescentis  Collinsella_aerofaciens  \n",
       "BCN-01_1                       0.00000                  0.05024  \n",
       "BCN-02_1                       0.16376                  0.19042  \n",
       "BCN-03_1                       0.00095                  0.08099  \n",
       "BCN-04_1                       0.09001                  1.10278  \n",
       "BCN-05_1                       0.00000                  0.00000  \n",
       "\n",
       "[5 rows x 26 columns]"
      ]
     },
     "execution_count": 31,
     "metadata": {},
     "output_type": "execute_result"
    }
   ],
   "source": [
    "bar_df"
   ]
  },
  {
   "cell_type": "code",
   "execution_count": null,
   "id": "342c889c",
   "metadata": {},
   "outputs": [],
   "source": []
  }
 ],
 "metadata": {
  "kernelspec": {
   "display_name": "Python 3 (ipykernel)",
   "language": "python",
   "name": "python3"
  },
  "language_info": {
   "codemirror_mode": {
    "name": "ipython",
    "version": 3
   },
   "file_extension": ".py",
   "mimetype": "text/x-python",
   "name": "python",
   "nbconvert_exporter": "python",
   "pygments_lexer": "ipython3",
   "version": "3.8.13"
  },
  "toc": {
   "base_numbering": 1,
   "nav_menu": {},
   "number_sections": true,
   "sideBar": true,
   "skip_h1_title": false,
   "title_cell": "Table of Contents",
   "title_sidebar": "Contents",
   "toc_cell": false,
   "toc_position": {},
   "toc_section_display": true,
   "toc_window_display": false
  }
 },
 "nbformat": 4,
 "nbformat_minor": 5
}

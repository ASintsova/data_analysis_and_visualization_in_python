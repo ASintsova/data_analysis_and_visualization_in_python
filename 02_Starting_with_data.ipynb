{
 "cells": [
  {
   "cell_type": "code",
   "execution_count": 1,
   "id": "3e1c04b8",
   "metadata": {
    "ExecuteTime": {
     "end_time": "2023-04-17T10:20:27.798251Z",
     "start_time": "2023-04-17T10:20:27.077944Z"
    }
   },
   "outputs": [],
   "source": [
    "import pandas as pd"
   ]
  },
  {
   "cell_type": "markdown",
   "id": "bcef5113",
   "metadata": {},
   "source": [
    "## Libraries"
   ]
  },
  {
   "cell_type": "markdown",
   "id": "c0bf57bb",
   "metadata": {},
   "source": [
    "### Most of the power of a programming language is in its libraries.\n",
    "- A library is a collection of files (called modules) that contains functions for use by other programs.\n",
    "    - May also contain data values (e.g., numerical constants) and other things.\n",
    "    - Library’s contents are supposed to be related, but there’s no way to enforce that.\n",
    "- The Python standard library is an extensive suite of modules that comes with Python itself.\n",
    "- Many additional libraries are available from PyPI (the Python Package Index).\n"
   ]
  },
  {
   "cell_type": "markdown",
   "id": "c8c63642",
   "metadata": {
    "ExecuteTime": {
     "end_time": "2023-04-17T11:20:06.369450Z",
     "start_time": "2023-04-17T11:20:06.355584Z"
    }
   },
   "source": [
    "**A program must import a library module before using it.**\n",
    "\n",
    "- Use `import` to load a library module into a program’s memory.\n",
    "- Then refer to things from the module as `module_name.thing_name`.\n",
    "- Python uses `.` to mean “part of”.\n",
    "- Using `numpy`, one of the most important libraries for scientific computing\n",
    "- To use a function or a constant from a module, you have to always refer to that modules name"
   ]
  },
  {
   "cell_type": "code",
   "execution_count": 9,
   "id": "8c6d6fc9",
   "metadata": {
    "ExecuteTime": {
     "end_time": "2023-04-18T09:00:56.324043Z",
     "start_time": "2023-04-18T09:00:56.318919Z"
    }
   },
   "outputs": [],
   "source": [
    "import numpy"
   ]
  },
  {
   "cell_type": "code",
   "execution_count": 10,
   "id": "0513d5fc",
   "metadata": {
    "ExecuteTime": {
     "end_time": "2023-04-18T09:00:59.172247Z",
     "start_time": "2023-04-18T09:00:59.164145Z"
    }
   },
   "outputs": [
    {
     "data": {
      "text/plain": [
       "3.141592653589793"
      ]
     },
     "execution_count": 10,
     "metadata": {},
     "output_type": "execute_result"
    }
   ],
   "source": [
    "# Display value of pi\n",
    "numpy.pi"
   ]
  },
  {
   "cell_type": "code",
   "execution_count": 11,
   "id": "135d98f2",
   "metadata": {
    "ExecuteTime": {
     "end_time": "2023-04-18T09:01:01.784498Z",
     "start_time": "2023-04-18T09:01:01.774827Z"
    }
   },
   "outputs": [
    {
     "data": {
      "text/plain": [
       "3.0"
      ]
     },
     "execution_count": 11,
     "metadata": {},
     "output_type": "execute_result"
    }
   ],
   "source": [
    "# Calculate log2 of a number\n",
    "# log2 is a function from numpy library. It takes one argument.\n",
    "numpy.log2(8)"
   ]
  },
  {
   "cell_type": "code",
   "execution_count": 12,
   "id": "78353cd6",
   "metadata": {
    "ExecuteTime": {
     "end_time": "2023-04-18T09:01:04.307315Z",
     "start_time": "2023-04-18T09:01:04.298434Z"
    }
   },
   "outputs": [],
   "source": [
    "# Learn more about the function and it's arguments\n",
    "?numpy.log2"
   ]
  },
  {
   "cell_type": "code",
   "execution_count": 13,
   "id": "4ac85b00",
   "metadata": {
    "ExecuteTime": {
     "end_time": "2023-04-18T09:01:12.444862Z",
     "start_time": "2023-04-18T09:01:12.434050Z"
    }
   },
   "outputs": [
    {
     "data": {
      "text/plain": [
       "array([3., 4., 5.])"
      ]
     },
     "execution_count": 13,
     "metadata": {},
     "output_type": "execute_result"
    }
   ],
   "source": [
    "# argument doesn't have to be a number, can be a list\n",
    "numpy.log2([8, 16, 32])"
   ]
  },
  {
   "cell_type": "markdown",
   "id": "c0ff591d",
   "metadata": {},
   "source": [
    "### Import specific itmes from a library "
   ]
  },
  {
   "cell_type": "markdown",
   "id": "b2ebb886",
   "metadata": {},
   "source": [
    "- Use `from ... import ...` to load only specific functions/itmes from a library\n",
    "- Then you can refer to them directly in your code"
   ]
  },
  {
   "cell_type": "code",
   "execution_count": 16,
   "id": "979910a5",
   "metadata": {
    "ExecuteTime": {
     "end_time": "2023-04-18T09:05:35.074745Z",
     "start_time": "2023-04-18T09:05:35.070105Z"
    }
   },
   "outputs": [
    {
     "data": {
      "text/plain": [
       "array([4., 3., 1.])"
      ]
     },
     "execution_count": 16,
     "metadata": {},
     "output_type": "execute_result"
    }
   ],
   "source": [
    "from numpy import floor\n",
    "# floor function returns floor of a number (largest integer i, such that i <= x)\n",
    "floor([4.5, 3.2, 1.9])"
   ]
  },
  {
   "cell_type": "markdown",
   "id": "0ef39f7b",
   "metadata": {},
   "source": [
    "### Create an alias for a library"
   ]
  },
  {
   "cell_type": "markdown",
   "id": "6a983f45",
   "metadata": {},
   "source": [
    "- Use `import ... as ...` to give library an alias, then refer to items using that shortened name\n",
    "- Some popular libraries have well established aliases that are in common use"
   ]
  },
  {
   "cell_type": "code",
   "execution_count": 15,
   "id": "790bbb97",
   "metadata": {
    "ExecuteTime": {
     "end_time": "2023-04-18T09:05:00.410956Z",
     "start_time": "2023-04-18T09:05:00.400628Z"
    }
   },
   "outputs": [
    {
     "data": {
      "text/plain": [
       "array([5., 4., 2.])"
      ]
     },
     "execution_count": 15,
     "metadata": {},
     "output_type": "execute_result"
    }
   ],
   "source": [
    "import numpy as np\n",
    "# ceiling function returns ceiling of a number (smallest integer i, such that i >= x)\n",
    "np.ceil([4.5, 3.2, 1.9])"
   ]
  },
  {
   "cell_type": "markdown",
   "id": "898cdd36",
   "metadata": {},
   "source": [
    "## Reading tabular data into DataFrames"
   ]
  },
  {
   "cell_type": "markdown",
   "id": "b172c898",
   "metadata": {},
   "source": [
    "### Use pandas library to do statistics on tabular data\n",
    "- [pandas](https://pandas.pydata.org/) is a widely used Python library for data science\n",
    "- Can be used to read a lot of differnt file formats - `csv`, `excel`, `json`, `parquet`, etc. "
   ]
  },
  {
   "cell_type": "code",
   "execution_count": 17,
   "id": "379b5090",
   "metadata": {
    "ExecuteTime": {
     "end_time": "2023-04-18T09:12:59.797177Z",
     "start_time": "2023-04-18T09:12:59.056115Z"
    }
   },
   "outputs": [],
   "source": [
    "# import and give an alias\n",
    "import pandas as pd"
   ]
  },
  {
   "cell_type": "code",
   "execution_count": 18,
   "id": "5cc23829",
   "metadata": {
    "ExecuteTime": {
     "end_time": "2023-04-18T09:13:24.678918Z",
     "start_time": "2023-04-18T09:13:24.521574Z"
    }
   },
   "outputs": [
    {
     "name": "stdout",
     "output_type": "stream",
     "text": [
      "2022-04-13.LeeKA_2022.colData.csv\r\n",
      "2022-04-13.LeeKA_2022.relative_abundance.csv\r\n",
      "LeeKA_relAb_full.csv\r\n",
      "samples-metadata.tsv\r\n",
      "t6ss.tsv\r\n"
     ]
    }
   ],
   "source": [
    "%ls data"
   ]
  },
  {
   "cell_type": "code",
   "execution_count": 21,
   "id": "67bb5027",
   "metadata": {
    "ExecuteTime": {
     "end_time": "2023-04-18T09:14:09.177533Z",
     "start_time": "2023-04-18T09:14:09.163424Z"
    }
   },
   "outputs": [],
   "source": [
    "# Read in a csv file\n",
    "data = pd.read_csv('data/2022-04-13.LeeKA_2022.colData.csv', index_col=0)"
   ]
  },
  {
   "cell_type": "code",
   "execution_count": 22,
   "id": "4bccdb44",
   "metadata": {
    "ExecuteTime": {
     "end_time": "2023-04-18T09:14:10.357403Z",
     "start_time": "2023-04-18T09:14:10.337330Z"
    }
   },
   "outputs": [
    {
     "data": {
      "text/html": [
       "<div>\n",
       "<style scoped>\n",
       "    .dataframe tbody tr th:only-of-type {\n",
       "        vertical-align: middle;\n",
       "    }\n",
       "\n",
       "    .dataframe tbody tr th {\n",
       "        vertical-align: top;\n",
       "    }\n",
       "\n",
       "    .dataframe thead th {\n",
       "        text-align: right;\n",
       "    }\n",
       "</style>\n",
       "<table border=\"1\" class=\"dataframe\">\n",
       "  <thead>\n",
       "    <tr style=\"text-align: right;\">\n",
       "      <th></th>\n",
       "      <th>study_name</th>\n",
       "      <th>subject_id</th>\n",
       "      <th>body_site</th>\n",
       "      <th>antibiotics_current_use</th>\n",
       "      <th>study_condition</th>\n",
       "      <th>disease</th>\n",
       "      <th>age_category</th>\n",
       "      <th>gender</th>\n",
       "      <th>country</th>\n",
       "      <th>non_westernized</th>\n",
       "      <th>...</th>\n",
       "      <th>BMI</th>\n",
       "      <th>location</th>\n",
       "      <th>treatment</th>\n",
       "      <th>RECIST</th>\n",
       "      <th>ORR</th>\n",
       "      <th>subcohort</th>\n",
       "      <th>previous_therapy</th>\n",
       "      <th>performance_status</th>\n",
       "      <th>toxicity_above_zero</th>\n",
       "      <th>PFS12</th>\n",
       "    </tr>\n",
       "  </thead>\n",
       "  <tbody>\n",
       "    <tr>\n",
       "      <th>BCN-01_1</th>\n",
       "      <td>LeeKA_2022</td>\n",
       "      <td>BCN-01_1</td>\n",
       "      <td>stool</td>\n",
       "      <td>no</td>\n",
       "      <td>melanoma</td>\n",
       "      <td>melanoma</td>\n",
       "      <td>adult</td>\n",
       "      <td>male</td>\n",
       "      <td>ESP</td>\n",
       "      <td>no</td>\n",
       "      <td>...</td>\n",
       "      <td>28.713211</td>\n",
       "      <td>Barcelona</td>\n",
       "      <td>no</td>\n",
       "      <td>PR</td>\n",
       "      <td>yes</td>\n",
       "      <td>Barcelona</td>\n",
       "      <td>no</td>\n",
       "      <td>0.0</td>\n",
       "      <td>yes</td>\n",
       "      <td>yes</td>\n",
       "    </tr>\n",
       "    <tr>\n",
       "      <th>BCN-02_1</th>\n",
       "      <td>LeeKA_2022</td>\n",
       "      <td>BCN-02_1</td>\n",
       "      <td>stool</td>\n",
       "      <td>no</td>\n",
       "      <td>melanoma</td>\n",
       "      <td>melanoma</td>\n",
       "      <td>adult</td>\n",
       "      <td>female</td>\n",
       "      <td>ESP</td>\n",
       "      <td>no</td>\n",
       "      <td>...</td>\n",
       "      <td>27.354571</td>\n",
       "      <td>Barcelona</td>\n",
       "      <td>no</td>\n",
       "      <td>PD</td>\n",
       "      <td>no</td>\n",
       "      <td>Barcelona</td>\n",
       "      <td>no</td>\n",
       "      <td>NaN</td>\n",
       "      <td>yes</td>\n",
       "      <td>no</td>\n",
       "    </tr>\n",
       "    <tr>\n",
       "      <th>BCN-03_1</th>\n",
       "      <td>LeeKA_2022</td>\n",
       "      <td>BCN-03_1</td>\n",
       "      <td>stool</td>\n",
       "      <td>no</td>\n",
       "      <td>melanoma</td>\n",
       "      <td>melanoma</td>\n",
       "      <td>senior</td>\n",
       "      <td>female</td>\n",
       "      <td>ESP</td>\n",
       "      <td>no</td>\n",
       "      <td>...</td>\n",
       "      <td>22.060354</td>\n",
       "      <td>Barcelona</td>\n",
       "      <td>no</td>\n",
       "      <td>CR</td>\n",
       "      <td>yes</td>\n",
       "      <td>Barcelona</td>\n",
       "      <td>no</td>\n",
       "      <td>0.0</td>\n",
       "      <td>yes</td>\n",
       "      <td>yes</td>\n",
       "    </tr>\n",
       "    <tr>\n",
       "      <th>BCN-04_1</th>\n",
       "      <td>LeeKA_2022</td>\n",
       "      <td>BCN-04_1</td>\n",
       "      <td>stool</td>\n",
       "      <td>no</td>\n",
       "      <td>melanoma</td>\n",
       "      <td>melanoma</td>\n",
       "      <td>adult</td>\n",
       "      <td>male</td>\n",
       "      <td>ESP</td>\n",
       "      <td>no</td>\n",
       "      <td>...</td>\n",
       "      <td>30.350330</td>\n",
       "      <td>Barcelona</td>\n",
       "      <td>no</td>\n",
       "      <td>PD</td>\n",
       "      <td>no</td>\n",
       "      <td>Barcelona</td>\n",
       "      <td>no</td>\n",
       "      <td>0.0</td>\n",
       "      <td>yes</td>\n",
       "      <td>no</td>\n",
       "    </tr>\n",
       "    <tr>\n",
       "      <th>BCN-05_1</th>\n",
       "      <td>LeeKA_2022</td>\n",
       "      <td>BCN-05_1</td>\n",
       "      <td>stool</td>\n",
       "      <td>no</td>\n",
       "      <td>melanoma</td>\n",
       "      <td>melanoma</td>\n",
       "      <td>senior</td>\n",
       "      <td>male</td>\n",
       "      <td>ESP</td>\n",
       "      <td>no</td>\n",
       "      <td>...</td>\n",
       "      <td>36.079477</td>\n",
       "      <td>Barcelona</td>\n",
       "      <td>PPI</td>\n",
       "      <td>CR</td>\n",
       "      <td>yes</td>\n",
       "      <td>Barcelona</td>\n",
       "      <td>no</td>\n",
       "      <td>0.0</td>\n",
       "      <td>no</td>\n",
       "      <td>yes</td>\n",
       "    </tr>\n",
       "  </tbody>\n",
       "</table>\n",
       "<p>5 rows × 29 columns</p>\n",
       "</div>"
      ],
      "text/plain": [
       "          study_name subject_id body_site antibiotics_current_use  \\\n",
       "BCN-01_1  LeeKA_2022   BCN-01_1     stool                      no   \n",
       "BCN-02_1  LeeKA_2022   BCN-02_1     stool                      no   \n",
       "BCN-03_1  LeeKA_2022   BCN-03_1     stool                      no   \n",
       "BCN-04_1  LeeKA_2022   BCN-04_1     stool                      no   \n",
       "BCN-05_1  LeeKA_2022   BCN-05_1     stool                      no   \n",
       "\n",
       "         study_condition   disease age_category  gender country  \\\n",
       "BCN-01_1        melanoma  melanoma        adult    male     ESP   \n",
       "BCN-02_1        melanoma  melanoma        adult  female     ESP   \n",
       "BCN-03_1        melanoma  melanoma       senior  female     ESP   \n",
       "BCN-04_1        melanoma  melanoma        adult    male     ESP   \n",
       "BCN-05_1        melanoma  melanoma       senior    male     ESP   \n",
       "\n",
       "         non_westernized  ...        BMI   location  treatment  RECIST  ORR  \\\n",
       "BCN-01_1              no  ...  28.713211  Barcelona         no      PR  yes   \n",
       "BCN-02_1              no  ...  27.354571  Barcelona         no      PD   no   \n",
       "BCN-03_1              no  ...  22.060354  Barcelona         no      CR  yes   \n",
       "BCN-04_1              no  ...  30.350330  Barcelona         no      PD   no   \n",
       "BCN-05_1              no  ...  36.079477  Barcelona        PPI      CR  yes   \n",
       "\n",
       "          subcohort  previous_therapy performance_status toxicity_above_zero  \\\n",
       "BCN-01_1  Barcelona                no                0.0                 yes   \n",
       "BCN-02_1  Barcelona                no                NaN                 yes   \n",
       "BCN-03_1  Barcelona                no                0.0                 yes   \n",
       "BCN-04_1  Barcelona                no                0.0                 yes   \n",
       "BCN-05_1  Barcelona                no                0.0                  no   \n",
       "\n",
       "          PFS12  \n",
       "BCN-01_1    yes  \n",
       "BCN-02_1     no  \n",
       "BCN-03_1    yes  \n",
       "BCN-04_1     no  \n",
       "BCN-05_1    yes  \n",
       "\n",
       "[5 rows x 29 columns]"
      ]
     },
     "execution_count": 22,
     "metadata": {},
     "output_type": "execute_result"
    }
   ],
   "source": [
    "# Look at the top 5 rows of the data\n",
    "# The columns in a dataframe are the observed variables, and the rows are the observations.\n",
    "data.head()"
   ]
  },
  {
   "cell_type": "code",
   "execution_count": null,
   "id": "7a0a38bb",
   "metadata": {},
   "outputs": [],
   "source": [
    "# View the last five rows"
   ]
  },
  {
   "cell_type": "code",
   "execution_count": 55,
   "id": "b9ed14b3",
   "metadata": {
    "ExecuteTime": {
     "end_time": "2023-04-18T09:30:36.682506Z",
     "start_time": "2023-04-18T09:30:36.675435Z"
    }
   },
   "outputs": [
    {
     "data": {
      "text/plain": [
       "(165, 29)"
      ]
     },
     "execution_count": 55,
     "metadata": {},
     "output_type": "execute_result"
    }
   ],
   "source": [
    "# Check number of rows and columns\n",
    "data.shape"
   ]
  },
  {
   "cell_type": "code",
   "execution_count": 24,
   "id": "1cf9006f",
   "metadata": {
    "ExecuteTime": {
     "end_time": "2023-04-18T09:16:26.396347Z",
     "start_time": "2023-04-18T09:16:26.368352Z"
    }
   },
   "outputs": [
    {
     "name": "stdout",
     "output_type": "stream",
     "text": [
      "<class 'pandas.core.frame.DataFrame'>\n",
      "Index: 165 entries, BCN-01_1 to PRIMM0611\n",
      "Data columns (total 29 columns):\n",
      " #   Column                   Non-Null Count  Dtype  \n",
      "---  ------                   --------------  -----  \n",
      " 0   study_name               165 non-null    object \n",
      " 1   subject_id               165 non-null    object \n",
      " 2   body_site                165 non-null    object \n",
      " 3   antibiotics_current_use  162 non-null    object \n",
      " 4   study_condition          165 non-null    object \n",
      " 5   disease                  165 non-null    object \n",
      " 6   age_category             165 non-null    object \n",
      " 7   gender                   165 non-null    object \n",
      " 8   country                  165 non-null    object \n",
      " 9   non_westernized          165 non-null    object \n",
      " 10  sequencing_platform      165 non-null    object \n",
      " 11  DNA_extraction_kit       165 non-null    object \n",
      " 12  PMID                     165 non-null    int64  \n",
      " 13  number_reads             165 non-null    int64  \n",
      " 14  number_bases             165 non-null    int64  \n",
      " 15  minimum_read_length      165 non-null    int64  \n",
      " 16  median_read_length       165 non-null    int64  \n",
      " 17  NCBI_accession           164 non-null    object \n",
      " 18  curator                  165 non-null    object \n",
      " 19  BMI                      155 non-null    float64\n",
      " 20  location                 55 non-null     object \n",
      " 21  treatment                165 non-null    object \n",
      " 22  RECIST                   162 non-null    object \n",
      " 23  ORR                      165 non-null    object \n",
      " 24  subcohort                165 non-null    object \n",
      " 25  previous_therapy         165 non-null    object \n",
      " 26  performance_status       159 non-null    float64\n",
      " 27  toxicity_above_zero      165 non-null    object \n",
      " 28  PFS12                    163 non-null    object \n",
      "dtypes: float64(2), int64(5), object(22)\n",
      "memory usage: 38.7+ KB\n"
     ]
    }
   ],
   "source": [
    "# Find out mroe about a dataframe\n",
    "data.info()"
   ]
  },
  {
   "cell_type": "code",
   "execution_count": 57,
   "id": "31e2d587",
   "metadata": {
    "ExecuteTime": {
     "end_time": "2023-04-18T09:31:58.552361Z",
     "start_time": "2023-04-18T09:31:58.544878Z"
    }
   },
   "outputs": [
    {
     "data": {
      "text/plain": [
       "Index(['BCN-01_1', 'BCN-02_1', 'BCN-03_1', 'BCN-04_1', 'BCN-05_1', 'BCN-06_1',\n",
       "       'BCN-07_1', 'BCN-08_1', 'BCN-09_1', 'BCN-10_1',\n",
       "       ...\n",
       "       'PRIMM0576', 'PRIMM0578', 'PRIMM0589', 'PRIMM0590', 'PRIMM0594',\n",
       "       'PRIMM0597', 'PRIMM0601', 'PRIMM0602', 'PRIMM0610', 'PRIMM0611'],\n",
       "      dtype='object', length=165)"
      ]
     },
     "execution_count": 57,
     "metadata": {},
     "output_type": "execute_result"
    }
   ],
   "source": [
    "# Are all the indices (i.e. row names) unique\n",
    "data.index\n"
   ]
  },
  {
   "cell_type": "code",
   "execution_count": 60,
   "id": "52f441dd",
   "metadata": {
    "ExecuteTime": {
     "end_time": "2023-04-18T09:32:31.725364Z",
     "start_time": "2023-04-18T09:32:31.717433Z"
    }
   },
   "outputs": [
    {
     "data": {
      "text/plain": [
       "Index(['BCN-01_1', 'BCN-02_1', 'BCN-03_1', 'BCN-04_1', 'BCN-05_1', 'BCN-06_1',\n",
       "       'BCN-07_1', 'BCN-08_1', 'BCN-09_1', 'BCN-10_1',\n",
       "       ...\n",
       "       'PRIMM0576', 'PRIMM0578', 'PRIMM0589', 'PRIMM0590', 'PRIMM0594',\n",
       "       'PRIMM0597', 'PRIMM0601', 'PRIMM0602', 'PRIMM0610', 'PRIMM0611'],\n",
       "      dtype='object', length=165)"
      ]
     },
     "execution_count": 60,
     "metadata": {},
     "output_type": "execute_result"
    }
   ],
   "source": [
    "data.index.unique()"
   ]
  },
  {
   "cell_type": "code",
   "execution_count": 61,
   "id": "9b41504d",
   "metadata": {
    "ExecuteTime": {
     "end_time": "2023-04-18T09:32:45.554880Z",
     "start_time": "2023-04-18T09:32:45.547993Z"
    }
   },
   "outputs": [
    {
     "data": {
      "text/plain": [
       "True"
      ]
     },
     "execution_count": 61,
     "metadata": {},
     "output_type": "execute_result"
    }
   ],
   "source": [
    "len(data.index.unique()) == len(data.index)"
   ]
  },
  {
   "cell_type": "code",
   "execution_count": 62,
   "id": "d193832f",
   "metadata": {
    "ExecuteTime": {
     "end_time": "2023-04-18T09:33:02.976864Z",
     "start_time": "2023-04-18T09:33:02.968516Z"
    }
   },
   "outputs": [
    {
     "data": {
      "text/plain": [
       "True"
      ]
     },
     "execution_count": 62,
     "metadata": {},
     "output_type": "execute_result"
    }
   ],
   "source": [
    "data.index.nunique() == len(data.index)"
   ]
  },
  {
   "cell_type": "code",
   "execution_count": 26,
   "id": "c668edfb",
   "metadata": {
    "ExecuteTime": {
     "end_time": "2023-04-18T09:17:42.155847Z",
     "start_time": "2023-04-18T09:17:42.150240Z"
    }
   },
   "outputs": [
    {
     "data": {
      "text/plain": [
       "Index(['study_name', 'subject_id', 'body_site', 'antibiotics_current_use',\n",
       "       'study_condition', 'disease', 'age_category', 'gender', 'country',\n",
       "       'non_westernized', 'sequencing_platform', 'DNA_extraction_kit', 'PMID',\n",
       "       'number_reads', 'number_bases', 'minimum_read_length',\n",
       "       'median_read_length', 'NCBI_accession', 'curator', 'BMI', 'location',\n",
       "       'treatment', 'RECIST', 'ORR', 'subcohort', 'previous_therapy',\n",
       "       'performance_status', 'toxicity_above_zero', 'PFS12'],\n",
       "      dtype='object')"
      ]
     },
     "execution_count": 26,
     "metadata": {},
     "output_type": "execute_result"
    }
   ],
   "source": [
    "# Use DataFrame.columns to access or change column names\n",
    "data.columns"
   ]
  },
  {
   "cell_type": "code",
   "execution_count": 28,
   "id": "d51eb6f7",
   "metadata": {
    "ExecuteTime": {
     "end_time": "2023-04-18T09:18:33.084911Z",
     "start_time": "2023-04-18T09:18:33.052053Z"
    }
   },
   "outputs": [
    {
     "data": {
      "text/html": [
       "<div>\n",
       "<style scoped>\n",
       "    .dataframe tbody tr th:only-of-type {\n",
       "        vertical-align: middle;\n",
       "    }\n",
       "\n",
       "    .dataframe tbody tr th {\n",
       "        vertical-align: top;\n",
       "    }\n",
       "\n",
       "    .dataframe thead th {\n",
       "        text-align: right;\n",
       "    }\n",
       "</style>\n",
       "<table border=\"1\" class=\"dataframe\">\n",
       "  <thead>\n",
       "    <tr style=\"text-align: right;\">\n",
       "      <th></th>\n",
       "      <th>PMID</th>\n",
       "      <th>number_reads</th>\n",
       "      <th>number_bases</th>\n",
       "      <th>minimum_read_length</th>\n",
       "      <th>median_read_length</th>\n",
       "      <th>BMI</th>\n",
       "      <th>performance_status</th>\n",
       "    </tr>\n",
       "  </thead>\n",
       "  <tbody>\n",
       "    <tr>\n",
       "      <th>count</th>\n",
       "      <td>165.0</td>\n",
       "      <td>1.650000e+02</td>\n",
       "      <td>1.650000e+02</td>\n",
       "      <td>165.000000</td>\n",
       "      <td>165.000000</td>\n",
       "      <td>155.000000</td>\n",
       "      <td>159.000000</td>\n",
       "    </tr>\n",
       "    <tr>\n",
       "      <th>mean</th>\n",
       "      <td>35228751.0</td>\n",
       "      <td>2.759673e+07</td>\n",
       "      <td>3.983028e+09</td>\n",
       "      <td>36.696970</td>\n",
       "      <td>150.606061</td>\n",
       "      <td>27.996063</td>\n",
       "      <td>0.522013</td>\n",
       "    </tr>\n",
       "    <tr>\n",
       "      <th>std</th>\n",
       "      <td>0.0</td>\n",
       "      <td>2.001648e+07</td>\n",
       "      <td>2.854370e+09</td>\n",
       "      <td>8.086743</td>\n",
       "      <td>4.066066</td>\n",
       "      <td>4.963242</td>\n",
       "      <td>0.692057</td>\n",
       "    </tr>\n",
       "    <tr>\n",
       "      <th>min</th>\n",
       "      <td>35228751.0</td>\n",
       "      <td>4.411604e+06</td>\n",
       "      <td>6.629735e+08</td>\n",
       "      <td>35.000000</td>\n",
       "      <td>99.000000</td>\n",
       "      <td>18.778345</td>\n",
       "      <td>0.000000</td>\n",
       "    </tr>\n",
       "    <tr>\n",
       "      <th>25%</th>\n",
       "      <td>35228751.0</td>\n",
       "      <td>1.280601e+07</td>\n",
       "      <td>1.886386e+09</td>\n",
       "      <td>35.000000</td>\n",
       "      <td>151.000000</td>\n",
       "      <td>24.639066</td>\n",
       "      <td>0.000000</td>\n",
       "    </tr>\n",
       "    <tr>\n",
       "      <th>50%</th>\n",
       "      <td>35228751.0</td>\n",
       "      <td>2.153196e+07</td>\n",
       "      <td>3.162410e+09</td>\n",
       "      <td>35.000000</td>\n",
       "      <td>151.000000</td>\n",
       "      <td>27.764650</td>\n",
       "      <td>0.000000</td>\n",
       "    </tr>\n",
       "    <tr>\n",
       "      <th>75%</th>\n",
       "      <td>35228751.0</td>\n",
       "      <td>3.513384e+07</td>\n",
       "      <td>5.112172e+09</td>\n",
       "      <td>35.000000</td>\n",
       "      <td>151.000000</td>\n",
       "      <td>31.057099</td>\n",
       "      <td>1.000000</td>\n",
       "    </tr>\n",
       "    <tr>\n",
       "      <th>max</th>\n",
       "      <td>35228751.0</td>\n",
       "      <td>1.094122e+08</td>\n",
       "      <td>1.569445e+10</td>\n",
       "      <td>75.000000</td>\n",
       "      <td>151.000000</td>\n",
       "      <td>47.658124</td>\n",
       "      <td>3.000000</td>\n",
       "    </tr>\n",
       "  </tbody>\n",
       "</table>\n",
       "</div>"
      ],
      "text/plain": [
       "             PMID  number_reads  number_bases  minimum_read_length  \\\n",
       "count       165.0  1.650000e+02  1.650000e+02           165.000000   \n",
       "mean   35228751.0  2.759673e+07  3.983028e+09            36.696970   \n",
       "std           0.0  2.001648e+07  2.854370e+09             8.086743   \n",
       "min    35228751.0  4.411604e+06  6.629735e+08            35.000000   \n",
       "25%    35228751.0  1.280601e+07  1.886386e+09            35.000000   \n",
       "50%    35228751.0  2.153196e+07  3.162410e+09            35.000000   \n",
       "75%    35228751.0  3.513384e+07  5.112172e+09            35.000000   \n",
       "max    35228751.0  1.094122e+08  1.569445e+10            75.000000   \n",
       "\n",
       "       median_read_length         BMI  performance_status  \n",
       "count          165.000000  155.000000          159.000000  \n",
       "mean           150.606061   27.996063            0.522013  \n",
       "std              4.066066    4.963242            0.692057  \n",
       "min             99.000000   18.778345            0.000000  \n",
       "25%            151.000000   24.639066            0.000000  \n",
       "50%            151.000000   27.764650            0.000000  \n",
       "75%            151.000000   31.057099            1.000000  \n",
       "max            151.000000   47.658124            3.000000  "
      ]
     },
     "execution_count": 28,
     "metadata": {},
     "output_type": "execute_result"
    }
   ],
   "source": [
    "# Get summary statistics \n",
    "# Only for numerical columns\n",
    "data.describe()"
   ]
  },
  {
   "cell_type": "code",
   "execution_count": 36,
   "id": "16d9c9f0",
   "metadata": {
    "ExecuteTime": {
     "end_time": "2023-04-18T09:24:57.716723Z",
     "start_time": "2023-04-18T09:24:57.709821Z"
    }
   },
   "outputs": [
    {
     "data": {
      "text/plain": [
       "array(['male', 'female'], dtype=object)"
      ]
     },
     "execution_count": 36,
     "metadata": {},
     "output_type": "execute_result"
    }
   ],
   "source": [
    "data['gender'].unique()"
   ]
  },
  {
   "cell_type": "code",
   "execution_count": 37,
   "id": "199963df",
   "metadata": {
    "ExecuteTime": {
     "end_time": "2023-04-18T09:25:03.569877Z",
     "start_time": "2023-04-18T09:25:03.562226Z"
    }
   },
   "outputs": [
    {
     "data": {
      "text/plain": [
       "male      100\n",
       "female     65\n",
       "Name: gender, dtype: int64"
      ]
     },
     "execution_count": 37,
     "metadata": {},
     "output_type": "execute_result"
    }
   ],
   "source": [
    "data['gender'].value_counts()"
   ]
  },
  {
   "cell_type": "code",
   "execution_count": 38,
   "id": "54a1a660",
   "metadata": {
    "ExecuteTime": {
     "end_time": "2023-04-18T09:25:08.631383Z",
     "start_time": "2023-04-18T09:25:08.621762Z"
    }
   },
   "outputs": [
    {
     "data": {
      "text/plain": [
       "male      0.606061\n",
       "female    0.393939\n",
       "Name: gender, dtype: float64"
      ]
     },
     "execution_count": 38,
     "metadata": {},
     "output_type": "execute_result"
    }
   ],
   "source": [
    "data['gender'].value_counts(normalize=True)"
   ]
  },
  {
   "cell_type": "code",
   "execution_count": 40,
   "id": "fa035cf0",
   "metadata": {
    "ExecuteTime": {
     "end_time": "2023-04-18T09:26:18.084851Z",
     "start_time": "2023-04-18T09:26:18.080513Z"
    }
   },
   "outputs": [],
   "source": [
    "# Calculate what % of subjects belonged to each of the subcohorts (Hint, there is a column 'subcohort')"
   ]
  },
  {
   "cell_type": "markdown",
   "id": "965a2083",
   "metadata": {},
   "source": [
    "### Indexing, slicing, and subsetting \n",
    "- We use square brackets [] to select a subset of a Python object. For example, we can select all data from a column named `country` from the surveys_df DataFrame by name. There are two ways to do this:"
   ]
  },
  {
   "cell_type": "code",
   "execution_count": 98,
   "id": "403f1c46",
   "metadata": {
    "ExecuteTime": {
     "end_time": "2023-04-18T09:50:53.232328Z",
     "start_time": "2023-04-18T09:50:53.223797Z"
    }
   },
   "outputs": [
    {
     "data": {
      "text/plain": [
       "BCN-01_1     ESP\n",
       "BCN-02_1     ESP\n",
       "BCN-03_1     ESP\n",
       "BCN-04_1     ESP\n",
       "BCN-05_1     ESP\n",
       "            ... \n",
       "PRIMM0597    GBR\n",
       "PRIMM0601    GBR\n",
       "PRIMM0602    GBR\n",
       "PRIMM0610    GBR\n",
       "PRIMM0611    GBR\n",
       "Name: country, Length: 165, dtype: object"
      ]
     },
     "execution_count": 98,
     "metadata": {},
     "output_type": "execute_result"
    }
   ],
   "source": [
    "data['country']"
   ]
  },
  {
   "cell_type": "code",
   "execution_count": 99,
   "id": "b0f1f21b",
   "metadata": {
    "ExecuteTime": {
     "end_time": "2023-04-18T09:51:01.713842Z",
     "start_time": "2023-04-18T09:51:01.706563Z"
    }
   },
   "outputs": [
    {
     "data": {
      "text/plain": [
       "BCN-01_1     ESP\n",
       "BCN-02_1     ESP\n",
       "BCN-03_1     ESP\n",
       "BCN-04_1     ESP\n",
       "BCN-05_1     ESP\n",
       "            ... \n",
       "PRIMM0597    GBR\n",
       "PRIMM0601    GBR\n",
       "PRIMM0602    GBR\n",
       "PRIMM0610    GBR\n",
       "PRIMM0611    GBR\n",
       "Name: country, Length: 165, dtype: object"
      ]
     },
     "execution_count": 99,
     "metadata": {},
     "output_type": "execute_result"
    }
   ],
   "source": [
    "data.country"
   ]
  },
  {
   "cell_type": "code",
   "execution_count": 107,
   "id": "2c50b0ce",
   "metadata": {
    "ExecuteTime": {
     "end_time": "2023-04-18T09:55:08.879080Z",
     "start_time": "2023-04-18T09:55:08.872033Z"
    }
   },
   "outputs": [],
   "source": [
    "# You can select more than one column\n",
    "columns_to_show = ['subject_id',  'country', 'gender', 'age_category',  'BMI', 'PFS12']\n",
    "data = data[columns_to_show]"
   ]
  },
  {
   "cell_type": "markdown",
   "id": "80a7fae4",
   "metadata": {},
   "source": [
    "- Slicing using the [ ] operator selects a set of rows and/or columns from a DataFrame. To slice out a set of rows, you use the following syntax: `data[start:stop]`. When slicing in pandas the start bound is included in the output. The stop bound is one step BEYOND the row you want to select. So if you want to select rows 0, 1 and 2 your code would look like this:"
   ]
  },
  {
   "cell_type": "code",
   "execution_count": 109,
   "id": "e87db13a",
   "metadata": {
    "ExecuteTime": {
     "end_time": "2023-04-18T09:56:03.804432Z",
     "start_time": "2023-04-18T09:56:03.790800Z"
    }
   },
   "outputs": [
    {
     "data": {
      "text/html": [
       "<div>\n",
       "<style scoped>\n",
       "    .dataframe tbody tr th:only-of-type {\n",
       "        vertical-align: middle;\n",
       "    }\n",
       "\n",
       "    .dataframe tbody tr th {\n",
       "        vertical-align: top;\n",
       "    }\n",
       "\n",
       "    .dataframe thead th {\n",
       "        text-align: right;\n",
       "    }\n",
       "</style>\n",
       "<table border=\"1\" class=\"dataframe\">\n",
       "  <thead>\n",
       "    <tr style=\"text-align: right;\">\n",
       "      <th></th>\n",
       "      <th>subject_id</th>\n",
       "      <th>country</th>\n",
       "      <th>gender</th>\n",
       "      <th>age_category</th>\n",
       "      <th>BMI</th>\n",
       "      <th>PFS12</th>\n",
       "    </tr>\n",
       "  </thead>\n",
       "  <tbody>\n",
       "    <tr>\n",
       "      <th>BCN-01_1</th>\n",
       "      <td>BCN-01_1</td>\n",
       "      <td>ESP</td>\n",
       "      <td>male</td>\n",
       "      <td>adult</td>\n",
       "      <td>28.713211</td>\n",
       "      <td>yes</td>\n",
       "    </tr>\n",
       "    <tr>\n",
       "      <th>BCN-02_1</th>\n",
       "      <td>BCN-02_1</td>\n",
       "      <td>ESP</td>\n",
       "      <td>female</td>\n",
       "      <td>adult</td>\n",
       "      <td>27.354571</td>\n",
       "      <td>no</td>\n",
       "    </tr>\n",
       "    <tr>\n",
       "      <th>BCN-03_1</th>\n",
       "      <td>BCN-03_1</td>\n",
       "      <td>ESP</td>\n",
       "      <td>female</td>\n",
       "      <td>senior</td>\n",
       "      <td>22.060354</td>\n",
       "      <td>yes</td>\n",
       "    </tr>\n",
       "  </tbody>\n",
       "</table>\n",
       "</div>"
      ],
      "text/plain": [
       "         subject_id country  gender age_category        BMI PFS12\n",
       "BCN-01_1   BCN-01_1     ESP    male        adult  28.713211   yes\n",
       "BCN-02_1   BCN-02_1     ESP  female        adult  27.354571    no\n",
       "BCN-03_1   BCN-03_1     ESP  female       senior  22.060354   yes"
      ]
     },
     "execution_count": 109,
     "metadata": {},
     "output_type": "execute_result"
    }
   ],
   "source": [
    "data[0:3]"
   ]
  },
  {
   "cell_type": "code",
   "execution_count": 114,
   "id": "31afe94f",
   "metadata": {
    "ExecuteTime": {
     "end_time": "2023-04-18T09:56:45.719407Z",
     "start_time": "2023-04-18T09:56:45.708217Z"
    }
   },
   "outputs": [
    {
     "data": {
      "text/html": [
       "<div>\n",
       "<style scoped>\n",
       "    .dataframe tbody tr th:only-of-type {\n",
       "        vertical-align: middle;\n",
       "    }\n",
       "\n",
       "    .dataframe tbody tr th {\n",
       "        vertical-align: top;\n",
       "    }\n",
       "\n",
       "    .dataframe thead th {\n",
       "        text-align: right;\n",
       "    }\n",
       "</style>\n",
       "<table border=\"1\" class=\"dataframe\">\n",
       "  <thead>\n",
       "    <tr style=\"text-align: right;\">\n",
       "      <th></th>\n",
       "      <th>subject_id</th>\n",
       "      <th>country</th>\n",
       "      <th>gender</th>\n",
       "      <th>age_category</th>\n",
       "      <th>BMI</th>\n",
       "      <th>PFS12</th>\n",
       "    </tr>\n",
       "  </thead>\n",
       "  <tbody>\n",
       "    <tr>\n",
       "      <th>PRIMM0611</th>\n",
       "      <td>PRIMM0611</td>\n",
       "      <td>GBR</td>\n",
       "      <td>female</td>\n",
       "      <td>adult</td>\n",
       "      <td>27.161407</td>\n",
       "      <td>no</td>\n",
       "    </tr>\n",
       "  </tbody>\n",
       "</table>\n",
       "</div>"
      ],
      "text/plain": [
       "          subject_id country  gender age_category        BMI PFS12\n",
       "PRIMM0611  PRIMM0611     GBR  female        adult  27.161407    no"
      ]
     },
     "execution_count": 114,
     "metadata": {},
     "output_type": "execute_result"
    }
   ],
   "source": [
    "data[-1:]"
   ]
  },
  {
   "cell_type": "markdown",
   "id": "bbb88422",
   "metadata": {},
   "source": [
    "- We can select specific ranges of our data in both the row and column directions using either label or integer-based indexing.\n",
    "\n",
    "- `loc` is primarily label based indexing. Integers may be used but they are interpreted as a label.\n",
    "- `iloc` is primarily integer based indexing\n",
    "- To select a subset of rows and columns from our DataFrame, we can use the iloc method. \n",
    "- For example, we can select month, day and year (columns 2, 3 and 4 if we start counting at 1), like this:"
   ]
  },
  {
   "cell_type": "code",
   "execution_count": 116,
   "id": "9517b94f",
   "metadata": {
    "ExecuteTime": {
     "end_time": "2023-04-18T09:58:43.719219Z",
     "start_time": "2023-04-18T09:58:43.709229Z"
    }
   },
   "outputs": [
    {
     "data": {
      "text/html": [
       "<div>\n",
       "<style scoped>\n",
       "    .dataframe tbody tr th:only-of-type {\n",
       "        vertical-align: middle;\n",
       "    }\n",
       "\n",
       "    .dataframe tbody tr th {\n",
       "        vertical-align: top;\n",
       "    }\n",
       "\n",
       "    .dataframe thead th {\n",
       "        text-align: right;\n",
       "    }\n",
       "</style>\n",
       "<table border=\"1\" class=\"dataframe\">\n",
       "  <thead>\n",
       "    <tr style=\"text-align: right;\">\n",
       "      <th></th>\n",
       "      <th>subject_id</th>\n",
       "      <th>country</th>\n",
       "    </tr>\n",
       "  </thead>\n",
       "  <tbody>\n",
       "    <tr>\n",
       "      <th>BCN-01_1</th>\n",
       "      <td>BCN-01_1</td>\n",
       "      <td>ESP</td>\n",
       "    </tr>\n",
       "    <tr>\n",
       "      <th>BCN-02_1</th>\n",
       "      <td>BCN-02_1</td>\n",
       "      <td>ESP</td>\n",
       "    </tr>\n",
       "  </tbody>\n",
       "</table>\n",
       "</div>"
      ],
      "text/plain": [
       "         subject_id country\n",
       "BCN-01_1   BCN-01_1     ESP\n",
       "BCN-02_1   BCN-02_1     ESP"
      ]
     },
     "execution_count": 116,
     "metadata": {},
     "output_type": "execute_result"
    }
   ],
   "source": [
    "data.iloc[0:2, 0:2]"
   ]
  },
  {
   "cell_type": "code",
   "execution_count": 118,
   "id": "abf9455f",
   "metadata": {
    "ExecuteTime": {
     "end_time": "2023-04-18T09:59:34.684786Z",
     "start_time": "2023-04-18T09:59:34.673018Z"
    }
   },
   "outputs": [
    {
     "data": {
      "text/html": [
       "<div>\n",
       "<style scoped>\n",
       "    .dataframe tbody tr th:only-of-type {\n",
       "        vertical-align: middle;\n",
       "    }\n",
       "\n",
       "    .dataframe tbody tr th {\n",
       "        vertical-align: top;\n",
       "    }\n",
       "\n",
       "    .dataframe thead th {\n",
       "        text-align: right;\n",
       "    }\n",
       "</style>\n",
       "<table border=\"1\" class=\"dataframe\">\n",
       "  <thead>\n",
       "    <tr style=\"text-align: right;\">\n",
       "      <th></th>\n",
       "      <th>subject_id</th>\n",
       "      <th>country</th>\n",
       "    </tr>\n",
       "  </thead>\n",
       "  <tbody>\n",
       "    <tr>\n",
       "      <th>BCN-01_1</th>\n",
       "      <td>BCN-01_1</td>\n",
       "      <td>ESP</td>\n",
       "    </tr>\n",
       "    <tr>\n",
       "      <th>BCN-02_1</th>\n",
       "      <td>BCN-02_1</td>\n",
       "      <td>ESP</td>\n",
       "    </tr>\n",
       "  </tbody>\n",
       "</table>\n",
       "</div>"
      ],
      "text/plain": [
       "         subject_id country\n",
       "BCN-01_1   BCN-01_1     ESP\n",
       "BCN-02_1   BCN-02_1     ESP"
      ]
     },
     "execution_count": 118,
     "metadata": {},
     "output_type": "execute_result"
    }
   ],
   "source": [
    "data.loc[['BCN-01_1', 'BCN-02_1'], ['subject_id', 'country']]"
   ]
  },
  {
   "cell_type": "code",
   "execution_count": 115,
   "id": "f097c342",
   "metadata": {
    "ExecuteTime": {
     "end_time": "2023-04-18T09:58:26.989852Z",
     "start_time": "2023-04-18T09:58:26.978095Z"
    }
   },
   "outputs": [
    {
     "data": {
      "text/html": [
       "<div>\n",
       "<style scoped>\n",
       "    .dataframe tbody tr th:only-of-type {\n",
       "        vertical-align: middle;\n",
       "    }\n",
       "\n",
       "    .dataframe tbody tr th {\n",
       "        vertical-align: top;\n",
       "    }\n",
       "\n",
       "    .dataframe thead th {\n",
       "        text-align: right;\n",
       "    }\n",
       "</style>\n",
       "<table border=\"1\" class=\"dataframe\">\n",
       "  <thead>\n",
       "    <tr style=\"text-align: right;\">\n",
       "      <th></th>\n",
       "      <th>subject_id</th>\n",
       "      <th>country</th>\n",
       "      <th>gender</th>\n",
       "      <th>age_category</th>\n",
       "      <th>BMI</th>\n",
       "      <th>PFS12</th>\n",
       "    </tr>\n",
       "  </thead>\n",
       "  <tbody>\n",
       "    <tr>\n",
       "      <th>BCN-01_1</th>\n",
       "      <td>BCN-01_1</td>\n",
       "      <td>ESP</td>\n",
       "      <td>male</td>\n",
       "      <td>adult</td>\n",
       "      <td>28.713211</td>\n",
       "      <td>yes</td>\n",
       "    </tr>\n",
       "    <tr>\n",
       "      <th>BCN-02_1</th>\n",
       "      <td>BCN-02_1</td>\n",
       "      <td>ESP</td>\n",
       "      <td>female</td>\n",
       "      <td>adult</td>\n",
       "      <td>27.354571</td>\n",
       "      <td>no</td>\n",
       "    </tr>\n",
       "    <tr>\n",
       "      <th>BCN-03_1</th>\n",
       "      <td>BCN-03_1</td>\n",
       "      <td>ESP</td>\n",
       "      <td>female</td>\n",
       "      <td>senior</td>\n",
       "      <td>22.060354</td>\n",
       "      <td>yes</td>\n",
       "    </tr>\n",
       "    <tr>\n",
       "      <th>BCN-04_1</th>\n",
       "      <td>BCN-04_1</td>\n",
       "      <td>ESP</td>\n",
       "      <td>male</td>\n",
       "      <td>adult</td>\n",
       "      <td>30.350330</td>\n",
       "      <td>no</td>\n",
       "    </tr>\n",
       "    <tr>\n",
       "      <th>BCN-05_1</th>\n",
       "      <td>BCN-05_1</td>\n",
       "      <td>ESP</td>\n",
       "      <td>male</td>\n",
       "      <td>senior</td>\n",
       "      <td>36.079477</td>\n",
       "      <td>yes</td>\n",
       "    </tr>\n",
       "  </tbody>\n",
       "</table>\n",
       "</div>"
      ],
      "text/plain": [
       "         subject_id country  gender age_category        BMI PFS12\n",
       "BCN-01_1   BCN-01_1     ESP    male        adult  28.713211   yes\n",
       "BCN-02_1   BCN-02_1     ESP  female        adult  27.354571    no\n",
       "BCN-03_1   BCN-03_1     ESP  female       senior  22.060354   yes\n",
       "BCN-04_1   BCN-04_1     ESP    male        adult  30.350330    no\n",
       "BCN-05_1   BCN-05_1     ESP    male       senior  36.079477   yes"
      ]
     },
     "execution_count": 115,
     "metadata": {},
     "output_type": "execute_result"
    }
   ],
   "source": [
    "data.head()"
   ]
  },
  {
   "cell_type": "markdown",
   "id": "5887fc41",
   "metadata": {},
   "source": [
    "### Subsetting Data using Criteria\n",
    "\n",
    "We can use the syntax below when querying data by criteria from a DataFrame. Experiment with selecting various subsets of the “surveys” data.\n",
    "\n",
    "Equals: `==` \n",
    "\n",
    "Not equals: `!=`\n",
    "\n",
    "Greater than, less than: `>` or `<`\n",
    "\n",
    "Greater than or equal to `>=`\n",
    "\n",
    "Less than or equal to `<=`\n"
   ]
  },
  {
   "cell_type": "code",
   "execution_count": 121,
   "id": "64753a61",
   "metadata": {
    "ExecuteTime": {
     "end_time": "2023-04-18T10:07:44.577751Z",
     "start_time": "2023-04-18T10:07:44.562036Z"
    }
   },
   "outputs": [
    {
     "data": {
      "text/html": [
       "<div>\n",
       "<style scoped>\n",
       "    .dataframe tbody tr th:only-of-type {\n",
       "        vertical-align: middle;\n",
       "    }\n",
       "\n",
       "    .dataframe tbody tr th {\n",
       "        vertical-align: top;\n",
       "    }\n",
       "\n",
       "    .dataframe thead th {\n",
       "        text-align: right;\n",
       "    }\n",
       "</style>\n",
       "<table border=\"1\" class=\"dataframe\">\n",
       "  <thead>\n",
       "    <tr style=\"text-align: right;\">\n",
       "      <th></th>\n",
       "      <th>subject_id</th>\n",
       "      <th>country</th>\n",
       "      <th>gender</th>\n",
       "      <th>age_category</th>\n",
       "      <th>BMI</th>\n",
       "      <th>PFS12</th>\n",
       "    </tr>\n",
       "  </thead>\n",
       "  <tbody>\n",
       "    <tr>\n",
       "      <th>BCN-01_1</th>\n",
       "      <td>BCN-01_1</td>\n",
       "      <td>ESP</td>\n",
       "      <td>male</td>\n",
       "      <td>adult</td>\n",
       "      <td>28.713211</td>\n",
       "      <td>yes</td>\n",
       "    </tr>\n",
       "    <tr>\n",
       "      <th>BCN-02_1</th>\n",
       "      <td>BCN-02_1</td>\n",
       "      <td>ESP</td>\n",
       "      <td>female</td>\n",
       "      <td>adult</td>\n",
       "      <td>27.354571</td>\n",
       "      <td>no</td>\n",
       "    </tr>\n",
       "    <tr>\n",
       "      <th>BCN-03_1</th>\n",
       "      <td>BCN-03_1</td>\n",
       "      <td>ESP</td>\n",
       "      <td>female</td>\n",
       "      <td>senior</td>\n",
       "      <td>22.060354</td>\n",
       "      <td>yes</td>\n",
       "    </tr>\n",
       "    <tr>\n",
       "      <th>BCN-04_1</th>\n",
       "      <td>BCN-04_1</td>\n",
       "      <td>ESP</td>\n",
       "      <td>male</td>\n",
       "      <td>adult</td>\n",
       "      <td>30.350330</td>\n",
       "      <td>no</td>\n",
       "    </tr>\n",
       "    <tr>\n",
       "      <th>BCN-05_1</th>\n",
       "      <td>BCN-05_1</td>\n",
       "      <td>ESP</td>\n",
       "      <td>male</td>\n",
       "      <td>senior</td>\n",
       "      <td>36.079477</td>\n",
       "      <td>yes</td>\n",
       "    </tr>\n",
       "    <tr>\n",
       "      <th>BCN-06_1</th>\n",
       "      <td>BCN-06_1</td>\n",
       "      <td>ESP</td>\n",
       "      <td>male</td>\n",
       "      <td>adult</td>\n",
       "      <td>31.377989</td>\n",
       "      <td>yes</td>\n",
       "    </tr>\n",
       "    <tr>\n",
       "      <th>BCN-07_1</th>\n",
       "      <td>BCN-07_1</td>\n",
       "      <td>ESP</td>\n",
       "      <td>male</td>\n",
       "      <td>senior</td>\n",
       "      <td>26.171875</td>\n",
       "      <td>no</td>\n",
       "    </tr>\n",
       "    <tr>\n",
       "      <th>BCN-08_1</th>\n",
       "      <td>BCN-08_1</td>\n",
       "      <td>ESP</td>\n",
       "      <td>male</td>\n",
       "      <td>senior</td>\n",
       "      <td>NaN</td>\n",
       "      <td>no</td>\n",
       "    </tr>\n",
       "    <tr>\n",
       "      <th>BCN-09_1</th>\n",
       "      <td>BCN-09_1</td>\n",
       "      <td>ESP</td>\n",
       "      <td>female</td>\n",
       "      <td>adult</td>\n",
       "      <td>22.851562</td>\n",
       "      <td>no</td>\n",
       "    </tr>\n",
       "    <tr>\n",
       "      <th>BCN-10_1</th>\n",
       "      <td>BCN-10_1</td>\n",
       "      <td>ESP</td>\n",
       "      <td>female</td>\n",
       "      <td>adult</td>\n",
       "      <td>20.956608</td>\n",
       "      <td>no</td>\n",
       "    </tr>\n",
       "    <tr>\n",
       "      <th>BCN-11_1</th>\n",
       "      <td>BCN-11_1</td>\n",
       "      <td>ESP</td>\n",
       "      <td>female</td>\n",
       "      <td>senior</td>\n",
       "      <td>28.460364</td>\n",
       "      <td>no</td>\n",
       "    </tr>\n",
       "    <tr>\n",
       "      <th>BCN-12_1</th>\n",
       "      <td>BCN-12_1</td>\n",
       "      <td>ESP</td>\n",
       "      <td>female</td>\n",
       "      <td>senior</td>\n",
       "      <td>24.161712</td>\n",
       "      <td>NaN</td>\n",
       "    </tr>\n",
       "  </tbody>\n",
       "</table>\n",
       "</div>"
      ],
      "text/plain": [
       "         subject_id country  gender age_category        BMI PFS12\n",
       "BCN-01_1   BCN-01_1     ESP    male        adult  28.713211   yes\n",
       "BCN-02_1   BCN-02_1     ESP  female        adult  27.354571    no\n",
       "BCN-03_1   BCN-03_1     ESP  female       senior  22.060354   yes\n",
       "BCN-04_1   BCN-04_1     ESP    male        adult  30.350330    no\n",
       "BCN-05_1   BCN-05_1     ESP    male       senior  36.079477   yes\n",
       "BCN-06_1   BCN-06_1     ESP    male        adult  31.377989   yes\n",
       "BCN-07_1   BCN-07_1     ESP    male       senior  26.171875    no\n",
       "BCN-08_1   BCN-08_1     ESP    male       senior        NaN    no\n",
       "BCN-09_1   BCN-09_1     ESP  female        adult  22.851562    no\n",
       "BCN-10_1   BCN-10_1     ESP  female        adult  20.956608    no\n",
       "BCN-11_1   BCN-11_1     ESP  female       senior  28.460364    no\n",
       "BCN-12_1   BCN-12_1     ESP  female       senior  24.161712   NaN"
      ]
     },
     "execution_count": 121,
     "metadata": {},
     "output_type": "execute_result"
    }
   ],
   "source": [
    "# Look at all the entries from Spain\n",
    "data[data.country == 'ESP']"
   ]
  },
  {
   "cell_type": "code",
   "execution_count": 124,
   "id": "2c7eee50",
   "metadata": {
    "ExecuteTime": {
     "end_time": "2023-04-18T10:24:21.775893Z",
     "start_time": "2023-04-18T10:24:21.759066Z"
    }
   },
   "outputs": [
    {
     "data": {
      "text/html": [
       "<div>\n",
       "<style scoped>\n",
       "    .dataframe tbody tr th:only-of-type {\n",
       "        vertical-align: middle;\n",
       "    }\n",
       "\n",
       "    .dataframe tbody tr th {\n",
       "        vertical-align: top;\n",
       "    }\n",
       "\n",
       "    .dataframe thead th {\n",
       "        text-align: right;\n",
       "    }\n",
       "</style>\n",
       "<table border=\"1\" class=\"dataframe\">\n",
       "  <thead>\n",
       "    <tr style=\"text-align: right;\">\n",
       "      <th></th>\n",
       "      <th>subject_id</th>\n",
       "      <th>country</th>\n",
       "      <th>gender</th>\n",
       "      <th>age_category</th>\n",
       "      <th>BMI</th>\n",
       "      <th>PFS12</th>\n",
       "    </tr>\n",
       "  </thead>\n",
       "  <tbody>\n",
       "    <tr>\n",
       "      <th>PRIMM0001</th>\n",
       "      <td>PRIMM0001</td>\n",
       "      <td>GBR</td>\n",
       "      <td>female</td>\n",
       "      <td>adult</td>\n",
       "      <td>25.924200</td>\n",
       "      <td>no</td>\n",
       "    </tr>\n",
       "    <tr>\n",
       "      <th>PRIMM0002</th>\n",
       "      <td>PRIMM0002</td>\n",
       "      <td>GBR</td>\n",
       "      <td>male</td>\n",
       "      <td>senior</td>\n",
       "      <td>27.777778</td>\n",
       "      <td>no</td>\n",
       "    </tr>\n",
       "    <tr>\n",
       "      <th>PRIMM0003</th>\n",
       "      <td>PRIMM0003</td>\n",
       "      <td>GBR</td>\n",
       "      <td>male</td>\n",
       "      <td>senior</td>\n",
       "      <td>29.521118</td>\n",
       "      <td>yes</td>\n",
       "    </tr>\n",
       "    <tr>\n",
       "      <th>PRIMM0004</th>\n",
       "      <td>PRIMM0004</td>\n",
       "      <td>GBR</td>\n",
       "      <td>male</td>\n",
       "      <td>adult</td>\n",
       "      <td>31.834953</td>\n",
       "      <td>no</td>\n",
       "    </tr>\n",
       "    <tr>\n",
       "      <th>PRIMM0005</th>\n",
       "      <td>PRIMM0005</td>\n",
       "      <td>GBR</td>\n",
       "      <td>female</td>\n",
       "      <td>adult</td>\n",
       "      <td>20.724325</td>\n",
       "      <td>yes</td>\n",
       "    </tr>\n",
       "    <tr>\n",
       "      <th>...</th>\n",
       "      <td>...</td>\n",
       "      <td>...</td>\n",
       "      <td>...</td>\n",
       "      <td>...</td>\n",
       "      <td>...</td>\n",
       "      <td>...</td>\n",
       "    </tr>\n",
       "    <tr>\n",
       "      <th>PRIMM0597</th>\n",
       "      <td>PRIMM0597</td>\n",
       "      <td>GBR</td>\n",
       "      <td>male</td>\n",
       "      <td>senior</td>\n",
       "      <td>27.764650</td>\n",
       "      <td>no</td>\n",
       "    </tr>\n",
       "    <tr>\n",
       "      <th>PRIMM0601</th>\n",
       "      <td>PRIMM0601</td>\n",
       "      <td>GBR</td>\n",
       "      <td>male</td>\n",
       "      <td>senior</td>\n",
       "      <td>29.115422</td>\n",
       "      <td>no</td>\n",
       "    </tr>\n",
       "    <tr>\n",
       "      <th>PRIMM0602</th>\n",
       "      <td>PRIMM0602</td>\n",
       "      <td>GBR</td>\n",
       "      <td>male</td>\n",
       "      <td>adult</td>\n",
       "      <td>24.891179</td>\n",
       "      <td>no</td>\n",
       "    </tr>\n",
       "    <tr>\n",
       "      <th>PRIMM0610</th>\n",
       "      <td>PRIMM0610</td>\n",
       "      <td>GBR</td>\n",
       "      <td>male</td>\n",
       "      <td>adult</td>\n",
       "      <td>34.686277</td>\n",
       "      <td>yes</td>\n",
       "    </tr>\n",
       "    <tr>\n",
       "      <th>PRIMM0611</th>\n",
       "      <td>PRIMM0611</td>\n",
       "      <td>GBR</td>\n",
       "      <td>female</td>\n",
       "      <td>adult</td>\n",
       "      <td>27.161407</td>\n",
       "      <td>no</td>\n",
       "    </tr>\n",
       "  </tbody>\n",
       "</table>\n",
       "<p>153 rows × 6 columns</p>\n",
       "</div>"
      ],
      "text/plain": [
       "          subject_id country  gender age_category        BMI PFS12\n",
       "PRIMM0001  PRIMM0001     GBR  female        adult  25.924200    no\n",
       "PRIMM0002  PRIMM0002     GBR    male       senior  27.777778    no\n",
       "PRIMM0003  PRIMM0003     GBR    male       senior  29.521118   yes\n",
       "PRIMM0004  PRIMM0004     GBR    male        adult  31.834953    no\n",
       "PRIMM0005  PRIMM0005     GBR  female        adult  20.724325   yes\n",
       "...              ...     ...     ...          ...        ...   ...\n",
       "PRIMM0597  PRIMM0597     GBR    male       senior  27.764650    no\n",
       "PRIMM0601  PRIMM0601     GBR    male       senior  29.115422    no\n",
       "PRIMM0602  PRIMM0602     GBR    male        adult  24.891179    no\n",
       "PRIMM0610  PRIMM0610     GBR    male        adult  34.686277   yes\n",
       "PRIMM0611  PRIMM0611     GBR  female        adult  27.161407    no\n",
       "\n",
       "[153 rows x 6 columns]"
      ]
     },
     "execution_count": 124,
     "metadata": {},
     "output_type": "execute_result"
    }
   ],
   "source": [
    "# Look at all the entries not from Spain\n",
    "data[data.country != 'ESP']"
   ]
  },
  {
   "cell_type": "code",
   "execution_count": 125,
   "id": "f0883d76",
   "metadata": {
    "ExecuteTime": {
     "end_time": "2023-04-18T10:27:10.445874Z",
     "start_time": "2023-04-18T10:27:10.434084Z"
    }
   },
   "outputs": [
    {
     "data": {
      "text/html": [
       "<div>\n",
       "<style scoped>\n",
       "    .dataframe tbody tr th:only-of-type {\n",
       "        vertical-align: middle;\n",
       "    }\n",
       "\n",
       "    .dataframe tbody tr th {\n",
       "        vertical-align: top;\n",
       "    }\n",
       "\n",
       "    .dataframe thead th {\n",
       "        text-align: right;\n",
       "    }\n",
       "</style>\n",
       "<table border=\"1\" class=\"dataframe\">\n",
       "  <thead>\n",
       "    <tr style=\"text-align: right;\">\n",
       "      <th></th>\n",
       "      <th>subject_id</th>\n",
       "      <th>country</th>\n",
       "      <th>gender</th>\n",
       "      <th>age_category</th>\n",
       "      <th>BMI</th>\n",
       "      <th>PFS12</th>\n",
       "    </tr>\n",
       "  </thead>\n",
       "  <tbody>\n",
       "    <tr>\n",
       "      <th>BCN-02_1</th>\n",
       "      <td>BCN-02_1</td>\n",
       "      <td>ESP</td>\n",
       "      <td>female</td>\n",
       "      <td>adult</td>\n",
       "      <td>27.354571</td>\n",
       "      <td>no</td>\n",
       "    </tr>\n",
       "    <tr>\n",
       "      <th>BCN-03_1</th>\n",
       "      <td>BCN-03_1</td>\n",
       "      <td>ESP</td>\n",
       "      <td>female</td>\n",
       "      <td>senior</td>\n",
       "      <td>22.060354</td>\n",
       "      <td>yes</td>\n",
       "    </tr>\n",
       "    <tr>\n",
       "      <th>BCN-09_1</th>\n",
       "      <td>BCN-09_1</td>\n",
       "      <td>ESP</td>\n",
       "      <td>female</td>\n",
       "      <td>adult</td>\n",
       "      <td>22.851562</td>\n",
       "      <td>no</td>\n",
       "    </tr>\n",
       "    <tr>\n",
       "      <th>BCN-10_1</th>\n",
       "      <td>BCN-10_1</td>\n",
       "      <td>ESP</td>\n",
       "      <td>female</td>\n",
       "      <td>adult</td>\n",
       "      <td>20.956608</td>\n",
       "      <td>no</td>\n",
       "    </tr>\n",
       "    <tr>\n",
       "      <th>BCN-11_1</th>\n",
       "      <td>BCN-11_1</td>\n",
       "      <td>ESP</td>\n",
       "      <td>female</td>\n",
       "      <td>senior</td>\n",
       "      <td>28.460364</td>\n",
       "      <td>no</td>\n",
       "    </tr>\n",
       "    <tr>\n",
       "      <th>BCN-12_1</th>\n",
       "      <td>BCN-12_1</td>\n",
       "      <td>ESP</td>\n",
       "      <td>female</td>\n",
       "      <td>senior</td>\n",
       "      <td>24.161712</td>\n",
       "      <td>NaN</td>\n",
       "    </tr>\n",
       "  </tbody>\n",
       "</table>\n",
       "</div>"
      ],
      "text/plain": [
       "         subject_id country  gender age_category        BMI PFS12\n",
       "BCN-02_1   BCN-02_1     ESP  female        adult  27.354571    no\n",
       "BCN-03_1   BCN-03_1     ESP  female       senior  22.060354   yes\n",
       "BCN-09_1   BCN-09_1     ESP  female        adult  22.851562    no\n",
       "BCN-10_1   BCN-10_1     ESP  female        adult  20.956608    no\n",
       "BCN-11_1   BCN-11_1     ESP  female       senior  28.460364    no\n",
       "BCN-12_1   BCN-12_1     ESP  female       senior  24.161712   NaN"
      ]
     },
     "execution_count": 125,
     "metadata": {},
     "output_type": "execute_result"
    }
   ],
   "source": [
    "# Look at all the entries not from Spain\n",
    "data[(data.country == 'ESP') & (data.gender == 'female')]"
   ]
  },
  {
   "cell_type": "code",
   "execution_count": 133,
   "id": "014ae6e9",
   "metadata": {
    "ExecuteTime": {
     "end_time": "2023-04-18T10:29:04.682324Z",
     "start_time": "2023-04-18T10:29:04.669116Z"
    }
   },
   "outputs": [
    {
     "data": {
      "text/html": [
       "<div>\n",
       "<style scoped>\n",
       "    .dataframe tbody tr th:only-of-type {\n",
       "        vertical-align: middle;\n",
       "    }\n",
       "\n",
       "    .dataframe tbody tr th {\n",
       "        vertical-align: top;\n",
       "    }\n",
       "\n",
       "    .dataframe thead th {\n",
       "        text-align: right;\n",
       "    }\n",
       "</style>\n",
       "<table border=\"1\" class=\"dataframe\">\n",
       "  <thead>\n",
       "    <tr style=\"text-align: right;\">\n",
       "      <th></th>\n",
       "      <th>subject_id</th>\n",
       "      <th>country</th>\n",
       "      <th>gender</th>\n",
       "      <th>age_category</th>\n",
       "      <th>BMI</th>\n",
       "      <th>PFS12</th>\n",
       "    </tr>\n",
       "  </thead>\n",
       "  <tbody>\n",
       "    <tr>\n",
       "      <th>PRIMM0001</th>\n",
       "      <td>PRIMM0001</td>\n",
       "      <td>GBR</td>\n",
       "      <td>female</td>\n",
       "      <td>adult</td>\n",
       "      <td>25.924200</td>\n",
       "      <td>no</td>\n",
       "    </tr>\n",
       "    <tr>\n",
       "      <th>PRIMM0013</th>\n",
       "      <td>PRIMM0013</td>\n",
       "      <td>GBR</td>\n",
       "      <td>female</td>\n",
       "      <td>senior</td>\n",
       "      <td>25.743945</td>\n",
       "      <td>yes</td>\n",
       "    </tr>\n",
       "    <tr>\n",
       "      <th>PRIMM0129</th>\n",
       "      <td>PRIMM0129</td>\n",
       "      <td>GBR</td>\n",
       "      <td>female</td>\n",
       "      <td>senior</td>\n",
       "      <td>25.846483</td>\n",
       "      <td>yes</td>\n",
       "    </tr>\n",
       "    <tr>\n",
       "      <th>PRIMM0278</th>\n",
       "      <td>PRIMM0278</td>\n",
       "      <td>GBR</td>\n",
       "      <td>male</td>\n",
       "      <td>adult</td>\n",
       "      <td>25.057360</td>\n",
       "      <td>yes</td>\n",
       "    </tr>\n",
       "    <tr>\n",
       "      <th>PRIMM0287</th>\n",
       "      <td>PRIMM0287</td>\n",
       "      <td>NLD</td>\n",
       "      <td>male</td>\n",
       "      <td>senior</td>\n",
       "      <td>25.661152</td>\n",
       "      <td>yes</td>\n",
       "    </tr>\n",
       "    <tr>\n",
       "      <th>PRIMM0404</th>\n",
       "      <td>PRIMM0404</td>\n",
       "      <td>NLD</td>\n",
       "      <td>male</td>\n",
       "      <td>adult</td>\n",
       "      <td>25.451114</td>\n",
       "      <td>no</td>\n",
       "    </tr>\n",
       "    <tr>\n",
       "      <th>PRIMM0411</th>\n",
       "      <td>PRIMM0411</td>\n",
       "      <td>NLD</td>\n",
       "      <td>female</td>\n",
       "      <td>adult</td>\n",
       "      <td>25.990903</td>\n",
       "      <td>yes</td>\n",
       "    </tr>\n",
       "    <tr>\n",
       "      <th>PRIMM0417</th>\n",
       "      <td>PRIMM0417</td>\n",
       "      <td>NLD</td>\n",
       "      <td>male</td>\n",
       "      <td>senior</td>\n",
       "      <td>25.469388</td>\n",
       "      <td>no</td>\n",
       "    </tr>\n",
       "    <tr>\n",
       "      <th>PRIMM0427</th>\n",
       "      <td>PRIMM0427</td>\n",
       "      <td>NLD</td>\n",
       "      <td>male</td>\n",
       "      <td>senior</td>\n",
       "      <td>25.436467</td>\n",
       "      <td>yes</td>\n",
       "    </tr>\n",
       "  </tbody>\n",
       "</table>\n",
       "</div>"
      ],
      "text/plain": [
       "          subject_id country  gender age_category        BMI PFS12\n",
       "PRIMM0001  PRIMM0001     GBR  female        adult  25.924200    no\n",
       "PRIMM0013  PRIMM0013     GBR  female       senior  25.743945   yes\n",
       "PRIMM0129  PRIMM0129     GBR  female       senior  25.846483   yes\n",
       "PRIMM0278  PRIMM0278     GBR    male        adult  25.057360   yes\n",
       "PRIMM0287  PRIMM0287     NLD    male       senior  25.661152   yes\n",
       "PRIMM0404  PRIMM0404     NLD    male        adult  25.451114    no\n",
       "PRIMM0411  PRIMM0411     NLD  female        adult  25.990903   yes\n",
       "PRIMM0417  PRIMM0417     NLD    male       senior  25.469388    no\n",
       "PRIMM0427  PRIMM0427     NLD    male       senior  25.436467   yes"
      ]
     },
     "execution_count": 133,
     "metadata": {},
     "output_type": "execute_result"
    }
   ],
   "source": [
    "data[(data.BMI < 26) & (data.BMI > 25)]"
   ]
  },
  {
   "cell_type": "code",
   "execution_count": 132,
   "id": "082c382e",
   "metadata": {
    "ExecuteTime": {
     "end_time": "2023-04-18T10:28:56.030959Z",
     "start_time": "2023-04-18T10:28:56.019432Z"
    }
   },
   "outputs": [
    {
     "data": {
      "text/html": [
       "<div>\n",
       "<style scoped>\n",
       "    .dataframe tbody tr th:only-of-type {\n",
       "        vertical-align: middle;\n",
       "    }\n",
       "\n",
       "    .dataframe tbody tr th {\n",
       "        vertical-align: top;\n",
       "    }\n",
       "\n",
       "    .dataframe thead th {\n",
       "        text-align: right;\n",
       "    }\n",
       "</style>\n",
       "<table border=\"1\" class=\"dataframe\">\n",
       "  <thead>\n",
       "    <tr style=\"text-align: right;\">\n",
       "      <th></th>\n",
       "      <th>subject_id</th>\n",
       "      <th>country</th>\n",
       "      <th>gender</th>\n",
       "      <th>age_category</th>\n",
       "      <th>BMI</th>\n",
       "      <th>PFS12</th>\n",
       "    </tr>\n",
       "  </thead>\n",
       "  <tbody>\n",
       "    <tr>\n",
       "      <th>PRIMM0001</th>\n",
       "      <td>PRIMM0001</td>\n",
       "      <td>GBR</td>\n",
       "      <td>female</td>\n",
       "      <td>adult</td>\n",
       "      <td>25.924200</td>\n",
       "      <td>no</td>\n",
       "    </tr>\n",
       "    <tr>\n",
       "      <th>PRIMM0013</th>\n",
       "      <td>PRIMM0013</td>\n",
       "      <td>GBR</td>\n",
       "      <td>female</td>\n",
       "      <td>senior</td>\n",
       "      <td>25.743945</td>\n",
       "      <td>yes</td>\n",
       "    </tr>\n",
       "    <tr>\n",
       "      <th>PRIMM0129</th>\n",
       "      <td>PRIMM0129</td>\n",
       "      <td>GBR</td>\n",
       "      <td>female</td>\n",
       "      <td>senior</td>\n",
       "      <td>25.846483</td>\n",
       "      <td>yes</td>\n",
       "    </tr>\n",
       "    <tr>\n",
       "      <th>PRIMM0278</th>\n",
       "      <td>PRIMM0278</td>\n",
       "      <td>GBR</td>\n",
       "      <td>male</td>\n",
       "      <td>adult</td>\n",
       "      <td>25.057360</td>\n",
       "      <td>yes</td>\n",
       "    </tr>\n",
       "    <tr>\n",
       "      <th>PRIMM0287</th>\n",
       "      <td>PRIMM0287</td>\n",
       "      <td>NLD</td>\n",
       "      <td>male</td>\n",
       "      <td>senior</td>\n",
       "      <td>25.661152</td>\n",
       "      <td>yes</td>\n",
       "    </tr>\n",
       "    <tr>\n",
       "      <th>PRIMM0404</th>\n",
       "      <td>PRIMM0404</td>\n",
       "      <td>NLD</td>\n",
       "      <td>male</td>\n",
       "      <td>adult</td>\n",
       "      <td>25.451114</td>\n",
       "      <td>no</td>\n",
       "    </tr>\n",
       "    <tr>\n",
       "      <th>PRIMM0411</th>\n",
       "      <td>PRIMM0411</td>\n",
       "      <td>NLD</td>\n",
       "      <td>female</td>\n",
       "      <td>adult</td>\n",
       "      <td>25.990903</td>\n",
       "      <td>yes</td>\n",
       "    </tr>\n",
       "    <tr>\n",
       "      <th>PRIMM0417</th>\n",
       "      <td>PRIMM0417</td>\n",
       "      <td>NLD</td>\n",
       "      <td>male</td>\n",
       "      <td>senior</td>\n",
       "      <td>25.469388</td>\n",
       "      <td>no</td>\n",
       "    </tr>\n",
       "    <tr>\n",
       "      <th>PRIMM0427</th>\n",
       "      <td>PRIMM0427</td>\n",
       "      <td>NLD</td>\n",
       "      <td>male</td>\n",
       "      <td>senior</td>\n",
       "      <td>25.436467</td>\n",
       "      <td>yes</td>\n",
       "    </tr>\n",
       "    <tr>\n",
       "      <th>PRIMM0544</th>\n",
       "      <td>PRIMM0544</td>\n",
       "      <td>GBR</td>\n",
       "      <td>male</td>\n",
       "      <td>senior</td>\n",
       "      <td>25.000000</td>\n",
       "      <td>no</td>\n",
       "    </tr>\n",
       "  </tbody>\n",
       "</table>\n",
       "</div>"
      ],
      "text/plain": [
       "          subject_id country  gender age_category        BMI PFS12\n",
       "PRIMM0001  PRIMM0001     GBR  female        adult  25.924200    no\n",
       "PRIMM0013  PRIMM0013     GBR  female       senior  25.743945   yes\n",
       "PRIMM0129  PRIMM0129     GBR  female       senior  25.846483   yes\n",
       "PRIMM0278  PRIMM0278     GBR    male        adult  25.057360   yes\n",
       "PRIMM0287  PRIMM0287     NLD    male       senior  25.661152   yes\n",
       "PRIMM0404  PRIMM0404     NLD    male        adult  25.451114    no\n",
       "PRIMM0411  PRIMM0411     NLD  female        adult  25.990903   yes\n",
       "PRIMM0417  PRIMM0417     NLD    male       senior  25.469388    no\n",
       "PRIMM0427  PRIMM0427     NLD    male       senior  25.436467   yes\n",
       "PRIMM0544  PRIMM0544     GBR    male       senior  25.000000    no"
      ]
     },
     "execution_count": 132,
     "metadata": {},
     "output_type": "execute_result"
    }
   ],
   "source": [
    "data[(data.BMI.between(25, 26))]"
   ]
  },
  {
   "cell_type": "code",
   "execution_count": 138,
   "id": "849b0c17",
   "metadata": {
    "ExecuteTime": {
     "end_time": "2023-04-18T10:30:28.480836Z",
     "start_time": "2023-04-18T10:30:28.469982Z"
    }
   },
   "outputs": [
    {
     "data": {
      "text/html": [
       "<div>\n",
       "<style scoped>\n",
       "    .dataframe tbody tr th:only-of-type {\n",
       "        vertical-align: middle;\n",
       "    }\n",
       "\n",
       "    .dataframe tbody tr th {\n",
       "        vertical-align: top;\n",
       "    }\n",
       "\n",
       "    .dataframe thead th {\n",
       "        text-align: right;\n",
       "    }\n",
       "</style>\n",
       "<table border=\"1\" class=\"dataframe\">\n",
       "  <thead>\n",
       "    <tr style=\"text-align: right;\">\n",
       "      <th></th>\n",
       "      <th>subject_id</th>\n",
       "      <th>country</th>\n",
       "      <th>gender</th>\n",
       "      <th>age_category</th>\n",
       "      <th>BMI</th>\n",
       "      <th>PFS12</th>\n",
       "    </tr>\n",
       "  </thead>\n",
       "  <tbody>\n",
       "    <tr>\n",
       "      <th>BCN-01_1</th>\n",
       "      <td>BCN-01_1</td>\n",
       "      <td>ESP</td>\n",
       "      <td>male</td>\n",
       "      <td>adult</td>\n",
       "      <td>28.713211</td>\n",
       "      <td>yes</td>\n",
       "    </tr>\n",
       "    <tr>\n",
       "      <th>BCN-02_1</th>\n",
       "      <td>BCN-02_1</td>\n",
       "      <td>ESP</td>\n",
       "      <td>female</td>\n",
       "      <td>adult</td>\n",
       "      <td>27.354571</td>\n",
       "      <td>no</td>\n",
       "    </tr>\n",
       "    <tr>\n",
       "      <th>BCN-03_1</th>\n",
       "      <td>BCN-03_1</td>\n",
       "      <td>ESP</td>\n",
       "      <td>female</td>\n",
       "      <td>senior</td>\n",
       "      <td>22.060354</td>\n",
       "      <td>yes</td>\n",
       "    </tr>\n",
       "    <tr>\n",
       "      <th>BCN-04_1</th>\n",
       "      <td>BCN-04_1</td>\n",
       "      <td>ESP</td>\n",
       "      <td>male</td>\n",
       "      <td>adult</td>\n",
       "      <td>30.350330</td>\n",
       "      <td>no</td>\n",
       "    </tr>\n",
       "    <tr>\n",
       "      <th>BCN-05_1</th>\n",
       "      <td>BCN-05_1</td>\n",
       "      <td>ESP</td>\n",
       "      <td>male</td>\n",
       "      <td>senior</td>\n",
       "      <td>36.079477</td>\n",
       "      <td>yes</td>\n",
       "    </tr>\n",
       "    <tr>\n",
       "      <th>BCN-06_1</th>\n",
       "      <td>BCN-06_1</td>\n",
       "      <td>ESP</td>\n",
       "      <td>male</td>\n",
       "      <td>adult</td>\n",
       "      <td>31.377989</td>\n",
       "      <td>yes</td>\n",
       "    </tr>\n",
       "    <tr>\n",
       "      <th>BCN-07_1</th>\n",
       "      <td>BCN-07_1</td>\n",
       "      <td>ESP</td>\n",
       "      <td>male</td>\n",
       "      <td>senior</td>\n",
       "      <td>26.171875</td>\n",
       "      <td>no</td>\n",
       "    </tr>\n",
       "    <tr>\n",
       "      <th>BCN-08_1</th>\n",
       "      <td>BCN-08_1</td>\n",
       "      <td>ESP</td>\n",
       "      <td>male</td>\n",
       "      <td>senior</td>\n",
       "      <td>NaN</td>\n",
       "      <td>no</td>\n",
       "    </tr>\n",
       "    <tr>\n",
       "      <th>BCN-09_1</th>\n",
       "      <td>BCN-09_1</td>\n",
       "      <td>ESP</td>\n",
       "      <td>female</td>\n",
       "      <td>adult</td>\n",
       "      <td>22.851562</td>\n",
       "      <td>no</td>\n",
       "    </tr>\n",
       "    <tr>\n",
       "      <th>BCN-10_1</th>\n",
       "      <td>BCN-10_1</td>\n",
       "      <td>ESP</td>\n",
       "      <td>female</td>\n",
       "      <td>adult</td>\n",
       "      <td>20.956608</td>\n",
       "      <td>no</td>\n",
       "    </tr>\n",
       "    <tr>\n",
       "      <th>BCN-11_1</th>\n",
       "      <td>BCN-11_1</td>\n",
       "      <td>ESP</td>\n",
       "      <td>female</td>\n",
       "      <td>senior</td>\n",
       "      <td>28.460364</td>\n",
       "      <td>no</td>\n",
       "    </tr>\n",
       "    <tr>\n",
       "      <th>BCN-12_1</th>\n",
       "      <td>BCN-12_1</td>\n",
       "      <td>ESP</td>\n",
       "      <td>female</td>\n",
       "      <td>senior</td>\n",
       "      <td>24.161712</td>\n",
       "      <td>NaN</td>\n",
       "    </tr>\n",
       "  </tbody>\n",
       "</table>\n",
       "</div>"
      ],
      "text/plain": [
       "         subject_id country  gender age_category        BMI PFS12\n",
       "BCN-01_1   BCN-01_1     ESP    male        adult  28.713211   yes\n",
       "BCN-02_1   BCN-02_1     ESP  female        adult  27.354571    no\n",
       "BCN-03_1   BCN-03_1     ESP  female       senior  22.060354   yes\n",
       "BCN-04_1   BCN-04_1     ESP    male        adult  30.350330    no\n",
       "BCN-05_1   BCN-05_1     ESP    male       senior  36.079477   yes\n",
       "BCN-06_1   BCN-06_1     ESP    male        adult  31.377989   yes\n",
       "BCN-07_1   BCN-07_1     ESP    male       senior  26.171875    no\n",
       "BCN-08_1   BCN-08_1     ESP    male       senior        NaN    no\n",
       "BCN-09_1   BCN-09_1     ESP  female        adult  22.851562    no\n",
       "BCN-10_1   BCN-10_1     ESP  female        adult  20.956608    no\n",
       "BCN-11_1   BCN-11_1     ESP  female       senior  28.460364    no\n",
       "BCN-12_1   BCN-12_1     ESP  female       senior  24.161712   NaN"
      ]
     },
     "execution_count": 138,
     "metadata": {},
     "output_type": "execute_result"
    }
   ],
   "source": [
    "data[data.subject_id.str.contains('BCN')]"
   ]
  },
  {
   "cell_type": "code",
   "execution_count": 141,
   "id": "da9810e9",
   "metadata": {
    "ExecuteTime": {
     "end_time": "2023-04-18T10:37:35.547727Z",
     "start_time": "2023-04-18T10:37:35.531967Z"
    }
   },
   "outputs": [
    {
     "data": {
      "text/html": [
       "<div>\n",
       "<style scoped>\n",
       "    .dataframe tbody tr th:only-of-type {\n",
       "        vertical-align: middle;\n",
       "    }\n",
       "\n",
       "    .dataframe tbody tr th {\n",
       "        vertical-align: top;\n",
       "    }\n",
       "\n",
       "    .dataframe thead th {\n",
       "        text-align: right;\n",
       "    }\n",
       "</style>\n",
       "<table border=\"1\" class=\"dataframe\">\n",
       "  <thead>\n",
       "    <tr style=\"text-align: right;\">\n",
       "      <th></th>\n",
       "      <th>subject_id</th>\n",
       "      <th>country</th>\n",
       "      <th>gender</th>\n",
       "      <th>age_category</th>\n",
       "      <th>BMI</th>\n",
       "      <th>PFS12</th>\n",
       "    </tr>\n",
       "  </thead>\n",
       "  <tbody>\n",
       "    <tr>\n",
       "      <th>BCN-01_1</th>\n",
       "      <td>BCN-01_1</td>\n",
       "      <td>ESP</td>\n",
       "      <td>male</td>\n",
       "      <td>adult</td>\n",
       "      <td>28.713211</td>\n",
       "      <td>yes</td>\n",
       "    </tr>\n",
       "    <tr>\n",
       "      <th>BCN-02_1</th>\n",
       "      <td>BCN-02_1</td>\n",
       "      <td>ESP</td>\n",
       "      <td>female</td>\n",
       "      <td>adult</td>\n",
       "      <td>27.354571</td>\n",
       "      <td>no</td>\n",
       "    </tr>\n",
       "    <tr>\n",
       "      <th>BCN-03_1</th>\n",
       "      <td>BCN-03_1</td>\n",
       "      <td>ESP</td>\n",
       "      <td>female</td>\n",
       "      <td>senior</td>\n",
       "      <td>22.060354</td>\n",
       "      <td>yes</td>\n",
       "    </tr>\n",
       "    <tr>\n",
       "      <th>BCN-04_1</th>\n",
       "      <td>BCN-04_1</td>\n",
       "      <td>ESP</td>\n",
       "      <td>male</td>\n",
       "      <td>adult</td>\n",
       "      <td>30.350330</td>\n",
       "      <td>no</td>\n",
       "    </tr>\n",
       "    <tr>\n",
       "      <th>BCN-05_1</th>\n",
       "      <td>BCN-05_1</td>\n",
       "      <td>ESP</td>\n",
       "      <td>male</td>\n",
       "      <td>senior</td>\n",
       "      <td>36.079477</td>\n",
       "      <td>yes</td>\n",
       "    </tr>\n",
       "    <tr>\n",
       "      <th>...</th>\n",
       "      <td>...</td>\n",
       "      <td>...</td>\n",
       "      <td>...</td>\n",
       "      <td>...</td>\n",
       "      <td>...</td>\n",
       "      <td>...</td>\n",
       "    </tr>\n",
       "    <tr>\n",
       "      <th>PRIMM0597</th>\n",
       "      <td>PRIMM0597</td>\n",
       "      <td>GBR</td>\n",
       "      <td>male</td>\n",
       "      <td>senior</td>\n",
       "      <td>27.764650</td>\n",
       "      <td>no</td>\n",
       "    </tr>\n",
       "    <tr>\n",
       "      <th>PRIMM0601</th>\n",
       "      <td>PRIMM0601</td>\n",
       "      <td>GBR</td>\n",
       "      <td>male</td>\n",
       "      <td>senior</td>\n",
       "      <td>29.115422</td>\n",
       "      <td>no</td>\n",
       "    </tr>\n",
       "    <tr>\n",
       "      <th>PRIMM0602</th>\n",
       "      <td>PRIMM0602</td>\n",
       "      <td>GBR</td>\n",
       "      <td>male</td>\n",
       "      <td>adult</td>\n",
       "      <td>24.891179</td>\n",
       "      <td>no</td>\n",
       "    </tr>\n",
       "    <tr>\n",
       "      <th>PRIMM0610</th>\n",
       "      <td>PRIMM0610</td>\n",
       "      <td>GBR</td>\n",
       "      <td>male</td>\n",
       "      <td>adult</td>\n",
       "      <td>34.686277</td>\n",
       "      <td>yes</td>\n",
       "    </tr>\n",
       "    <tr>\n",
       "      <th>PRIMM0611</th>\n",
       "      <td>PRIMM0611</td>\n",
       "      <td>GBR</td>\n",
       "      <td>female</td>\n",
       "      <td>adult</td>\n",
       "      <td>27.161407</td>\n",
       "      <td>no</td>\n",
       "    </tr>\n",
       "  </tbody>\n",
       "</table>\n",
       "<p>110 rows × 6 columns</p>\n",
       "</div>"
      ],
      "text/plain": [
       "          subject_id country  gender age_category        BMI PFS12\n",
       "BCN-01_1    BCN-01_1     ESP    male        adult  28.713211   yes\n",
       "BCN-02_1    BCN-02_1     ESP  female        adult  27.354571    no\n",
       "BCN-03_1    BCN-03_1     ESP  female       senior  22.060354   yes\n",
       "BCN-04_1    BCN-04_1     ESP    male        adult  30.350330    no\n",
       "BCN-05_1    BCN-05_1     ESP    male       senior  36.079477   yes\n",
       "...              ...     ...     ...          ...        ...   ...\n",
       "PRIMM0597  PRIMM0597     GBR    male       senior  27.764650    no\n",
       "PRIMM0601  PRIMM0601     GBR    male       senior  29.115422    no\n",
       "PRIMM0602  PRIMM0602     GBR    male        adult  24.891179    no\n",
       "PRIMM0610  PRIMM0610     GBR    male        adult  34.686277   yes\n",
       "PRIMM0611  PRIMM0611     GBR  female        adult  27.161407    no\n",
       "\n",
       "[110 rows x 6 columns]"
      ]
     },
     "execution_count": 141,
     "metadata": {},
     "output_type": "execute_result"
    }
   ],
   "source": [
    "data[data['country'].isin(['GBR', 'ESP'])]"
   ]
  },
  {
   "cell_type": "markdown",
   "id": "379dfb78",
   "metadata": {},
   "source": [
    "### Calculating Statistics From Data In A Pandas"
   ]
  },
  {
   "cell_type": "code",
   "execution_count": 69,
   "id": "190950eb",
   "metadata": {
    "ExecuteTime": {
     "end_time": "2023-04-18T09:36:12.585429Z",
     "start_time": "2023-04-18T09:36:12.578189Z"
    }
   },
   "outputs": [
    {
     "data": {
      "text/plain": [
       "18.77834467"
      ]
     },
     "execution_count": 69,
     "metadata": {},
     "output_type": "execute_result"
    }
   ],
   "source": [
    "# You can calculate any summary statistics on the numberic columns with min(), max(), mean(), std(), count(), etc.\n",
    "data['BMI'].min()"
   ]
  },
  {
   "cell_type": "code",
   "execution_count": 70,
   "id": "f305eb9d",
   "metadata": {
    "ExecuteTime": {
     "end_time": "2023-04-18T09:36:23.795995Z",
     "start_time": "2023-04-18T09:36:23.789871Z"
    }
   },
   "outputs": [
    {
     "data": {
      "text/plain": [
       "27.76465028"
      ]
     },
     "execution_count": 70,
     "metadata": {},
     "output_type": "execute_result"
    }
   ],
   "source": [
    "data['BMI'].median()"
   ]
  },
  {
   "cell_type": "markdown",
   "id": "4e0242c2",
   "metadata": {},
   "source": [
    "- But if we want to summarize by one or more variables, for example sex, we can use Pandas’ `.groupby` method. Once we’ve created a groupby DataFrame, we can quickly calculate summary statistics by a group of our choice."
   ]
  },
  {
   "cell_type": "code",
   "execution_count": 71,
   "id": "5d939fe7",
   "metadata": {
    "ExecuteTime": {
     "end_time": "2023-04-18T09:38:06.547938Z",
     "start_time": "2023-04-18T09:38:06.542989Z"
    }
   },
   "outputs": [],
   "source": [
    "grouped_data = data.groupby('gender')"
   ]
  },
  {
   "cell_type": "code",
   "execution_count": 75,
   "id": "ff29bb40",
   "metadata": {
    "ExecuteTime": {
     "end_time": "2023-04-18T09:39:14.049048Z",
     "start_time": "2023-04-18T09:39:14.032066Z"
    }
   },
   "outputs": [
    {
     "data": {
      "text/html": [
       "<div>\n",
       "<style scoped>\n",
       "    .dataframe tbody tr th:only-of-type {\n",
       "        vertical-align: middle;\n",
       "    }\n",
       "\n",
       "    .dataframe tbody tr th {\n",
       "        vertical-align: top;\n",
       "    }\n",
       "\n",
       "    .dataframe thead th {\n",
       "        text-align: right;\n",
       "    }\n",
       "</style>\n",
       "<table border=\"1\" class=\"dataframe\">\n",
       "  <thead>\n",
       "    <tr style=\"text-align: right;\">\n",
       "      <th></th>\n",
       "      <th>PMID</th>\n",
       "      <th>number_reads</th>\n",
       "      <th>number_bases</th>\n",
       "      <th>minimum_read_length</th>\n",
       "      <th>median_read_length</th>\n",
       "      <th>BMI</th>\n",
       "      <th>performance_status</th>\n",
       "    </tr>\n",
       "    <tr>\n",
       "      <th>gender</th>\n",
       "      <th></th>\n",
       "      <th></th>\n",
       "      <th></th>\n",
       "      <th></th>\n",
       "      <th></th>\n",
       "      <th></th>\n",
       "      <th></th>\n",
       "    </tr>\n",
       "  </thead>\n",
       "  <tbody>\n",
       "    <tr>\n",
       "      <th>female</th>\n",
       "      <td>35228751.0</td>\n",
       "      <td>21024593.0</td>\n",
       "      <td>3.136222e+09</td>\n",
       "      <td>35.0</td>\n",
       "      <td>151.0</td>\n",
       "      <td>26.619343</td>\n",
       "      <td>0.0</td>\n",
       "    </tr>\n",
       "    <tr>\n",
       "      <th>male</th>\n",
       "      <td>35228751.0</td>\n",
       "      <td>22224886.5</td>\n",
       "      <td>3.194212e+09</td>\n",
       "      <td>35.0</td>\n",
       "      <td>151.0</td>\n",
       "      <td>28.169937</td>\n",
       "      <td>0.0</td>\n",
       "    </tr>\n",
       "  </tbody>\n",
       "</table>\n",
       "</div>"
      ],
      "text/plain": [
       "              PMID  number_reads  number_bases  minimum_read_length  \\\n",
       "gender                                                                \n",
       "female  35228751.0    21024593.0  3.136222e+09                 35.0   \n",
       "male    35228751.0    22224886.5  3.194212e+09                 35.0   \n",
       "\n",
       "        median_read_length        BMI  performance_status  \n",
       "gender                                                     \n",
       "female               151.0  26.619343                 0.0  \n",
       "male                 151.0  28.169937                 0.0  "
      ]
     },
     "execution_count": 75,
     "metadata": {},
     "output_type": "execute_result"
    }
   ],
   "source": [
    "grouped_data.median(numeric_only=True)"
   ]
  },
  {
   "cell_type": "code",
   "execution_count": 88,
   "id": "2855d911",
   "metadata": {
    "ExecuteTime": {
     "end_time": "2023-04-18T09:44:03.123653Z",
     "start_time": "2023-04-18T09:44:03.113784Z"
    }
   },
   "outputs": [
    {
     "data": {
      "text/plain": [
       "gender  subcohort\n",
       "female  PRIMM-NL     24\n",
       "        PRIMM-UK     19\n",
       "        Leeds        16\n",
       "        Barcelona     6\n",
       "male    PRIMM-UK     36\n",
       "        PRIMM-NL     31\n",
       "        Leeds        27\n",
       "        Barcelona     6\n",
       "Name: subcohort, dtype: int64"
      ]
     },
     "execution_count": 88,
     "metadata": {},
     "output_type": "execute_result"
    }
   ],
   "source": [
    "grouped_data['subcohort'].value_counts()"
   ]
  },
  {
   "cell_type": "code",
   "execution_count": 85,
   "id": "84f053ae",
   "metadata": {
    "ExecuteTime": {
     "end_time": "2023-04-18T09:42:46.136200Z",
     "start_time": "2023-04-18T09:42:46.125400Z"
    }
   },
   "outputs": [
    {
     "data": {
      "text/plain": [
       "subcohort  gender\n",
       "Barcelona  female     6\n",
       "           male       6\n",
       "Leeds      female    16\n",
       "           male      27\n",
       "PRIMM-NL   female    24\n",
       "           male      31\n",
       "PRIMM-UK   female    19\n",
       "           male      36\n",
       "Name: subject_id, dtype: int64"
      ]
     },
     "execution_count": 85,
     "metadata": {},
     "output_type": "execute_result"
    }
   ],
   "source": [
    "data.groupby(['subcohort', 'gender']).subject_id.count()"
   ]
  },
  {
   "cell_type": "code",
   "execution_count": 84,
   "id": "6b738be0",
   "metadata": {
    "ExecuteTime": {
     "end_time": "2023-04-18T09:42:37.177431Z",
     "start_time": "2023-04-18T09:42:37.168600Z"
    }
   },
   "outputs": [
    {
     "data": {
      "text/plain": [
       "PRIMM-UK     55\n",
       "PRIMM-NL     55\n",
       "Leeds        43\n",
       "Barcelona    12\n",
       "Name: subcohort, dtype: int64"
      ]
     },
     "execution_count": 84,
     "metadata": {},
     "output_type": "execute_result"
    }
   ],
   "source": [
    "data.subcohort.value_counts()"
   ]
  },
  {
   "cell_type": "code",
   "execution_count": 92,
   "id": "6b4d61d4",
   "metadata": {
    "ExecuteTime": {
     "end_time": "2023-04-18T09:46:37.468762Z",
     "start_time": "2023-04-18T09:46:37.460937Z"
    }
   },
   "outputs": [
    {
     "data": {
      "text/plain": [
       "Index(['study_name', 'subject_id', 'body_site', 'antibiotics_current_use',\n",
       "       'study_condition', 'disease', 'age_category', 'gender', 'country',\n",
       "       'non_westernized', 'sequencing_platform', 'DNA_extraction_kit', 'PMID',\n",
       "       'number_reads', 'number_bases', 'minimum_read_length',\n",
       "       'median_read_length', 'NCBI_accession', 'curator', 'BMI', 'location',\n",
       "       'treatment', 'RECIST', 'ORR', 'subcohort', 'previous_therapy',\n",
       "       'performance_status', 'toxicity_above_zero', 'PFS12'],\n",
       "      dtype='object')"
      ]
     },
     "execution_count": 92,
     "metadata": {},
     "output_type": "execute_result"
    }
   ],
   "source": [
    "data.columns"
   ]
  },
  {
   "cell_type": "code",
   "execution_count": 97,
   "id": "1f7ba900",
   "metadata": {
    "ExecuteTime": {
     "end_time": "2023-04-18T09:48:47.086233Z",
     "start_time": "2023-04-18T09:48:47.073176Z"
    }
   },
   "outputs": [
    {
     "data": {
      "text/plain": [
       "country  gender  ORR\n",
       "ESP      female  no     0.500000\n",
       "                 yes    0.500000\n",
       "         male    no     0.500000\n",
       "                 yes    0.500000\n",
       "GBR      female  yes    0.542857\n",
       "                 no     0.457143\n",
       "         male    yes    0.571429\n",
       "                 no     0.428571\n",
       "NLD      female  yes    0.791667\n",
       "                 no     0.208333\n",
       "         male    no     0.548387\n",
       "                 yes    0.451613\n",
       "Name: ORR, dtype: float64"
      ]
     },
     "execution_count": 97,
     "metadata": {},
     "output_type": "execute_result"
    }
   ],
   "source": [
    "data.groupby(['country', 'gender']).ORR.value_counts(normalize=True)"
   ]
  },
  {
   "cell_type": "markdown",
   "id": "9f413631",
   "metadata": {},
   "source": [
    "### Missing values"
   ]
  },
  {
   "cell_type": "code",
   "execution_count": 144,
   "id": "5c682c63",
   "metadata": {
    "ExecuteTime": {
     "end_time": "2023-04-18T10:42:26.233854Z",
     "start_time": "2023-04-18T10:42:26.222189Z"
    }
   },
   "outputs": [
    {
     "data": {
      "text/html": [
       "<div>\n",
       "<style scoped>\n",
       "    .dataframe tbody tr th:only-of-type {\n",
       "        vertical-align: middle;\n",
       "    }\n",
       "\n",
       "    .dataframe tbody tr th {\n",
       "        vertical-align: top;\n",
       "    }\n",
       "\n",
       "    .dataframe thead th {\n",
       "        text-align: right;\n",
       "    }\n",
       "</style>\n",
       "<table border=\"1\" class=\"dataframe\">\n",
       "  <thead>\n",
       "    <tr style=\"text-align: right;\">\n",
       "      <th></th>\n",
       "      <th>subject_id</th>\n",
       "      <th>country</th>\n",
       "      <th>gender</th>\n",
       "      <th>age_category</th>\n",
       "      <th>BMI</th>\n",
       "      <th>PFS12</th>\n",
       "    </tr>\n",
       "  </thead>\n",
       "  <tbody>\n",
       "    <tr>\n",
       "      <th>BCN-12_1</th>\n",
       "      <td>BCN-12_1</td>\n",
       "      <td>ESP</td>\n",
       "      <td>female</td>\n",
       "      <td>senior</td>\n",
       "      <td>24.161712</td>\n",
       "      <td>NaN</td>\n",
       "    </tr>\n",
       "    <tr>\n",
       "      <th>PRIMM0589</th>\n",
       "      <td>PRIMM0589</td>\n",
       "      <td>GBR</td>\n",
       "      <td>female</td>\n",
       "      <td>adult</td>\n",
       "      <td>19.195303</td>\n",
       "      <td>NaN</td>\n",
       "    </tr>\n",
       "  </tbody>\n",
       "</table>\n",
       "</div>"
      ],
      "text/plain": [
       "          subject_id country  gender age_category        BMI PFS12\n",
       "BCN-12_1    BCN-12_1     ESP  female       senior  24.161712   NaN\n",
       "PRIMM0589  PRIMM0589     GBR  female        adult  19.195303   NaN"
      ]
     },
     "execution_count": 144,
     "metadata": {},
     "output_type": "execute_result"
    }
   ],
   "source": [
    "data[data.PFS12.isnull()]"
   ]
  },
  {
   "cell_type": "code",
   "execution_count": 145,
   "id": "30aecdba",
   "metadata": {
    "ExecuteTime": {
     "end_time": "2023-04-18T10:42:59.962912Z",
     "start_time": "2023-04-18T10:42:59.949538Z"
    }
   },
   "outputs": [
    {
     "data": {
      "text/html": [
       "<div>\n",
       "<style scoped>\n",
       "    .dataframe tbody tr th:only-of-type {\n",
       "        vertical-align: middle;\n",
       "    }\n",
       "\n",
       "    .dataframe tbody tr th {\n",
       "        vertical-align: top;\n",
       "    }\n",
       "\n",
       "    .dataframe thead th {\n",
       "        text-align: right;\n",
       "    }\n",
       "</style>\n",
       "<table border=\"1\" class=\"dataframe\">\n",
       "  <thead>\n",
       "    <tr style=\"text-align: right;\">\n",
       "      <th></th>\n",
       "      <th>subject_id</th>\n",
       "      <th>country</th>\n",
       "      <th>gender</th>\n",
       "      <th>age_category</th>\n",
       "      <th>BMI</th>\n",
       "      <th>PFS12</th>\n",
       "    </tr>\n",
       "  </thead>\n",
       "  <tbody>\n",
       "    <tr>\n",
       "      <th>BCN-01_1</th>\n",
       "      <td>BCN-01_1</td>\n",
       "      <td>ESP</td>\n",
       "      <td>male</td>\n",
       "      <td>adult</td>\n",
       "      <td>28.713211</td>\n",
       "      <td>yes</td>\n",
       "    </tr>\n",
       "    <tr>\n",
       "      <th>BCN-02_1</th>\n",
       "      <td>BCN-02_1</td>\n",
       "      <td>ESP</td>\n",
       "      <td>female</td>\n",
       "      <td>adult</td>\n",
       "      <td>27.354571</td>\n",
       "      <td>no</td>\n",
       "    </tr>\n",
       "    <tr>\n",
       "      <th>BCN-03_1</th>\n",
       "      <td>BCN-03_1</td>\n",
       "      <td>ESP</td>\n",
       "      <td>female</td>\n",
       "      <td>senior</td>\n",
       "      <td>22.060354</td>\n",
       "      <td>yes</td>\n",
       "    </tr>\n",
       "    <tr>\n",
       "      <th>BCN-04_1</th>\n",
       "      <td>BCN-04_1</td>\n",
       "      <td>ESP</td>\n",
       "      <td>male</td>\n",
       "      <td>adult</td>\n",
       "      <td>30.350330</td>\n",
       "      <td>no</td>\n",
       "    </tr>\n",
       "    <tr>\n",
       "      <th>BCN-05_1</th>\n",
       "      <td>BCN-05_1</td>\n",
       "      <td>ESP</td>\n",
       "      <td>male</td>\n",
       "      <td>senior</td>\n",
       "      <td>36.079477</td>\n",
       "      <td>yes</td>\n",
       "    </tr>\n",
       "    <tr>\n",
       "      <th>...</th>\n",
       "      <td>...</td>\n",
       "      <td>...</td>\n",
       "      <td>...</td>\n",
       "      <td>...</td>\n",
       "      <td>...</td>\n",
       "      <td>...</td>\n",
       "    </tr>\n",
       "    <tr>\n",
       "      <th>PRIMM0597</th>\n",
       "      <td>PRIMM0597</td>\n",
       "      <td>GBR</td>\n",
       "      <td>male</td>\n",
       "      <td>senior</td>\n",
       "      <td>27.764650</td>\n",
       "      <td>no</td>\n",
       "    </tr>\n",
       "    <tr>\n",
       "      <th>PRIMM0601</th>\n",
       "      <td>PRIMM0601</td>\n",
       "      <td>GBR</td>\n",
       "      <td>male</td>\n",
       "      <td>senior</td>\n",
       "      <td>29.115422</td>\n",
       "      <td>no</td>\n",
       "    </tr>\n",
       "    <tr>\n",
       "      <th>PRIMM0602</th>\n",
       "      <td>PRIMM0602</td>\n",
       "      <td>GBR</td>\n",
       "      <td>male</td>\n",
       "      <td>adult</td>\n",
       "      <td>24.891179</td>\n",
       "      <td>no</td>\n",
       "    </tr>\n",
       "    <tr>\n",
       "      <th>PRIMM0610</th>\n",
       "      <td>PRIMM0610</td>\n",
       "      <td>GBR</td>\n",
       "      <td>male</td>\n",
       "      <td>adult</td>\n",
       "      <td>34.686277</td>\n",
       "      <td>yes</td>\n",
       "    </tr>\n",
       "    <tr>\n",
       "      <th>PRIMM0611</th>\n",
       "      <td>PRIMM0611</td>\n",
       "      <td>GBR</td>\n",
       "      <td>female</td>\n",
       "      <td>adult</td>\n",
       "      <td>27.161407</td>\n",
       "      <td>no</td>\n",
       "    </tr>\n",
       "  </tbody>\n",
       "</table>\n",
       "<p>153 rows × 6 columns</p>\n",
       "</div>"
      ],
      "text/plain": [
       "          subject_id country  gender age_category        BMI PFS12\n",
       "BCN-01_1    BCN-01_1     ESP    male        adult  28.713211   yes\n",
       "BCN-02_1    BCN-02_1     ESP  female        adult  27.354571    no\n",
       "BCN-03_1    BCN-03_1     ESP  female       senior  22.060354   yes\n",
       "BCN-04_1    BCN-04_1     ESP    male        adult  30.350330    no\n",
       "BCN-05_1    BCN-05_1     ESP    male       senior  36.079477   yes\n",
       "...              ...     ...     ...          ...        ...   ...\n",
       "PRIMM0597  PRIMM0597     GBR    male       senior  27.764650    no\n",
       "PRIMM0601  PRIMM0601     GBR    male       senior  29.115422    no\n",
       "PRIMM0602  PRIMM0602     GBR    male        adult  24.891179    no\n",
       "PRIMM0610  PRIMM0610     GBR    male        adult  34.686277   yes\n",
       "PRIMM0611  PRIMM0611     GBR  female        adult  27.161407    no\n",
       "\n",
       "[153 rows x 6 columns]"
      ]
     },
     "execution_count": 145,
     "metadata": {},
     "output_type": "execute_result"
    }
   ],
   "source": [
    "# Drop all observations with missing values\n",
    "data.dropna()"
   ]
  },
  {
   "cell_type": "code",
   "execution_count": 165,
   "id": "94ae104c",
   "metadata": {
    "ExecuteTime": {
     "end_time": "2023-04-18T10:53:23.473210Z",
     "start_time": "2023-04-18T10:53:23.465724Z"
    }
   },
   "outputs": [],
   "source": [
    "rel_ab = pd.read_csv(\"data/2022-04-13.LeeKA_2022.relative_abundance.SAMPLE.csv\", index_col=0)"
   ]
  },
  {
   "cell_type": "code",
   "execution_count": 166,
   "id": "671419e9",
   "metadata": {
    "ExecuteTime": {
     "end_time": "2023-04-18T10:53:34.647001Z",
     "start_time": "2023-04-18T10:53:34.622910Z"
    }
   },
   "outputs": [
    {
     "data": {
      "text/html": [
       "<div>\n",
       "<style scoped>\n",
       "    .dataframe tbody tr th:only-of-type {\n",
       "        vertical-align: middle;\n",
       "    }\n",
       "\n",
       "    .dataframe tbody tr th {\n",
       "        vertical-align: top;\n",
       "    }\n",
       "\n",
       "    .dataframe thead th {\n",
       "        text-align: right;\n",
       "    }\n",
       "</style>\n",
       "<table border=\"1\" class=\"dataframe\">\n",
       "  <thead>\n",
       "    <tr style=\"text-align: right;\">\n",
       "      <th></th>\n",
       "      <th>Anaerostipes_hadrus</th>\n",
       "      <th>Asaccharobacter_celatus</th>\n",
       "      <th>Coprococcus_comes</th>\n",
       "      <th>Fusicatenibacter_saccharivorans</th>\n",
       "      <th>Bacteroides_vulgatus</th>\n",
       "      <th>Methanobrevibacter_smithii</th>\n",
       "      <th>Streptococcus_salivarius</th>\n",
       "      <th>Dorea_longicatena</th>\n",
       "      <th>Bifidobacterium_bifidum</th>\n",
       "      <th>Eubacterium_rectale</th>\n",
       "      <th>Prevotella_copri</th>\n",
       "      <th>Bacteroides_uniformis</th>\n",
       "      <th>Alistipes_putredinis</th>\n",
       "      <th>Akkermansia_muciniphila</th>\n",
       "      <th>Faecalibacterium_prausnitzii</th>\n",
       "      <th>Ruminococcus_bromii</th>\n",
       "      <th>Escherichia_coli</th>\n",
       "      <th>Bifidobacterium_longum</th>\n",
       "      <th>Bifidobacterium_adolescentis</th>\n",
       "      <th>Collinsella_aerofaciens</th>\n",
       "    </tr>\n",
       "  </thead>\n",
       "  <tbody>\n",
       "    <tr>\n",
       "      <th>BCN-01_1</th>\n",
       "      <td>1.10764</td>\n",
       "      <td>0.00000</td>\n",
       "      <td>0.39131</td>\n",
       "      <td>0.80794</td>\n",
       "      <td>6.92922</td>\n",
       "      <td>0.00000</td>\n",
       "      <td>0.00000</td>\n",
       "      <td>0.07567</td>\n",
       "      <td>0.00000</td>\n",
       "      <td>0.06790</td>\n",
       "      <td>0.00000</td>\n",
       "      <td>21.67335</td>\n",
       "      <td>0.01142</td>\n",
       "      <td>0.00000</td>\n",
       "      <td>4.47034</td>\n",
       "      <td>0.87113</td>\n",
       "      <td>0.03334</td>\n",
       "      <td>0.00000</td>\n",
       "      <td>0.00000</td>\n",
       "      <td>0.05024</td>\n",
       "    </tr>\n",
       "    <tr>\n",
       "      <th>BCN-02_1</th>\n",
       "      <td>0.07957</td>\n",
       "      <td>0.02697</td>\n",
       "      <td>0.15881</td>\n",
       "      <td>0.42029</td>\n",
       "      <td>8.39282</td>\n",
       "      <td>0.01656</td>\n",
       "      <td>0.00405</td>\n",
       "      <td>0.65825</td>\n",
       "      <td>0.02668</td>\n",
       "      <td>0.11673</td>\n",
       "      <td>0.00000</td>\n",
       "      <td>16.93711</td>\n",
       "      <td>7.04382</td>\n",
       "      <td>0.13485</td>\n",
       "      <td>1.66004</td>\n",
       "      <td>0.07198</td>\n",
       "      <td>0.00000</td>\n",
       "      <td>0.01587</td>\n",
       "      <td>0.16376</td>\n",
       "      <td>0.19042</td>\n",
       "    </tr>\n",
       "    <tr>\n",
       "      <th>BCN-03_1</th>\n",
       "      <td>0.06803</td>\n",
       "      <td>0.00000</td>\n",
       "      <td>0.05290</td>\n",
       "      <td>0.04999</td>\n",
       "      <td>0.00000</td>\n",
       "      <td>0.00000</td>\n",
       "      <td>0.22965</td>\n",
       "      <td>0.03822</td>\n",
       "      <td>0.03016</td>\n",
       "      <td>0.17591</td>\n",
       "      <td>67.77848</td>\n",
       "      <td>1.81256</td>\n",
       "      <td>6.10781</td>\n",
       "      <td>0.16416</td>\n",
       "      <td>1.97072</td>\n",
       "      <td>0.00000</td>\n",
       "      <td>0.02288</td>\n",
       "      <td>0.00340</td>\n",
       "      <td>0.00095</td>\n",
       "      <td>0.08099</td>\n",
       "    </tr>\n",
       "    <tr>\n",
       "      <th>BCN-04_1</th>\n",
       "      <td>0.17733</td>\n",
       "      <td>0.00000</td>\n",
       "      <td>0.39534</td>\n",
       "      <td>0.40406</td>\n",
       "      <td>8.84652</td>\n",
       "      <td>0.00000</td>\n",
       "      <td>0.00000</td>\n",
       "      <td>0.82328</td>\n",
       "      <td>0.00000</td>\n",
       "      <td>3.82375</td>\n",
       "      <td>0.00000</td>\n",
       "      <td>6.37426</td>\n",
       "      <td>12.07799</td>\n",
       "      <td>0.00000</td>\n",
       "      <td>1.38323</td>\n",
       "      <td>1.71353</td>\n",
       "      <td>0.00000</td>\n",
       "      <td>0.01074</td>\n",
       "      <td>0.09001</td>\n",
       "      <td>1.10278</td>\n",
       "    </tr>\n",
       "    <tr>\n",
       "      <th>BCN-05_1</th>\n",
       "      <td>0.00000</td>\n",
       "      <td>0.38326</td>\n",
       "      <td>0.00000</td>\n",
       "      <td>0.05267</td>\n",
       "      <td>7.54186</td>\n",
       "      <td>0.61649</td>\n",
       "      <td>0.41095</td>\n",
       "      <td>0.09959</td>\n",
       "      <td>0.19483</td>\n",
       "      <td>0.24323</td>\n",
       "      <td>0.00000</td>\n",
       "      <td>30.92338</td>\n",
       "      <td>10.58879</td>\n",
       "      <td>0.00000</td>\n",
       "      <td>0.04580</td>\n",
       "      <td>15.63297</td>\n",
       "      <td>5.05773</td>\n",
       "      <td>1.79973</td>\n",
       "      <td>0.00000</td>\n",
       "      <td>0.00000</td>\n",
       "    </tr>\n",
       "    <tr>\n",
       "      <th>...</th>\n",
       "      <td>...</td>\n",
       "      <td>...</td>\n",
       "      <td>...</td>\n",
       "      <td>...</td>\n",
       "      <td>...</td>\n",
       "      <td>...</td>\n",
       "      <td>...</td>\n",
       "      <td>...</td>\n",
       "      <td>...</td>\n",
       "      <td>...</td>\n",
       "      <td>...</td>\n",
       "      <td>...</td>\n",
       "      <td>...</td>\n",
       "      <td>...</td>\n",
       "      <td>...</td>\n",
       "      <td>...</td>\n",
       "      <td>...</td>\n",
       "      <td>...</td>\n",
       "      <td>...</td>\n",
       "      <td>...</td>\n",
       "    </tr>\n",
       "    <tr>\n",
       "      <th>PRIMM0597</th>\n",
       "      <td>0.22115</td>\n",
       "      <td>0.00277</td>\n",
       "      <td>1.03476</td>\n",
       "      <td>0.00873</td>\n",
       "      <td>0.03489</td>\n",
       "      <td>30.94745</td>\n",
       "      <td>0.00000</td>\n",
       "      <td>0.62685</td>\n",
       "      <td>1.33145</td>\n",
       "      <td>0.00364</td>\n",
       "      <td>0.00000</td>\n",
       "      <td>0.26090</td>\n",
       "      <td>0.25945</td>\n",
       "      <td>16.65341</td>\n",
       "      <td>0.12416</td>\n",
       "      <td>7.14894</td>\n",
       "      <td>0.05581</td>\n",
       "      <td>2.70823</td>\n",
       "      <td>17.73016</td>\n",
       "      <td>6.64331</td>\n",
       "    </tr>\n",
       "    <tr>\n",
       "      <th>PRIMM0601</th>\n",
       "      <td>0.95506</td>\n",
       "      <td>2.53953</td>\n",
       "      <td>0.64197</td>\n",
       "      <td>5.23906</td>\n",
       "      <td>1.33929</td>\n",
       "      <td>0.18057</td>\n",
       "      <td>0.00000</td>\n",
       "      <td>0.23401</td>\n",
       "      <td>0.00000</td>\n",
       "      <td>1.64856</td>\n",
       "      <td>0.00000</td>\n",
       "      <td>0.35553</td>\n",
       "      <td>10.97529</td>\n",
       "      <td>3.49995</td>\n",
       "      <td>8.81142</td>\n",
       "      <td>0.72850</td>\n",
       "      <td>0.00321</td>\n",
       "      <td>4.60200</td>\n",
       "      <td>11.19295</td>\n",
       "      <td>14.16342</td>\n",
       "    </tr>\n",
       "    <tr>\n",
       "      <th>PRIMM0602</th>\n",
       "      <td>1.02018</td>\n",
       "      <td>0.00000</td>\n",
       "      <td>0.00000</td>\n",
       "      <td>0.00000</td>\n",
       "      <td>0.75382</td>\n",
       "      <td>0.00000</td>\n",
       "      <td>4.81872</td>\n",
       "      <td>0.00000</td>\n",
       "      <td>0.00000</td>\n",
       "      <td>0.00000</td>\n",
       "      <td>21.05900</td>\n",
       "      <td>0.87399</td>\n",
       "      <td>8.55740</td>\n",
       "      <td>0.00000</td>\n",
       "      <td>4.09780</td>\n",
       "      <td>0.00000</td>\n",
       "      <td>0.00000</td>\n",
       "      <td>0.00021</td>\n",
       "      <td>0.00000</td>\n",
       "      <td>2.71609</td>\n",
       "    </tr>\n",
       "    <tr>\n",
       "      <th>PRIMM0610</th>\n",
       "      <td>0.17088</td>\n",
       "      <td>0.09276</td>\n",
       "      <td>0.52401</td>\n",
       "      <td>0.26428</td>\n",
       "      <td>6.45565</td>\n",
       "      <td>0.00000</td>\n",
       "      <td>0.06262</td>\n",
       "      <td>0.66418</td>\n",
       "      <td>6.40206</td>\n",
       "      <td>2.59963</td>\n",
       "      <td>0.00000</td>\n",
       "      <td>8.48561</td>\n",
       "      <td>14.95995</td>\n",
       "      <td>0.00000</td>\n",
       "      <td>1.40408</td>\n",
       "      <td>0.00000</td>\n",
       "      <td>0.16784</td>\n",
       "      <td>4.93301</td>\n",
       "      <td>6.77746</td>\n",
       "      <td>3.73716</td>\n",
       "    </tr>\n",
       "    <tr>\n",
       "      <th>PRIMM0611</th>\n",
       "      <td>0.73125</td>\n",
       "      <td>0.46761</td>\n",
       "      <td>1.10538</td>\n",
       "      <td>3.78094</td>\n",
       "      <td>11.96714</td>\n",
       "      <td>0.00000</td>\n",
       "      <td>1.09892</td>\n",
       "      <td>0.92254</td>\n",
       "      <td>0.00000</td>\n",
       "      <td>6.69144</td>\n",
       "      <td>0.00000</td>\n",
       "      <td>12.38340</td>\n",
       "      <td>5.04658</td>\n",
       "      <td>0.00000</td>\n",
       "      <td>8.04238</td>\n",
       "      <td>6.87034</td>\n",
       "      <td>0.00000</td>\n",
       "      <td>0.00000</td>\n",
       "      <td>0.00000</td>\n",
       "      <td>2.84910</td>\n",
       "    </tr>\n",
       "  </tbody>\n",
       "</table>\n",
       "<p>165 rows × 20 columns</p>\n",
       "</div>"
      ],
      "text/plain": [
       "           Anaerostipes_hadrus  Asaccharobacter_celatus  Coprococcus_comes  \\\n",
       "BCN-01_1               1.10764                  0.00000            0.39131   \n",
       "BCN-02_1               0.07957                  0.02697            0.15881   \n",
       "BCN-03_1               0.06803                  0.00000            0.05290   \n",
       "BCN-04_1               0.17733                  0.00000            0.39534   \n",
       "BCN-05_1               0.00000                  0.38326            0.00000   \n",
       "...                        ...                      ...                ...   \n",
       "PRIMM0597              0.22115                  0.00277            1.03476   \n",
       "PRIMM0601              0.95506                  2.53953            0.64197   \n",
       "PRIMM0602              1.02018                  0.00000            0.00000   \n",
       "PRIMM0610              0.17088                  0.09276            0.52401   \n",
       "PRIMM0611              0.73125                  0.46761            1.10538   \n",
       "\n",
       "           Fusicatenibacter_saccharivorans  Bacteroides_vulgatus  \\\n",
       "BCN-01_1                           0.80794               6.92922   \n",
       "BCN-02_1                           0.42029               8.39282   \n",
       "BCN-03_1                           0.04999               0.00000   \n",
       "BCN-04_1                           0.40406               8.84652   \n",
       "BCN-05_1                           0.05267               7.54186   \n",
       "...                                    ...                   ...   \n",
       "PRIMM0597                          0.00873               0.03489   \n",
       "PRIMM0601                          5.23906               1.33929   \n",
       "PRIMM0602                          0.00000               0.75382   \n",
       "PRIMM0610                          0.26428               6.45565   \n",
       "PRIMM0611                          3.78094              11.96714   \n",
       "\n",
       "           Methanobrevibacter_smithii  Streptococcus_salivarius  \\\n",
       "BCN-01_1                      0.00000                   0.00000   \n",
       "BCN-02_1                      0.01656                   0.00405   \n",
       "BCN-03_1                      0.00000                   0.22965   \n",
       "BCN-04_1                      0.00000                   0.00000   \n",
       "BCN-05_1                      0.61649                   0.41095   \n",
       "...                               ...                       ...   \n",
       "PRIMM0597                    30.94745                   0.00000   \n",
       "PRIMM0601                     0.18057                   0.00000   \n",
       "PRIMM0602                     0.00000                   4.81872   \n",
       "PRIMM0610                     0.00000                   0.06262   \n",
       "PRIMM0611                     0.00000                   1.09892   \n",
       "\n",
       "           Dorea_longicatena  Bifidobacterium_bifidum  Eubacterium_rectale  \\\n",
       "BCN-01_1             0.07567                  0.00000              0.06790   \n",
       "BCN-02_1             0.65825                  0.02668              0.11673   \n",
       "BCN-03_1             0.03822                  0.03016              0.17591   \n",
       "BCN-04_1             0.82328                  0.00000              3.82375   \n",
       "BCN-05_1             0.09959                  0.19483              0.24323   \n",
       "...                      ...                      ...                  ...   \n",
       "PRIMM0597            0.62685                  1.33145              0.00364   \n",
       "PRIMM0601            0.23401                  0.00000              1.64856   \n",
       "PRIMM0602            0.00000                  0.00000              0.00000   \n",
       "PRIMM0610            0.66418                  6.40206              2.59963   \n",
       "PRIMM0611            0.92254                  0.00000              6.69144   \n",
       "\n",
       "           Prevotella_copri  Bacteroides_uniformis  Alistipes_putredinis  \\\n",
       "BCN-01_1            0.00000               21.67335               0.01142   \n",
       "BCN-02_1            0.00000               16.93711               7.04382   \n",
       "BCN-03_1           67.77848                1.81256               6.10781   \n",
       "BCN-04_1            0.00000                6.37426              12.07799   \n",
       "BCN-05_1            0.00000               30.92338              10.58879   \n",
       "...                     ...                    ...                   ...   \n",
       "PRIMM0597           0.00000                0.26090               0.25945   \n",
       "PRIMM0601           0.00000                0.35553              10.97529   \n",
       "PRIMM0602          21.05900                0.87399               8.55740   \n",
       "PRIMM0610           0.00000                8.48561              14.95995   \n",
       "PRIMM0611           0.00000               12.38340               5.04658   \n",
       "\n",
       "           Akkermansia_muciniphila  Faecalibacterium_prausnitzii  \\\n",
       "BCN-01_1                   0.00000                       4.47034   \n",
       "BCN-02_1                   0.13485                       1.66004   \n",
       "BCN-03_1                   0.16416                       1.97072   \n",
       "BCN-04_1                   0.00000                       1.38323   \n",
       "BCN-05_1                   0.00000                       0.04580   \n",
       "...                            ...                           ...   \n",
       "PRIMM0597                 16.65341                       0.12416   \n",
       "PRIMM0601                  3.49995                       8.81142   \n",
       "PRIMM0602                  0.00000                       4.09780   \n",
       "PRIMM0610                  0.00000                       1.40408   \n",
       "PRIMM0611                  0.00000                       8.04238   \n",
       "\n",
       "           Ruminococcus_bromii  Escherichia_coli  Bifidobacterium_longum  \\\n",
       "BCN-01_1               0.87113           0.03334                 0.00000   \n",
       "BCN-02_1               0.07198           0.00000                 0.01587   \n",
       "BCN-03_1               0.00000           0.02288                 0.00340   \n",
       "BCN-04_1               1.71353           0.00000                 0.01074   \n",
       "BCN-05_1              15.63297           5.05773                 1.79973   \n",
       "...                        ...               ...                     ...   \n",
       "PRIMM0597              7.14894           0.05581                 2.70823   \n",
       "PRIMM0601              0.72850           0.00321                 4.60200   \n",
       "PRIMM0602              0.00000           0.00000                 0.00021   \n",
       "PRIMM0610              0.00000           0.16784                 4.93301   \n",
       "PRIMM0611              6.87034           0.00000                 0.00000   \n",
       "\n",
       "           Bifidobacterium_adolescentis  Collinsella_aerofaciens  \n",
       "BCN-01_1                        0.00000                  0.05024  \n",
       "BCN-02_1                        0.16376                  0.19042  \n",
       "BCN-03_1                        0.00095                  0.08099  \n",
       "BCN-04_1                        0.09001                  1.10278  \n",
       "BCN-05_1                        0.00000                  0.00000  \n",
       "...                                 ...                      ...  \n",
       "PRIMM0597                      17.73016                  6.64331  \n",
       "PRIMM0601                      11.19295                 14.16342  \n",
       "PRIMM0602                       0.00000                  2.71609  \n",
       "PRIMM0610                       6.77746                  3.73716  \n",
       "PRIMM0611                       0.00000                  2.84910  \n",
       "\n",
       "[165 rows x 20 columns]"
      ]
     },
     "execution_count": 166,
     "metadata": {},
     "output_type": "execute_result"
    }
   ],
   "source": [
    "rel_ab"
   ]
  },
  {
   "cell_type": "code",
   "execution_count": 168,
   "id": "7631c68f",
   "metadata": {
    "ExecuteTime": {
     "end_time": "2023-04-18T10:56:16.479677Z",
     "start_time": "2023-04-18T10:56:16.471294Z"
    }
   },
   "outputs": [],
   "source": [
    "df = data.merge(rel_ab, left_index=True, right_index=True)"
   ]
  },
  {
   "cell_type": "code",
   "execution_count": 169,
   "id": "06f0461f",
   "metadata": {
    "ExecuteTime": {
     "end_time": "2023-04-18T10:56:18.834941Z",
     "start_time": "2023-04-18T10:56:18.815553Z"
    }
   },
   "outputs": [
    {
     "data": {
      "text/html": [
       "<div>\n",
       "<style scoped>\n",
       "    .dataframe tbody tr th:only-of-type {\n",
       "        vertical-align: middle;\n",
       "    }\n",
       "\n",
       "    .dataframe tbody tr th {\n",
       "        vertical-align: top;\n",
       "    }\n",
       "\n",
       "    .dataframe thead th {\n",
       "        text-align: right;\n",
       "    }\n",
       "</style>\n",
       "<table border=\"1\" class=\"dataframe\">\n",
       "  <thead>\n",
       "    <tr style=\"text-align: right;\">\n",
       "      <th></th>\n",
       "      <th>subject_id</th>\n",
       "      <th>country</th>\n",
       "      <th>gender</th>\n",
       "      <th>age_category</th>\n",
       "      <th>BMI</th>\n",
       "      <th>PFS12</th>\n",
       "      <th>Anaerostipes_hadrus</th>\n",
       "      <th>Asaccharobacter_celatus</th>\n",
       "      <th>Coprococcus_comes</th>\n",
       "      <th>Fusicatenibacter_saccharivorans</th>\n",
       "      <th>...</th>\n",
       "      <th>Prevotella_copri</th>\n",
       "      <th>Bacteroides_uniformis</th>\n",
       "      <th>Alistipes_putredinis</th>\n",
       "      <th>Akkermansia_muciniphila</th>\n",
       "      <th>Faecalibacterium_prausnitzii</th>\n",
       "      <th>Ruminococcus_bromii</th>\n",
       "      <th>Escherichia_coli</th>\n",
       "      <th>Bifidobacterium_longum</th>\n",
       "      <th>Bifidobacterium_adolescentis</th>\n",
       "      <th>Collinsella_aerofaciens</th>\n",
       "    </tr>\n",
       "  </thead>\n",
       "  <tbody>\n",
       "    <tr>\n",
       "      <th>BCN-01_1</th>\n",
       "      <td>BCN-01_1</td>\n",
       "      <td>ESP</td>\n",
       "      <td>male</td>\n",
       "      <td>adult</td>\n",
       "      <td>28.713211</td>\n",
       "      <td>yes</td>\n",
       "      <td>1.10764</td>\n",
       "      <td>0.00000</td>\n",
       "      <td>0.39131</td>\n",
       "      <td>0.80794</td>\n",
       "      <td>...</td>\n",
       "      <td>0.00000</td>\n",
       "      <td>21.67335</td>\n",
       "      <td>0.01142</td>\n",
       "      <td>0.00000</td>\n",
       "      <td>4.47034</td>\n",
       "      <td>0.87113</td>\n",
       "      <td>0.03334</td>\n",
       "      <td>0.00000</td>\n",
       "      <td>0.00000</td>\n",
       "      <td>0.05024</td>\n",
       "    </tr>\n",
       "    <tr>\n",
       "      <th>BCN-02_1</th>\n",
       "      <td>BCN-02_1</td>\n",
       "      <td>ESP</td>\n",
       "      <td>female</td>\n",
       "      <td>adult</td>\n",
       "      <td>27.354571</td>\n",
       "      <td>no</td>\n",
       "      <td>0.07957</td>\n",
       "      <td>0.02697</td>\n",
       "      <td>0.15881</td>\n",
       "      <td>0.42029</td>\n",
       "      <td>...</td>\n",
       "      <td>0.00000</td>\n",
       "      <td>16.93711</td>\n",
       "      <td>7.04382</td>\n",
       "      <td>0.13485</td>\n",
       "      <td>1.66004</td>\n",
       "      <td>0.07198</td>\n",
       "      <td>0.00000</td>\n",
       "      <td>0.01587</td>\n",
       "      <td>0.16376</td>\n",
       "      <td>0.19042</td>\n",
       "    </tr>\n",
       "    <tr>\n",
       "      <th>BCN-03_1</th>\n",
       "      <td>BCN-03_1</td>\n",
       "      <td>ESP</td>\n",
       "      <td>female</td>\n",
       "      <td>senior</td>\n",
       "      <td>22.060354</td>\n",
       "      <td>yes</td>\n",
       "      <td>0.06803</td>\n",
       "      <td>0.00000</td>\n",
       "      <td>0.05290</td>\n",
       "      <td>0.04999</td>\n",
       "      <td>...</td>\n",
       "      <td>67.77848</td>\n",
       "      <td>1.81256</td>\n",
       "      <td>6.10781</td>\n",
       "      <td>0.16416</td>\n",
       "      <td>1.97072</td>\n",
       "      <td>0.00000</td>\n",
       "      <td>0.02288</td>\n",
       "      <td>0.00340</td>\n",
       "      <td>0.00095</td>\n",
       "      <td>0.08099</td>\n",
       "    </tr>\n",
       "    <tr>\n",
       "      <th>BCN-04_1</th>\n",
       "      <td>BCN-04_1</td>\n",
       "      <td>ESP</td>\n",
       "      <td>male</td>\n",
       "      <td>adult</td>\n",
       "      <td>30.350330</td>\n",
       "      <td>no</td>\n",
       "      <td>0.17733</td>\n",
       "      <td>0.00000</td>\n",
       "      <td>0.39534</td>\n",
       "      <td>0.40406</td>\n",
       "      <td>...</td>\n",
       "      <td>0.00000</td>\n",
       "      <td>6.37426</td>\n",
       "      <td>12.07799</td>\n",
       "      <td>0.00000</td>\n",
       "      <td>1.38323</td>\n",
       "      <td>1.71353</td>\n",
       "      <td>0.00000</td>\n",
       "      <td>0.01074</td>\n",
       "      <td>0.09001</td>\n",
       "      <td>1.10278</td>\n",
       "    </tr>\n",
       "    <tr>\n",
       "      <th>BCN-05_1</th>\n",
       "      <td>BCN-05_1</td>\n",
       "      <td>ESP</td>\n",
       "      <td>male</td>\n",
       "      <td>senior</td>\n",
       "      <td>36.079477</td>\n",
       "      <td>yes</td>\n",
       "      <td>0.00000</td>\n",
       "      <td>0.38326</td>\n",
       "      <td>0.00000</td>\n",
       "      <td>0.05267</td>\n",
       "      <td>...</td>\n",
       "      <td>0.00000</td>\n",
       "      <td>30.92338</td>\n",
       "      <td>10.58879</td>\n",
       "      <td>0.00000</td>\n",
       "      <td>0.04580</td>\n",
       "      <td>15.63297</td>\n",
       "      <td>5.05773</td>\n",
       "      <td>1.79973</td>\n",
       "      <td>0.00000</td>\n",
       "      <td>0.00000</td>\n",
       "    </tr>\n",
       "  </tbody>\n",
       "</table>\n",
       "<p>5 rows × 26 columns</p>\n",
       "</div>"
      ],
      "text/plain": [
       "         subject_id country  gender age_category        BMI PFS12  \\\n",
       "BCN-01_1   BCN-01_1     ESP    male        adult  28.713211   yes   \n",
       "BCN-02_1   BCN-02_1     ESP  female        adult  27.354571    no   \n",
       "BCN-03_1   BCN-03_1     ESP  female       senior  22.060354   yes   \n",
       "BCN-04_1   BCN-04_1     ESP    male        adult  30.350330    no   \n",
       "BCN-05_1   BCN-05_1     ESP    male       senior  36.079477   yes   \n",
       "\n",
       "          Anaerostipes_hadrus  Asaccharobacter_celatus  Coprococcus_comes  \\\n",
       "BCN-01_1              1.10764                  0.00000            0.39131   \n",
       "BCN-02_1              0.07957                  0.02697            0.15881   \n",
       "BCN-03_1              0.06803                  0.00000            0.05290   \n",
       "BCN-04_1              0.17733                  0.00000            0.39534   \n",
       "BCN-05_1              0.00000                  0.38326            0.00000   \n",
       "\n",
       "          Fusicatenibacter_saccharivorans  ...  Prevotella_copri  \\\n",
       "BCN-01_1                          0.80794  ...           0.00000   \n",
       "BCN-02_1                          0.42029  ...           0.00000   \n",
       "BCN-03_1                          0.04999  ...          67.77848   \n",
       "BCN-04_1                          0.40406  ...           0.00000   \n",
       "BCN-05_1                          0.05267  ...           0.00000   \n",
       "\n",
       "          Bacteroides_uniformis  Alistipes_putredinis  \\\n",
       "BCN-01_1               21.67335               0.01142   \n",
       "BCN-02_1               16.93711               7.04382   \n",
       "BCN-03_1                1.81256               6.10781   \n",
       "BCN-04_1                6.37426              12.07799   \n",
       "BCN-05_1               30.92338              10.58879   \n",
       "\n",
       "          Akkermansia_muciniphila  Faecalibacterium_prausnitzii  \\\n",
       "BCN-01_1                  0.00000                       4.47034   \n",
       "BCN-02_1                  0.13485                       1.66004   \n",
       "BCN-03_1                  0.16416                       1.97072   \n",
       "BCN-04_1                  0.00000                       1.38323   \n",
       "BCN-05_1                  0.00000                       0.04580   \n",
       "\n",
       "          Ruminococcus_bromii  Escherichia_coli  Bifidobacterium_longum  \\\n",
       "BCN-01_1              0.87113           0.03334                 0.00000   \n",
       "BCN-02_1              0.07198           0.00000                 0.01587   \n",
       "BCN-03_1              0.00000           0.02288                 0.00340   \n",
       "BCN-04_1              1.71353           0.00000                 0.01074   \n",
       "BCN-05_1             15.63297           5.05773                 1.79973   \n",
       "\n",
       "          Bifidobacterium_adolescentis  Collinsella_aerofaciens  \n",
       "BCN-01_1                       0.00000                  0.05024  \n",
       "BCN-02_1                       0.16376                  0.19042  \n",
       "BCN-03_1                       0.00095                  0.08099  \n",
       "BCN-04_1                       0.09001                  1.10278  \n",
       "BCN-05_1                       0.00000                  0.00000  \n",
       "\n",
       "[5 rows x 26 columns]"
      ]
     },
     "execution_count": 169,
     "metadata": {},
     "output_type": "execute_result"
    }
   ],
   "source": [
    "df.head()"
   ]
  },
  {
   "cell_type": "code",
   "execution_count": 173,
   "id": "ec38a07c",
   "metadata": {
    "ExecuteTime": {
     "end_time": "2023-04-18T10:57:34.713538Z",
     "start_time": "2023-04-18T10:57:34.702861Z"
    }
   },
   "outputs": [
    {
     "data": {
      "text/html": [
       "<div>\n",
       "<style scoped>\n",
       "    .dataframe tbody tr th:only-of-type {\n",
       "        vertical-align: middle;\n",
       "    }\n",
       "\n",
       "    .dataframe tbody tr th {\n",
       "        vertical-align: top;\n",
       "    }\n",
       "\n",
       "    .dataframe thead th {\n",
       "        text-align: right;\n",
       "    }\n",
       "</style>\n",
       "<table border=\"1\" class=\"dataframe\">\n",
       "  <thead>\n",
       "    <tr style=\"text-align: right;\">\n",
       "      <th>gender</th>\n",
       "      <th>female</th>\n",
       "      <th>male</th>\n",
       "    </tr>\n",
       "  </thead>\n",
       "  <tbody>\n",
       "    <tr>\n",
       "      <th>BMI</th>\n",
       "      <td>27.343512</td>\n",
       "      <td>28.442919</td>\n",
       "    </tr>\n",
       "    <tr>\n",
       "      <th>Anaerostipes_hadrus</th>\n",
       "      <td>1.440507</td>\n",
       "      <td>0.949143</td>\n",
       "    </tr>\n",
       "    <tr>\n",
       "      <th>Asaccharobacter_celatus</th>\n",
       "      <td>1.282865</td>\n",
       "      <td>1.160262</td>\n",
       "    </tr>\n",
       "    <tr>\n",
       "      <th>Coprococcus_comes</th>\n",
       "      <td>1.034743</td>\n",
       "      <td>1.394531</td>\n",
       "    </tr>\n",
       "    <tr>\n",
       "      <th>Fusicatenibacter_saccharivorans</th>\n",
       "      <td>1.812966</td>\n",
       "      <td>1.174864</td>\n",
       "    </tr>\n",
       "    <tr>\n",
       "      <th>Bacteroides_vulgatus</th>\n",
       "      <td>1.045323</td>\n",
       "      <td>1.676070</td>\n",
       "    </tr>\n",
       "    <tr>\n",
       "      <th>Methanobrevibacter_smithii</th>\n",
       "      <td>0.911697</td>\n",
       "      <td>1.909317</td>\n",
       "    </tr>\n",
       "    <tr>\n",
       "      <th>Streptococcus_salivarius</th>\n",
       "      <td>1.889378</td>\n",
       "      <td>1.465998</td>\n",
       "    </tr>\n",
       "    <tr>\n",
       "      <th>Dorea_longicatena</th>\n",
       "      <td>1.926705</td>\n",
       "      <td>1.601548</td>\n",
       "    </tr>\n",
       "    <tr>\n",
       "      <th>Bifidobacterium_bifidum</th>\n",
       "      <td>2.634217</td>\n",
       "      <td>1.348373</td>\n",
       "    </tr>\n",
       "    <tr>\n",
       "      <th>Eubacterium_rectale</th>\n",
       "      <td>2.225288</td>\n",
       "      <td>1.723484</td>\n",
       "    </tr>\n",
       "    <tr>\n",
       "      <th>Prevotella_copri</th>\n",
       "      <td>1.885954</td>\n",
       "      <td>2.105218</td>\n",
       "    </tr>\n",
       "    <tr>\n",
       "      <th>Bacteroides_uniformis</th>\n",
       "      <td>3.274220</td>\n",
       "      <td>2.457283</td>\n",
       "    </tr>\n",
       "    <tr>\n",
       "      <th>Alistipes_putredinis</th>\n",
       "      <td>3.058663</td>\n",
       "      <td>2.872133</td>\n",
       "    </tr>\n",
       "    <tr>\n",
       "      <th>Akkermansia_muciniphila</th>\n",
       "      <td>2.590647</td>\n",
       "      <td>3.441601</td>\n",
       "    </tr>\n",
       "    <tr>\n",
       "      <th>Faecalibacterium_prausnitzii</th>\n",
       "      <td>2.883940</td>\n",
       "      <td>3.505347</td>\n",
       "    </tr>\n",
       "    <tr>\n",
       "      <th>Ruminococcus_bromii</th>\n",
       "      <td>2.964780</td>\n",
       "      <td>4.292764</td>\n",
       "    </tr>\n",
       "    <tr>\n",
       "      <th>Escherichia_coli</th>\n",
       "      <td>2.469753</td>\n",
       "      <td>5.997885</td>\n",
       "    </tr>\n",
       "    <tr>\n",
       "      <th>Bifidobacterium_longum</th>\n",
       "      <td>5.722079</td>\n",
       "      <td>4.701914</td>\n",
       "    </tr>\n",
       "    <tr>\n",
       "      <th>Bifidobacterium_adolescentis</th>\n",
       "      <td>5.450421</td>\n",
       "      <td>7.055093</td>\n",
       "    </tr>\n",
       "    <tr>\n",
       "      <th>Collinsella_aerofaciens</th>\n",
       "      <td>11.991692</td>\n",
       "      <td>10.238412</td>\n",
       "    </tr>\n",
       "  </tbody>\n",
       "</table>\n",
       "</div>"
      ],
      "text/plain": [
       "gender                              female       male\n",
       "BMI                              27.343512  28.442919\n",
       "Anaerostipes_hadrus               1.440507   0.949143\n",
       "Asaccharobacter_celatus           1.282865   1.160262\n",
       "Coprococcus_comes                 1.034743   1.394531\n",
       "Fusicatenibacter_saccharivorans   1.812966   1.174864\n",
       "Bacteroides_vulgatus              1.045323   1.676070\n",
       "Methanobrevibacter_smithii        0.911697   1.909317\n",
       "Streptococcus_salivarius          1.889378   1.465998\n",
       "Dorea_longicatena                 1.926705   1.601548\n",
       "Bifidobacterium_bifidum           2.634217   1.348373\n",
       "Eubacterium_rectale               2.225288   1.723484\n",
       "Prevotella_copri                  1.885954   2.105218\n",
       "Bacteroides_uniformis             3.274220   2.457283\n",
       "Alistipes_putredinis              3.058663   2.872133\n",
       "Akkermansia_muciniphila           2.590647   3.441601\n",
       "Faecalibacterium_prausnitzii      2.883940   3.505347\n",
       "Ruminococcus_bromii               2.964780   4.292764\n",
       "Escherichia_coli                  2.469753   5.997885\n",
       "Bifidobacterium_longum            5.722079   4.701914\n",
       "Bifidobacterium_adolescentis      5.450421   7.055093\n",
       "Collinsella_aerofaciens          11.991692  10.238412"
      ]
     },
     "execution_count": 173,
     "metadata": {},
     "output_type": "execute_result"
    }
   ],
   "source": [
    "df.groupby('gender').mean(numeric_only=True).T"
   ]
  },
  {
   "cell_type": "code",
   "execution_count": 174,
   "id": "3b6290e9",
   "metadata": {
    "ExecuteTime": {
     "end_time": "2023-04-18T11:08:10.575432Z",
     "start_time": "2023-04-18T11:08:10.562344Z"
    }
   },
   "outputs": [],
   "source": [
    "df.to_csv(\"data/ploting_ws.csv\")"
   ]
  }
 ],
 "metadata": {
  "kernelspec": {
   "display_name": "Python 3 (ipykernel)",
   "language": "python",
   "name": "python3"
  },
  "language_info": {
   "codemirror_mode": {
    "name": "ipython",
    "version": 3
   },
   "file_extension": ".py",
   "mimetype": "text/x-python",
   "name": "python",
   "nbconvert_exporter": "python",
   "pygments_lexer": "ipython3",
   "version": "3.8.13"
  },
  "toc": {
   "base_numbering": 1,
   "nav_menu": {},
   "number_sections": true,
   "sideBar": true,
   "skip_h1_title": false,
   "title_cell": "Table of Contents",
   "title_sidebar": "Contents",
   "toc_cell": false,
   "toc_position": {},
   "toc_section_display": true,
   "toc_window_display": false
  }
 },
 "nbformat": 4,
 "nbformat_minor": 5
}

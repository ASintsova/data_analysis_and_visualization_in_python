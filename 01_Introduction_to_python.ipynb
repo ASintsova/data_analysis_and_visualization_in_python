{
 "cells": [
  {
   "cell_type": "markdown",
   "id": "9b162f18",
   "metadata": {},
   "source": [
    "Adapted from:\n",
    "John Gosset, April Wright (eds): \"Data Carpentry Python Ecology lesson.\"\n",
    "Version 2017.04.0, April 2017,\n",
    "http://www.datacarpentry.org/python-ecology-lesson/,\n",
    "FIXME: Add Zenodo DOI."
   ]
  },
  {
   "cell_type": "markdown",
   "id": "ac6c137e",
   "metadata": {},
   "source": [
    "# Jupyter notebook shortcuts\n",
    "\n",
    "- There are two modes: command mode and edit mode\n",
    "- `Esc` to enter command mode. In command mode, you can move around, create/delete new cells. Press `Enter` to go to edit mode\n",
    "    - `Up` and `Down` to move around\n",
    "    - `A` to create a cell above the current cell\n",
    "    - `B` to create a cell below the current cell\n",
    "    - `X` to cut selected cells\n",
    "- In any mode `Shift` + `Enter` to run the selected cells"
   ]
  },
  {
   "cell_type": "markdown",
   "id": "c1a67924",
   "metadata": {},
   "source": [
    "# Data types and operators\n",
    "\n",
    "- Every value in a program has a specific type.\n",
    "- Integer (`int`): represents positive or negative whole numbers like 3 or -512.\n",
    "- Floating point number (`float`): represents real numbers like 3.14159 or -2.5.\n",
    "- Character string (usually called “string”, `str`): text. Written in either single quotes or double quotes (as long as they match).\n",
    "- Data type defines what operations can be performed on the value"
   ]
  },
  {
   "cell_type": "code",
   "execution_count": 1,
   "id": "d2f85ffd",
   "metadata": {
    "ExecuteTime": {
     "end_time": "2023-04-18T19:03:49.015011Z",
     "start_time": "2023-04-18T19:03:49.006745Z"
    }
   },
   "outputs": [
    {
     "data": {
      "text/plain": [
       "int"
      ]
     },
     "execution_count": 1,
     "metadata": {},
     "output_type": "execute_result"
    }
   ],
   "source": [
    "type(2)"
   ]
  },
  {
   "cell_type": "code",
   "execution_count": 2,
   "id": "cf544726",
   "metadata": {
    "ExecuteTime": {
     "end_time": "2023-04-18T19:03:49.712083Z",
     "start_time": "2023-04-18T19:03:49.707229Z"
    }
   },
   "outputs": [
    {
     "data": {
      "text/plain": [
       "int"
      ]
     },
     "execution_count": 2,
     "metadata": {},
     "output_type": "execute_result"
    }
   ],
   "source": [
    "type(3)"
   ]
  },
  {
   "cell_type": "code",
   "execution_count": 3,
   "id": "b54c509f",
   "metadata": {
    "ExecuteTime": {
     "end_time": "2023-04-18T19:03:50.115740Z",
     "start_time": "2023-04-18T19:03:50.111940Z"
    }
   },
   "outputs": [
    {
     "data": {
      "text/plain": [
       "5"
      ]
     },
     "execution_count": 3,
     "metadata": {},
     "output_type": "execute_result"
    }
   ],
   "source": [
    "2+3"
   ]
  },
  {
   "cell_type": "code",
   "execution_count": 4,
   "id": "dde28bdb",
   "metadata": {
    "ExecuteTime": {
     "end_time": "2023-04-18T19:03:50.520376Z",
     "start_time": "2023-04-18T19:03:50.515734Z"
    }
   },
   "outputs": [
    {
     "data": {
      "text/plain": [
       "65536"
      ]
     },
     "execution_count": 4,
     "metadata": {},
     "output_type": "execute_result"
    }
   ],
   "source": [
    "2 ** 16  # Power"
   ]
  },
  {
   "cell_type": "code",
   "execution_count": 5,
   "id": "bf34897c",
   "metadata": {
    "ExecuteTime": {
     "end_time": "2023-04-18T19:03:50.975554Z",
     "start_time": "2023-04-18T19:03:50.969873Z"
    }
   },
   "outputs": [
    {
     "data": {
      "text/plain": [
       "3"
      ]
     },
     "execution_count": 5,
     "metadata": {},
     "output_type": "execute_result"
    }
   ],
   "source": [
    "13 % 5  # Modulo"
   ]
  },
  {
   "cell_type": "code",
   "execution_count": 6,
   "id": "378d6791",
   "metadata": {
    "ExecuteTime": {
     "end_time": "2023-04-18T19:03:51.320982Z",
     "start_time": "2023-04-18T19:03:51.317196Z"
    }
   },
   "outputs": [
    {
     "data": {
      "text/plain": [
       "False"
      ]
     },
     "execution_count": 6,
     "metadata": {},
     "output_type": "execute_result"
    }
   ],
   "source": [
    "3 > 4"
   ]
  },
  {
   "cell_type": "code",
   "execution_count": 7,
   "id": "32aea2ce",
   "metadata": {
    "ExecuteTime": {
     "end_time": "2023-04-18T19:03:51.697632Z",
     "start_time": "2023-04-18T19:03:51.691100Z"
    }
   },
   "outputs": [
    {
     "data": {
      "text/plain": [
       "bool"
      ]
     },
     "execution_count": 7,
     "metadata": {},
     "output_type": "execute_result"
    }
   ],
   "source": [
    "type(True)"
   ]
  },
  {
   "cell_type": "code",
   "execution_count": 8,
   "id": "676ca928",
   "metadata": {
    "ExecuteTime": {
     "end_time": "2023-04-18T19:03:51.985432Z",
     "start_time": "2023-04-18T19:03:51.979318Z"
    }
   },
   "outputs": [
    {
     "data": {
      "text/plain": [
       "True"
      ]
     },
     "execution_count": 8,
     "metadata": {},
     "output_type": "execute_result"
    }
   ],
   "source": [
    "True or False"
   ]
  },
  {
   "cell_type": "code",
   "execution_count": 9,
   "id": "9e823e4c",
   "metadata": {
    "ExecuteTime": {
     "end_time": "2023-04-18T19:03:52.367914Z",
     "start_time": "2023-04-18T19:03:52.364862Z"
    }
   },
   "outputs": [
    {
     "name": "stdout",
     "output_type": "stream",
     "text": [
      "Hello world\n"
     ]
    }
   ],
   "source": [
    "print('Hello world')"
   ]
  },
  {
   "cell_type": "code",
   "execution_count": 10,
   "id": "6f3efb9f",
   "metadata": {
    "ExecuteTime": {
     "end_time": "2023-04-18T19:03:52.757514Z",
     "start_time": "2023-04-18T19:03:52.752406Z"
    }
   },
   "outputs": [
    {
     "data": {
      "text/plain": [
       "'Helloworld'"
      ]
     },
     "execution_count": 10,
     "metadata": {},
     "output_type": "execute_result"
    }
   ],
   "source": [
    "'Hello' + 'world'"
   ]
  },
  {
   "cell_type": "code",
   "execution_count": 11,
   "id": "3f371286",
   "metadata": {
    "ExecuteTime": {
     "end_time": "2023-04-18T19:03:53.116855Z",
     "start_time": "2023-04-18T19:03:53.112804Z"
    }
   },
   "outputs": [
    {
     "data": {
      "text/plain": [
       "11"
      ]
     },
     "execution_count": 11,
     "metadata": {},
     "output_type": "execute_result"
    }
   ],
   "source": [
    "len('Hello world')"
   ]
  },
  {
   "cell_type": "markdown",
   "id": "4bed8ace",
   "metadata": {},
   "source": [
    "# Variables\n",
    "\n",
    "- Here we’ve assigned data to the variables `age` and `first_name`, using the assignment operator `=`. \n",
    "- To review the value of a variable, we can type the name of the variable into the interpreter and press `Return`"
   ]
  },
  {
   "cell_type": "code",
   "execution_count": 12,
   "id": "4fd9cb1b",
   "metadata": {
    "ExecuteTime": {
     "end_time": "2023-04-18T19:03:53.947441Z",
     "start_time": "2023-04-18T19:03:53.942256Z"
    }
   },
   "outputs": [],
   "source": [
    "age = 42\n",
    "first_name = 'Lina'"
   ]
  },
  {
   "cell_type": "code",
   "execution_count": 13,
   "id": "1418f56f",
   "metadata": {
    "ExecuteTime": {
     "end_time": "2023-04-18T19:03:54.258980Z",
     "start_time": "2023-04-18T19:03:54.254517Z"
    }
   },
   "outputs": [
    {
     "data": {
      "text/plain": [
       "42"
      ]
     },
     "execution_count": 13,
     "metadata": {},
     "output_type": "execute_result"
    }
   ],
   "source": [
    "age"
   ]
  },
  {
   "cell_type": "code",
   "execution_count": 14,
   "id": "f5ada061",
   "metadata": {
    "ExecuteTime": {
     "end_time": "2023-04-18T19:03:54.558671Z",
     "start_time": "2023-04-18T19:03:54.555123Z"
    }
   },
   "outputs": [
    {
     "name": "stdout",
     "output_type": "stream",
     "text": [
      "Lina is 42 years old\n"
     ]
    }
   ],
   "source": [
    "print(first_name, 'is', age, 'years old')"
   ]
  },
  {
   "cell_type": "code",
   "execution_count": 15,
   "id": "29179a6b",
   "metadata": {
    "ExecuteTime": {
     "end_time": "2023-04-18T19:03:54.837999Z",
     "start_time": "2023-04-18T19:03:54.834181Z"
    }
   },
   "outputs": [],
   "source": [
    "age = 10"
   ]
  },
  {
   "cell_type": "code",
   "execution_count": 16,
   "id": "13636f76",
   "metadata": {
    "ExecuteTime": {
     "end_time": "2023-04-18T19:03:55.226533Z",
     "start_time": "2023-04-18T19:03:55.217386Z"
    }
   },
   "outputs": [
    {
     "data": {
      "text/plain": [
       "'Lina is 10 years old'"
      ]
     },
     "execution_count": 16,
     "metadata": {},
     "output_type": "execute_result"
    }
   ],
   "source": [
    "f'{first_name} is {age} years old'"
   ]
  },
  {
   "cell_type": "markdown",
   "id": "975811f0",
   "metadata": {},
   "source": [
    "# Data structures"
   ]
  },
  {
   "cell_type": "markdown",
   "id": "144a1c3f",
   "metadata": {},
   "source": [
    "## Lists\n",
    "Lists are a common data structure to hold an ordered sequence of elements. Each element can be accessed by an index. Note that Python indexes start with 0 instead of 1\n"
   ]
  },
  {
   "cell_type": "code",
   "execution_count": 17,
   "id": "3dd4a0d1",
   "metadata": {
    "ExecuteTime": {
     "end_time": "2023-04-18T19:03:56.408342Z",
     "start_time": "2023-04-18T19:03:56.402529Z"
    }
   },
   "outputs": [
    {
     "data": {
      "text/plain": [
       "1"
      ]
     },
     "execution_count": 17,
     "metadata": {},
     "output_type": "execute_result"
    }
   ],
   "source": [
    "numbers = [1, 2, 3]\n",
    "numbers[0]"
   ]
  },
  {
   "cell_type": "markdown",
   "id": "203d34d8",
   "metadata": {},
   "source": [
    "Iterate over a list:"
   ]
  },
  {
   "cell_type": "code",
   "execution_count": 18,
   "id": "beab66c0",
   "metadata": {
    "ExecuteTime": {
     "end_time": "2023-04-18T19:03:57.112420Z",
     "start_time": "2023-04-18T19:03:57.109181Z"
    }
   },
   "outputs": [
    {
     "name": "stdout",
     "output_type": "stream",
     "text": [
      "1\n",
      "2\n",
      "3\n"
     ]
    }
   ],
   "source": [
    "for number in numbers:\n",
    "    print(number)"
   ]
  },
  {
   "cell_type": "markdown",
   "id": "a7820ad6",
   "metadata": {},
   "source": [
    "Add values to the list:"
   ]
  },
  {
   "cell_type": "code",
   "execution_count": 19,
   "id": "ea0b3282",
   "metadata": {
    "ExecuteTime": {
     "end_time": "2023-04-18T19:03:57.783248Z",
     "start_time": "2023-04-18T19:03:57.780230Z"
    }
   },
   "outputs": [],
   "source": [
    "numbers.append(4)"
   ]
  },
  {
   "cell_type": "code",
   "execution_count": 20,
   "id": "b9056be1",
   "metadata": {
    "ExecuteTime": {
     "end_time": "2023-04-18T19:03:58.122741Z",
     "start_time": "2023-04-18T19:03:58.114153Z"
    }
   },
   "outputs": [
    {
     "data": {
      "text/plain": [
       "[1, 2, 3, 4]"
      ]
     },
     "execution_count": 20,
     "metadata": {},
     "output_type": "execute_result"
    }
   ],
   "source": [
    "numbers"
   ]
  },
  {
   "cell_type": "code",
   "execution_count": 21,
   "id": "f04bc80b",
   "metadata": {
    "ExecuteTime": {
     "end_time": "2023-04-18T19:03:58.411679Z",
     "start_time": "2023-04-18T19:03:58.408675Z"
    }
   },
   "outputs": [],
   "source": [
    "numbers_repeated = numbers*2"
   ]
  },
  {
   "cell_type": "code",
   "execution_count": 22,
   "id": "75194c74",
   "metadata": {
    "ExecuteTime": {
     "end_time": "2023-04-18T19:03:58.705454Z",
     "start_time": "2023-04-18T19:03:58.697833Z"
    }
   },
   "outputs": [
    {
     "data": {
      "text/plain": [
       "[1, 2, 3, 4, 1, 2, 3, 4]"
      ]
     },
     "execution_count": 22,
     "metadata": {},
     "output_type": "execute_result"
    }
   ],
   "source": [
    "numbers_repeated"
   ]
  },
  {
   "cell_type": "code",
   "execution_count": 23,
   "id": "91ac9fb0",
   "metadata": {
    "ExecuteTime": {
     "end_time": "2023-04-18T19:03:59.008996Z",
     "start_time": "2023-04-18T19:03:59.005377Z"
    }
   },
   "outputs": [],
   "source": [
    "numbers_doubled = [number*2 for number in numbers]"
   ]
  },
  {
   "cell_type": "code",
   "execution_count": 24,
   "id": "5610d75c",
   "metadata": {
    "ExecuteTime": {
     "end_time": "2023-04-18T19:03:59.312053Z",
     "start_time": "2023-04-18T19:03:59.306607Z"
    }
   },
   "outputs": [
    {
     "data": {
      "text/plain": [
       "[2, 4, 6, 8]"
      ]
     },
     "execution_count": 24,
     "metadata": {},
     "output_type": "execute_result"
    }
   ],
   "source": [
    "numbers_doubled"
   ]
  },
  {
   "cell_type": "code",
   "execution_count": 25,
   "id": "92037c99",
   "metadata": {
    "ExecuteTime": {
     "end_time": "2023-04-18T19:03:59.666455Z",
     "start_time": "2023-04-18T19:03:59.660447Z"
    }
   },
   "outputs": [
    {
     "data": {
      "text/plain": [
       "4"
      ]
     },
     "execution_count": 25,
     "metadata": {},
     "output_type": "execute_result"
    }
   ],
   "source": [
    "# Get the length of a list\n",
    "len(numbers_doubled)"
   ]
  },
  {
   "cell_type": "markdown",
   "id": "57627909",
   "metadata": {},
   "source": [
    "## Tuples\n",
    "\n",
    "On your own: find out the difference between tuples and lists"
   ]
  },
  {
   "cell_type": "markdown",
   "id": "aa5e1721",
   "metadata": {},
   "source": [
    "## Dictionaires\n",
    "A dictionary is a container that holds pairs of objects - keys and values."
   ]
  },
  {
   "cell_type": "code",
   "execution_count": 26,
   "id": "7af85d0f",
   "metadata": {
    "ExecuteTime": {
     "end_time": "2023-04-18T19:04:01.203355Z",
     "start_time": "2023-04-18T19:04:01.199130Z"
    }
   },
   "outputs": [],
   "source": [
    "capitals = {'France': 'Paris', 'England': 'London', 'Canada': 'Toronto'}\n"
   ]
  },
  {
   "cell_type": "code",
   "execution_count": 27,
   "id": "08fbbcac",
   "metadata": {
    "ExecuteTime": {
     "end_time": "2023-04-18T19:04:01.650415Z",
     "start_time": "2023-04-18T19:04:01.644161Z"
    }
   },
   "outputs": [
    {
     "data": {
      "text/plain": [
       "'Toronto'"
      ]
     },
     "execution_count": 27,
     "metadata": {},
     "output_type": "execute_result"
    }
   ],
   "source": [
    "capitals['Canada']"
   ]
  },
  {
   "cell_type": "code",
   "execution_count": 28,
   "id": "9bf910fd",
   "metadata": {
    "ExecuteTime": {
     "end_time": "2023-04-18T19:04:02.001863Z",
     "start_time": "2023-04-18T19:04:01.997350Z"
    }
   },
   "outputs": [],
   "source": [
    "capitals['Canada'] = 'Ottawa'"
   ]
  },
  {
   "cell_type": "code",
   "execution_count": 29,
   "id": "135fa1eb",
   "metadata": {
    "ExecuteTime": {
     "end_time": "2023-04-18T19:04:02.342152Z",
     "start_time": "2023-04-18T19:04:02.334091Z"
    }
   },
   "outputs": [
    {
     "data": {
      "text/plain": [
       "{'France': 'Paris', 'England': 'London', 'Canada': 'Ottawa'}"
      ]
     },
     "execution_count": 29,
     "metadata": {},
     "output_type": "execute_result"
    }
   ],
   "source": [
    "capitals"
   ]
  },
  {
   "cell_type": "code",
   "execution_count": 30,
   "id": "112eec83",
   "metadata": {
    "ExecuteTime": {
     "end_time": "2023-04-18T19:04:02.615224Z",
     "start_time": "2023-04-18T19:04:02.608291Z"
    }
   },
   "outputs": [
    {
     "data": {
      "text/plain": [
       "'T'"
      ]
     },
     "execution_count": 30,
     "metadata": {},
     "output_type": "execute_result"
    }
   ],
   "source": [
    "complement = {'A': 'T', \n",
    "              'C': 'G', \n",
    "              'T': 'A', \n",
    "              'G':'C'}\n",
    "complement['A']"
   ]
  },
  {
   "cell_type": "code",
   "execution_count": 31,
   "id": "0d36b1db",
   "metadata": {
    "ExecuteTime": {
     "end_time": "2023-04-18T19:04:02.906241Z",
     "start_time": "2023-04-18T19:04:02.902261Z"
    }
   },
   "outputs": [],
   "source": [
    "seq = 'AATTGCAT'"
   ]
  },
  {
   "cell_type": "code",
   "execution_count": 32,
   "id": "a3f7525d",
   "metadata": {
    "ExecuteTime": {
     "end_time": "2023-04-18T19:04:03.263965Z",
     "start_time": "2023-04-18T19:04:03.258980Z"
    }
   },
   "outputs": [
    {
     "data": {
      "text/plain": [
       "'AAT'"
      ]
     },
     "execution_count": 32,
     "metadata": {},
     "output_type": "execute_result"
    }
   ],
   "source": [
    "seq[0:3]"
   ]
  },
  {
   "cell_type": "code",
   "execution_count": 33,
   "id": "abf3891f",
   "metadata": {
    "ExecuteTime": {
     "end_time": "2023-04-18T19:04:03.506969Z",
     "start_time": "2023-04-18T19:04:03.501609Z"
    }
   },
   "outputs": [
    {
     "data": {
      "text/plain": [
       "8"
      ]
     },
     "execution_count": 33,
     "metadata": {},
     "output_type": "execute_result"
    }
   ],
   "source": [
    "len(seq)"
   ]
  },
  {
   "cell_type": "code",
   "execution_count": 34,
   "id": "7185cb88",
   "metadata": {
    "ExecuteTime": {
     "end_time": "2023-04-18T19:04:03.849378Z",
     "start_time": "2023-04-18T19:04:03.824230Z"
    }
   },
   "outputs": [],
   "source": [
    "reverse_seq = seq[::-1]"
   ]
  },
  {
   "cell_type": "code",
   "execution_count": 35,
   "id": "79f44f00",
   "metadata": {
    "ExecuteTime": {
     "end_time": "2023-04-18T19:04:04.109497Z",
     "start_time": "2023-04-18T19:04:04.103856Z"
    }
   },
   "outputs": [
    {
     "data": {
      "text/plain": [
       "'TACGTTAA'"
      ]
     },
     "execution_count": 35,
     "metadata": {},
     "output_type": "execute_result"
    }
   ],
   "source": [
    "reverse_seq"
   ]
  },
  {
   "cell_type": "code",
   "execution_count": 36,
   "id": "bdbef690",
   "metadata": {
    "ExecuteTime": {
     "end_time": "2023-04-18T19:04:04.470667Z",
     "start_time": "2023-04-18T19:04:04.464235Z"
    }
   },
   "outputs": [
    {
     "name": "stdout",
     "output_type": "stream",
     "text": [
      "T -> A\n",
      "A -> T\n",
      "C -> G\n",
      "G -> C\n",
      "T -> A\n",
      "T -> A\n",
      "A -> T\n",
      "A -> T\n"
     ]
    }
   ],
   "source": [
    "for letter in reverse_seq:\n",
    "    print(f'{letter} -> {complement[letter]}')"
   ]
  },
  {
   "cell_type": "markdown",
   "id": "74679cfd",
   "metadata": {},
   "source": [
    "# Functions\n",
    "\n",
    "- Defining a section of code as a function in Python is done using the `def` keyword. \n",
    "- Below are some examples of simple functions"
   ]
  },
  {
   "cell_type": "code",
   "execution_count": 37,
   "id": "5b110f8b",
   "metadata": {
    "ExecuteTime": {
     "end_time": "2023-04-18T19:04:05.431341Z",
     "start_time": "2023-04-18T19:04:05.424697Z"
    }
   },
   "outputs": [],
   "source": [
    "def fahrenheit_to_celsius(temp):\n",
    "    celsius_temp = (temp-32)*5/9\n",
    "    return round(celsius_temp,1)"
   ]
  },
  {
   "cell_type": "code",
   "execution_count": 38,
   "id": "8d2dfdd6",
   "metadata": {
    "ExecuteTime": {
     "end_time": "2023-04-18T19:04:07.333009Z",
     "start_time": "2023-04-18T19:04:07.323011Z"
    }
   },
   "outputs": [
    {
     "data": {
      "text/plain": [
       "-17.8"
      ]
     },
     "execution_count": 38,
     "metadata": {},
     "output_type": "execute_result"
    }
   ],
   "source": [
    "fahrenheit_to_celsius(0)"
   ]
  },
  {
   "cell_type": "code",
   "execution_count": 39,
   "id": "b87cad7e",
   "metadata": {
    "ExecuteTime": {
     "end_time": "2023-04-18T19:04:08.916079Z",
     "start_time": "2023-04-18T19:04:08.912138Z"
    }
   },
   "outputs": [],
   "source": [
    "def reverse_complement(sequence):\n",
    "    complement = {'A': 'T', 'C': 'G', 'T': 'A', 'G':'C'}\n",
    "    reverse_sequence = sequence[::-1]\n",
    "    return \"\".join([complement[letter] for letter in reverse_sequence])"
   ]
  },
  {
   "cell_type": "code",
   "execution_count": 40,
   "id": "4e63fbc4",
   "metadata": {
    "ExecuteTime": {
     "end_time": "2023-04-18T19:04:09.360659Z",
     "start_time": "2023-04-18T19:04:09.356032Z"
    }
   },
   "outputs": [
    {
     "data": {
      "text/plain": [
       "'CAGT'"
      ]
     },
     "execution_count": 40,
     "metadata": {},
     "output_type": "execute_result"
    }
   ],
   "source": [
    "reverse_complement(\"ACTG\")"
   ]
  }
 ],
 "metadata": {
  "kernelspec": {
   "display_name": "Python 3 (ipykernel)",
   "language": "python",
   "name": "python3"
  },
  "language_info": {
   "codemirror_mode": {
    "name": "ipython",
    "version": 3
   },
   "file_extension": ".py",
   "mimetype": "text/x-python",
   "name": "python",
   "nbconvert_exporter": "python",
   "pygments_lexer": "ipython3",
   "version": "3.8.13"
  },
  "toc": {
   "base_numbering": 1,
   "nav_menu": {},
   "number_sections": true,
   "sideBar": true,
   "skip_h1_title": false,
   "title_cell": "Table of Contents",
   "title_sidebar": "Contents",
   "toc_cell": false,
   "toc_position": {},
   "toc_section_display": true,
   "toc_window_display": true
  }
 },
 "nbformat": 4,
 "nbformat_minor": 5
}

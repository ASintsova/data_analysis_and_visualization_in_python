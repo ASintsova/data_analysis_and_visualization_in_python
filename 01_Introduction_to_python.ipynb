{
 "cells": [
  {
   "cell_type": "markdown",
   "id": "9b162f18",
   "metadata": {},
   "source": [
    "Adapted from:\n",
    "John Gosset, April Wright (eds): \"Data Carpentry Python Ecology lesson.\"\n",
    "Version 2017.04.0, April 2017,\n",
    "http://www.datacarpentry.org/python-ecology-lesson/,\n",
    "FIXME: Add Zenodo DOI."
   ]
  },
  {
   "cell_type": "markdown",
   "id": "c1a67924",
   "metadata": {},
   "source": [
    "# Data types and operators\n",
    "\n",
    "- Every value in a program has a specific type.\n",
    "- Integer (`int`): represents positive or negative whole numbers like 3 or -512.\n",
    "- Floating point number (`float`): represents real numbers like 3.14159 or -2.5.\n",
    "- Character string (usually called “string”, `str`): text. Written in either single quotes or double quotes (as long as they match).\n",
    "- Data type defines what operations can be performed on the value"
   ]
  },
  {
   "cell_type": "code",
   "execution_count": 14,
   "id": "d2f85ffd",
   "metadata": {
    "ExecuteTime": {
     "end_time": "2023-04-18T12:17:55.951794Z",
     "start_time": "2023-04-18T12:17:55.944402Z"
    }
   },
   "outputs": [
    {
     "data": {
      "text/plain": [
       "int"
      ]
     },
     "execution_count": 14,
     "metadata": {},
     "output_type": "execute_result"
    }
   ],
   "source": [
    "type(2)"
   ]
  },
  {
   "cell_type": "code",
   "execution_count": 15,
   "id": "cf544726",
   "metadata": {
    "ExecuteTime": {
     "end_time": "2023-04-18T12:18:03.880595Z",
     "start_time": "2023-04-18T12:18:03.874167Z"
    }
   },
   "outputs": [
    {
     "data": {
      "text/plain": [
       "int"
      ]
     },
     "execution_count": 15,
     "metadata": {},
     "output_type": "execute_result"
    }
   ],
   "source": [
    "type(3)"
   ]
  },
  {
   "cell_type": "code",
   "execution_count": 16,
   "id": "b54c509f",
   "metadata": {
    "ExecuteTime": {
     "end_time": "2023-04-18T12:18:05.920457Z",
     "start_time": "2023-04-18T12:18:05.913598Z"
    }
   },
   "outputs": [
    {
     "data": {
      "text/plain": [
       "5"
      ]
     },
     "execution_count": 16,
     "metadata": {},
     "output_type": "execute_result"
    }
   ],
   "source": [
    "2+3"
   ]
  },
  {
   "cell_type": "code",
   "execution_count": 23,
   "id": "dde28bdb",
   "metadata": {
    "ExecuteTime": {
     "end_time": "2023-04-14T15:13:53.355135Z",
     "start_time": "2023-04-14T15:13:53.349626Z"
    }
   },
   "outputs": [
    {
     "data": {
      "text/plain": [
       "65536"
      ]
     },
     "execution_count": 23,
     "metadata": {},
     "output_type": "execute_result"
    }
   ],
   "source": [
    "2 ** 16  # Power"
   ]
  },
  {
   "cell_type": "code",
   "execution_count": 35,
   "id": "bf34897c",
   "metadata": {
    "ExecuteTime": {
     "end_time": "2023-04-14T15:16:10.104742Z",
     "start_time": "2023-04-14T15:16:10.100787Z"
    }
   },
   "outputs": [
    {
     "data": {
      "text/plain": [
       "3"
      ]
     },
     "execution_count": 35,
     "metadata": {},
     "output_type": "execute_result"
    }
   ],
   "source": [
    "13 % 5  # Modulo"
   ]
  },
  {
   "cell_type": "code",
   "execution_count": 38,
   "id": "378d6791",
   "metadata": {
    "ExecuteTime": {
     "end_time": "2023-04-14T15:16:14.396957Z",
     "start_time": "2023-04-14T15:16:14.391240Z"
    }
   },
   "outputs": [
    {
     "data": {
      "text/plain": [
       "False"
      ]
     },
     "execution_count": 38,
     "metadata": {},
     "output_type": "execute_result"
    }
   ],
   "source": [
    "3 > 4"
   ]
  },
  {
   "cell_type": "code",
   "execution_count": 17,
   "id": "32aea2ce",
   "metadata": {
    "ExecuteTime": {
     "end_time": "2023-04-18T12:18:22.928412Z",
     "start_time": "2023-04-18T12:18:22.921637Z"
    }
   },
   "outputs": [
    {
     "data": {
      "text/plain": [
       "bool"
      ]
     },
     "execution_count": 17,
     "metadata": {},
     "output_type": "execute_result"
    }
   ],
   "source": [
    "type(True)"
   ]
  },
  {
   "cell_type": "code",
   "execution_count": 19,
   "id": "676ca928",
   "metadata": {
    "ExecuteTime": {
     "end_time": "2023-04-18T12:18:33.348443Z",
     "start_time": "2023-04-18T12:18:33.343782Z"
    }
   },
   "outputs": [
    {
     "data": {
      "text/plain": [
       "True"
      ]
     },
     "execution_count": 19,
     "metadata": {},
     "output_type": "execute_result"
    }
   ],
   "source": [
    "True or False"
   ]
  },
  {
   "cell_type": "code",
   "execution_count": 16,
   "id": "9e823e4c",
   "metadata": {
    "ExecuteTime": {
     "end_time": "2023-04-14T15:10:56.495250Z",
     "start_time": "2023-04-14T15:10:56.490249Z"
    }
   },
   "outputs": [
    {
     "name": "stdout",
     "output_type": "stream",
     "text": [
      "Hello world\n"
     ]
    }
   ],
   "source": [
    "print('Hello world')"
   ]
  },
  {
   "cell_type": "code",
   "execution_count": 20,
   "id": "6f3efb9f",
   "metadata": {
    "ExecuteTime": {
     "end_time": "2023-04-18T12:18:49.038993Z",
     "start_time": "2023-04-18T12:18:49.032238Z"
    }
   },
   "outputs": [
    {
     "data": {
      "text/plain": [
       "'Helloworld'"
      ]
     },
     "execution_count": 20,
     "metadata": {},
     "output_type": "execute_result"
    }
   ],
   "source": [
    "'Hello' + 'world'"
   ]
  },
  {
   "cell_type": "code",
   "execution_count": 21,
   "id": "3f371286",
   "metadata": {
    "ExecuteTime": {
     "end_time": "2023-04-18T12:19:18.298666Z",
     "start_time": "2023-04-18T12:19:18.291515Z"
    }
   },
   "outputs": [
    {
     "data": {
      "text/plain": [
       "11"
      ]
     },
     "execution_count": 21,
     "metadata": {},
     "output_type": "execute_result"
    }
   ],
   "source": [
    "len('Hello world')"
   ]
  },
  {
   "cell_type": "markdown",
   "id": "4bed8ace",
   "metadata": {},
   "source": [
    "# Variables\n",
    "\n",
    "- Here we’ve assigned data to the variables `age` and `first_name`, using the assignment operator `=`. \n",
    "- To review the value of a variable, we can type the name of the variable into the interpreter and press `Return`"
   ]
  },
  {
   "cell_type": "code",
   "execution_count": 22,
   "id": "4fd9cb1b",
   "metadata": {
    "ExecuteTime": {
     "end_time": "2023-04-18T12:21:19.660507Z",
     "start_time": "2023-04-18T12:21:19.655774Z"
    }
   },
   "outputs": [],
   "source": [
    "age = 42\n",
    "first_name = 'Lina'"
   ]
  },
  {
   "cell_type": "code",
   "execution_count": 23,
   "id": "1418f56f",
   "metadata": {
    "ExecuteTime": {
     "end_time": "2023-04-18T12:21:23.015257Z",
     "start_time": "2023-04-18T12:21:23.008435Z"
    }
   },
   "outputs": [
    {
     "data": {
      "text/plain": [
       "42"
      ]
     },
     "execution_count": 23,
     "metadata": {},
     "output_type": "execute_result"
    }
   ],
   "source": [
    "age"
   ]
  },
  {
   "cell_type": "code",
   "execution_count": 24,
   "id": "f5ada061",
   "metadata": {
    "ExecuteTime": {
     "end_time": "2023-04-18T12:21:24.137339Z",
     "start_time": "2023-04-18T12:21:24.131577Z"
    }
   },
   "outputs": [
    {
     "name": "stdout",
     "output_type": "stream",
     "text": [
      "Lina is 42 years old\n"
     ]
    }
   ],
   "source": [
    "print(first_name, 'is', age, 'years old')"
   ]
  },
  {
   "cell_type": "code",
   "execution_count": 25,
   "id": "29179a6b",
   "metadata": {
    "ExecuteTime": {
     "end_time": "2023-04-18T12:21:28.126067Z",
     "start_time": "2023-04-18T12:21:28.122309Z"
    }
   },
   "outputs": [],
   "source": [
    "age = 10"
   ]
  },
  {
   "cell_type": "code",
   "execution_count": 26,
   "id": "13636f76",
   "metadata": {
    "ExecuteTime": {
     "end_time": "2023-04-18T12:21:29.996799Z",
     "start_time": "2023-04-18T12:21:29.990450Z"
    }
   },
   "outputs": [
    {
     "data": {
      "text/plain": [
       "'Lina is 10 years old'"
      ]
     },
     "execution_count": 26,
     "metadata": {},
     "output_type": "execute_result"
    }
   ],
   "source": [
    "f'{first_name} is {age} years old'"
   ]
  },
  {
   "cell_type": "markdown",
   "id": "975811f0",
   "metadata": {},
   "source": [
    "# Data structures"
   ]
  },
  {
   "cell_type": "markdown",
   "id": "144a1c3f",
   "metadata": {},
   "source": [
    "## Lists\n",
    "Lists are a common data structure to hold an ordered sequence of elements. Each element can be accessed by an index. Note that Python indexes start with 0 instead of 1\n"
   ]
  },
  {
   "cell_type": "code",
   "execution_count": 40,
   "id": "3dd4a0d1",
   "metadata": {
    "ExecuteTime": {
     "end_time": "2023-04-14T15:18:13.363344Z",
     "start_time": "2023-04-14T15:18:13.356649Z"
    }
   },
   "outputs": [
    {
     "data": {
      "text/plain": [
       "1"
      ]
     },
     "execution_count": 40,
     "metadata": {},
     "output_type": "execute_result"
    }
   ],
   "source": [
    "numbers = [1, 2, 3]\n",
    "numbers[0]"
   ]
  },
  {
   "cell_type": "markdown",
   "id": "203d34d8",
   "metadata": {},
   "source": [
    "Iterate over a list:"
   ]
  },
  {
   "cell_type": "code",
   "execution_count": 41,
   "id": "beab66c0",
   "metadata": {
    "ExecuteTime": {
     "end_time": "2023-04-14T15:20:38.444689Z",
     "start_time": "2023-04-14T15:20:38.439663Z"
    }
   },
   "outputs": [
    {
     "name": "stdout",
     "output_type": "stream",
     "text": [
      "1\n",
      "2\n",
      "3\n"
     ]
    }
   ],
   "source": [
    "for number in numbers:\n",
    "    print(number)"
   ]
  },
  {
   "cell_type": "markdown",
   "id": "a7820ad6",
   "metadata": {},
   "source": [
    "Add values to the list:"
   ]
  },
  {
   "cell_type": "code",
   "execution_count": 42,
   "id": "ea0b3282",
   "metadata": {
    "ExecuteTime": {
     "end_time": "2023-04-14T15:21:21.390099Z",
     "start_time": "2023-04-14T15:21:21.386313Z"
    }
   },
   "outputs": [],
   "source": [
    "numbers.append(4)"
   ]
  },
  {
   "cell_type": "code",
   "execution_count": 43,
   "id": "b9056be1",
   "metadata": {
    "ExecuteTime": {
     "end_time": "2023-04-14T15:21:25.563239Z",
     "start_time": "2023-04-14T15:21:25.557340Z"
    }
   },
   "outputs": [
    {
     "data": {
      "text/plain": [
       "[1, 2, 3, 4]"
      ]
     },
     "execution_count": 43,
     "metadata": {},
     "output_type": "execute_result"
    }
   ],
   "source": [
    "numbers"
   ]
  },
  {
   "cell_type": "code",
   "execution_count": 47,
   "id": "f04bc80b",
   "metadata": {
    "ExecuteTime": {
     "end_time": "2023-04-14T15:22:20.550502Z",
     "start_time": "2023-04-14T15:22:20.545486Z"
    }
   },
   "outputs": [],
   "source": [
    "numbers_repeated = numbers*2"
   ]
  },
  {
   "cell_type": "code",
   "execution_count": 48,
   "id": "75194c74",
   "metadata": {
    "ExecuteTime": {
     "end_time": "2023-04-14T15:22:26.159263Z",
     "start_time": "2023-04-14T15:22:26.152298Z"
    }
   },
   "outputs": [
    {
     "data": {
      "text/plain": [
       "[1, 2, 3, 4, 1, 2, 3, 4]"
      ]
     },
     "execution_count": 48,
     "metadata": {},
     "output_type": "execute_result"
    }
   ],
   "source": [
    "numbers_repeated"
   ]
  },
  {
   "cell_type": "code",
   "execution_count": 49,
   "id": "91ac9fb0",
   "metadata": {
    "ExecuteTime": {
     "end_time": "2023-04-14T15:22:56.640355Z",
     "start_time": "2023-04-14T15:22:56.636079Z"
    }
   },
   "outputs": [],
   "source": [
    "numbers_doubled = [number*2 for number in numbers]"
   ]
  },
  {
   "cell_type": "code",
   "execution_count": 50,
   "id": "5610d75c",
   "metadata": {
    "ExecuteTime": {
     "end_time": "2023-04-14T15:23:03.225475Z",
     "start_time": "2023-04-14T15:23:03.218584Z"
    }
   },
   "outputs": [
    {
     "data": {
      "text/plain": [
       "[2, 4, 6, 8]"
      ]
     },
     "execution_count": 50,
     "metadata": {},
     "output_type": "execute_result"
    }
   ],
   "source": [
    "numbers_doubled"
   ]
  },
  {
   "cell_type": "code",
   "execution_count": 27,
   "id": "92037c99",
   "metadata": {
    "ExecuteTime": {
     "end_time": "2023-04-18T12:22:04.542124Z",
     "start_time": "2023-04-18T12:22:04.521408Z"
    }
   },
   "outputs": [
    {
     "ename": "NameError",
     "evalue": "name 'numbers_doubled' is not defined",
     "output_type": "error",
     "traceback": [
      "\u001b[0;31m---------------------------------------------------------------------------\u001b[0m",
      "\u001b[0;31mNameError\u001b[0m                                 Traceback (most recent call last)",
      "Cell \u001b[0;32mIn [27], line 2\u001b[0m\n\u001b[1;32m      1\u001b[0m \u001b[38;5;66;03m# Get the length of a list\u001b[39;00m\n\u001b[0;32m----> 2\u001b[0m \u001b[38;5;28mlen\u001b[39m(numbers_doubled)\n",
      "\u001b[0;31mNameError\u001b[0m: name 'numbers_doubled' is not defined"
     ]
    }
   ],
   "source": [
    "# Get the length of a list\n",
    "len(numbers_doubled)"
   ]
  },
  {
   "cell_type": "markdown",
   "id": "57627909",
   "metadata": {},
   "source": [
    "## Tuples\n",
    "\n",
    "On your own: find out the difference between tuples and lists"
   ]
  },
  {
   "cell_type": "markdown",
   "id": "aa5e1721",
   "metadata": {},
   "source": [
    "## Dictionaires\n",
    "A dictionary is a container that holds pairs of objects - keys and values."
   ]
  },
  {
   "cell_type": "code",
   "execution_count": 28,
   "id": "7af85d0f",
   "metadata": {
    "ExecuteTime": {
     "end_time": "2023-04-18T12:23:17.235852Z",
     "start_time": "2023-04-18T12:23:17.232410Z"
    }
   },
   "outputs": [],
   "source": [
    "capitals = {'France': 'Paris', 'England': 'London', 'Canada': 'Toronto'}\n"
   ]
  },
  {
   "cell_type": "code",
   "execution_count": 29,
   "id": "08fbbcac",
   "metadata": {
    "ExecuteTime": {
     "end_time": "2023-04-18T12:23:26.638040Z",
     "start_time": "2023-04-18T12:23:26.631488Z"
    }
   },
   "outputs": [
    {
     "data": {
      "text/plain": [
       "'Toronto'"
      ]
     },
     "execution_count": 29,
     "metadata": {},
     "output_type": "execute_result"
    }
   ],
   "source": [
    "capitals['Canada']"
   ]
  },
  {
   "cell_type": "code",
   "execution_count": 30,
   "id": "9bf910fd",
   "metadata": {
    "ExecuteTime": {
     "end_time": "2023-04-18T12:23:48.572606Z",
     "start_time": "2023-04-18T12:23:48.567947Z"
    }
   },
   "outputs": [],
   "source": [
    "capitals['Canada'] = 'Ottawa'"
   ]
  },
  {
   "cell_type": "code",
   "execution_count": 31,
   "id": "135fa1eb",
   "metadata": {
    "ExecuteTime": {
     "end_time": "2023-04-18T12:23:53.034899Z",
     "start_time": "2023-04-18T12:23:53.027892Z"
    }
   },
   "outputs": [
    {
     "data": {
      "text/plain": [
       "{'France': 'Paris', 'England': 'London', 'Canada': 'Ottawa'}"
      ]
     },
     "execution_count": 31,
     "metadata": {},
     "output_type": "execute_result"
    }
   ],
   "source": [
    "capitals"
   ]
  },
  {
   "cell_type": "code",
   "execution_count": 1,
   "id": "112eec83",
   "metadata": {
    "ExecuteTime": {
     "end_time": "2023-04-18T12:09:09.803455Z",
     "start_time": "2023-04-18T12:09:09.793514Z"
    }
   },
   "outputs": [
    {
     "data": {
      "text/plain": [
       "'T'"
      ]
     },
     "execution_count": 1,
     "metadata": {},
     "output_type": "execute_result"
    }
   ],
   "source": [
    "complement = {'A': 'T', \n",
    "              'C': 'G', \n",
    "              'T': 'A', \n",
    "              'G':'C'}\n",
    "complement['A']"
   ]
  },
  {
   "cell_type": "code",
   "execution_count": 32,
   "id": "0d36b1db",
   "metadata": {
    "ExecuteTime": {
     "end_time": "2023-04-18T12:24:49.147130Z",
     "start_time": "2023-04-18T12:24:49.142245Z"
    }
   },
   "outputs": [],
   "source": [
    "seq = 'AATTGCAT'"
   ]
  },
  {
   "cell_type": "code",
   "execution_count": 33,
   "id": "a3f7525d",
   "metadata": {
    "ExecuteTime": {
     "end_time": "2023-04-18T12:24:56.905645Z",
     "start_time": "2023-04-18T12:24:56.899330Z"
    }
   },
   "outputs": [
    {
     "data": {
      "text/plain": [
       "'AAT'"
      ]
     },
     "execution_count": 33,
     "metadata": {},
     "output_type": "execute_result"
    }
   ],
   "source": [
    "seq[0:3]"
   ]
  },
  {
   "cell_type": "code",
   "execution_count": 34,
   "id": "abf3891f",
   "metadata": {
    "ExecuteTime": {
     "end_time": "2023-04-18T12:25:01.296930Z",
     "start_time": "2023-04-18T12:25:01.290318Z"
    }
   },
   "outputs": [
    {
     "data": {
      "text/plain": [
       "8"
      ]
     },
     "execution_count": 34,
     "metadata": {},
     "output_type": "execute_result"
    }
   ],
   "source": [
    "len(seq)"
   ]
  },
  {
   "cell_type": "code",
   "execution_count": 39,
   "id": "7185cb88",
   "metadata": {
    "ExecuteTime": {
     "end_time": "2023-04-18T12:26:04.570573Z",
     "start_time": "2023-04-18T12:26:04.566880Z"
    }
   },
   "outputs": [],
   "source": [
    "reverse_seq = seq[::-1]"
   ]
  },
  {
   "cell_type": "code",
   "execution_count": 40,
   "id": "79f44f00",
   "metadata": {
    "ExecuteTime": {
     "end_time": "2023-04-18T12:26:10.307138Z",
     "start_time": "2023-04-18T12:26:10.301313Z"
    }
   },
   "outputs": [
    {
     "data": {
      "text/plain": [
       "'TACGTTAA'"
      ]
     },
     "execution_count": 40,
     "metadata": {},
     "output_type": "execute_result"
    }
   ],
   "source": [
    "reverse_seq"
   ]
  },
  {
   "cell_type": "code",
   "execution_count": 43,
   "id": "bdbef690",
   "metadata": {
    "ExecuteTime": {
     "end_time": "2023-04-18T12:26:38.305786Z",
     "start_time": "2023-04-18T12:26:38.300245Z"
    }
   },
   "outputs": [
    {
     "name": "stdout",
     "output_type": "stream",
     "text": [
      "T -> A\n",
      "A -> T\n",
      "C -> G\n",
      "G -> C\n",
      "T -> A\n",
      "T -> A\n",
      "A -> T\n",
      "A -> T\n"
     ]
    }
   ],
   "source": [
    "for letter in reverse_seq:\n",
    "    print(f'{letter} -> {complement[letter]}')"
   ]
  },
  {
   "cell_type": "markdown",
   "id": "74679cfd",
   "metadata": {},
   "source": [
    "# Functions\n",
    "\n",
    "- Defining a section of code as a function in Python is done using the `def` keyword. \n",
    "- Below are some examples of simple functions"
   ]
  },
  {
   "cell_type": "code",
   "execution_count": 7,
   "id": "5b110f8b",
   "metadata": {
    "ExecuteTime": {
     "end_time": "2023-04-18T12:12:00.261618Z",
     "start_time": "2023-04-18T12:12:00.255793Z"
    }
   },
   "outputs": [],
   "source": [
    "def fahrenheit_to_celsius(temp):\n",
    "    celsius_temp = (temp-32)*5/9\n",
    "    return round(celsius_temp,1)"
   ]
  },
  {
   "cell_type": "code",
   "execution_count": 11,
   "id": "8d2dfdd6",
   "metadata": {
    "ExecuteTime": {
     "end_time": "2023-04-18T12:12:09.565241Z",
     "start_time": "2023-04-18T12:12:09.558459Z"
    }
   },
   "outputs": [
    {
     "data": {
      "text/plain": [
       "-17.8"
      ]
     },
     "execution_count": 11,
     "metadata": {},
     "output_type": "execute_result"
    }
   ],
   "source": [
    "fahrenheit_to_celsius(0)"
   ]
  },
  {
   "cell_type": "code",
   "execution_count": 2,
   "id": "b87cad7e",
   "metadata": {
    "ExecuteTime": {
     "end_time": "2023-04-18T12:10:03.581792Z",
     "start_time": "2023-04-18T12:10:03.576471Z"
    }
   },
   "outputs": [],
   "source": [
    "def reverse_complement(sequence):\n",
    "    complement = {'A': 'T', 'C': 'G', 'T': 'A', 'G':'C'}\n",
    "    reverse_sequence = sequence[::-1]\n",
    "    return \"\".join([complement[letter] for letter in reverse_sequence])"
   ]
  },
  {
   "cell_type": "code",
   "execution_count": 13,
   "id": "4e63fbc4",
   "metadata": {
    "ExecuteTime": {
     "end_time": "2023-04-18T12:12:35.093035Z",
     "start_time": "2023-04-18T12:12:35.087341Z"
    }
   },
   "outputs": [
    {
     "data": {
      "text/plain": [
       "'CAGT'"
      ]
     },
     "execution_count": 13,
     "metadata": {},
     "output_type": "execute_result"
    }
   ],
   "source": [
    "reverse_complement(\"ACTG\")"
   ]
  }
 ],
 "metadata": {
  "kernelspec": {
   "display_name": "Python 3 (ipykernel)",
   "language": "python",
   "name": "python3"
  },
  "language_info": {
   "codemirror_mode": {
    "name": "ipython",
    "version": 3
   },
   "file_extension": ".py",
   "mimetype": "text/x-python",
   "name": "python",
   "nbconvert_exporter": "python",
   "pygments_lexer": "ipython3",
   "version": "3.8.13"
  },
  "toc": {
   "base_numbering": 1,
   "nav_menu": {},
   "number_sections": true,
   "sideBar": true,
   "skip_h1_title": false,
   "title_cell": "Table of Contents",
   "title_sidebar": "Contents",
   "toc_cell": false,
   "toc_position": {},
   "toc_section_display": true,
   "toc_window_display": true
  }
 },
 "nbformat": 4,
 "nbformat_minor": 5
}

{
 "cells": [
  {
   "cell_type": "markdown",
   "id": "9b162f18",
   "metadata": {},
   "source": [
    "Adapted from:\n",
    "John Gosset, April Wright (eds): \"Data Carpentry Python Ecology lesson.\"\n",
    "Version 2017.04.0, April 2017,\n",
    "http://www.datacarpentry.org/python-ecology-lesson/,\n",
    "FIXME: Add Zenodo DOI."
   ]
  },
  {
   "cell_type": "markdown",
   "id": "c1a67924",
   "metadata": {},
   "source": [
    "# Operators"
   ]
  },
  {
   "cell_type": "code",
   "execution_count": 22,
   "id": "b54c509f",
   "metadata": {
    "ExecuteTime": {
     "end_time": "2023-04-14T15:13:52.580650Z",
     "start_time": "2023-04-14T15:13:52.575679Z"
    }
   },
   "outputs": [
    {
     "data": {
      "text/plain": [
       "5"
      ]
     },
     "execution_count": 22,
     "metadata": {},
     "output_type": "execute_result"
    }
   ],
   "source": [
    "2+3"
   ]
  },
  {
   "cell_type": "code",
   "execution_count": 23,
   "id": "dde28bdb",
   "metadata": {
    "ExecuteTime": {
     "end_time": "2023-04-14T15:13:53.355135Z",
     "start_time": "2023-04-14T15:13:53.349626Z"
    }
   },
   "outputs": [
    {
     "data": {
      "text/plain": [
       "65536"
      ]
     },
     "execution_count": 23,
     "metadata": {},
     "output_type": "execute_result"
    }
   ],
   "source": [
    "2 ** 16  # Power"
   ]
  },
  {
   "cell_type": "code",
   "execution_count": 35,
   "id": "bf34897c",
   "metadata": {
    "ExecuteTime": {
     "end_time": "2023-04-14T15:16:10.104742Z",
     "start_time": "2023-04-14T15:16:10.100787Z"
    }
   },
   "outputs": [
    {
     "data": {
      "text/plain": [
       "3"
      ]
     },
     "execution_count": 35,
     "metadata": {},
     "output_type": "execute_result"
    }
   ],
   "source": [
    "13 % 5  # Modulo"
   ]
  },
  {
   "cell_type": "code",
   "execution_count": 38,
   "id": "378d6791",
   "metadata": {
    "ExecuteTime": {
     "end_time": "2023-04-14T15:16:14.396957Z",
     "start_time": "2023-04-14T15:16:14.391240Z"
    }
   },
   "outputs": [
    {
     "data": {
      "text/plain": [
       "False"
      ]
     },
     "execution_count": 38,
     "metadata": {},
     "output_type": "execute_result"
    }
   ],
   "source": [
    "3 > 4"
   ]
  },
  {
   "cell_type": "code",
   "execution_count": 26,
   "id": "676ca928",
   "metadata": {
    "ExecuteTime": {
     "end_time": "2023-04-14T15:14:11.788883Z",
     "start_time": "2023-04-14T15:14:11.782033Z"
    }
   },
   "outputs": [
    {
     "data": {
      "text/plain": [
       "True"
      ]
     },
     "execution_count": 26,
     "metadata": {},
     "output_type": "execute_result"
    }
   ],
   "source": [
    "True or False"
   ]
  },
  {
   "cell_type": "code",
   "execution_count": 16,
   "id": "9e823e4c",
   "metadata": {
    "ExecuteTime": {
     "end_time": "2023-04-14T15:10:56.495250Z",
     "start_time": "2023-04-14T15:10:56.490249Z"
    }
   },
   "outputs": [
    {
     "name": "stdout",
     "output_type": "stream",
     "text": [
      "Hello world\n"
     ]
    }
   ],
   "source": [
    "print('Hello world')"
   ]
  },
  {
   "cell_type": "markdown",
   "id": "4bed8ace",
   "metadata": {},
   "source": [
    "# Variables"
   ]
  },
  {
   "cell_type": "code",
   "execution_count": 18,
   "id": "4fd9cb1b",
   "metadata": {
    "ExecuteTime": {
     "end_time": "2023-04-14T15:12:05.370913Z",
     "start_time": "2023-04-14T15:12:05.366143Z"
    }
   },
   "outputs": [],
   "source": [
    "age = 42\n",
    "first_name = 'Lina'"
   ]
  },
  {
   "cell_type": "code",
   "execution_count": 19,
   "id": "f5ada061",
   "metadata": {
    "ExecuteTime": {
     "end_time": "2023-04-14T15:12:06.366611Z",
     "start_time": "2023-04-14T15:12:06.362349Z"
    }
   },
   "outputs": [
    {
     "name": "stdout",
     "output_type": "stream",
     "text": [
      "Lina is 42 years old\n"
     ]
    }
   ],
   "source": [
    "print(first_name, 'is', age, 'years old')"
   ]
  },
  {
   "cell_type": "code",
   "execution_count": 27,
   "id": "29179a6b",
   "metadata": {
    "ExecuteTime": {
     "end_time": "2023-04-14T15:14:36.349177Z",
     "start_time": "2023-04-14T15:14:36.343347Z"
    }
   },
   "outputs": [],
   "source": [
    "age = 10"
   ]
  },
  {
   "cell_type": "code",
   "execution_count": 30,
   "id": "13636f76",
   "metadata": {
    "ExecuteTime": {
     "end_time": "2023-04-14T15:15:23.325788Z",
     "start_time": "2023-04-14T15:15:23.321725Z"
    }
   },
   "outputs": [
    {
     "data": {
      "text/plain": [
       "'Lina is 10 years old'"
      ]
     },
     "execution_count": 30,
     "metadata": {},
     "output_type": "execute_result"
    }
   ],
   "source": [
    "f'{first_name} is {age} years old'"
   ]
  },
  {
   "cell_type": "markdown",
   "id": "975811f0",
   "metadata": {},
   "source": [
    "# Data structures"
   ]
  },
  {
   "cell_type": "markdown",
   "id": "144a1c3f",
   "metadata": {},
   "source": [
    "## Lists\n",
    "Lists are a common data structure to hold an ordered sequence of elements. Each element can be accessed by an index. Note that Python indexes start with 0 instead of 1\n"
   ]
  },
  {
   "cell_type": "code",
   "execution_count": 40,
   "id": "3dd4a0d1",
   "metadata": {
    "ExecuteTime": {
     "end_time": "2023-04-14T15:18:13.363344Z",
     "start_time": "2023-04-14T15:18:13.356649Z"
    }
   },
   "outputs": [
    {
     "data": {
      "text/plain": [
       "1"
      ]
     },
     "execution_count": 40,
     "metadata": {},
     "output_type": "execute_result"
    }
   ],
   "source": [
    "numbers = [1, 2, 3]\n",
    "numbers[0]"
   ]
  },
  {
   "cell_type": "markdown",
   "id": "203d34d8",
   "metadata": {},
   "source": [
    "Iterate over a list:"
   ]
  },
  {
   "cell_type": "code",
   "execution_count": 41,
   "id": "beab66c0",
   "metadata": {
    "ExecuteTime": {
     "end_time": "2023-04-14T15:20:38.444689Z",
     "start_time": "2023-04-14T15:20:38.439663Z"
    }
   },
   "outputs": [
    {
     "name": "stdout",
     "output_type": "stream",
     "text": [
      "1\n",
      "2\n",
      "3\n"
     ]
    }
   ],
   "source": [
    "for number in numbers:\n",
    "    print(number)"
   ]
  },
  {
   "cell_type": "markdown",
   "id": "a7820ad6",
   "metadata": {},
   "source": [
    "Add values to the list:"
   ]
  },
  {
   "cell_type": "code",
   "execution_count": 42,
   "id": "ea0b3282",
   "metadata": {
    "ExecuteTime": {
     "end_time": "2023-04-14T15:21:21.390099Z",
     "start_time": "2023-04-14T15:21:21.386313Z"
    }
   },
   "outputs": [],
   "source": [
    "numbers.append(4)"
   ]
  },
  {
   "cell_type": "code",
   "execution_count": 43,
   "id": "b9056be1",
   "metadata": {
    "ExecuteTime": {
     "end_time": "2023-04-14T15:21:25.563239Z",
     "start_time": "2023-04-14T15:21:25.557340Z"
    }
   },
   "outputs": [
    {
     "data": {
      "text/plain": [
       "[1, 2, 3, 4]"
      ]
     },
     "execution_count": 43,
     "metadata": {},
     "output_type": "execute_result"
    }
   ],
   "source": [
    "numbers"
   ]
  },
  {
   "cell_type": "code",
   "execution_count": 47,
   "id": "f04bc80b",
   "metadata": {
    "ExecuteTime": {
     "end_time": "2023-04-14T15:22:20.550502Z",
     "start_time": "2023-04-14T15:22:20.545486Z"
    }
   },
   "outputs": [],
   "source": [
    "numbers_repeated = numbers*2"
   ]
  },
  {
   "cell_type": "code",
   "execution_count": 48,
   "id": "75194c74",
   "metadata": {
    "ExecuteTime": {
     "end_time": "2023-04-14T15:22:26.159263Z",
     "start_time": "2023-04-14T15:22:26.152298Z"
    }
   },
   "outputs": [
    {
     "data": {
      "text/plain": [
       "[1, 2, 3, 4, 1, 2, 3, 4]"
      ]
     },
     "execution_count": 48,
     "metadata": {},
     "output_type": "execute_result"
    }
   ],
   "source": [
    "numbers_repeated"
   ]
  },
  {
   "cell_type": "code",
   "execution_count": 49,
   "id": "91ac9fb0",
   "metadata": {
    "ExecuteTime": {
     "end_time": "2023-04-14T15:22:56.640355Z",
     "start_time": "2023-04-14T15:22:56.636079Z"
    }
   },
   "outputs": [],
   "source": [
    "numbers_doubled = [number*2 for number in numbers]"
   ]
  },
  {
   "cell_type": "code",
   "execution_count": 50,
   "id": "5610d75c",
   "metadata": {
    "ExecuteTime": {
     "end_time": "2023-04-14T15:23:03.225475Z",
     "start_time": "2023-04-14T15:23:03.218584Z"
    }
   },
   "outputs": [
    {
     "data": {
      "text/plain": [
       "[2, 4, 6, 8]"
      ]
     },
     "execution_count": 50,
     "metadata": {},
     "output_type": "execute_result"
    }
   ],
   "source": [
    "numbers_doubled"
   ]
  },
  {
   "cell_type": "markdown",
   "id": "57627909",
   "metadata": {},
   "source": [
    "## Tuples\n",
    "\n",
    "On your own: find out the difference between tuples and lists"
   ]
  },
  {
   "cell_type": "markdown",
   "id": "aa5e1721",
   "metadata": {},
   "source": [
    "## Dictionaires\n",
    "A dictionary is a container that holds pairs of objects - keys and values."
   ]
  },
  {
   "cell_type": "code",
   "execution_count": 51,
   "id": "112eec83",
   "metadata": {
    "ExecuteTime": {
     "end_time": "2023-04-14T15:28:37.889483Z",
     "start_time": "2023-04-14T15:28:37.883882Z"
    }
   },
   "outputs": [
    {
     "data": {
      "text/plain": [
       "'T'"
      ]
     },
     "execution_count": 51,
     "metadata": {},
     "output_type": "execute_result"
    }
   ],
   "source": [
    "translation = {'A': 'T', 'C': 'G', 'T': 'A', 'G':'C'}\n",
    "translation['A']"
   ]
  },
  {
   "cell_type": "code",
   "execution_count": 53,
   "id": "bdbef690",
   "metadata": {
    "ExecuteTime": {
     "end_time": "2023-04-14T15:29:53.805706Z",
     "start_time": "2023-04-14T15:29:53.799417Z"
    }
   },
   "outputs": [
    {
     "name": "stdout",
     "output_type": "stream",
     "text": [
      "T\n",
      "T\n",
      "A\n",
      "A\n",
      "C\n",
      "G\n",
      "T\n",
      "A\n"
     ]
    }
   ],
   "source": [
    "seq = 'AATTGCAT'\n",
    "seq2 = seq[::-1]\n",
    "for letter in seq:\n",
    "    print(translation[letter])"
   ]
  },
  {
   "cell_type": "code",
   "execution_count": 55,
   "id": "d02565f5",
   "metadata": {
    "ExecuteTime": {
     "end_time": "2023-04-14T15:30:13.126772Z",
     "start_time": "2023-04-14T15:30:13.121122Z"
    }
   },
   "outputs": [
    {
     "data": {
      "text/plain": [
       "'TACGTTAA'"
      ]
     },
     "execution_count": 55,
     "metadata": {},
     "output_type": "execute_result"
    }
   ],
   "source": [
    "seq2"
   ]
  },
  {
   "cell_type": "markdown",
   "id": "74679cfd",
   "metadata": {},
   "source": [
    "# Functions"
   ]
  },
  {
   "cell_type": "code",
   "execution_count": null,
   "id": "b87cad7e",
   "metadata": {},
   "outputs": [],
   "source": []
  },
  {
   "cell_type": "code",
   "execution_count": 4,
   "id": "77492221",
   "metadata": {
    "ExecuteTime": {
     "end_time": "2023-04-14T14:59:35.442484Z",
     "start_time": "2023-04-14T14:59:32.865506Z"
    }
   },
   "outputs": [],
   "source": [
    "import pandas as pd\n",
    "import numpy as np"
   ]
  },
  {
   "cell_type": "code",
   "execution_count": 2,
   "id": "e93bd8fa",
   "metadata": {
    "ExecuteTime": {
     "end_time": "2023-03-31T11:48:27.296225Z",
     "start_time": "2023-03-31T11:48:27.291628Z"
    }
   },
   "outputs": [],
   "source": []
  },
  {
   "cell_type": "code",
   "execution_count": 3,
   "id": "a1cedecd",
   "metadata": {
    "ExecuteTime": {
     "end_time": "2023-03-31T11:48:36.889573Z",
     "start_time": "2023-03-31T11:48:36.884495Z"
    }
   },
   "outputs": [
    {
     "name": "stdout",
     "output_type": "stream",
     "text": [
      "Ahmed is 42 years old\n"
     ]
    }
   ],
   "source": []
  },
  {
   "cell_type": "code",
   "execution_count": 4,
   "id": "cfc72bee",
   "metadata": {
    "ExecuteTime": {
     "end_time": "2023-03-31T11:48:56.914791Z",
     "start_time": "2023-03-31T11:48:56.908239Z"
    }
   },
   "outputs": [
    {
     "name": "stdout",
     "output_type": "stream",
     "text": [
      "Ahmed is 42 years old\n"
     ]
    }
   ],
   "source": [
    "print(f\"{first_name} is {age} years old\")"
   ]
  },
  {
   "cell_type": "code",
   "execution_count": 5,
   "id": "aef93683",
   "metadata": {
    "ExecuteTime": {
     "end_time": "2023-03-31T11:49:23.027436Z",
     "start_time": "2023-03-31T11:49:23.022912Z"
    }
   },
   "outputs": [
    {
     "name": "stdout",
     "output_type": "stream",
     "text": [
      "Age in three years: 45\n"
     ]
    }
   ],
   "source": [
    "age = age + 3\n",
    "print('Age in three years:', age)"
   ]
  },
  {
   "cell_type": "code",
   "execution_count": 1,
   "id": "0b0d47f3",
   "metadata": {
    "ExecuteTime": {
     "end_time": "2023-04-14T14:58:57.479325Z",
     "start_time": "2023-04-14T14:58:57.475424Z"
    }
   },
   "outputs": [],
   "source": [
    "data_dir = \"./data/\""
   ]
  },
  {
   "cell_type": "code",
   "execution_count": 2,
   "id": "92ee2f01",
   "metadata": {
    "ExecuteTime": {
     "end_time": "2023-04-14T14:59:06.514607Z",
     "start_time": "2023-04-14T14:59:06.357516Z"
    }
   },
   "outputs": [
    {
     "name": "stdout",
     "output_type": "stream",
     "text": [
      "LeeKA_relAb_full.csv  samples-metadata.tsv  t6ss.tsv\r\n"
     ]
    }
   ],
   "source": [
    "%ls ./data"
   ]
  },
  {
   "cell_type": "code",
   "execution_count": 10,
   "id": "da816a48",
   "metadata": {
    "ExecuteTime": {
     "end_time": "2023-04-14T15:03:53.656153Z",
     "start_time": "2023-04-14T15:03:53.639617Z"
    }
   },
   "outputs": [],
   "source": [
    "df = pd.read_csv(\"./data/2022-04-13.LeeKA_2022.colData.csv\", index_col=0)"
   ]
  },
  {
   "cell_type": "code",
   "execution_count": 14,
   "id": "2a54ee5f",
   "metadata": {
    "ExecuteTime": {
     "end_time": "2023-04-14T15:04:25.862907Z",
     "start_time": "2023-04-14T15:04:25.832494Z"
    }
   },
   "outputs": [
    {
     "data": {
      "text/html": [
       "<div>\n",
       "<style scoped>\n",
       "    .dataframe tbody tr th:only-of-type {\n",
       "        vertical-align: middle;\n",
       "    }\n",
       "\n",
       "    .dataframe tbody tr th {\n",
       "        vertical-align: top;\n",
       "    }\n",
       "\n",
       "    .dataframe thead th {\n",
       "        text-align: right;\n",
       "    }\n",
       "</style>\n",
       "<table border=\"1\" class=\"dataframe\">\n",
       "  <thead>\n",
       "    <tr style=\"text-align: right;\">\n",
       "      <th></th>\n",
       "      <th>study_name</th>\n",
       "      <th>subject_id</th>\n",
       "      <th>body_site</th>\n",
       "      <th>antibiotics_current_use</th>\n",
       "      <th>study_condition</th>\n",
       "      <th>disease</th>\n",
       "      <th>age_category</th>\n",
       "      <th>gender</th>\n",
       "      <th>country</th>\n",
       "      <th>non_westernized</th>\n",
       "      <th>...</th>\n",
       "      <th>BMI</th>\n",
       "      <th>location</th>\n",
       "      <th>treatment</th>\n",
       "      <th>RECIST</th>\n",
       "      <th>ORR</th>\n",
       "      <th>subcohort</th>\n",
       "      <th>previous_therapy</th>\n",
       "      <th>performance_status</th>\n",
       "      <th>toxicity_above_zero</th>\n",
       "      <th>PFS12</th>\n",
       "    </tr>\n",
       "  </thead>\n",
       "  <tbody>\n",
       "    <tr>\n",
       "      <th>BCN-01_1</th>\n",
       "      <td>LeeKA_2022</td>\n",
       "      <td>BCN-01_1</td>\n",
       "      <td>stool</td>\n",
       "      <td>no</td>\n",
       "      <td>melanoma</td>\n",
       "      <td>melanoma</td>\n",
       "      <td>adult</td>\n",
       "      <td>male</td>\n",
       "      <td>ESP</td>\n",
       "      <td>no</td>\n",
       "      <td>...</td>\n",
       "      <td>28.713211</td>\n",
       "      <td>Barcelona</td>\n",
       "      <td>no</td>\n",
       "      <td>PR</td>\n",
       "      <td>yes</td>\n",
       "      <td>Barcelona</td>\n",
       "      <td>no</td>\n",
       "      <td>0.0</td>\n",
       "      <td>yes</td>\n",
       "      <td>yes</td>\n",
       "    </tr>\n",
       "    <tr>\n",
       "      <th>BCN-02_1</th>\n",
       "      <td>LeeKA_2022</td>\n",
       "      <td>BCN-02_1</td>\n",
       "      <td>stool</td>\n",
       "      <td>no</td>\n",
       "      <td>melanoma</td>\n",
       "      <td>melanoma</td>\n",
       "      <td>adult</td>\n",
       "      <td>female</td>\n",
       "      <td>ESP</td>\n",
       "      <td>no</td>\n",
       "      <td>...</td>\n",
       "      <td>27.354571</td>\n",
       "      <td>Barcelona</td>\n",
       "      <td>no</td>\n",
       "      <td>PD</td>\n",
       "      <td>no</td>\n",
       "      <td>Barcelona</td>\n",
       "      <td>no</td>\n",
       "      <td>NaN</td>\n",
       "      <td>yes</td>\n",
       "      <td>no</td>\n",
       "    </tr>\n",
       "    <tr>\n",
       "      <th>BCN-03_1</th>\n",
       "      <td>LeeKA_2022</td>\n",
       "      <td>BCN-03_1</td>\n",
       "      <td>stool</td>\n",
       "      <td>no</td>\n",
       "      <td>melanoma</td>\n",
       "      <td>melanoma</td>\n",
       "      <td>senior</td>\n",
       "      <td>female</td>\n",
       "      <td>ESP</td>\n",
       "      <td>no</td>\n",
       "      <td>...</td>\n",
       "      <td>22.060354</td>\n",
       "      <td>Barcelona</td>\n",
       "      <td>no</td>\n",
       "      <td>CR</td>\n",
       "      <td>yes</td>\n",
       "      <td>Barcelona</td>\n",
       "      <td>no</td>\n",
       "      <td>0.0</td>\n",
       "      <td>yes</td>\n",
       "      <td>yes</td>\n",
       "    </tr>\n",
       "    <tr>\n",
       "      <th>BCN-04_1</th>\n",
       "      <td>LeeKA_2022</td>\n",
       "      <td>BCN-04_1</td>\n",
       "      <td>stool</td>\n",
       "      <td>no</td>\n",
       "      <td>melanoma</td>\n",
       "      <td>melanoma</td>\n",
       "      <td>adult</td>\n",
       "      <td>male</td>\n",
       "      <td>ESP</td>\n",
       "      <td>no</td>\n",
       "      <td>...</td>\n",
       "      <td>30.350330</td>\n",
       "      <td>Barcelona</td>\n",
       "      <td>no</td>\n",
       "      <td>PD</td>\n",
       "      <td>no</td>\n",
       "      <td>Barcelona</td>\n",
       "      <td>no</td>\n",
       "      <td>0.0</td>\n",
       "      <td>yes</td>\n",
       "      <td>no</td>\n",
       "    </tr>\n",
       "    <tr>\n",
       "      <th>BCN-05_1</th>\n",
       "      <td>LeeKA_2022</td>\n",
       "      <td>BCN-05_1</td>\n",
       "      <td>stool</td>\n",
       "      <td>no</td>\n",
       "      <td>melanoma</td>\n",
       "      <td>melanoma</td>\n",
       "      <td>senior</td>\n",
       "      <td>male</td>\n",
       "      <td>ESP</td>\n",
       "      <td>no</td>\n",
       "      <td>...</td>\n",
       "      <td>36.079477</td>\n",
       "      <td>Barcelona</td>\n",
       "      <td>PPI</td>\n",
       "      <td>CR</td>\n",
       "      <td>yes</td>\n",
       "      <td>Barcelona</td>\n",
       "      <td>no</td>\n",
       "      <td>0.0</td>\n",
       "      <td>no</td>\n",
       "      <td>yes</td>\n",
       "    </tr>\n",
       "    <tr>\n",
       "      <th>...</th>\n",
       "      <td>...</td>\n",
       "      <td>...</td>\n",
       "      <td>...</td>\n",
       "      <td>...</td>\n",
       "      <td>...</td>\n",
       "      <td>...</td>\n",
       "      <td>...</td>\n",
       "      <td>...</td>\n",
       "      <td>...</td>\n",
       "      <td>...</td>\n",
       "      <td>...</td>\n",
       "      <td>...</td>\n",
       "      <td>...</td>\n",
       "      <td>...</td>\n",
       "      <td>...</td>\n",
       "      <td>...</td>\n",
       "      <td>...</td>\n",
       "      <td>...</td>\n",
       "      <td>...</td>\n",
       "      <td>...</td>\n",
       "      <td>...</td>\n",
       "    </tr>\n",
       "    <tr>\n",
       "      <th>PRIMM0597</th>\n",
       "      <td>LeeKA_2022</td>\n",
       "      <td>PRIMM0597</td>\n",
       "      <td>stool</td>\n",
       "      <td>NaN</td>\n",
       "      <td>melanoma</td>\n",
       "      <td>melanoma</td>\n",
       "      <td>senior</td>\n",
       "      <td>male</td>\n",
       "      <td>GBR</td>\n",
       "      <td>no</td>\n",
       "      <td>...</td>\n",
       "      <td>27.764650</td>\n",
       "      <td>NaN</td>\n",
       "      <td>steroids</td>\n",
       "      <td>SD</td>\n",
       "      <td>yes</td>\n",
       "      <td>PRIMM-UK</td>\n",
       "      <td>no</td>\n",
       "      <td>1.0</td>\n",
       "      <td>yes</td>\n",
       "      <td>no</td>\n",
       "    </tr>\n",
       "    <tr>\n",
       "      <th>PRIMM0601</th>\n",
       "      <td>LeeKA_2022</td>\n",
       "      <td>PRIMM0601</td>\n",
       "      <td>stool</td>\n",
       "      <td>no</td>\n",
       "      <td>melanoma</td>\n",
       "      <td>melanoma</td>\n",
       "      <td>senior</td>\n",
       "      <td>male</td>\n",
       "      <td>GBR</td>\n",
       "      <td>no</td>\n",
       "      <td>...</td>\n",
       "      <td>29.115422</td>\n",
       "      <td>NaN</td>\n",
       "      <td>no</td>\n",
       "      <td>PD</td>\n",
       "      <td>no</td>\n",
       "      <td>PRIMM-UK</td>\n",
       "      <td>yes</td>\n",
       "      <td>2.0</td>\n",
       "      <td>no</td>\n",
       "      <td>no</td>\n",
       "    </tr>\n",
       "    <tr>\n",
       "      <th>PRIMM0602</th>\n",
       "      <td>LeeKA_2022</td>\n",
       "      <td>PRIMM0602</td>\n",
       "      <td>stool</td>\n",
       "      <td>yes</td>\n",
       "      <td>melanoma</td>\n",
       "      <td>melanoma</td>\n",
       "      <td>adult</td>\n",
       "      <td>male</td>\n",
       "      <td>GBR</td>\n",
       "      <td>no</td>\n",
       "      <td>...</td>\n",
       "      <td>24.891179</td>\n",
       "      <td>NaN</td>\n",
       "      <td>steroids</td>\n",
       "      <td>PD</td>\n",
       "      <td>no</td>\n",
       "      <td>PRIMM-UK</td>\n",
       "      <td>no</td>\n",
       "      <td>1.0</td>\n",
       "      <td>yes</td>\n",
       "      <td>no</td>\n",
       "    </tr>\n",
       "    <tr>\n",
       "      <th>PRIMM0610</th>\n",
       "      <td>LeeKA_2022</td>\n",
       "      <td>PRIMM0610</td>\n",
       "      <td>stool</td>\n",
       "      <td>no</td>\n",
       "      <td>melanoma</td>\n",
       "      <td>melanoma</td>\n",
       "      <td>adult</td>\n",
       "      <td>male</td>\n",
       "      <td>GBR</td>\n",
       "      <td>no</td>\n",
       "      <td>...</td>\n",
       "      <td>34.686277</td>\n",
       "      <td>NaN</td>\n",
       "      <td>no</td>\n",
       "      <td>CR</td>\n",
       "      <td>yes</td>\n",
       "      <td>PRIMM-UK</td>\n",
       "      <td>yes</td>\n",
       "      <td>1.0</td>\n",
       "      <td>yes</td>\n",
       "      <td>yes</td>\n",
       "    </tr>\n",
       "    <tr>\n",
       "      <th>PRIMM0611</th>\n",
       "      <td>LeeKA_2022</td>\n",
       "      <td>PRIMM0611</td>\n",
       "      <td>stool</td>\n",
       "      <td>no</td>\n",
       "      <td>melanoma</td>\n",
       "      <td>melanoma;treatment_colitis</td>\n",
       "      <td>adult</td>\n",
       "      <td>female</td>\n",
       "      <td>GBR</td>\n",
       "      <td>no</td>\n",
       "      <td>...</td>\n",
       "      <td>27.161407</td>\n",
       "      <td>NaN</td>\n",
       "      <td>steroids</td>\n",
       "      <td>SD</td>\n",
       "      <td>yes</td>\n",
       "      <td>PRIMM-UK</td>\n",
       "      <td>no</td>\n",
       "      <td>0.0</td>\n",
       "      <td>yes</td>\n",
       "      <td>no</td>\n",
       "    </tr>\n",
       "  </tbody>\n",
       "</table>\n",
       "<p>165 rows × 29 columns</p>\n",
       "</div>"
      ],
      "text/plain": [
       "           study_name subject_id body_site antibiotics_current_use  \\\n",
       "BCN-01_1   LeeKA_2022   BCN-01_1     stool                      no   \n",
       "BCN-02_1   LeeKA_2022   BCN-02_1     stool                      no   \n",
       "BCN-03_1   LeeKA_2022   BCN-03_1     stool                      no   \n",
       "BCN-04_1   LeeKA_2022   BCN-04_1     stool                      no   \n",
       "BCN-05_1   LeeKA_2022   BCN-05_1     stool                      no   \n",
       "...               ...        ...       ...                     ...   \n",
       "PRIMM0597  LeeKA_2022  PRIMM0597     stool                     NaN   \n",
       "PRIMM0601  LeeKA_2022  PRIMM0601     stool                      no   \n",
       "PRIMM0602  LeeKA_2022  PRIMM0602     stool                     yes   \n",
       "PRIMM0610  LeeKA_2022  PRIMM0610     stool                      no   \n",
       "PRIMM0611  LeeKA_2022  PRIMM0611     stool                      no   \n",
       "\n",
       "          study_condition                     disease age_category  gender  \\\n",
       "BCN-01_1         melanoma                    melanoma        adult    male   \n",
       "BCN-02_1         melanoma                    melanoma        adult  female   \n",
       "BCN-03_1         melanoma                    melanoma       senior  female   \n",
       "BCN-04_1         melanoma                    melanoma        adult    male   \n",
       "BCN-05_1         melanoma                    melanoma       senior    male   \n",
       "...                   ...                         ...          ...     ...   \n",
       "PRIMM0597        melanoma                    melanoma       senior    male   \n",
       "PRIMM0601        melanoma                    melanoma       senior    male   \n",
       "PRIMM0602        melanoma                    melanoma        adult    male   \n",
       "PRIMM0610        melanoma                    melanoma        adult    male   \n",
       "PRIMM0611        melanoma  melanoma;treatment_colitis        adult  female   \n",
       "\n",
       "          country non_westernized  ...        BMI   location  treatment  \\\n",
       "BCN-01_1      ESP              no  ...  28.713211  Barcelona         no   \n",
       "BCN-02_1      ESP              no  ...  27.354571  Barcelona         no   \n",
       "BCN-03_1      ESP              no  ...  22.060354  Barcelona         no   \n",
       "BCN-04_1      ESP              no  ...  30.350330  Barcelona         no   \n",
       "BCN-05_1      ESP              no  ...  36.079477  Barcelona        PPI   \n",
       "...           ...             ...  ...        ...        ...        ...   \n",
       "PRIMM0597     GBR              no  ...  27.764650        NaN   steroids   \n",
       "PRIMM0601     GBR              no  ...  29.115422        NaN         no   \n",
       "PRIMM0602     GBR              no  ...  24.891179        NaN   steroids   \n",
       "PRIMM0610     GBR              no  ...  34.686277        NaN         no   \n",
       "PRIMM0611     GBR              no  ...  27.161407        NaN   steroids   \n",
       "\n",
       "           RECIST  ORR  subcohort  previous_therapy performance_status  \\\n",
       "BCN-01_1       PR  yes  Barcelona                no                0.0   \n",
       "BCN-02_1       PD   no  Barcelona                no                NaN   \n",
       "BCN-03_1       CR  yes  Barcelona                no                0.0   \n",
       "BCN-04_1       PD   no  Barcelona                no                0.0   \n",
       "BCN-05_1       CR  yes  Barcelona                no                0.0   \n",
       "...           ...  ...        ...               ...                ...   \n",
       "PRIMM0597      SD  yes   PRIMM-UK                no                1.0   \n",
       "PRIMM0601      PD   no   PRIMM-UK               yes                2.0   \n",
       "PRIMM0602      PD   no   PRIMM-UK                no                1.0   \n",
       "PRIMM0610      CR  yes   PRIMM-UK               yes                1.0   \n",
       "PRIMM0611      SD  yes   PRIMM-UK                no                0.0   \n",
       "\n",
       "          toxicity_above_zero  PFS12  \n",
       "BCN-01_1                  yes    yes  \n",
       "BCN-02_1                  yes     no  \n",
       "BCN-03_1                  yes    yes  \n",
       "BCN-04_1                  yes     no  \n",
       "BCN-05_1                   no    yes  \n",
       "...                       ...    ...  \n",
       "PRIMM0597                 yes     no  \n",
       "PRIMM0601                  no     no  \n",
       "PRIMM0602                 yes     no  \n",
       "PRIMM0610                 yes    yes  \n",
       "PRIMM0611                 yes     no  \n",
       "\n",
       "[165 rows x 29 columns]"
      ]
     },
     "execution_count": 14,
     "metadata": {},
     "output_type": "execute_result"
    }
   ],
   "source": [
    "df"
   ]
  },
  {
   "cell_type": "code",
   "execution_count": null,
   "id": "4e63fbc4",
   "metadata": {},
   "outputs": [],
   "source": []
  }
 ],
 "metadata": {
  "kernelspec": {
   "display_name": "Python 3 (ipykernel)",
   "language": "python",
   "name": "python3"
  },
  "language_info": {
   "codemirror_mode": {
    "name": "ipython",
    "version": 3
   },
   "file_extension": ".py",
   "mimetype": "text/x-python",
   "name": "python",
   "nbconvert_exporter": "python",
   "pygments_lexer": "ipython3",
   "version": "3.8.13"
  },
  "toc": {
   "base_numbering": 1,
   "nav_menu": {},
   "number_sections": true,
   "sideBar": true,
   "skip_h1_title": false,
   "title_cell": "Table of Contents",
   "title_sidebar": "Contents",
   "toc_cell": false,
   "toc_position": {},
   "toc_section_display": true,
   "toc_window_display": true
  }
 },
 "nbformat": 4,
 "nbformat_minor": 5
}
